{
 "metadata": {
  "name": "",
  "signature": "sha256:b6554e06eecbbba02f544653815ed731fb7dbf1c328b7ea88f051e3d7314006a"
 },
 "nbformat": 3,
 "nbformat_minor": 0,
 "worksheets": [
  {
   "cells": [
    {
     "cell_type": "markdown",
     "metadata": {},
     "source": [
      "#10. Grey emissions\n",
      "\n",
      "This routine calculates the grey emissions for all buildings in the geodatabase\n",
      "it is based on the geometry of the buildings and standard properties of walls, windows, floors etc..\n",
      "it includes aall the vectors of grey energy related to building services, excavations, structure etc.."
     ]
    },
    {
     "cell_type": "markdown",
     "metadata": {},
     "source": [
      "####MODULES"
     ]
    },
    {
     "cell_type": "code",
     "collapsed": false,
     "input": [
      "from __future__ import division\n",
      "import arcpy\n",
      "from arcpy import sa\n",
      "import sys,os\n",
      "import pandas as pd\n",
      "sys.path.append(\"C:\\console\\sandbox\")\n",
      "from pyGDsandbox.dataIO import df2dbf, dbf2df \n",
      "arcpy.env.overwriteOutput = True\n",
      "arcpy.CheckOutExtension(\"spatial\")\n",
      "arcpy.CheckOutExtension(\"3D\")\n",
      "if r'C:\\Console' not in sys.path: sys.path.append(r'C:\\Console')\n",
      "import EDMFunctions as EDM"
     ],
     "language": "python",
     "metadata": {},
     "outputs": [],
     "prompt_number": 1
    },
    {
     "cell_type": "markdown",
     "metadata": {},
     "source": [
      "####VARIABLES"
     ]
    },
    {
     "cell_type": "code",
     "collapsed": false,
     "input": [
      "database = r'c:\\ArcGIS\\EDM.gdb' #Scenarios or Communities\n",
      "Scenario = 'SQ' # BAU2030, CAMP2030, HEB2030, UC_2030 or Statusquo\n",
      "Zone = 'ZONE_4' # BAU_2030, CAMP_2030, HEB_2030, UC_2030 or Cityquarter_3, without \"_\" for the total district or Area\n",
      "locationFinal = r'C:\\ArcGIS\\EDMdata\\DataFinal\\GEM'+'\\\\'+Scenario+'\\\\'+Zone #GEM is the grey emissions model\n",
      "Yearcalc = 2050 # year to calculate at this moment if still emissions due o grey energy are consumed "
     ],
     "language": "python",
     "metadata": {},
     "outputs": [],
     "prompt_number": 2
    },
    {
     "cell_type": "code",
     "collapsed": false,
     "input": [
      "Statistical_database = pd.ExcelFile('c:\\ArcGIS\\EDMdata\\Statistical\\Archetypes_properties.xls')\n",
      "Model = pd.ExcelFile.parse(Statistical_database, 'Grey')"
     ],
     "language": "python",
     "metadata": {},
     "outputs": [],
     "prompt_number": 3
    },
    {
     "cell_type": "code",
     "collapsed": false,
     "input": [
      "locationtemp1 = r'c:\\ArcGIS\\temp'"
     ],
     "language": "python",
     "metadata": {},
     "outputs": [],
     "prompt_number": 4
    },
    {
     "cell_type": "markdown",
     "metadata": {},
     "source": [
      "###PROCESS"
     ]
    },
    {
     "cell_type": "code",
     "collapsed": false,
     "input": [
      "# Confirm directory to save results\n",
      "if not os.path.exists(locationFinal):\n",
      "    os.makedirs(locationFinal)\n",
      "# Create the table or database of the CQ to generate the values\n",
      "CQ = database+'\\\\'+Scenario+'\\\\'+Scenario+Zone\n",
      "OutTable = 'Database.dbf'\n",
      "arcpy.TableToTable_conversion(CQ, locationtemp1, OutTable)\n",
      "Database = dbf2df(locationtemp1+'\\\\'+OutTable)"
     ],
     "language": "python",
     "metadata": {},
     "outputs": [],
     "prompt_number": 5
    },
    {
     "cell_type": "markdown",
     "metadata": {},
     "source": [
      "### Calculation Grey Energy"
     ]
    },
    {
     "cell_type": "code",
     "collapsed": false,
     "input": [
      "lists = ['GE','GGHG'] # list with values to calculate\n",
      "Model['Code'] = Model.Factor + Model.Code2 \n",
      "DatabaseUnpivoted = pd.melt(Database, id_vars=('Name','Shape_Area','Hs','Floors'))\n",
      "#melt table to get all individual values\n",
      "for value in lists:\n",
      "    DatabaseUnpivoted['CODE'] = value+DatabaseUnpivoted.variable\n",
      "    #Now both Database with the new codification is merged or joined to the values of the Statistical model\n",
      "    DatabaseModelMerge = pd.merge(DatabaseUnpivoted, Model, left_on='CODE', right_on='Code')\n",
      "    DatabaseModelMerge['ServicesF'] = DatabaseModelMerge.value * DatabaseModelMerge.Services\n",
      "    DatabaseModelMerge['Wall_ext_agF'] = DatabaseModelMerge.value * DatabaseModelMerge.Wall_ext_ag\n",
      "    DatabaseModelMerge['Wall_ext_bgF'] = DatabaseModelMerge.value * DatabaseModelMerge.Wall_ext_bg\n",
      "    DatabaseModelMerge['Floor_intF'] = DatabaseModelMerge.value * DatabaseModelMerge.Floor_int\n",
      "    DatabaseModelMerge['Wall_int_supF'] = DatabaseModelMerge.value * DatabaseModelMerge.Wall_int_nosup\n",
      "    DatabaseModelMerge['Wall_int_nosupF'] = DatabaseModelMerge.value * DatabaseModelMerge.Wall_int_nosup\n",
      "    DatabaseModelMerge['RoofF'] = DatabaseModelMerge.value * DatabaseModelMerge.Roof\n",
      "    DatabaseModelMerge['Floor_gF'] = DatabaseModelMerge.value * DatabaseModelMerge.Floor_g\n",
      "    DatabaseModelMerge['Win_extF'] = DatabaseModelMerge.value * DatabaseModelMerge.Win_ext\n",
      "    DatabaseModelMerge['ExcavationF'] = DatabaseModelMerge.value * DatabaseModelMerge.Excavation\n",
      "    \n",
      "    Services = pd.pivot_table(DatabaseModelMerge, values='ServicesF', rows='Name', cols='CODE', aggfunc='sum', margins='add all rows')\n",
      "    Wall_ext_ag = pd.pivot_table(DatabaseModelMerge, values='Wall_ext_agF', rows='Name', cols='CODE', aggfunc='sum', margins='add all rows')\n",
      "    Wall_ext_bg = pd.pivot_table(DatabaseModelMerge, values='Wall_ext_bgF', rows='Name', cols='CODE', aggfunc='sum', margins='add all rows')\n",
      "    Floor_int = pd.pivot_table(DatabaseModelMerge, values='Floor_intF', rows='Name', cols='CODE', aggfunc='sum', margins='add all rows')\n",
      "    Wall_int_sup = pd.pivot_table(DatabaseModelMerge, values='Wall_int_supF', rows='Name', cols='CODE', aggfunc='sum', margins='add all rows')\n",
      "    Wall_int_nosup = pd.pivot_table(DatabaseModelMerge, values='Wall_int_nosupF', rows='Name', cols='CODE', aggfunc='sum', margins='add all rows')\n",
      "    Roof = pd.pivot_table(DatabaseModelMerge, values='RoofF', rows='Name', cols='CODE', aggfunc='sum', margins='add all rows')\n",
      "    Floor_g = pd.pivot_table(DatabaseModelMerge, values='Floor_gF', rows='Name', cols='CODE', aggfunc='sum', margins='add all rows')\n",
      "    Win_ext = pd.pivot_table(DatabaseModelMerge, values='Win_extF', rows='Name', cols='CODE', aggfunc='sum', margins='add all rows')\n",
      "    Excavation = pd.pivot_table(DatabaseModelMerge, values='ExcavationF', rows='Name', cols='CODE', aggfunc='sum', margins='add all rows')\n",
      "    \n",
      "    # create frame with all the data nessesary for the calculation process and reset index\n",
      "    data = pd.DataFrame({'Services': Services['All'],'Wall_ext_ag': Wall_ext_ag['All'],'Wall_ext_bg': Wall_ext_bg['All'],'Floor_int': Floor_int['All'],'Wall_int_sup': Wall_int_sup['All'],\n",
      "                          'Wall_int_nosup': Wall_int_nosup['All'],'Roof': Roof['All'],'Floor_g': Floor_g['All'],'Win_ext': Win_ext['All'],\n",
      "                          'Excavation': Excavation['All']})\n",
      "    data['Name'] = data.index\n",
      "    counter = data.Services.count()\n",
      "    data.index = range(counter)\n",
      "    data = pd.merge(data,Database,on='Name')\n",
      "    #  restart counter to excecute operations for each building\n",
      "    if value =='GE':\n",
      "        serv = 236\n",
      "    else:\n",
      "        serv = 15\n",
      "    \n",
      "    counter = data.Name.count()\n",
      "    data['result']= 0\n",
      "    for x in range(counter):\n",
      "        Z = 3 #height per floor\n",
      "        FP = data.loc[x,'Shape_Area'] #floor area\n",
      "        Af = FP*data.loc[x,'Hs']*data.loc[x,'Floors'] #conditioned area\n",
      "        Floors = data.loc[x,'Floors']\n",
      "        Yearcons = data.loc[x,'Year'] #construction year\n",
      "        Yearrenov = data.loc[x,'Renovated'] #construction year\n",
      "        Yearretro = data.loc[x,'Retrofit'] #construction year\n",
      "        Area = data.loc[x,'Shape_Area']*Floors #conditioned area\n",
      "        fw = data.loc[x,'fwindow']\n",
      "        Perimeter = data.loc[x,'Shape_Leng']\n",
      "        height = data.loc[x,'height']\n",
      "        excavation = data.loc[x,'Excavation']\n",
      "        Windows = fw*Perimeter*height*data.loc[x,'PFloor']*data.loc[x,'Win_ext']        \n",
      "        Wall_int_avg = ((data.loc[x,'Wall_int_nosup']+data.loc[x,'Wall_int_sup'])/2)*1.15#factor to convert from component's area to floor area\n",
      "        Walls_extbg  = data.loc[x,'Wall_ext_bg']*Perimeter*Z\n",
      "        Walls_extag =  data.loc[x,'Wall_ext_ag']*(Perimeter*height*(1-fw))*data.loc[x,'PFloor']\n",
      "        if data.loc[x,'PFloor'] < 1: # it means that part is a parking lot or storage in the building so internal partitions are considered and services od storage\n",
      "            Walls_int = Wall_int_avg*Area*data.loc[x,'PFloor']\n",
      "            Services = data.loc[x,'Services']*Af\n",
      "        else:\n",
      "            Walls_int = Wall_int_avg*Area\n",
      "            Services = data.loc[x,'Services']*Af\n",
      "        Floor =(data.loc[x,'Floor_g'])*FP #Calculation floor and roof\n",
      "        Roof = (data.loc[x,'Roof'])*FP #Calculation floor and roof\n",
      "        \n",
      "        a = 0\n",
      "        b = 0\n",
      "        if Floors > 1:\n",
      "            Floor_intern = (Floors-1)*FP*data.loc[x,'Floor_int']\n",
      "        else:\n",
      "            Floor_intern = 0\n",
      "        # first it is assumed like the building was built\n",
      "        construction = ((Floor+Roof)/60+(Walls_extbg+Walls_extag+Walls_int)/60 + Windows/60 + Floor_intern/60 + Services/40+excavation/60)    \n",
      "        if Yearretro > Yearcons:\n",
      "            Period = Yearcalc - Yearretro\n",
      "            if Period > 60:\n",
      "                data.loc[x,'result'] = 0\n",
      "            else:\n",
      "                retrofit = (Roof/60+ Walls_int/60 + Windows/60 + Services/40)\n",
      "                if Yearcalc-Yearcons < 60:\n",
      "                    data.loc[x,'result'] = (retrofit + construction)\n",
      "        elif Yearretro > Yearrenov > Yearcons:\n",
      "            Period = Yearcalc - Yearretro\n",
      "            if Period > 60:\n",
      "                data.loc[x,'result'] = 0\n",
      "            else:\n",
      "                renovated = (Roof/60+ Walls_extag/60 + Windows/60 + Services/40)\n",
      "                if Yearcalc-Yearcons < 60:\n",
      "                    a = 1\n",
      "                elif Yearcalc-Yearretro < 60:\n",
      "                    b = 1\n",
      "                data.loc[x,'result'] = (b * retrofit + a*construction + renovated)\n",
      "        \n",
      "        elif Yearrenov > Yearcons:\n",
      "            Period = Yearcalc - Yearrenov\n",
      "            if Period > 60:\n",
      "                data.loc[x,'result'] = 0\n",
      "            else:\n",
      "                renovated = (Roof/60+ Walls_extag/60 + Windows/60 + Services/40)\n",
      "                if Yearcalc-Yearcons < 60:\n",
      "                    data.loc[x,'result'] = (renovated + construction)\n",
      "        else:\n",
      "            Period = Yearcalc - Yearcons\n",
      "            # if building is older thatn 60 years it already offset all its emissions.\n",
      "            if Period > 60:\n",
      "                data.loc[x,'result'] = 0\n",
      "            else:\n",
      "                data.loc[x,'result'] = construction\n",
      "                \n",
      "    if value == 'GE':\n",
      "        final = pd.DataFrame({'Name': data['Name'],'GE': data['result']})\n",
      "    else:\n",
      "        final = pd.DataFrame({'Name': final['Name'],'GE': final['GE'],'GGHG': data['result']})\n",
      "    \n",
      "    final.to_excel(locationFinal+'\\\\'+'Grey.xls',sheet_name='Values',index=False)"
     ],
     "language": "python",
     "metadata": {},
     "outputs": [],
     "prompt_number": 6
    },
    {
     "cell_type": "code",
     "collapsed": false,
     "input": [],
     "language": "python",
     "metadata": {},
     "outputs": [],
     "prompt_number": 27
    },
    {
     "cell_type": "code",
     "collapsed": false,
     "input": [],
     "language": "python",
     "metadata": {},
     "outputs": []
    }
   ],
   "metadata": {}
  }
 ]
}
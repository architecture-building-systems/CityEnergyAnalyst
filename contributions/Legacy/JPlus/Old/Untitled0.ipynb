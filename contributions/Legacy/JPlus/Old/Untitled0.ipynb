{
 "metadata": {
  "name": "Untitled0"
 },
 "nbformat": 3,
 "nbformat_minor": 0,
 "worksheets": [
  {
   "cells": [
    {
     "cell_type": "code",
     "collapsed": false,
     "input": [
      "import arcpy\n",
      "import sys\n",
      "import pandas as pd\n",
      "if r'C:\\Console' not in sys.path: sys.path.append(r'C:\\Console')\n",
      "import EDMFunctions as EDM\n",
      "import os\n",
      "import datetime\n",
      "import jdcal\n",
      "sys.path.append(\"C:\\console\\sandbox\")\n",
      "from pyGDsandbox.dataIO import df2dbf, dbf2df \n",
      "arcpy.env.overwriteOutput = True\n",
      "arcpy.CheckOutExtension(\"spatial\")\n",
      "arcpy.CheckOutExtension(\"3D\")"
     ],
     "language": "python",
     "metadata": {},
     "outputs": [
      {
       "output_type": "pyout",
       "prompt_number": 1,
       "text": [
        "u'CheckedOut'"
       ]
      }
     ],
     "prompt_number": 1
    },
    {
     "cell_type": "code",
     "collapsed": false,
     "input": [
      "locationtemp1 = r'c:\\ArcGIS\\temp'\n",
      "locationtemp2 = r'c:\\ArcGIS\\EDM.gdb\\temp'"
     ],
     "language": "python",
     "metadata": {},
     "outputs": [],
     "prompt_number": 2
    },
    {
     "cell_type": "code",
     "collapsed": false,
     "input": [
      "Simple_CQ = locationtemp2+'\\\\'+'Simple_CQ'"
     ],
     "language": "python",
     "metadata": {},
     "outputs": [],
     "prompt_number": 3
    },
    {
     "cell_type": "code",
     "collapsed": false,
     "input": [
      "DataFactorsBoundaries= locationtemp1+'\\\\'+'BoundariesTable.csv'\n",
      "DataFactorsCentroids = locationtemp1+'\\\\'+'CentroidsTable.csv'"
     ],
     "language": "python",
     "metadata": {},
     "outputs": [],
     "prompt_number": 4
    },
    {
     "cell_type": "code",
     "collapsed": false,
     "input": [
      "#local variables\n",
      "NearTable = locationtemp1+'\\\\'+'NearTable.dbf'\n",
      "CQLines = locationtemp2+'\\\\'+'\\CQLines'\n",
      "CQVertices = locationtemp2+'\\\\'+'CQVertices'\n",
      "CQSegments = locationtemp2+'\\\\'+'CQSegment'\n",
      "CQSegments_centroid = locationtemp2+'\\\\'+'CQSegmentCentro'\n",
      "centroidsTable_name = 'CentroidCQdata.dbf'\n",
      "centroidsTable = locationtemp1+'\\\\'+centroidsTable_name\n",
      "Overlaptable = locationtemp1+'\\\\'+'overlapingTable.csv'"
     ],
     "language": "python",
     "metadata": {},
     "outputs": [],
     "prompt_number": 5
    },
    {
     "cell_type": "code",
     "collapsed": false,
     "input": [
      "#Create points in the centroid of segment line and table with near features: \n",
      "# indentifying for each segment of line of building A the segment of line of building B in common.  \n",
      "arcpy.FeatureToLine_management(Simple_CQ,CQLines)\n",
      "arcpy.FeatureVerticesToPoints_management(Simple_CQ,CQVertices,'ALL')\n",
      "arcpy.SplitLineAtPoint_management(CQLines,CQVertices,CQSegments,'2 METERS')\n",
      "arcpy.FeatureVerticesToPoints_management(CQSegments,CQSegments_centroid,'MID')\n",
      "arcpy.GenerateNearTable_analysis(CQSegments_centroid,CQSegments_centroid,NearTable,\"1 Meters\",\"NO_LOCATION\",\"NO_ANGLE\",\"CLOSEST\",\"0\")"
     ],
     "language": "python",
     "metadata": {},
     "outputs": [
      {
       "output_type": "pyout",
       "prompt_number": 6,
       "text": [
        "<Result 'c:\\\\ArcGIS\\\\temp\\\\NearTable.dbf'>"
       ]
      }
     ],
     "prompt_number": 6
    },
    {
     "cell_type": "code",
     "collapsed": false,
     "input": [
      "#Import the table with NearMatches\n",
      "NearMatches = dbf2df(NearTable)"
     ],
     "language": "python",
     "metadata": {},
     "outputs": [],
     "prompt_number": 7
    },
    {
     "cell_type": "code",
     "collapsed": false,
     "input": [
      "# Import the table with attributes of the centroids of the Segments\n",
      "arcpy.TableToTable_conversion(CQSegments_centroid, locationtemp1, centroidsTable_name)\n",
      "DataCentroids = dbf2df(centroidsTable, cols={'Name','height','ORIG_FID'})"
     ],
     "language": "python",
     "metadata": {},
     "outputs": [],
     "prompt_number": 8
    },
    {
     "cell_type": "code",
     "collapsed": false,
     "input": [
      "# CreateJoin to Assign a Factor to every Centroid of the lines, FactorShade =0 if the line\n",
      "# exist in a building totally covered by another one, and Freeheight = 1 to the height of the line \n",
      "# that is not obstructed by the other building\n",
      "FirstJoin = pd.merge(NearMatches,DataCentroids,left_on='IN_FID', right_on='ORIG_FID')\n",
      "SecondaryJoin = pd.merge(FirstJoin,DataCentroids,left_on='NEAR_FID', right_on='ORIG_FID')"
     ],
     "language": "python",
     "metadata": {},
     "outputs": [],
     "prompt_number": 9
    },
    {
     "cell_type": "code",
     "collapsed": false,
     "input": [
      "# delete matches within the same polygon Name (it can happen that lines are too close one to the other)\n",
      "# also delete matches with a distance of more than 20 cm making room for mistakes during the simplicfication of buildings but avoiding deleten boundaries \n",
      "rows = SecondaryJoin.IN_FID.count()\n",
      "for row in range(rows):\n",
      "    if SecondaryJoin.loc[row,'Name_x'] == SecondaryJoin.loc[row,'Name_y'] or SecondaryJoin.loc[row,'NEAR_DIST'] > 0.2:\n",
      "       SecondaryJoin = SecondaryJoin.drop(row)\n",
      "SecondaryJoin.reset_index(inplace=True)"
     ],
     "language": "python",
     "metadata": {},
     "outputs": [],
     "prompt_number": 10
    },
    {
     "cell_type": "code",
     "collapsed": false,
     "input": [
      "rows = SecondaryJoin.IN_FID.count()\n",
      "SecondaryJoin['FactorShade']=0\n",
      "SecondaryJoin['Freeheight']=0\n",
      "for row in range(rows):\n",
      "    if SecondaryJoin.loc[row,'height_x'] <= SecondaryJoin.loc[row,'height_y']:\n",
      "        SecondaryJoin.loc[row,'FactorShade'] = 0\n",
      "        SecondaryJoin.loc[row,'Freeheight'] = 0\n",
      "    elif SecondaryJoin.loc[row,'height_x'] > SecondaryJoin.loc[row,'height_y'] and SecondaryJoin.loc[row,'height_x']-1 <= SecondaryJoin.loc[row,'height_y']:\n",
      "        SecondaryJoin.loc[row,'FactorShade'] = 0\n",
      "    else:\n",
      "        SecondaryJoin.loc[row,'FactorShade'] = 1\n",
      "        SecondaryJoin.loc[row,'Freeheight'] = abs(SecondaryJoin.loc[row,'height_y']- SecondaryJoin.loc[row,'height_x'])"
     ],
     "language": "python",
     "metadata": {},
     "outputs": [],
     "prompt_number": 11
    },
    {
     "cell_type": "code",
     "collapsed": false,
     "input": [
      "#Create and export Secondary Join with results, it will be Useful for the function CalcObservers\n",
      "SecondaryJoin.to_csv(DataFactorsBoundaries,index=False)"
     ],
     "language": "python",
     "metadata": {},
     "outputs": [],
     "prompt_number": 12
    },
    {
     "cell_type": "code",
     "collapsed": false,
     "input": [
      "#Update table Datacentroids with the Fields Freeheight and Factor Shade. for those buildings without\n",
      "#shading boundaries these factors are equal to 1 and the field 'height' respectively.\n",
      "DataCentroids['FactorShade'] = 1\n",
      "DataCentroids['Freeheight'] = DataCentroids['height']"
     ],
     "language": "python",
     "metadata": {},
     "outputs": [],
     "prompt_number": 32
    },
    {
     "cell_type": "code",
     "collapsed": false,
     "input": [
      "Results = DataCentroids.merge(SecondaryJoin, left_on='ORIG_FID', right_on='ORIG_FID_x', how='outer')"
     ],
     "language": "python",
     "metadata": {},
     "outputs": [],
     "prompt_number": 33
    },
    {
     "cell_type": "code",
     "collapsed": false,
     "input": [
      "Results.FactorShade_y.fillna(Results['FactorShade_x'],inplace=True)\n",
      "Results.Freeheight_y.fillna(Results['Freeheight_x'],inplace=True)\n",
      "Results.rename(columns={'FactorShade_y':'FactorShade','Freeheight_y':'Freeheight'},inplace=True)\n",
      "FinalDataCentroids = pd.DataFrame(Results,columns={'ORIG_FID','height','FactorShade','Freeheight'})\n",
      "FinalDataCentroids.to_csv(DataFactorsCentroids,index=False)"
     ],
     "language": "python",
     "metadata": {},
     "outputs": [],
     "prompt_number": 34
    },
    {
     "cell_type": "markdown",
     "metadata": {},
     "source": [
      "##New observation"
     ]
    },
    {
     "cell_type": "code",
     "collapsed": false,
     "input": [
      "# import the table with factors of boundaries and get sinlge values of those with value = 0 in factor shade\n",
      "#local variables\n",
      "Out_name = locationtemp1+'\\\\'+'Datacentroids.dbf'\n",
      "Observers = locationtemp2+'\\\\'+'Observers2'\n",
      "ObserversLines = locationtemp2+'\\\\'+'ObserversLines'\n",
      "Overlapping = locationtemp2+'\\\\'+'Overlapping'\n",
      "non_Overlapping = locationtemp2+'\\\\'+'non_Overlapping'\n",
      "#calculation\n",
      "df2dbf(FinalDataCentroids,Out_name)"
     ],
     "language": "python",
     "metadata": {},
     "outputs": [
      {
       "output_type": "pyout",
       "prompt_number": 48,
       "text": [
        "'c:\\\\ArcGIS\\\\temp\\\\Datacentroids.dbf'"
       ]
      }
     ],
     "prompt_number": 48
    },
    {
     "cell_type": "code",
     "collapsed": false,
     "input": [
      "# do the same with the lines\n",
      "arcpy.JoinField_management(CQSegments,'OBJECTID', Out_name,'ORIG_FID')\n",
      "arcpy.CopyFeatures_management(CQSegments,ObserversLines)\n",
      "with arcpy.da.UpdateCursor(ObserversLines, 'FactorShadeN') as cursor:\n",
      "    for row in cursor:\n",
      "        if row[0] == 0:\n",
      "            cursor.deleteRow()"
     ],
     "language": "python",
     "metadata": {},
     "outputs": [],
     "prompt_number": 36
    },
    {
     "cell_type": "code",
     "collapsed": false,
     "input": [
      "# Merge data with centroids\n",
      "arcpy.JoinField_management(CQSegments_centroid,'ORIG_FID', Out_name,'ORIG_FID')\n",
      "arcpy.CopyFeatures_management(CQSegments_centroid,Observers)\n",
      "#Delete those points with Factorshade = 0 (sharing completely boundaries)\n",
      "with arcpy.da.UpdateCursor(Observers, 'FactorShadeN') as cursor:\n",
      "    for row in cursor:\n",
      "        if row[0] == 0:\n",
      "            cursor.deleteRow()"
     ],
     "language": "python",
     "metadata": {},
     "outputs": [],
     "prompt_number": 37
    },
    {
     "cell_type": "code",
     "collapsed": false,
     "input": [
      "# delete those points of deposits\n",
      "with arcpy.da.UpdateCursor(Observers, 'DEPO') as cursor:\n",
      "    for row in cursor:\n",
      "        if row[0] == 1:\n",
      "            cursor.deleteRow()"
     ],
     "language": "python",
     "metadata": {},
     "outputs": [],
     "prompt_number": 38
    },
    {
     "cell_type": "markdown",
     "metadata": {},
     "source": [
      "eliminate points over polygons overlapping"
     ]
    },
    {
     "cell_type": "code",
     "collapsed": false,
     "input": [
      "#Identify the polygons that share boundaries, create a new layer with it and aggregate\n",
      "DataNear = pd.read_csv(DataFactorsBoundaries)\n",
      "CleanDataNear = DataNear[DataNear['FactorShade'] == 0]\n",
      "CleanDataNear.drop_duplicates(cols='Name_x',inplace=True)\n",
      "CleanDataNear.reset_index(inplace=True)\n",
      "rows = CleanDataNear.Name_x.count()"
     ],
     "language": "python",
     "metadata": {},
     "outputs": [],
     "prompt_number": 30
    },
    {
     "cell_type": "code",
     "collapsed": false,
     "input": [
      "# local variables\n",
      "OverlappingAgg = locationtemp2+'\\\\'+'Overlappingagg'\n",
      "for row in range(rows):\n",
      "    Field = \"Name\" # select field where the name exists to iterate\n",
      "    Value = CleanDataNear.loc[row,'Name_x'] # set the value or name of the City quarter\n",
      "    Where_clausule =  ''''''+'\"'+Field+'\"'+\"=\"+\"\\'\"+str(Value)+\"\\'\"+'''''' # strange writing to introduce in ArcGIS\n",
      "    if row == 0:\n",
      "        arcpy.MakeFeatureLayer_management(Simple_CQ, 'Simple_lyr')\n",
      "        arcpy.SelectLayerByAttribute_management('Simple_lyr',\"NEW_SELECTION\",Where_clausule)\n",
      "    else:\n",
      "        arcpy.SelectLayerByAttribute_management('Simple_lyr',\"ADD_TO_SELECTION\",Where_clausule)\n",
      "        \n",
      "arcpy.CopyFeatures_management('Simple_lyr', Overlapping)\n",
      "arcpy.AggregatePolygons_cartography(Overlapping,OverlappingAgg,\"1 Meters\",\"0 SquareMeters\",\"0 SquareMeters\",\"ORTHOGONAL\",\"#\",\"C:/ArcGIS/Default.gdb/Overlapping_AggregatePolygon_Tbl\")"
     ],
     "language": "python",
     "metadata": {},
     "outputs": [
      {
       "output_type": "pyout",
       "prompt_number": 46,
       "text": [
        "<Result 'c:\\\\ArcGIS\\\\EDM.gdb\\\\temp\\\\Overlappingagg'>"
       ]
      }
     ],
     "prompt_number": 46
    },
    {
     "cell_type": "code",
     "collapsed": false,
     "input": [
      "# do the same but create a layer with the rest of buildings and then join both files\n",
      "arcpy.MakeFeatureLayer_management(Simple_CQ, 'CTR_lyr')\n",
      "selection = arcpy.SelectLayerByLocation_management('CTR_lyr', 'intersect', Overlapping)\n",
      "arcpy.SelectLayerByLocation_management('CTR_lyr', 'intersect', Overlapping, selection_type='switch_selection')\n",
      "arcpy.CopyFeatures_management('CTR_lyr', non_Overlapping)\n",
      "arcpy.Merge_management([Overlapping,non_Overlapping],Observers)"
     ],
     "language": "python",
     "metadata": {},
     "outputs": [
      {
       "output_type": "pyout",
       "prompt_number": 51,
       "text": [
        "<Result 'c:\\\\ArcGIS\\\\EDM.gdb\\\\temp\\\\non_Overlapping'>"
       ]
      }
     ],
     "prompt_number": 51
    },
    {
     "cell_type": "code",
     "collapsed": false,
     "input": [],
     "language": "python",
     "metadata": {},
     "outputs": [
      {
       "output_type": "pyout",
       "prompt_number": 415,
       "text": [
        "<Result 'c:\\\\ArcGIS\\\\EDM.gdb\\\\temp\\\\CQSegmentCentro'>"
       ]
      }
     ],
     "prompt_number": 415
    },
    {
     "cell_type": "code",
     "collapsed": false,
     "input": [
      "#make a new copy where the observers will be stored\n"
     ],
     "language": "python",
     "metadata": {},
     "outputs": [
      {
       "output_type": "pyout",
       "prompt_number": 398,
       "text": [
        "<Result 'c:\\\\ArcGIS\\\\EDM.gdb\\\\temp\\\\Observers2'>"
       ]
      }
     ],
     "prompt_number": 398
    },
    {
     "cell_type": "code",
     "collapsed": false,
     "input": [],
     "language": "python",
     "metadata": {},
     "outputs": [],
     "prompt_number": 416
    },
    {
     "cell_type": "code",
     "collapsed": false,
     "input": [],
     "language": "python",
     "metadata": {},
     "outputs": [
      {
       "output_type": "pyout",
       "prompt_number": 418,
       "text": [
        "<Result 'c:\\\\ArcGIS\\\\EDM.gdb\\\\temp\\\\ObserversLines'>"
       ]
      }
     ],
     "prompt_number": 418
    },
    {
     "cell_type": "code",
     "collapsed": false,
     "input": [],
     "language": "python",
     "metadata": {},
     "outputs": [],
     "prompt_number": 417
    },
    {
     "cell_type": "code",
     "collapsed": false,
     "input": [],
     "language": "python",
     "metadata": {},
     "outputs": []
    },
    {
     "cell_type": "code",
     "collapsed": false,
     "input": [],
     "language": "python",
     "metadata": {},
     "outputs": []
    },
    {
     "cell_type": "code",
     "collapsed": false,
     "input": [],
     "language": "python",
     "metadata": {},
     "outputs": []
    },
    {
     "cell_type": "code",
     "collapsed": false,
     "input": [],
     "language": "python",
     "metadata": {},
     "outputs": []
    },
    {
     "cell_type": "code",
     "collapsed": false,
     "input": [
      "FinalDataCentroids"
     ],
     "language": "python",
     "metadata": {},
     "outputs": [
      {
       "html": [
        "<pre>\n",
        "&ltclass 'pandas.core.frame.DataFrame'&gt\n",
        "Int64Index: 1103 entries, 0 to 1102\n",
        "Data columns (total 4 columns):\n",
        "ORIG_FID       1103  non-null values\n",
        "FactorShade    1103  non-null values\n",
        "Freeheight     1103  non-null values\n",
        "height         1103  non-null values\n",
        "dtypes: float64(3), int64(1)\n",
        "</pre>"
       ],
       "output_type": "pyout",
       "prompt_number": 314,
       "text": [
        "<class 'pandas.core.frame.DataFrame'>\n",
        "Int64Index: 1103 entries, 0 to 1102\n",
        "Data columns (total 4 columns):\n",
        "ORIG_FID       1103  non-null values\n",
        "FactorShade    1103  non-null values\n",
        "Freeheight     1103  non-null values\n",
        "height         1103  non-null values\n",
        "dtypes: float64(3), int64(1)"
       ]
      }
     ],
     "prompt_number": 314
    },
    {
     "cell_type": "markdown",
     "metadata": {},
     "source": [
      "now with the observers"
     ]
    },
    {
     "cell_type": "code",
     "collapsed": false,
     "input": [
      "# Local variables\n",
      "Observers = locationtemp2+'\\\\'+'observers'\n",
      "locationtemporal2 = locationtemp2"
     ],
     "language": "python",
     "metadata": {},
     "outputs": [],
     "prompt_number": 52
    },
    {
     "cell_type": "code",
     "collapsed": false,
     "input": [
      "Buffer_CQ = locationtemporal2+'\\\\'+'BufferCQ'\n",
      "temporal_lines = locationtemporal2+'\\\\'+'lines'\n",
      "Points = locationtemporal2+'\\\\'+'Points'\n",
      "AggregatedBuffer = locationtemporal2+'\\\\'+'BufferAggregated'\n",
      "temporal_lines3 = locationtemporal2+'\\\\'+'lines3'\n",
      "Points3 = locationtemporal2+'\\\\'+'Points3'\n",
      "Points3Updated = locationtemporal2+'\\\\'+'Points3Updated'\n",
      "EraseObservers = locationtemporal2+'\\\\'+'eraseobservers'\n",
      "Observers = locationtemporal2+'\\\\'+'observers'  \n",
      "NonoverlappingBuildings = locationtemporal2+'\\\\'+'Non_overlap'"
     ],
     "language": "python",
     "metadata": {},
     "outputs": [],
     "prompt_number": 53
    },
    {
     "cell_type": "code",
     "collapsed": false,
     "input": [
      "#Transform all polygons of the simplified areas to observation points\n",
      "arcpy.SplitLine_management(Buffer_CQ,temporal_lines)\n",
      "arcpy.FeatureVerticesToPoints_management(temporal_lines,Points,'MID') # Second the transformation of Lines to a mid point"
     ],
     "language": "python",
     "metadata": {},
     "outputs": [
      {
       "output_type": "pyout",
       "prompt_number": 300,
       "text": [
        "<Result 'c:\\\\ArcGIS\\\\EDM.gdb\\\\temp\\\\Points'>"
       ]
      }
     ],
     "prompt_number": 300
    },
    {
     "cell_type": "code",
     "collapsed": false,
     "input": [
      "#Join all the polygons to get extra vertices, make lines and then get points. \n",
      "#these points should be added to the original observation points\n",
      "arcpy.AggregatePolygons_cartography(Buffer_CQ,AggregatedBuffer,\"0.5 Meters\",\"0 SquareMeters\",\"0 SquareMeters\",\"ORTHOGONAL\") # agregate polygons\n",
      "arcpy.SplitLine_management(AggregatedBuffer,temporal_lines3) #make lines\n",
      "arcpy.FeatureVerticesToPoints_management(temporal_lines3,Points3,'MID')# create extra points"
     ],
     "language": "python",
     "metadata": {},
     "outputs": [
      {
       "output_type": "pyout",
       "prompt_number": 301,
       "text": [
        "<Result 'c:\\\\ArcGIS\\\\EDM.gdb\\\\temp\\\\Points3'>"
       ]
      }
     ],
     "prompt_number": 301
    },
    {
     "cell_type": "code",
     "collapsed": false,
     "input": [
      "# add information to Points3 about their buildings and erase oveerlapping points\n",
      "arcpy.SpatialJoin_analysis(Points3,Buffer_CQ,Points3Updated,\"JOIN_ONE_TO_ONE\",\"KEEP_ALL\",match_option=\"CLOSEST\")\n",
      "arcpy.Erase_analysis(Points3Updated,Points,EraseObservers,\"2 Meters\")# erase overlaping points\n",
      "arcpy.Merge_management([Points,EraseObservers],Observers)# erase overlaping points"
     ],
     "language": "python",
     "metadata": {},
     "outputs": [
      {
       "output_type": "pyout",
       "prompt_number": 303,
       "text": [
        "<Result 'c:\\\\ArcGIS\\\\EDM.gdb\\\\temp\\\\observers'>"
       ]
      }
     ],
     "prompt_number": 303
    },
    {
     "cell_type": "code",
     "collapsed": false,
     "input": [
      "DataNear = pd.read_csv(DataFactorsBoundaries)\n",
      "Dataobservers= pd.read_csv(DataFactorsObservers)"
     ],
     "language": "python",
     "metadata": {},
     "outputs": [],
     "prompt_number": 310
    },
    {
     "cell_type": "code",
     "collapsed": false,
     "input": [
      "print Dataobservers.head()"
     ],
     "language": "python",
     "metadata": {},
     "outputs": [
      {
       "output_type": "stream",
       "stream": "stdout",
       "text": [
        "   Name  ORIG_FID  height  FactorShade  Freeheight\n",
        "0  868n         1       3            1           3\n",
        "1  868n         2       3            1           3\n",
        "2  868n         3       3            1           3\n",
        "3  868n         4       3            1           3\n",
        "4  262n         5       3            1           3\n"
       ]
      }
     ],
     "prompt_number": 313
    },
    {
     "cell_type": "code",
     "collapsed": false,
     "input": [
      "print DataNear.head()"
     ],
     "language": "python",
     "metadata": {},
     "outputs": [
      {
       "output_type": "stream",
       "stream": "stdout",
       "text": [
        "   index  IN_FID  NEAR_DIST  NEAR_FID Name_x  ORIG_FID_x  height_x Name_y  \\\n",
        "0      8      30          0        31  1331n          30      18.6  1333n   \n",
        "1      9      31          0        30  1333n          31      18.6  1331n   \n",
        "2     10      37          0        38    47n          37      16.0  1369n   \n",
        "3     11      38          0        37  1369n          38      16.0    47n   \n",
        "4     12      55          0        56  1118n          55      14.6  1119n   \n",
        "\n",
        "   ORIG_FID_y  height_y  FactorShade  Freeheight  \n",
        "0          31      18.6            0           0  \n",
        "1          30      18.6            0           0  \n",
        "2          38      16.0            0           0  \n",
        "3          37      16.0            0           0  \n",
        "4          56      14.6            0           0  \n"
       ]
      }
     ],
     "prompt_number": 305
    },
    {
     "cell_type": "code",
     "collapsed": false,
     "input": [
      "CleanDataNear = DataNear[DataNear['FactorShade'] == 1]\n",
      "print CleanDataNear.head()"
     ],
     "language": "python",
     "metadata": {},
     "outputs": [
      {
       "output_type": "stream",
       "stream": "stdout",
       "text": [
        "     index  IN_FID  NEAR_DIST  NEAR_FID Name_x  ORIG_FID_x  height_x Name_y  \\\n",
        "76     109     249   0.016646       218  1323n         249        21  1320n   \n",
        "83     117     274   0.013630       303   789n         274        21  1318n   \n",
        "86     121     278   0.001581       277   789n         278        21  1318n   \n",
        "88     123     279   0.050946       275   789n         279        21   788n   \n",
        "116    166     381   0.004701       380  1319n         381        21   731n   \n",
        "\n",
        "     ORIG_FID_y  height_y  FactorShade  Freeheight  \n",
        "76          218       3.0            1        18.0  \n",
        "83          303       3.0            1        18.0  \n",
        "86          277       3.0            1        18.0  \n",
        "88          275       3.0            1        18.0  \n",
        "116         380      14.8            1         6.2  \n"
       ]
      }
     ],
     "prompt_number": 306
    },
    {
     "cell_type": "code",
     "collapsed": false,
     "input": [
      "#  Eliminate Observation points above roofs of the highest surfaces(a trick to make the \n",
      "#Import Overlaptable from function CalcBoundaries containing the data about buildings overlaping, eliminate duplicades, chose only those ones no overlaped and reindex\n",
      "DataNear = pd.read_csv(DataFactorsBoundaries)"
     ],
     "language": "python",
     "metadata": {},
     "outputs": [
      {
       "output_type": "pyout",
       "prompt_number": 308,
       "text": [
        "<Result 'c:\\\\ArcGIS\\\\EDM.gdb\\\\temp\\\\observers'>"
       ]
      }
     ],
     "prompt_number": 308
    },
    {
     "cell_type": "code",
     "collapsed": false,
     "input": [
      "# Eliminate observation points that ar inside buildings with also sharing boundaries with other buildings of the same height"
     ],
     "language": "python",
     "metadata": {},
     "outputs": []
    },
    {
     "cell_type": "code",
     "collapsed": false,
     "input": [],
     "language": "python",
     "metadata": {},
     "outputs": []
    }
   ],
   "metadata": {}
  }
 ]
}
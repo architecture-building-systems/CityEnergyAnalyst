{
 "metadata": {
  "name": "",
  "signature": "sha256:380a412a76500cca358d079b0bc83fdf8a5cb498f63a04419d60902987d1d081"
 },
 "nbformat": 3,
 "nbformat_minor": 0,
 "worksheets": [
  {
   "cells": [
    {
     "cell_type": "markdown",
     "metadata": {},
     "source": [
      "#1. Pre-Areas and Zones:\n",
      "\n",
      "##INTRODUCTION\n",
      "This subroutine creates diverse zones/clusters/cityquarter of Buildings for the city of interest.\n",
      "\n",
      "###The input:\n",
      "\n",
      "-  Context: a .shp (multi-polygon) file including the buildings of the city of interest and its surroundings.\n",
      "-  Boundaries_City: a .shp (single-polygon) file of the administrative/political boundaries of the city with the surroundings.\n",
      "-  Boundaries_CQ: a (multi-polygon) file of the administratiev/political boundaries of the zones/clusters/cityquarters to study.\n",
      "   Specific Requirements, fields: \"Zone\" (Zone/cluster/Cityquarter to study), \"CityQuarter\"(City quarter or district where the zone,/Cluster belongs to)\n",
      "\n",
      "###The Output:\n",
      "\n",
      "- Buildings for the next areas:\n",
      "- City: a .shp (multi-polygon) file including the Buildings inside the boundaries of the city.\n",
      "- Surroundings: a .shp (multi-polygon) file including the Buildings outside the boundaries of the city.\n",
      "- City Quarter 'n': Multiple .shp (multi-polygon) files including the Buildings inside the boundaries of the n City-quarters/zones/Clusters to analyse.\n",
      "\n",
      "###Data Requierements:\n",
      "\n",
      "The next data requieremnts are not completely necessary to run this routine, but this is in total\n",
      "all the information requiered to Model the Urban Energy System.\n",
      "\n",
      "1. For the Buildings inside the area of study (the zones/clusters/cityquarters):\n",
      "\n",
      "- Factor of occupancy (0-1): Ratio of ocuppied area in every building for the categories (14) of SDU(Single dwelling units), \n",
      "  MDU (Multiple dwelling units) ADMIN(Administrative), INDUS(Industrial), COM(Comercial),HOT(Hotel),  SR(,\n",
      "  EDU (Schools, excl. University), CR(Cooling rooms), REST(restaurants HEALTH(Hospital), SPORT(Sport, leisure), SWIM(Swimming pool,\n",
      "  PUBLIC(Chuches, public halls), DEPO(deposits- unheated spaces), ICE(Ice hokey stadiums).\n",
      "- Height in meters.\n",
      "- Factor of heated space (0-1): if unknown it is considered 0.9 = 90% of footprint area.\n",
      "- Year of construction.\n",
      "- Energy system for heating and cooling: ratio of energy demand currently supplied by a X energysystem between the categories of:.......\n",
      "\n",
      "\n",
      "2. For the Buildings inside the Main Cluster/Zone/Cityquarter of study:\n",
      "\n",
      "- All of point (I).\n",
      "- U values of Roof, Walls, Basement, Windows,\n",
      "- Type of Glazing.\n",
      "- Number of Floors.\n",
      "- Ratio of windows/opaque surfaces,\n",
      "- Type of construction(light, Heavy,Medium)\n",
      "\n",
      "3. For the Buildings out of the area of study\n",
      "\n",
      "- Height in meters."
     ]
    },
    {
     "cell_type": "markdown",
     "metadata": {},
     "source": [
      "##MODULES"
     ]
    },
    {
     "cell_type": "code",
     "collapsed": false,
     "input": [
      "import arcpy\n",
      "import pandas as pd\n",
      "arcpy.env.workspace = 'c:\\ArcGIS\\EDM.gdb'\n",
      "arcpy.env.overwriteOutput = True\n",
      "arcpy.CheckOutExtension(\"spatial\")"
     ],
     "language": "python",
     "metadata": {},
     "outputs": [
      {
       "metadata": {},
       "output_type": "pyout",
       "prompt_number": 1,
       "text": [
        "u'CheckedOut'"
       ]
      }
     ],
     "prompt_number": 1
    },
    {
     "cell_type": "code",
     "collapsed": false,
     "input": [
      "import sys, os\n",
      "sys.path.append(\"C:\\Users\\Jimeno Fonseca\\Documents\\Console\\sandbox\")\n",
      "from pyGDsandbox.dataIO import df2dbf, dbf2df "
     ],
     "language": "python",
     "metadata": {},
     "outputs": [],
     "prompt_number": 2
    },
    {
     "cell_type": "markdown",
     "metadata": {},
     "source": [
      "##VARIABLES"
     ]
    },
    {
     "cell_type": "code",
     "collapsed": false,
     "input": [
      "Zone_calc = 4\n",
      "database = r'c:\\ArcGIS\\EDM.gdb'\n",
      "Scenarios = ['SQ','BAU','HEB','CAMP','UC']\n",
      "Boundaries_City = r'c:\\ArcGIS\\EDM.gdb\\RawData\\Boundaries_City' # administrative boundaries - Contents: No special contents.\n",
      "Boundaries_Zones = r'c:\\ArcGIS\\EDM.gdb\\RawData\\Boundaries_CQ' #Not necessarly adminsitrative boundaries, more dependent on typology and social aspects (Zone) - Contents: Zone, CityQuarter, and a ID which is an Integer"
     ],
     "language": "python",
     "metadata": {},
     "outputs": [],
     "prompt_number": 3
    },
    {
     "cell_type": "code",
     "collapsed": false,
     "input": [
      "temporal1 = r'c:\\ArcGIS\\temp' # location of temporal files out of the database\n",
      "temporal2 = r'c:\\ArcGIS\\EDM.gdb\\temp' #location of temptemporal2ral files inside the database"
     ],
     "language": "python",
     "metadata": {},
     "outputs": [],
     "prompt_number": 4
    },
    {
     "cell_type": "markdown",
     "metadata": {},
     "source": [
      "###PROCESSES"
     ]
    },
    {
     "cell_type": "markdown",
     "metadata": {},
     "source": [
      "#### Definition of Area and zones"
     ]
    },
    {
     "cell_type": "code",
     "collapsed": false,
     "input": [
      "for scenario in Scenarios:\n",
      "    Context = database+'\\\\'+scenario+'\\\\'+scenario+'CONTEXT'\n",
      "    Zone = database+'\\\\'+scenario+'\\\\'+scenario+'AREA'\n",
      "    arcpy.MakeFeatureLayer_management(Context, 'CTR_lyr')\n",
      "    arcpy.SelectLayerByLocation_management('CTR_lyr', 'intersect', Boundaries_Zones)\n",
      "    arcpy.CopyFeatures_management('CTR_lyr', database+'\\\\'+x+'\\\\'+x+'AREA')\n",
      "    \n",
      "    #Import List of Cityquarters and Count them for iteration\n",
      "    OutTable = 'Boundaries_CQ.dbf'\n",
      "    arcpy.TableToTable_conversion(Boundaries_Zones, temporal1, OutTable)\n",
      "    List_Boundaries_Zones = dbf2df(temporal1+'\\\\'+OutTable)\n",
      "    Counter = List_Boundaries_Zones.Zone.count()\n",
      "    List_Boundaries_Zones['ID']= range(1,Counter+1)\n",
      "    \n",
      "    if x == 'SQ':\n",
      "        r1= 1\n",
      "        r2= Counter+1\n",
      "    else:\n",
      "        r1= Zone_of_study\n",
      "        r2 = Zone_of_study+1\n",
      "    \n",
      "    for City_Quarter in range(r1,r2):\n",
      "        # list of variables\n",
      "        Value = List_Boundaries_Zones.loc[City_Quarter-1,Field] # set the value or name of the City quarter\n",
      "        Where_clausule =  ''''''+'\"'+\"ID\"+'\"'+\"=\"+\"\\'\"+str(Value)+\"\\'\"+''''''\n",
      "        \n",
      "        # selection\n",
      "        Single_CityQuarter = temporal1+\"\\\\\"+\"zone\"+str(City_Quarter)+'.shp' # location of the result of each CityQuarter\n",
      "        arcpy.Select_analysis(Boundaries_Zones,Single_CityQuarter,Where_clausule) # routine\n",
      "        arcpy.env.workspace = 'c:\\ArcGIS\\EDM.gdb'\n",
      "        \n",
      "        # copy of city quarters\n",
      "        arcpy.MakeFeatureLayer_management(Zone, 'CQ_lyr') \n",
      "        arcpy.SelectLayerByLocation_management('CQ_lyr', 'intersect', Single_CityQuarter)\n",
      "        \n",
      "        if City_Quarter != Zone_calc:\n",
      "            arcpy.CopyFeatures_management('CQ_lyr', database+'\\\\'+'Surroundings'+\"\\\\\"+\"ZONE_\"+str(City_Quarter))\n",
      "        else:\n",
      "            arcpy.CopyFeatures_management('CQ_lyr', database+'\\\\'+scenario+\"\\\\\"+scenario+\"ZONE_\"+str(City_Quarter))    "
     ],
     "language": "python",
     "metadata": {},
     "outputs": [
      {
       "ename": "NameError",
       "evalue": "name 'Scenarios' is not defined",
       "output_type": "pyerr",
       "traceback": [
        "\u001b[1;31m---------------------------------------------------------------------------\u001b[0m\n\u001b[1;31mNameError\u001b[0m                                 Traceback (most recent call last)",
        "\u001b[1;32m<ipython-input-2-481cb64087b5>\u001b[0m in \u001b[0;36m<module>\u001b[1;34m()\u001b[0m\n\u001b[1;32m----> 1\u001b[1;33m \u001b[1;32mfor\u001b[0m \u001b[0mscenario\u001b[0m \u001b[1;32min\u001b[0m \u001b[0mScenarios\u001b[0m\u001b[1;33m:\u001b[0m\u001b[1;33m\u001b[0m\u001b[0m\n\u001b[0m\u001b[0;32m      2\u001b[0m     \u001b[0mContext\u001b[0m \u001b[1;33m=\u001b[0m \u001b[0mdatabase\u001b[0m\u001b[1;33m+\u001b[0m\u001b[1;34m'\\\\'\u001b[0m\u001b[1;33m+\u001b[0m\u001b[0mscenario\u001b[0m\u001b[1;33m+\u001b[0m\u001b[1;34m'\\\\'\u001b[0m\u001b[1;33m+\u001b[0m\u001b[0mscenario\u001b[0m\u001b[1;33m+\u001b[0m\u001b[1;34m'CONTEXT'\u001b[0m\u001b[1;33m\u001b[0m\u001b[0m\n\u001b[0;32m      3\u001b[0m     \u001b[0mZone\u001b[0m \u001b[1;33m=\u001b[0m \u001b[0mdatabase\u001b[0m\u001b[1;33m+\u001b[0m\u001b[1;34m'\\\\'\u001b[0m\u001b[1;33m+\u001b[0m\u001b[0mscenario\u001b[0m\u001b[1;33m+\u001b[0m\u001b[1;34m'\\\\'\u001b[0m\u001b[1;33m+\u001b[0m\u001b[0mscenario\u001b[0m\u001b[1;33m+\u001b[0m\u001b[1;34m'AREA'\u001b[0m\u001b[1;33m\u001b[0m\u001b[0m\n\u001b[0;32m      4\u001b[0m     \u001b[0marcpy\u001b[0m\u001b[1;33m.\u001b[0m\u001b[0mMakeFeatureLayer_management\u001b[0m\u001b[1;33m(\u001b[0m\u001b[0mContext\u001b[0m\u001b[1;33m,\u001b[0m \u001b[1;34m'CTR_lyr'\u001b[0m\u001b[1;33m)\u001b[0m\u001b[1;33m\u001b[0m\u001b[0m\n\u001b[0;32m      5\u001b[0m     \u001b[0marcpy\u001b[0m\u001b[1;33m.\u001b[0m\u001b[0mSelectLayerByLocation_management\u001b[0m\u001b[1;33m(\u001b[0m\u001b[1;34m'CTR_lyr'\u001b[0m\u001b[1;33m,\u001b[0m \u001b[1;34m'intersect'\u001b[0m\u001b[1;33m,\u001b[0m \u001b[0mBoundaries_Zones\u001b[0m\u001b[1;33m)\u001b[0m\u001b[1;33m\u001b[0m\u001b[0m\n",
        "\u001b[1;31mNameError\u001b[0m: name 'Scenarios' is not defined"
       ]
      }
     ],
     "prompt_number": 2
    },
    {
     "cell_type": "code",
     "collapsed": false,
     "input": [],
     "language": "python",
     "metadata": {},
     "outputs": []
    }
   ],
   "metadata": {}
  }
 ]
}
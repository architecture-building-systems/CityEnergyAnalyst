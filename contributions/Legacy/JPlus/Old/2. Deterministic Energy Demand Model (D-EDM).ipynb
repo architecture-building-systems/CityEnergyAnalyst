{
 "metadata": {
  "name": "2. Deterministic Energy Demand Model (D-EDM)"
 },
 "nbformat": 3,
 "nbformat_minor": 0,
 "worksheets": [
  {
   "cells": [
    {
     "cell_type": "markdown",
     "metadata": {},
     "source": [
      "#  Deterministic Energy Demand Model \n",
      "###INTRODUCTION\n",
      "\n",
      "This Routine calculates the thermal, Cooling and electrical hourly demand in buildings\n",
      "the model is developed under the standard EN 13790:2007, 'SIMPLIFIED HOURLY MODEL' for heating and cooling loads,\n",
      "Whereas Electrical loads are assumed to be distributed during the year according to the Standard SIA 2024 for different categories of use.\n",
      "\n",
      "### The Input\n",
      "\n",
      "- DataradiationLocation= A .csv dataradiation file from the Chapter 1. Radiation Model.\n",
      "- TimeSeries = a .excell to compute the profiles of occupancy.\n",
      "- Buildings - a.shp (multi-polygon) file or database describing the properties of the community to analyze\n",
      "            in the case of measured data, it is more easy to receive this file from Excell.\n",
      "- *Requierements\n",
      "\n",
      "###The Output\n",
      "\n",
      "\n",
      "###Requierements\n",
      "\n",
      "For every building of the Community Analyzed an excelfile containing:\n",
      "\n",
      "- U values from Roof, Walls, Basement, and Windows,\n",
      "- Type and location of Shading. (Louvers, Rollo, Venetian Blinds, Courtain), (Interior, Exterior)\n",
      "- Windows/Wall ratio, \n",
      "- Type of construction(Light, Heavy,Medium)\n",
      "\n",
      "\n"
     ]
    },
    {
     "cell_type": "markdown",
     "metadata": {},
     "source": [
      "##MODULES"
     ]
    },
    {
     "cell_type": "code",
     "collapsed": true,
     "input": [
      "import pandas as pd\n",
      "from pylab import *\n",
      "import matplotlib as plt\n",
      "import numpy as np"
     ],
     "language": "python",
     "metadata": {},
     "outputs": [],
     "prompt_number": 1
    },
    {
     "cell_type": "code",
     "collapsed": false,
     "input": [
      "import arcpy"
     ],
     "language": "python",
     "metadata": {},
     "outputs": [],
     "prompt_number": 2
    },
    {
     "cell_type": "code",
     "collapsed": false,
     "input": [
      "import sys, os\n",
      "sys.path.append(\"C:\\Users\\Jimeno Fonseca\\Documents\\Console\\sandbox\")\n",
      "from pyGDsandbox.dataIO import df2dbf, dbf2df "
     ],
     "language": "python",
     "metadata": {},
     "outputs": [],
     "prompt_number": 3
    },
    {
     "cell_type": "markdown",
     "metadata": {},
     "source": [
      "##VARIABLES"
     ]
    },
    {
     "cell_type": "code",
     "collapsed": false,
     "input": [
      "# Set of constants according to EN 13790\n",
      "pa_ca = 1200  # Air constant J/m3K\n",
      "his = 3.45 #heat transfer coefficient between air and the surfacein W/(m2K)\n",
      "hms = 9.1 # Heat transfer coeddicient between nodes m and s in W/m2K\n",
      "g_gl = 0.9*0.75 # solar energy transmittance assuming a reduction factor of 0.9 and most of the windows to be double glazing (0.75)\n",
      "F_f = 0.3 # Frame area faction coefficient\n",
      "Fr = 0.5 #Thermal Radiation to the sky\n",
      "delta_t_er = 11 # Difference between external air and the apparent sky temperature\n",
      "e =  0.85 # emissivity for thermal radiation of the external surface considering Glazed part of windows.\n",
      "S = 0.0000000567  # Stefan-Boltzmann constant in W/(m2K4)\n",
      "hr = 4 * e* S*(delta_t_er+273)**3 # external radiative coeficcien in Wm2K\n",
      "Rse = 0.04 # Surface thermal resistance # reduction factor of solar transmittance when shading is operating for a more precise idea do the analysis per Building.\n",
      "# Set of estimated constants\n",
      "Z = 3 # height of basement for every building in m\n",
      "Bf = 0.7 # It calculates the coefficient of reduction in transmittance for surfaces in contact with the ground according to values of  SIA 380/1"
     ],
     "language": "python",
     "metadata": {},
     "outputs": [],
     "prompt_number": 16
    },
    {
     "cell_type": "code",
     "collapsed": false,
     "input": [
      "CQ =r'c:\\ArcGIS\\EDM.gdb\\Communities\\CityQuarter_3'\n",
      "CQ_name = 'CityQuarter_3'\n",
      "DataCQ = pd.ExcelFile('c:\\ArcGIS\\EDMdata\\Measured'+'\\\\'+CQ_name+'\\\\'+'BuildingProperties.xls') # Location of the data of the CQ to run\n",
      "CQProperties = pd.ExcelFile.parse(DataCQ, 'Values') # properties of buildings, Table with all requierements"
     ],
     "language": "python",
     "metadata": {},
     "outputs": [],
     "prompt_number": 102
    },
    {
     "cell_type": "code",
     "collapsed": false,
     "input": [
      "WeatherData = pd.ExcelFile('C:\\ArcGIS\\EDMdata\\Weatherdata\\Temp_2009_20102.xls') # Location of temperature data\n",
      "Temperature_Sh = pd.ExcelFile.parse(WeatherData, 'Values') # properties of buildings, Table with all requierements"
     ],
     "language": "python",
     "metadata": {},
     "outputs": [],
     "prompt_number": 103
    },
    {
     "cell_type": "code",
     "collapsed": false,
     "input": [
      "Schedules = pd.ExcelFile('C:\\ArcGIS\\EDMdata\\Statistical\\Schedules.xls')\n",
      "ADMIN = pd.ExcelFile.parse(Schedules, 'ADMIN') \n",
      "INDUS = pd.ExcelFile.parse(Schedules, 'INDUS') \n",
      "REST = pd.ExcelFile.parse(Schedules, 'INDUS') "
     ],
     "language": "python",
     "metadata": {},
     "outputs": [],
     "prompt_number": 31
    },
    {
     "cell_type": "code",
     "collapsed": false,
     "input": [
      "DataradiationLocation = r'c:\\ArcGIS\\temp'+'\\\\'+CQ_name+'\\\\'+'radiation'+'\\\\'+'RadiationYear.csv'"
     ],
     "language": "python",
     "metadata": {},
     "outputs": [],
     "prompt_number": 23
    },
    {
     "cell_type": "code",
     "collapsed": false,
     "input": [
      "temporal1 = r'c:\\ArcGIS\\temp'"
     ],
     "language": "python",
     "metadata": {},
     "outputs": [],
     "prompt_number": 24
    },
    {
     "cell_type": "markdown",
     "metadata": {},
     "source": [
      "##FUNCTIONS"
     ]
    },
    {
     "cell_type": "markdown",
     "metadata": {},
     "source": [
      "Mass area and coefficients of internal mass capacity according to values of  SIA 2024"
     ]
    },
    {
     "cell_type": "code",
     "collapsed": false,
     "input": [
      "def CmFunction (x): \n",
      "    if x == 'Medium':\n",
      "        return 165000\n",
      "    elif x == 'Heavy':\n",
      "        return 300000\n",
      "    elif x == 'Light':\n",
      "        return 110000\n",
      "    else:\n",
      "        return 165000"
     ],
     "language": "python",
     "metadata": {},
     "outputs": [],
     "prompt_number": 40
    },
    {
     "cell_type": "code",
     "collapsed": false,
     "input": [
      "def AmFunction (x): \n",
      "    if x == 'Medium':\n",
      "        return 2.5\n",
      "    elif x == 'Heavy':\n",
      "        return 3.2\n",
      "    elif x == 'Light':\n",
      "        return 2.5\n",
      "    else:\n",
      "        return 2.5"
     ],
     "language": "python",
     "metadata": {},
     "outputs": [],
     "prompt_number": 41
    },
    {
     "cell_type": "markdown",
     "metadata": {},
     "source": [
      "It calculates the rediction factor of shading due to type of shading"
     ]
    },
    {
     "cell_type": "code",
     "collapsed": false,
     "input": [
      "def Calc_Rf_sh (ShadingPosition,ShadingType):\n",
      "    d ={'Type':['Louvres','Rollo', 'Venetian Blinds', 'Courtain'],'ValueIN':[0.2,0.2,0.3,0.77],'ValueOUT':[0.08,0.08,0.15,0.57]}\n",
      "    ValuesRf_Table = pd.DataFrame(d)\n",
      "    rows = ValuesRf_Table.Type.count()\n",
      "    for row in range(rows):\n",
      "        if ShadingType == ValuesRf_Table.loc[row,'Type'] and  ShadingPosition == 'Exterior':\n",
      "            return ValuesRf_Table.loc[row,'ValueOUT']\n",
      "        elif ShadingType == ValuesRf_Table.loc[row,'Type'] and  ShadingPosition == 'Interior':\n",
      "            return ValuesRf_Table.loc[row,'ValueIN']\n",
      "        else:\n",
      "            return 1"
     ],
     "language": "python",
     "metadata": {},
     "outputs": [],
     "prompt_number": 110
    },
    {
     "cell_type": "markdown",
     "metadata": {},
     "source": [
      "Shading Factors"
     ]
    },
    {
     "cell_type": "code",
     "collapsed": false,
     "input": [
      "def calc_Fhor(angle,Sh,Idir,Iglo):\n",
      "    if angle < Sh:\n",
      "        if Iglo == 0:\n",
      "            return 0\n",
      "        else:\n",
      "            return 1 - Idir / Iglo\n",
      "    else:\n",
      "        return 1"
     ],
     "language": "python",
     "metadata": {},
     "outputs": [],
     "prompt_number": 43
    },
    {
     "cell_type": "code",
     "collapsed": false,
     "input": [
      "def calc_Fsh_gl(Iwindows,Aw, g_gl,Rf_sh):\n",
      "    if Iwindows/Aw > 300:\n",
      "        Fsh_with = 1\n",
      "        return ((1-Fsh_with)*g_gl+Fsh_with*g_gl*Rf_sh)/g_gl\n",
      "    else:\n",
      "        return 1"
     ],
     "language": "python",
     "metadata": {},
     "outputs": [],
     "prompt_number": 113
    },
    {
     "cell_type": "markdown",
     "metadata": {},
     "source": [
      "3.4 Definition of profile of occupancy"
     ]
    },
    {
     "cell_type": "code",
     "collapsed": false,
     "input": [
      "def calc_Type(ADMIN, INDUS, REST, AllProperties, i):\n",
      "    ADMIN['Ve'] = AllProperties.loc[i,'ADMIN'] * ADMIN['Ve'] + AllProperties.loc[i,'REST'] * REST['Ve'] + AllProperties.loc[i,'INDUS'] * INDUS['Ve']\n",
      "    ADMIN['I_int']= AllProperties.loc[i,'ADMIN'] * ADMIN['I_int'] + AllProperties.loc[i,'REST'] * REST['I_int'] + AllProperties.loc[i,'INDUS'] * INDUS['I_int']\n",
      "    if AllProperties.loc[i,'ADMIN'] >= 0.6:\n",
      "        ADMIN['tintH_set'] = ADMIN['tintH_set']\n",
      "        ADMIN['tintC_set'] = ADMIN['tintC_set']\n",
      "    elif AllProperties.loc[i,'REST']>=0.6:\n",
      "        ADMIN['tintH_set'] = REST['tintH_set']\n",
      "        ADMIN['tintC_set'] = REST['tintC_set']\n",
      "    elif AllProperties.loc[i,'INDUS']>=0.6:\n",
      "        ADMIN['tintH_set'] = INDUS['tintH_set']        \n",
      "        ADMIN['tintC_set'] = INDUS['tintC_set']       \n",
      "    \n",
      "    return ADMIN"
     ],
     "language": "python",
     "metadata": {},
     "outputs": [],
     "prompt_number": 18
    },
    {
     "cell_type": "markdown",
     "metadata": {},
     "source": [
      "Hourly thermal transmission coefficients"
     ]
    },
    {
     "cell_type": "code",
     "collapsed": false,
     "input": [
      "def calc_Htr(Hve, Htr_is, Htr_ms, Htr_w):\n",
      "    Htr_1 = 1/(1/Hve+1/Htr_is)\n",
      "    Htr_2 = Htr_1+Htr_w\n",
      "    Htr_3 = 1/(1/Htr_2+1/Htr_ms)\n",
      "    Coefficients = [Htr_1,Htr_2,Htr_3]\n",
      "    return Coefficients"
     ],
     "language": "python",
     "metadata": {},
     "outputs": [],
     "prompt_number": 19
    },
    {
     "cell_type": "markdown",
     "metadata": {},
     "source": [
      "Calculation Heating and Cooling loads"
     ]
    },
    {
     "cell_type": "code",
     "collapsed": false,
     "input": [
      "def calc_TL(tm_t0, te_t, tintH_set, tintC_set, Htr_em, Htr_ms, Htr_is, Htr_1, Htr_2, Htr_3, I_st, Hve, Htr_w, I_ia, I_m, Cm, Ac, IC, IH):\n",
      "    # Case 1 IHC_nd = 0\n",
      "    IHC_nd = 0\n",
      "    IC_nd_ac = 0\n",
      "    IH_nd_ac = 0\n",
      "    Im_tot = I_m + Htr_em * te_t + Htr_3*(I_st + Htr_w*te_t + Htr_1*(((I_ia + IHC_nd)/Hve)+ te_t))/Htr_2\n",
      "    tm_t = (tm_t0 *((Cm/3600)-0.5*(Htr_3+ Htr_em))+ Im_tot)/((Cm/3600)+0.5*(Htr_3+Htr_em))\n",
      "    tm = (tm_t+tm_t0)/2\n",
      "    ts = (Htr_ms * tm + I_st + Htr_w*te_t + Htr_1*(te_t+(I_ia+IHC_nd)/Hve))/(Htr_ms+Htr_w+Htr_1)  \n",
      "    tair0 = (Htr_is*ts + Hve*te_t + I_ia + IHC_nd)/(Htr_is+Hve)\n",
      "    top0 = 0.3*tair0+0.7*ts\n",
      "    if tintH_set <= tair0 <= tintC_set:\n",
      "        tair_ac = tair0 \n",
      "        top_ac = top0\n",
      "        IHC_nd_ac = 0\n",
      "        IH_nd_ac = IHC_nd_ac\n",
      "        IC_nd_ac = IHC_nd_ac\n",
      "    else:\n",
      "        if tair0 > tintC_set and tair0 > tintH_set:\n",
      "            tair_set = tintC_set\n",
      "        elif tair0 < tintH_set and tair0 < tintC_set:\n",
      "            tair_set = tintH_set\n",
      "        \n",
      "        # Case 2 IHC_nd = 10 * Ac  \n",
      "        IHC_nd = IHC_nd_10 = 10*Ac\n",
      "        Im_tot = I_m + Htr_em * te_t + Htr_3*(I_st + Htr_w*te_t + Htr_1*(((I_ia + IHC_nd)/Hve)+ te_t))/Htr_2\n",
      "        tm_t = (tm_t0 *((Cm/3600)-0.5*(Htr_3+ Htr_em))+ Im_tot)/((Cm/3600)+0.5*(Htr_3+Htr_em))\n",
      "        tm = (tm_t+tm_t0)/2\n",
      "        ts = (Htr_ms * tm + I_st + Htr_w*te_t + Htr_1*(te_t+(I_ia+IHC_nd)/Hve))/(Htr_ms+Htr_w+Htr_1)  \n",
      "        tair10 = (Htr_is*ts + Hve*te_t + I_ia + IHC_nd)/(Htr_is+Hve)\n",
      "        top10 = 0.3*tair10+0.7*ts\n",
      "        IHC_nd_un =  IHC_nd_10*(tair_set - tair0)/(tair10-tair0)\n",
      "        IC_max = IC*Ac\n",
      "        IH_max = IH*Ac\n",
      "        if  IC_max < IHC_nd_un < IH_max:\n",
      "            tair_ac = tair_set \n",
      "            top_ac = 0.3*tair_ac+0.7*te_t\n",
      "            IHC_nd_ac = IHC_nd_un \n",
      "        else:\n",
      "            if IHC_nd_un > 0:\n",
      "                IHC_nd_ac = IH_max\n",
      "            else:\n",
      "                IHC_nd_ac = IC_max\n",
      "            # Case 3 when the maximum power is exceeded\n",
      "            Im_tot = I_m + Htr_em * te_t + Htr_3*(I_st + Htr_w*te_t + Htr_1*(((I_ia + IHC_nd_ac)/Hve)+ te_t))/Htr_2\n",
      "            tm_t = (tm_t0 *((Cm/3600)-0.5*(Htr_3+ Htr_em))+ Im_tot)/((Cm/3600)+0.5*(Htr_3+Htr_em))\n",
      "            tm = (tm_t+tm_t0)/2\n",
      "            ts = (Htr_ms * tm + I_st + Htr_w*te_t + Htr_1*(te_t+(I_ia+IHC_nd_ac)/Hve))/(Htr_ms+Htr_w+Htr_1)  \n",
      "            tair_ac = (Htr_is*ts + Hve*te_t + I_ia + IHC_nd)/(Htr_is+Hve)\n",
      "            top_ac = 0.3*tair_ac+0.7*ts\n",
      "    # Results\n",
      "        if IHC_nd_ac >0:\n",
      "            IH_nd_ac = IHC_nd_ac\n",
      "        else:\n",
      "            IC_nd_ac = IHC_nd_ac\n",
      "    \n",
      "    Results = [tm_t, tair_ac ,top_ac, IH_nd_ac, IC_nd_ac]\n",
      "    return Results"
     ],
     "language": "python",
     "metadata": {},
     "outputs": [],
     "prompt_number": 20
    },
    {
     "cell_type": "markdown",
     "metadata": {},
     "source": [
      "##PROCESS"
     ]
    },
    {
     "cell_type": "markdown",
     "metadata": {},
     "source": [
      "Import RadiationFile and Properties of the shapefiles"
     ]
    },
    {
     "cell_type": "code",
     "collapsed": false,
     "input": [
      "Radiation_Shading = pd.read_csv(DataradiationLocation)"
     ],
     "language": "python",
     "metadata": {},
     "outputs": [],
     "prompt_number": 82
    },
    {
     "cell_type": "code",
     "collapsed": false,
     "input": [
      "OutTable = 'CQshape3.dbf'\n",
      "arcpy.TableToTable_conversion(CQ, temporal1, OutTable)\n",
      "CQShape_properties = dbf2df(temporal1+'\\\\'+OutTable, )"
     ],
     "language": "python",
     "metadata": {},
     "outputs": [
      {
       "output_type": "stream",
       "stream": "stdout",
       "text": [
        "   ADMIN  COM  CR  DEPO  EDU  Floors  HEALTH  HOT        Hs  ICE  INDUS  MDU  \\\n",
        "0    0.0    0   0     0    0       5       0    0  0.159559    0    0.0    0   \n",
        "1    1.0    0   0     0    0       5       0    0  0.935000    0    0.0    0   \n",
        "2    1.0    0   0     0    0       5       0    0  0.935000    0    0.0    0   \n",
        "3    1.0    0   0     0    0       5       0    0  0.935000    0    0.0    0   \n",
        "4    0.3    0   0     0    0       2       0    0  0.953495    0    0.7    0   \n",
        "\n",
        "     Name  PUBLIC  REST  SDU  SPORT  SR  SUPER  SWIM   Shape_Area  Shape_Leng  \\\n",
        "0   Bau A       0     1    0      0   0      0     0  2638.521703  234.502180   \n",
        "1   Bau D       0     0    0      0   0      0     0  1171.148132  151.011780   \n",
        "2   Bau E       0     0    0      0   0      0     0  1256.170436  151.093377   \n",
        "3   Bau F       0     0    0      0   0      0     0  1016.163325  133.697576   \n",
        "4  Bau 17       0     0    0      0   0      0     0  6196.678169  364.514269   \n",
        "\n",
        "   Year  height  \n",
        "0  2010    19.5  \n",
        "1  2005    20.3  \n",
        "2  2005    20.3  \n",
        "3  2006    20.3  \n",
        "4  1971     7.8  \n"
       ]
      }
     ],
     "prompt_number": 84
    },
    {
     "cell_type": "markdown",
     "metadata": {},
     "source": [
      "###Areas"
     ]
    },
    {
     "cell_type": "markdown",
     "metadata": {},
     "source": [
      "1.1 Vertical Areas above ground "
     ]
    },
    {
     "cell_type": "code",
     "collapsed": false,
     "input": [
      "Radiation_Shading['Awall'] = Radiation_Shading['Shape_Leng']*Radiation_Shading['Freeheight']*Radiation_Shading['FactorShade'] #get the area of each wall in the buildings"
     ],
     "language": "python",
     "metadata": {},
     "outputs": [],
     "prompt_number": 85
    },
    {
     "cell_type": "code",
     "collapsed": false,
     "input": [
      "PivotTable = pd.pivot_table(Radiation_Shading,rows='Name_1',values='Awall',aggfunc=np.sum) #get the area of walls in the whole buildings\n",
      "PivotTable2 = pd.DataFrame(PivotTable)"
     ],
     "language": "python",
     "metadata": {},
     "outputs": [],
     "prompt_number": 86
    },
    {
     "cell_type": "code",
     "collapsed": false,
     "input": [
      "CQproperties2 = pd.merge(PivotTable2,CQProperties, left_index=True,right_on='Name')\n",
      "CQproperties2['Aw'] = CQproperties2['Awall']*CQproperties2['fwindow'] # Finally get the Area of windows \n",
      "CQproperties2['Aop_sup'] = CQproperties2['Awall'] - CQproperties2['Aw'] #....and Opaque areas"
     ],
     "language": "python",
     "metadata": {},
     "outputs": [],
     "prompt_number": 87
    },
    {
     "cell_type": "markdown",
     "metadata": {},
     "source": [
      "1.2 Vertical Areas Below ground"
     ]
    },
    {
     "cell_type": "code",
     "collapsed": false,
     "input": [
      "# Join both properties files (Shape and areas)\n",
      "AllProperties = pd.merge(CQproperties2,CQShape_properties,on='Name')"
     ],
     "language": "python",
     "metadata": {},
     "outputs": [],
     "prompt_number": 88
    },
    {
     "cell_type": "code",
     "collapsed": false,
     "input": [
      "AllProperties['Aop_bel'] = Z*AllProperties['Shape_Leng']+AllProperties['Shape_Area']   # Opague areas in m2 below ground including floor"
     ],
     "language": "python",
     "metadata": {},
     "outputs": [],
     "prompt_number": 89
    },
    {
     "cell_type": "markdown",
     "metadata": {},
     "source": [
      "1.3 Total Area, Energy area and and Thermal Mass area"
     ]
    },
    {
     "cell_type": "code",
     "collapsed": false,
     "input": [
      "AllProperties['Atot'] = AllProperties['Aop_sup']+AllProperties['Aop_bel']+AllProperties['Aw']+AllProperties['Shape_Area'] # Total area of the building envelope m2, it is considered the roof to be flat\n",
      "AllProperties['Af'] = AllProperties['Shape_Area']*AllProperties['Floors_x']*AllProperties['Hs_x']\n",
      "AllProperties['Am'] = AllProperties.Construction.apply(lambda x:AmFunction(x))*AllProperties['Af'] # Effective mass area in m2"
     ],
     "language": "python",
     "metadata": {},
     "outputs": [],
     "prompt_number": 90
    },
    {
     "cell_type": "markdown",
     "metadata": {},
     "source": [
      "###Solar Radiation Load in windoes"
     ]
    },
    {
     "cell_type": "markdown",
     "metadata": {},
     "source": [
      "4.1. Import Radiation table and compute the Irradiation in W in every building's surface"
     ]
    },
    {
     "cell_type": "code",
     "collapsed": false,
     "input": [
      "Radiation_Shading2 = pd.read_csv(DataradiationLocation)\n",
      "Columns = 8761\n",
      "for Column in range(1, Columns):\n",
      "    Radiation_Shading2['T'+str(Column)] = Radiation_Shading2['T'+str(Column)]*Radiation_Shading2['Shape_Leng']*Radiation_Shading2['Freeheight']*Radiation_Shading2['FactorShade'] #transform all the points of solar radiation into Wh"
     ],
     "language": "python",
     "metadata": {},
     "outputs": [],
     "prompt_number": 96
    },
    {
     "cell_type": "markdown",
     "metadata": {},
     "source": [
      "4.2. Do pivot table to sum up the irradiation in every surface to the building and merge the result with the table allProperties"
     ]
    },
    {
     "cell_type": "code",
     "collapsed": false,
     "input": [
      "PivotTable3 = pd.pivot_table(Radiation_Shading2,rows='Name_1',margins='Add all row')\n",
      "RadiationLoad = pd.DataFrame(PivotTable3)"
     ],
     "language": "python",
     "metadata": {},
     "outputs": [],
     "prompt_number": 97
    },
    {
     "cell_type": "code",
     "collapsed": false,
     "input": [
      "Solar = AllProperties.merge(RadiationLoad, left_on='Name',right_index=True)"
     ],
     "language": "python",
     "metadata": {},
     "outputs": [],
     "prompt_number": 98
    },
    {
     "cell_type": "markdown",
     "metadata": {},
     "source": [
      "4.3 final step multiply the total irradiation in the building per the percentage of Window/wall area to get the result"
     ]
    },
    {
     "cell_type": "code",
     "collapsed": false,
     "input": [
      "Columns = 8761\n",
      "for Column in range(1, Columns):\n",
      "    Solar['T'+str(Column)] = Solar['T'+str(Column)]*Solar['fwindow']"
     ],
     "language": "python",
     "metadata": {},
     "outputs": [],
     "prompt_number": 99
    },
    {
     "cell_type": "markdown",
     "metadata": {},
     "source": [
      "###Steady-state Thermal transmittance coefficients and Internal heat Capacity"
     ]
    },
    {
     "cell_type": "code",
     "collapsed": false,
     "input": [
      "AllProperties ['Htr_w'] = AllProperties['Aw']*AllProperties['Uwindow']  # Thermal transmission coefficient for windows and glazing. in W/K\n",
      "AllProperties ['HD'] = AllProperties['Aop_sup']*AllProperties['Uwall']+AllProperties['Shape_Area']*AllProperties['Uroof']  # Direct Thermal transmission coefficient to the external environment in W/K\n",
      "AllProperties ['Hg'] = Bf*AllProperties ['Aop_bel']*AllProperties['Uground'] # stady-state Thermal transmission coeffcient to the ground. in W/K\n",
      "AllProperties ['Htr_op'] = AllProperties ['Hg']+ AllProperties ['HD']\n",
      "AllProperties ['Htr_ms'] = hms*AllProperties ['Am'] # Coupling conduntance 1 in W/K\n",
      "AllProperties ['Htr_em'] = 1/(1/AllProperties['Htr_op']-1/ AllProperties['Htr_ms']) # Coupling conduntance 2 in W/K \n",
      "AllProperties ['Htr_is'] = his*AllProperties ['Atot']\n",
      "AllProperties['Cm'] = AllProperties.Construction.apply(lambda x:CmFunction(x))*AllProperties['Af'] # Internal heat capacity in J/K"
     ],
     "language": "python",
     "metadata": {},
     "outputs": [],
     "prompt_number": 100
    },
    {
     "cell_type": "markdown",
     "metadata": {},
     "source": [
      "Create Labels in data framte to iterate"
     ]
    },
    {
     "cell_type": "code",
     "collapsed": false,
     "input": [
      "Columns = ['IH_nd_ac','IC_nd_ac','Fsh_gl','Htr_1','Htr_2','Htr_3','tm_t','tair_ac','top_ac','IHC_nd_ac', 'Asol', 'I_sol']\n",
      "for Label in Columns:\n",
      "    ADMIN[Label] = 0\n",
      "    INDUS[Label] = 0\n",
      "    REST[Label] = 0\n",
      "AllProperties['Qh'] = 0\n",
      "AllProperties['Qc'] = 0"
     ],
     "language": "python",
     "metadata": {},
     "outputs": [],
     "prompt_number": 120
    },
    {
     "cell_type": "markdown",
     "metadata": {},
     "source": [
      "Calculation of Thermal loads"
     ]
    },
    {
     "cell_type": "code",
     "collapsed": false,
     "input": [
      "Num_Hours = ADMIN.DATE.count()\n",
      "Num_Buildings = AllProperties.Name.count()\n",
      "for i in range(Num_Buildings):\n",
      "#i =0\n",
      "    Name = AllProperties.loc[i,'Name']\n",
      "    # Determination of Profile of occupancy to use\n",
      "    Occupancy = calc_Type(ADMIN, INDUS, REST, AllProperties,i)\n",
      "    # Determination of Hourly Thermal transmission coefficient due to Ventilation in W/K\n",
      "    Occupancy['Hve'] =  pa_ca*Occupancy['Ve']* AllProperties.loc[i,'Af']/3600\n",
      "    #Determination of Heat Flows for internal loads in W\n",
      "    Occupancy['I_ia'] = 0.5*Occupancy['I_int']*AllProperties.loc[i,'Af']\n",
      "    # Calculation of effecive solar area of surfaces in m2, opaque areas are not considered, reduction factor of overhangs is not included. Fov =0\n",
      "    for hour in range(Num_Hours):\n",
      "\n",
      "        # Calculation Shading factor per hour due to operation of external shadings, 1 when I > 300 W/m2\n",
      "        Rf_sh = Calc_Rf_sh(AllProperties.loc[i,'Shading_position'],AllProperties.loc[i,'Shading_Type'])\n",
      "        Occupancy.loc[hour,'Fsh_gl'] = calc_Fsh_gl(Solar.loc[i,'T'+str(hour+1)],AllProperties.loc[i,'Aw'], g_gl,Rf_sh)\n",
      "\n",
      "        # Calculation of solar efective area per hour in m2  \n",
      "        Occupancy.loc[hour,'Asol'] = Occupancy.loc[hour,'Fsh_gl'] * g_gl*(1-F_f)*AllProperties.loc[i,'Aw']\n",
      "    \n",
      "        # Calculation of Solar gains in each facade in W it is neglected the extraflow of radiation from the surface to the exterior Fr_k*Ir_k = 0 as well as gains in opaque surfaces\n",
      "        Occupancy.loc[hour,'I_sol'] = Occupancy.loc[hour,'Asol']*(Solar.loc[i,'T'+str(hour+1)]/AllProperties.loc[i,'Aw'])#-Fr*Properties.loc[i,'Aw_N']*Properties.loc[i,'Uwindow']*delta_t_er*hr*Rse\n",
      "        \n",
      "        # Determination of Hourly thermal transmission coefficients for Determination of operation air temperatures in W/K\n",
      "        Coefficients = calc_Htr(Occupancy.loc[hour,'Hve'], AllProperties.loc[i,'Htr_is'], AllProperties.loc[i,'Htr_ms'], AllProperties.loc[i,'Htr_w'])\n",
      "        Occupancy.loc[hour,'Htr_1'] = Coefficients[0]\n",
      "        Occupancy.loc[hour,'Htr_2'] = Coefficients[1]\n",
      "        Occupancy.loc[hour,'Htr_3'] = Coefficients[2]\n",
      "  \n",
      "    # Determination of Heat Flows for internal heat sources\n",
      "    Occupancy['I_m'] = (AllProperties.loc[i,'Am']/AllProperties.loc[i,'Atot'])*(Occupancy['I_ia']+Occupancy['I_sol'])\n",
      "    Occupancy['I_st'] = (1-(ALlProperties.loc[i,'Am']/AllProperties.loc[i,'Atot'])-(AllProperties.loc[i,'Htr_w']/(9.1*AllProperties.loc[i,'Atot'])))*(Occupancy['I_ia']+Occupancy['I_sol'])\n",
      "    # Seed for calculation\n",
      "    Occupancy.loc[0,'tm_t'] = Occupancy.loc[0,'te']\n",
      "    for j in range(1,Num_Hours):  \n",
      "    # determination of Temperatures in the nodes for every Hour in C when I_HC,nd is equal to 0\n",
      "        Results = calc_TL(Occupancy.loc[j-1,'tm_t'], Occupancy.loc[j,'te'], Occupancy.loc[j,'tintH_set'],Occupancy.loc[j,'tintC_set'],Properties.loc[i,'Htr_em'],Properties.loc[i,'Htr_ms'], Properties.loc[i,'Htr_is'],Occupancy.loc[j,'Htr_1'], Occupancy.loc[j,'Htr_2'], Occupancy.loc[j,'Htr_3'], Occupancy.loc[j,'I_st'], Occupancy.loc[j,'Hve'], Properties.loc[i,'Htr_w'], Occupancy.loc[j,'I_ia'], Occupancy.loc[j,'I_m'], Properties.loc[i,'Cm'], Properties.loc[i,'Ac'], Properties.loc[i,'IC_max'], Properties.loc[i,'IH_max'])\n",
      "        Occupancy.loc[j,'tm_t'] = Results[0]\n",
      "        Occupancy.loc[j,'tair_ac'] = Results[1]\n",
      "        Occupancy.loc[j,'top_ac'] = Results[2]\n",
      "        Occupancy.loc[j,'IH_nd_ac'] = Results[3]\n",
      "        Occupancy.loc[j,'IC_nd_ac'] = Results[4]\n",
      "    #  RESULTS\n",
      "    Result_Thermalloads = pd.DataFrame(Occupancy,columns = ['IH_nd_ac','IC_nd_ac', 'top_ac','tair_ac','tm_t','te','Hour'])\n",
      "    Result_Int_Ext_loads = pd.DataFrame(Occupancy,columns = ['Hour','I_sol','I_m', 'I_ia','I_st','Hour'])\n",
      "    Result_Coefficients = pd.DataFrame(Occupancy,columns = ['Hve','Htr_1','Htr_2','Htr_3',])\n",
      "    Total = Result_Thermalloads.sum(axis=0)/1000000\n",
      "    AllProperties.loc[i,'Qh'] = Total[0] # total end use heatingload per year in MWh\n",
      "    ALLProperties.loc[i,'Qc'] = -Total[1] # total end use cooling load per year in MWh\n",
      "    # EXPORT LOADS\n",
      "    Result_Thermalloads.to_csv('c:\\ArcGIS\\EDMdata\\DataFinal\\CityQuarter_3\\TL_'+Name+'.csv')\n",
      "    Result_Int_Ext_loads.to_csv('c:\\ArcGIS\\EDMdata\\DataFinal\\CityQuarter_3\\IE_'+Name+'.csv')\n",
      "    Result_Coefficients.to_csv('c:\\ArcGIS\\EDMdata\\DataFinal\\CityQuarter_3\\CE_'+Name+'.csv')\n",
      "    ALLProperties.to_csv('c:\\ArcGIS\\EDMdata\\DataFinal\\CityQuarter_3\\Totals.csv')"
     ],
     "language": "python",
     "metadata": {},
     "outputs": [
      {
       "ename": "NameError",
       "evalue": "name 'Properties' is not defined",
       "output_type": "pyerr",
       "traceback": [
        "\u001b[1;31m---------------------------------------------------------------------------\u001b[0m\n\u001b[1;31mNameError\u001b[0m                                 Traceback (most recent call last)",
        "\u001b[1;32m<ipython-input-121-5072001d1a4e>\u001b[0m in \u001b[0;36m<module>\u001b[1;34m()\u001b[0m\n\u001b[0;32m     30\u001b[0m \u001b[1;33m\u001b[0m\u001b[0m\n\u001b[0;32m     31\u001b[0m     \u001b[1;31m# Determination of Heat Flows for internal heat sources\u001b[0m\u001b[1;33m\u001b[0m\u001b[1;33m\u001b[0m\u001b[0m\n\u001b[1;32m---> 32\u001b[1;33m     \u001b[0mOccupancy\u001b[0m\u001b[1;33m[\u001b[0m\u001b[1;34m'I_m'\u001b[0m\u001b[1;33m]\u001b[0m \u001b[1;33m=\u001b[0m \u001b[1;33m(\u001b[0m\u001b[0mProperties\u001b[0m\u001b[1;33m.\u001b[0m\u001b[0mloc\u001b[0m\u001b[1;33m[\u001b[0m\u001b[0mi\u001b[0m\u001b[1;33m,\u001b[0m\u001b[1;34m'Am'\u001b[0m\u001b[1;33m]\u001b[0m\u001b[1;33m/\u001b[0m\u001b[0mProperties\u001b[0m\u001b[1;33m.\u001b[0m\u001b[0mloc\u001b[0m\u001b[1;33m[\u001b[0m\u001b[0mi\u001b[0m\u001b[1;33m,\u001b[0m\u001b[1;34m'Atot'\u001b[0m\u001b[1;33m]\u001b[0m\u001b[1;33m)\u001b[0m\u001b[1;33m*\u001b[0m\u001b[1;33m(\u001b[0m\u001b[0mOccupancy\u001b[0m\u001b[1;33m[\u001b[0m\u001b[1;34m'I_ia'\u001b[0m\u001b[1;33m]\u001b[0m\u001b[1;33m+\u001b[0m\u001b[0mOccupancy\u001b[0m\u001b[1;33m[\u001b[0m\u001b[1;34m'I_sol'\u001b[0m\u001b[1;33m]\u001b[0m\u001b[1;33m)\u001b[0m\u001b[1;33m\u001b[0m\u001b[0m\n\u001b[0m\u001b[0;32m     33\u001b[0m     \u001b[0mOccupancy\u001b[0m\u001b[1;33m[\u001b[0m\u001b[1;34m'I_st'\u001b[0m\u001b[1;33m]\u001b[0m \u001b[1;33m=\u001b[0m \u001b[1;33m(\u001b[0m\u001b[1;36m1\u001b[0m\u001b[1;33m-\u001b[0m\u001b[1;33m(\u001b[0m\u001b[0mProperties\u001b[0m\u001b[1;33m.\u001b[0m\u001b[0mloc\u001b[0m\u001b[1;33m[\u001b[0m\u001b[0mi\u001b[0m\u001b[1;33m,\u001b[0m\u001b[1;34m'Am'\u001b[0m\u001b[1;33m]\u001b[0m\u001b[1;33m/\u001b[0m\u001b[0mProperties\u001b[0m\u001b[1;33m.\u001b[0m\u001b[0mloc\u001b[0m\u001b[1;33m[\u001b[0m\u001b[0mi\u001b[0m\u001b[1;33m,\u001b[0m\u001b[1;34m'Atot'\u001b[0m\u001b[1;33m]\u001b[0m\u001b[1;33m)\u001b[0m\u001b[1;33m-\u001b[0m\u001b[1;33m(\u001b[0m\u001b[0mProperties\u001b[0m\u001b[1;33m.\u001b[0m\u001b[0mloc\u001b[0m\u001b[1;33m[\u001b[0m\u001b[0mi\u001b[0m\u001b[1;33m,\u001b[0m\u001b[1;34m'Htr_w'\u001b[0m\u001b[1;33m]\u001b[0m\u001b[1;33m/\u001b[0m\u001b[1;33m(\u001b[0m\u001b[1;36m9.1\u001b[0m\u001b[1;33m*\u001b[0m\u001b[0mProperties\u001b[0m\u001b[1;33m.\u001b[0m\u001b[0mloc\u001b[0m\u001b[1;33m[\u001b[0m\u001b[0mi\u001b[0m\u001b[1;33m,\u001b[0m\u001b[1;34m'Atot'\u001b[0m\u001b[1;33m]\u001b[0m\u001b[1;33m)\u001b[0m\u001b[1;33m)\u001b[0m\u001b[1;33m)\u001b[0m\u001b[1;33m*\u001b[0m\u001b[1;33m(\u001b[0m\u001b[0mOccupancy\u001b[0m\u001b[1;33m[\u001b[0m\u001b[1;34m'I_ia'\u001b[0m\u001b[1;33m]\u001b[0m\u001b[1;33m+\u001b[0m\u001b[0mOccupancy\u001b[0m\u001b[1;33m[\u001b[0m\u001b[1;34m'I_sol'\u001b[0m\u001b[1;33m]\u001b[0m\u001b[1;33m)\u001b[0m\u001b[1;33m\u001b[0m\u001b[0m\n\u001b[0;32m     34\u001b[0m     \u001b[1;31m# Seed for calculation\u001b[0m\u001b[1;33m\u001b[0m\u001b[1;33m\u001b[0m\u001b[0m\n",
        "\u001b[1;31mNameError\u001b[0m: name 'Properties' is not defined"
       ]
      }
     ],
     "prompt_number": 121
    },
    {
     "cell_type": "markdown",
     "metadata": {},
     "source": [
      "#VISUALIZATION"
     ]
    },
    {
     "cell_type": "markdown",
     "metadata": {},
     "source": [
      "Import Results to visualize Series of heating and Cooling loads"
     ]
    },
    {
     "cell_type": "code",
     "collapsed": false,
     "input": [
      "Bau_2h = pd.read_csv('c:\\ArcGIS\\EDM\\DataFinal\\TL Status Quo\\TL_Bau 02h.csv')\n",
      "Bau_2h.plot(subplots=True, figsize = (6,20));plt.legend(loc=\"best\");plt.axis([8740,8760,0,25000])"
     ],
     "language": "python",
     "metadata": {},
     "outputs": [
      {
       "output_type": "pyout",
       "prompt_number": 232,
       "text": [
        "[8740, 8760, 0, 25000]"
       ]
      },
      {
       "output_type": "display_data",
       "png": "[encoded data removed]"
      }
     ],
     "prompt_number": 232
    },
    {
     "cell_type": "code",
     "collapsed": false,
     "input": [
      "Bau_02 = pd.read_csv('c:\\ArcGIS\\EDM\\DataFinal\\TL Status Quo\\TL_Bau 02.csv')\n",
      "Bau_02.plot(subplots=True, figsize = (6,20));plt.legend(loc=\"best\");plt.axis([8740,8760,0,25000])"
     ],
     "language": "python",
     "metadata": {},
     "outputs": [
      {
       "output_type": "pyout",
       "prompt_number": 231,
       "text": [
        "[8740, 8760, 0, 25000]"
       ]
      },
      {
       "output_type": "display_data",
       "png": "[encoded data removed]"
      }
     ],
     "prompt_number": 231
    },
    {
     "cell_type": "code",
     "collapsed": false,
     "input": [
      "Properties['Qh']"
     ],
     "language": "python",
     "metadata": {},
     "outputs": [
      {
       "output_type": "pyout",
       "prompt_number": 228,
       "text": [
        "0     174.415395\n",
        "1     301.423565\n",
        "2       0.000000\n",
        "3       0.000000\n",
        "4       0.000000\n",
        "5       0.000000\n",
        "6       0.000000\n",
        "7       0.000000\n",
        "8       0.000000\n",
        "9       0.000000\n",
        "10      0.000000\n",
        "11      0.000000\n",
        "12      0.000000\n",
        "13      0.000000\n",
        "14      0.000000\n",
        "15      0.000000\n",
        "16      0.000000\n",
        "17      0.000000\n",
        "18      0.000000\n",
        "19      0.000000\n",
        "20      0.000000\n",
        "21      0.000000\n",
        "22      0.000000\n",
        "23      0.000000\n",
        "Name: Qh, dtype: float64"
       ]
      }
     ],
     "prompt_number": 228
    },
    {
     "cell_type": "code",
     "collapsed": false,
     "input": [],
     "language": "python",
     "metadata": {},
     "outputs": []
    }
   ],
   "metadata": {}
  }
 ]
}
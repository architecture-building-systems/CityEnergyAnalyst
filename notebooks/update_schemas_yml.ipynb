{
 "cells": [
  {
   "cell_type": "markdown",
   "metadata": {},
   "source": "# update schemas.yml with output from trace-inputlocator script"
  },
  {
   "cell_type": "code",
   "execution_count": 59,
   "metadata": {},
   "outputs": [],
   "source": "import yaml\nimport os\nimport cea.inputlocator"
  },
  {
   "cell_type": "code",
   "execution_count": 60,
   "metadata": {},
   "outputs": [],
   "source": "# some constants\nTRACE_OUTPUT_YML = r\"C:\\Users\\darthoma\\Documents\\CityEnergyAnalyst\\projects\\reference-case-open\\baseline\\outputs\\trace_inputlocator.output.yml\"\nSCENARIO = r\"C:\\Users\\darthoma\\Documents\\CityEnergyAnalyst\\projects\\reference-case-open\\baseline\"\nSCHEMAS_YML = r\"C:\\Users\\darthoma\\Documents\\GitHub\\CityEnergyAnalyst\\cea\\schemas.yml\""
  },
  {
   "cell_type": "markdown",
   "metadata": {},
   "source": "### clean up trace output"
  },
  {
   "cell_type": "code",
   "execution_count": 61,
   "metadata": {},
   "outputs": [],
   "source": "with open(TRACE_OUTPUT_YML, 'r') as trace_output_fp:\n    trace_output = yaml.load(trace_output_fp)"
  },
  {
   "cell_type": "code",
   "execution_count": 62,
   "metadata": {},
   "outputs": [
    {
     "name": "stdout",
     "output_type": "stream",
     "text": "\n"
    }
   ],
   "source": "# this tests whether we have any non-scenario file_paths - it seems we don't. this is good!\nprint '\\n'.join(k for k in trace_output.keys() if not os.path.commonprefix([SCENARIO, trace_output[key][\"file_path\"]]) == SCENARIO)"
  },
  {
   "cell_type": "code",
   "execution_count": 63,
   "metadata": {},
   "outputs": [],
   "source": "# convert all file paths to relative and replace backslashes with forward slashes\nfor key in trace_output:\n    file_path = trace_output[key][\"file_path\"]\n    file_path = os.path.normpath(file_path)\n    file_path = os.path.relpath(file_path, SCENARIO)\n    file_path = file_path.replace(\"\\\\\", \"/\")\n    file_path = file_path.replace(\"B01\", \"B001\")\n    trace_output[key][\"file_path\"] = file_path"
  },
  {
   "cell_type": "code",
   "execution_count": 64,
   "metadata": {},
   "outputs": [],
   "source": "# remove \"description\" filed (not used in schemas.yml)\nfor key in trace_output:\n    if \"description\" in trace_output[key]:\n        del trace_output[key][\"description\"]"
  },
  {
   "cell_type": "markdown",
   "metadata": {},
   "source": "###  make sure all methods in schemas.yml are present in InputLocator"
  },
  {
   "cell_type": "code",
   "execution_count": 65,
   "metadata": {},
   "outputs": [],
   "source": "with open(SCHEMAS_YML, 'r') as schemas_fp:\n    schemas = yaml.load(schemas_fp)"
  },
  {
   "cell_type": "code",
   "execution_count": 66,
   "metadata": {},
   "outputs": [],
   "source": "locator = cea.inputlocator.InputLocator(SCENARIO)"
  },
  {
   "cell_type": "code",
   "execution_count": 67,
   "metadata": {},
   "outputs": [],
   "source": "# the output here should be empty!\nfor key in schemas:\n    if not hasattr(locator, key):\n        print \"locator not found:\", key"
  },
  {
   "cell_type": "markdown",
   "metadata": {},
   "source": "### i'm curious: what methods are not in the trace-inputlocator output?"
  },
  {
   "cell_type": "code",
   "execution_count": 68,
   "metadata": {},
   "outputs": [],
   "source": "# expect an empty list...\nfor key in schemas:\n    if not key in trace_output:\n        print \"missing key in trace_output:\", key"
  },
  {
   "cell_type": "markdown",
   "metadata": {},
   "source": "### assuming we're not missing any methods, replace the schemas.yml file "
  },
  {
   "cell_type": "code",
   "execution_count": 69,
   "metadata": {},
   "outputs": [],
   "source": "with open(SCHEMAS_YML, 'w') as schemas_fp:\n    yaml.dump(trace_output, schemas_fp)"
  },
  {
   "cell_type": "code",
   "execution_count": null,
   "metadata": {},
   "outputs": [],
   "source": ""
  }
 ],
 "metadata": {
  "kernelspec": {
   "display_name": "Python 2",
   "language": "python",
   "name": "python2"
  },
  "language_info": {
   "codemirror_mode": {
    "name": "ipython",
    "version": 2
   },
   "file_extension": ".py",
   "mimetype": "text/x-python",
   "name": "python",
   "nbconvert_exporter": "python",
   "pygments_lexer": "ipython2",
   "version": "2.7.15"
  }
 },
 "nbformat": 4,
 "nbformat_minor": 4
}

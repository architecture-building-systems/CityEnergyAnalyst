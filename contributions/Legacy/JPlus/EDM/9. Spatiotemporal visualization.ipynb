{
 "metadata": {
  "name": "",
  "signature": "sha256:40d8a702c1ec4e8e6b63af3ce2adb7f1167c41725b02e427cf3473e7bb63e488"
 },
 "nbformat": 3,
 "nbformat_minor": 0,
 "worksheets": [
  {
   "cells": [
    {
     "cell_type": "markdown",
     "metadata": {},
     "source": [
      "#Dynamic visualization\n",
      "\n",
      "This subroutine intends to create a dynamic visualization hour per hour of every cluster in the area\n",
      "The main enduse of energy considered for this analysis are:\n",
      "\n",
      "- Space heating: During winter at the 1st of January.\n",
      "-- temperature of supply and return\n",
      "- Space cooling: Suring summer at 1st of July.\n",
      "-- temperature of supply and return\n",
      "- Hot water: During Summer at 1st of July and ruing winter at the 1st of January.\n",
      "- Electricity: During summer at 1st of July.\n",
      "\n",
      "\n"
     ]
    },
    {
     "cell_type": "code",
     "collapsed": false,
     "input": [
      "import pandas as pd\n",
      "import os, sys\n",
      "sys.path.append(\"C:\\console\\sandbox\")\n",
      "from pyGDsandbox.dataIO import df2dbf, dbf2df \n",
      "import matplotlib.pyplot as plt\n",
      "import arcpy\n",
      "arcpy.env.overwriteOutput = True\n",
      "arcpy.CheckOutExtension(\"spatial\")\n",
      "arcpy.CheckOutExtension(\"3D\")"
     ],
     "language": "python",
     "metadata": {},
     "outputs": [
      {
       "metadata": {},
       "output_type": "pyout",
       "prompt_number": 26,
       "text": [
        "u'CheckedOut'"
       ]
      }
     ],
     "prompt_number": 26
    },
    {
     "cell_type": "markdown",
     "metadata": {},
     "source": [
      "###Variables"
     ]
    },
    {
     "cell_type": "code",
     "collapsed": false,
     "input": [
      "Scenario = 'StatusQuo'\n",
      "Database = r'C:\\ArcGIS\\Animations.gdb'\n",
      "Animation = r'C:\\ArcGIS\\TimeAnimation'"
     ],
     "language": "python",
     "metadata": {},
     "outputs": [],
     "prompt_number": 27
    },
    {
     "cell_type": "markdown",
     "metadata": {},
     "source": [
      "Creation of appended files for a week in summer and a week in winter"
     ]
    },
    {
     "cell_type": "code",
     "collapsed": false,
     "input": [
      "for r in range(4,5):\n",
      "    date = pd.DataFrame(pd.date_range('1/1/2010', periods=8760, freq='H'))\n",
      "    CQ_name = 'CityQuarter_'+str(r)\n",
      "    locationAna = r'C:\\ArcGIS\\EDMdata\\DataFinal\\DEDM'+'\\\\'+Scenario+'\\\\'+CQ_name+'\\\\'\n",
      "    locationFinal = r'C:\\ArcGIS\\EDMdata\\DataFinal\\EDM'+'\\\\'+Scenario+'\\\\'+CQ_name+'\\\\'    \n",
      "    Buildings = pd.read_csv(locationAna+'Total.csv')\n",
      "    counter = Buildings.Name.count()\n",
      "    # table with dynamic data already CONSOLIDATED\n",
      "    Table = pd.read_csv(locationFinal+Buildings.loc[0,'Name']+'.csv')\n",
      "    Table['DATE'] = date\n",
      "    # Selected weeks for the year of analysis\n",
      "    Weekwinter = Table[72:240] #8th January\n",
      "    Weeksummer = Table[4440:4608] #1st august\n",
      "    for row in range(1,counter):\n",
      "        name = Buildings.loc[row,'Name']\n",
      "        read0 = pd.read_csv(locationFinal+name+'.csv')\n",
      "        read0['DATE'] = date\n",
      "        readwinter = read0[72:240]\n",
      "        readsummer = read0[4440:4608]\n",
      "        Weekwinter = Weekwinter.append(readwinter,ignore_index=True)\n",
      "        Weeksummer = Weeksummer.append(readsummer,ignore_index=True)\n",
      "    \n",
      "    #na values form building without load    \n",
      "    Weekwinter.fillna(value=0,inplace=True) \n",
      "    Weeksummer.fillna(value=0,inplace=True) \n",
      "    \n",
      "    Weekwinter[['DATE','NAME','Qhsf','Qwwf','tsh','trh']].to_csv(locationFinal+'Weekwinter.csv',index=False)\n",
      "    Weeksummer[['DATE','NAME','Qcsf','Qwwf','tsc','trc']].to_csv(locationFinal+'Weeksummer.csv',index=False)   \n",
      "    \n",
      "    # put the table in the database to make the querry\n",
      "    Namesummer = 'CQ'+str(r)+'SU'\n",
      "    arcpy.TableToTable_conversion(locationFinal+'Weeksummer.csv',Database,Namesummer)\n",
      "    arcpy.ConvertTimeField_management(Database+'\\\\'+Namesummer,\"DATE\",\"'Not Used'\",\"TIME\",\"TEXT\",\"yyyy-MM-dd HH:mm:ss\")\n",
      "\n",
      "    Namewinter = 'CQ'+str(r)+'WIN'\n",
      "    arcpy.TableToTable_conversion(locationFinal+'Weekwinter.csv',Database,Namewinter)\n",
      "    arcpy.ConvertTimeField_management(Database+'\\\\'+Namewinter,\"DATE\",\"'Not Used'\",\"TIME\",\"TEXT\",\"yyyy-MM-dd HH:mm:ss\")\n",
      "   \n",
      "    # This part creates the time series and stores it in a folder of each one of the required fields ready to be visualized\n",
      "    Season = [Namesummer,Namewinter]\n",
      "    ListVarSummer = ['Qcsf','Qwwf','tsc','trc']\n",
      "    ListVarwinter = ['Qhsf','Qwwf','tsh','trh']\n",
      "    for N in Season:\n",
      "        if N == Namesummer:\n",
      "            List = ListVarSummer\n",
      "            var2 = '_SU'\n",
      "        else:\n",
      "            List = ListVarwinter\n",
      "            var2 = '_WIN'\n",
      "        for var in List:\n",
      "            fieldList = [[N+'.NAME','NAME'],[N+'.TIME','TIME'],[N+'.'+var,var],\n",
      "                         [CQ_name+'.Name','Name'],[CQ_name+'.Shape','Shape']]\n",
      "            whereClause = CQ_name+'.Name = '+N+'.NAME'\n",
      "            tableList = Database+'\\\\'+N\n",
      "            layerCQ = CQ_name+'.lyr'\n",
      "            arcpy.MakeFeatureLayer_management(Database+'\\\\'+CQ_name,layerCQ)\n",
      "            \n",
      "            # make query of table\n",
      "            arcpy.MakeQueryTable_management([tableList,layerCQ],\"QueryTable\",\"USE_KEY_FIELDS\",\"#\",fieldList,whereClause)\n",
      "            Layer = \"QueryTable\"\n",
      "            \n",
      "            # set temporal directories\n",
      "            if not os.path.exists(Animation+'\\\\'+CQ_name):\n",
      "                os.makedirs(Animation+'\\\\'+CQ_name)\n",
      "            arcpy.FeatureClassToFeatureClass_conversion(Layer,Animation+'\\\\'+CQ_name,var+var2)"
     ],
     "language": "python",
     "metadata": {},
     "outputs": [],
     "prompt_number": 29
    },
    {
     "cell_type": "raw",
     "metadata": {},
     "source": [
      "The rest is done in ArcGIS manually. Visualization!"
     ]
    }
   ],
   "metadata": {}
  }
 ]
}
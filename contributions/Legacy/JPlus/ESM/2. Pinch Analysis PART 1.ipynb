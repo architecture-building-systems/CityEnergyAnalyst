{
 "metadata": {
  "name": "",
  "signature": "sha256:65f951c216cf7d6ce4224212fecf0c287f4033a9a9fbc3c454549d826a6cdb83"
 },
 "nbformat": 3,
 "nbformat_minor": 0,
 "worksheets": [
  {
   "cells": [
    {
     "cell_type": "markdown",
     "metadata": {},
     "source": [
      "##2. Pinch Anlysis part 1.\n",
      "\n",
      "This routine creates composite courves for all the hot and cold streams in every zone in an hourly basis. For starting. we do this with data for the Stauts Quo zone of study"
     ]
    },
    {
     "cell_type": "code",
     "collapsed": false,
     "input": [
      "import pandas as pd\n",
      "import numpy as np"
     ],
     "language": "python",
     "metadata": {},
     "outputs": [],
     "prompt_number": 1
    },
    {
     "cell_type": "code",
     "collapsed": false,
     "input": [
      "#list of inputs\n",
      "Zone_of_study = 3\n",
      "Scenarios = ['SQ']#,'BAU','UC','CAMP','HEB'] #List of scenarios to evaluate the potentials\n",
      "location = r'C:\\ArcGIS\\EDMdata\\DataFinal\\EDM'"
     ],
     "language": "python",
     "metadata": {},
     "outputs": [],
     "prompt_number": 2
    },
    {
     "cell_type": "markdown",
     "metadata": {},
     "source": [
      "###Functions"
     ]
    },
    {
     "cell_type": "code",
     "collapsed": false,
     "input": [
      "#this function calculates the value of the CP positive hot streams negative cold streams\n",
      "def calc_CP(CP,typeID):\n",
      "    if typeID == 'HS':\n",
      "        return abs(CP)\n",
      "    else:\n",
      "        return -abs(CP)"
     ],
     "language": "python",
     "metadata": {},
     "outputs": [],
     "prompt_number": 3
    },
    {
     "cell_type": "code",
     "collapsed": false,
     "input": [
      "def Shifted(x):\n",
      "    if x[0] == 'HS':\n",
      "        result = x[1]-(dTmin/2)\n",
      "    else:\n",
      "        result = x[1]+(dTmin/2)\n",
      "    return result"
     ],
     "language": "python",
     "metadata": {},
     "outputs": [],
     "prompt_number": 4
    },
    {
     "cell_type": "code",
     "collapsed": false,
     "input": [
      "def calc_problemtable(hour,dataraw):\n",
      "    streams = range(7)   \n",
      "    #import streams and rename\n",
      "    streams[0] = dataraw.loc[hour,['NAME','tshs','trhs','mcphs']]\n",
      "    streams[0]['serviceID'] = 'hs'\n",
      "    streams[1] = dataraw.loc[hour,['NAME','tsww','trww','mcpww']]\n",
      "    streams[1]['serviceID'] = 'ww'\n",
      "    streams[2] = dataraw.loc[hour,['NAME','tshp','trhp','mcphp']]\n",
      "    streams[2]['serviceID'] = 'hp'\n",
      "    streams[3] = dataraw.loc[hour,['NAME','tscp','trcp','mcpcp']]\n",
      "    streams[3]['serviceID'] = 'cp'\n",
      "    streams[4] = dataraw.loc[hour,['NAME','tscs','trcs','mcpcs']]\n",
      "    streams[4]['serviceID'] = 'cs'\n",
      "    streams[5] = dataraw.loc[hour,['NAME','tsice','trice','mcpice']]\n",
      "    streams[5]['serviceID'] = 'ice'\n",
      "    streams[6] = dataraw.loc[hour,['NAME','tsdata','trdata','mcpdata']]\n",
      "    streams[6]['serviceID'] = 'data'\n",
      "    for stream in range(3):\n",
      "        streams[stream]['typeID'] = 'CS'\n",
      "        streams[stream]['hour'] = hour\n",
      "    for stream in range(3,7):\n",
      "        streams[stream]['typeID'] = 'HS' \n",
      "        streams[stream]['hour'] = hour\n",
      "    for stream in streams:\n",
      "        stream.index = ['building','tt','ti','CP','serviceID','typeID','hour']\n",
      "    \n",
      "    #create clean data of streams\n",
      "    data = pd.DataFrame(streams,index =range(7))\n",
      "    data = data[data.CP !=0] # drop values without flow or CP values\n",
      "    data['ttS'] = data[['typeID','tt']].apply(Shifted,axis=1) # add shifted temperatures\n",
      "    data['tiS'] = data[['typeID','ti']].apply(Shifted,axis=1)\n",
      "    data.reset_index(inplace=True,drop=True)\n",
      "    \n",
      "    \n",
      "    #unmelt table and organize all the shifted temperatures from high to low. and restart index\n",
      "    table = pd.melt(data,id_vars =['building','CP','typeID','serviceID','hour','tt','ti'],value_name='temp')\n",
      "    table = table[['temp','hour','building','serviceID']]\n",
      "    table.sort(column='temp',ascending = False, inplace=True)\n",
      "    table.reset_index(inplace=True,drop=True)\n",
      "    \n",
      "    # here the table will be the final solution table\n",
      "    temps = len(table)\n",
      "    streams2 = len(data.CP)\n",
      "    for row in range(temps-1):\n",
      "        CPacum = 0\n",
      "        table.loc[row,'int'] = row + 1\n",
      "        table.loc[row,'i'] = table.loc[row,'temp']\n",
      "        table.loc[row,'i+1'] = table.loc[row+1,'temp']\n",
      "        table.loc[row,'dT'] = table.loc[row,'i'] - table.loc[row,'i+1']\n",
      "        for stream in range(streams2):\n",
      "            i = min(data.loc[stream,'tiS'],data.loc[stream,'ttS'])\n",
      "            i1 = max(data.loc[stream,'tiS'],data.loc[stream,'ttS'])\n",
      "            if  i <= table.loc[row,'i'] <= i1 and i <= table.loc[row,'i+1'] <= i1:\n",
      "                CPacum = CPacum + calc_CP(data.loc[stream,'CP'],data.loc[stream,'typeID'])\n",
      "        table.loc[row,'CPnet'] = CPacum\n",
      "    for row in range(temps):\n",
      "        table.loc[row,'dH'] = table.loc[row,'dT']*table.loc[row,'CPnet']\n",
      "        if row == 0:\n",
      "            table.loc[row,'dH_a'] = 0\n",
      "        else:\n",
      "            table.loc[row,'dH_a'] = table.loc[row-1,'dH_a'] + table.loc[row-1,'dH']\n",
      "\n",
      "    Qcmin = table['dH_a'][1:].min()\n",
      "    if Qcmin > 0:\n",
      "       Qcmin = 0\n",
      "    for row in range(temps):\n",
      "        if row == 0:\n",
      "            table.loc[row,'duty'] = abs(Qcmin)\n",
      "            table.loc[row,'duty'] = round(table.loc[row,'duty'],2)\n",
      "        else:\n",
      "            table.loc[row,'duty'] = table.loc[row-1,'duty'] + table.loc[row-1,'dH']\n",
      "            table.loc[row,'duty'] = round(table.loc[row,'duty'],2)\n",
      "   \n",
      "    return table"
     ],
     "language": "python",
     "metadata": {},
     "outputs": [],
     "prompt_number": 5
    },
    {
     "cell_type": "code",
     "collapsed": false,
     "input": [
      "#Determine the Delta min\n",
      "dTmin = 5\n",
      "#import all stream temperatures and create a table\n",
      "zone = \"Zone_3\"\n",
      "scenario = \"SQ\"\n",
      "totalszone = pd.read_csv(location+'\\\\'+scenario+'\\\\'+zone+'\\\\'+'Total.csv') #import list with totals of the zone\n",
      "buildings = totalszone.Name.count()\n",
      "for row in range(9,10): #buildings\n",
      "    for hour in range(0,2): #8760\n",
      "        name = totalszone.loc[row,'Name']\n",
      "        dataraw = pd.read_csv(location+'\\\\'+scenario+'\\\\'+zone+'\\\\'+name+'.csv')\n",
      "        problemtable = calc_problemtable(hour,dataraw)\n",
      "        \n",
      "        # create problem table\n",
      "        if hour == 0:\n",
      "           problemtableyear = problemtable\n",
      "        else:\n",
      "           problemtableyear = problemtableyear.append(problemtable)"
     ],
     "language": "python",
     "metadata": {},
     "outputs": [
      {
       "output_type": "stream",
       "stream": "stderr",
       "text": [
        "C:\\Python27\\ArcGISx6410.2\\lib\\site-packages\\pandas-0.13.1-py2.7-win-amd64.egg\\pandas\\core\\frame.py:2533: FutureWarning: column is deprecated, use columns\n",
        "  warnings.warn(\"column is deprecated, use columns\", FutureWarning)\n"
       ]
      }
     ],
     "prompt_number": 7
    },
    {
     "cell_type": "code",
     "collapsed": false,
     "input": [
      "from mpl_toolkits.mplot3d import Axes3D\n",
      "import matplotlib\n",
      "import matplotlib.pyplot as plt\n",
      "import scipy\n",
      "\n",
      "fig = plt.figure()\n",
      "ax = Axes3D(fig)\n",
      "\n",
      "x = problemtableyear[['hour']]\n",
      "y = problemtableyear[['temp']]\n",
      "z = problemtableyear[['duty']]\n",
      "[x,y] = scipy.meshgrid(x,y)\n",
      "\n",
      "ax.plot_surface(x,y,z)\n",
      "plt.show()"
     ],
     "language": "python",
     "metadata": {},
     "outputs": []
    },
    {
     "cell_type": "code",
     "collapsed": false,
     "input": [
      "hour"
     ],
     "language": "python",
     "metadata": {},
     "outputs": [
      {
       "metadata": {},
       "output_type": "pyout",
       "prompt_number": 48,
       "text": [
        "1540"
       ]
      }
     ],
     "prompt_number": 48
    },
    {
     "cell_type": "code",
     "collapsed": false,
     "input": [],
     "language": "python",
     "metadata": {},
     "outputs": []
    }
   ],
   "metadata": {}
  }
 ]
}
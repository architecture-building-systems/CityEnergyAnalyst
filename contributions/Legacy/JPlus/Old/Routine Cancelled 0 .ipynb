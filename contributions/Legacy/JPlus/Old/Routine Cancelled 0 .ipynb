{
 "metadata": {
  "name": "Routine Cancelled 0 "
 },
 "nbformat": 3,
 "nbformat_minor": 0,
 "worksheets": [
  {
   "cells": [
    {
     "cell_type": "markdown",
     "metadata": {},
     "source": [
      "\n",
      "#This routine is not use anymore and it is conserved just in case\n",
      "\n",
      "\n",
      "#2. BUILDINGS PROPERTIES\n",
      "##Introduction\n",
      "\n",
      "This routine estimates geometrical properties of every Building of the zone/CityQuarter/Cluster analyzed necessary for the calculation of the Demand.\n",
      "It also estimates a factor F describind the amount of area avialable towards the exterior in every direction\n",
      "\n",
      "###The Input\n",
      "\n",
      "From 0. City Quarters\n",
      "\n",
      "- CQ = a .shp (multi-polygon) file containing the simplified buildings of the selected City quarter/Zone/Cluster to run the analysis and obtained from the Routine Number 0. CQ.\n",
      "\n",
      "From 1. Radiation Model\n",
      "\n",
      "\n",
      "###The Output\n",
      "\n",
      "- Fvalues: a table containing a factor (0-1) for every direction North, West, South, East, Describing the amount of vertical areas in Buildingsd facing to the exterior. This value is necessary to identify those buildings sharing common boundaries for whom it is assumed an adiabatic boundary among themselves.\n",
      "-.....\n",
      "\n"
     ]
    },
    {
     "cell_type": "markdown",
     "metadata": {},
     "source": [
      "##MODULES"
     ]
    },
    {
     "cell_type": "code",
     "collapsed": false,
     "input": [
      "import sys, os\n",
      "sys.path.append(\"C:\\Users\\Jimeno Fonseca\\Documents\\Console\\sandbox\")"
     ],
     "language": "python",
     "metadata": {},
     "outputs": [],
     "prompt_number": 1
    },
    {
     "cell_type": "code",
     "collapsed": false,
     "input": [
      "import arcpy\n",
      "from arcpy.sa import *\n",
      "import pandas as pd\n",
      "import numpy\n",
      "arcpy.env.workspace = 'c:\\ArcGIS\\EMD.gdb'\n",
      "arcpy.env.overwriteOutput = True\n",
      "arcpy.CheckOutExtension(\"spatial\")\n",
      "arcpy.CheckOutExtension(\"3D\")"
     ],
     "language": "python",
     "metadata": {},
     "outputs": [
      {
       "output_type": "pyout",
       "prompt_number": 2,
       "text": [
        "u'CheckedOut'"
       ]
      }
     ],
     "prompt_number": 2
    },
    {
     "cell_type": "code",
     "collapsed": false,
     "input": [
      "from pyGDsandbox.dataIO import df2dbf, dbf2df "
     ],
     "language": "python",
     "metadata": {},
     "outputs": [],
     "prompt_number": 3
    },
    {
     "cell_type": "markdown",
     "metadata": {},
     "source": [
      "##VARIABLES"
     ]
    },
    {
     "cell_type": "code",
     "collapsed": false,
     "input": [
      "CQ = r'c:\\ArcGIS\\EDM.gdb\\Communities\\CityQuarter_3'\n",
      "OutFvalues =  r'c:\\ArcGIS\\temp\\Fvalues.csv'# location of the table with all the F values. 0 obstructed, 1 no obstructed"
     ],
     "language": "python",
     "metadata": {},
     "outputs": [],
     "prompt_number": 48
    },
    {
     "cell_type": "code",
     "collapsed": false,
     "input": [
      "temporal1 = r'c:\\ArcGIS\\temp'"
     ],
     "language": "python",
     "metadata": {},
     "outputs": [],
     "prompt_number": 5
    },
    {
     "cell_type": "markdown",
     "metadata": {},
     "source": [
      "##FUNCTIONS"
     ]
    },
    {
     "cell_type": "markdown",
     "metadata": {},
     "source": [
      "###Direction of buildings"
     ]
    },
    {
     "cell_type": "code",
     "collapsed": false,
     "input": [
      "def Calc_Location(Xsource,Ysource, Xneighbor, Yneighbor):\n",
      "    Z = abs(Yneighbor-Ysource)/abs(Xneighbor-Xsource)\n",
      "    angle = numpy.rad2deg(numpy.arctan(Z))\n",
      "    if Yneighbor > Ysource and Xneighbor > Xsource and angle > 45:\n",
      "        result = 'N'\n",
      "    elif Yneighbor > Ysource and Xneighbor > Xsource and angle < 45:\n",
      "        result = 'E'\n",
      "    elif Yneighbor > Ysource and Xneighbor < Xsource and angle < 45:\n",
      "        result =  'W'\n",
      "    elif Yneighbor > Ysource and Xneighbor < Xsource and angle > 45:\n",
      "        result = 'N'\n",
      "    elif Yneighbor < Ysource and Xneighbor < Xsource and angle < 45:\n",
      "        result =  'W'\n",
      "    elif Yneighbor < Ysource and Xneighbor < Xsource and angle > 45:\n",
      "        result =  'S'\n",
      "    elif Yneighbor < Ysource and Xneighbor > Xsource and angle < 45:\n",
      "        result =  'E'\n",
      "    elif Yneighbor < Ysource and Xneighbor > Xsource and angle > 45:\n",
      "        result =  'S'\n",
      "    return result"
     ],
     "language": "python",
     "metadata": {},
     "outputs": [],
     "prompt_number": 6
    },
    {
     "cell_type": "markdown",
     "metadata": {},
     "source": [
      "###Ffactor Value"
     ]
    },
    {
     "cell_type": "code",
     "collapsed": false,
     "input": [
      "def Calc_HorizonFactor(hs,hn):\n",
      "    if hs <= hn:\n",
      "        return 0\n",
      "    elif hs > hn and hs-1<=hn: #just to say that if the building is just a little bit higher still it is considered to be totally covered, in order to consider discrepancies while measuring heights.\n",
      "        return 0\n",
      "    else:\n",
      "        return (hs-hn)/hs"
     ],
     "language": "python",
     "metadata": {},
     "outputs": [],
     "prompt_number": 7
    },
    {
     "cell_type": "markdown",
     "metadata": {},
     "source": [
      "##PROCESSES"
     ]
    },
    {
     "cell_type": "markdown",
     "metadata": {},
     "source": [
      "### 1. Definition Buildings with common boundaries"
     ]
    },
    {
     "cell_type": "markdown",
     "metadata": {},
     "source": [
      "1.1.Create points out of buildings and calculate coordinates"
     ]
    },
    {
     "cell_type": "code",
     "collapsed": false,
     "input": [
      "outFeatureClass = r'c:\\ArcGIS\\EDM.gdb\\temp\\CQPoints'\n",
      "arcpy.FeatureToPoint_management(CQ, outFeatureClass, \"INSIDE\")\n",
      "arcpy.AddXY_management(outFeatureClass)"
     ],
     "language": "python",
     "metadata": {},
     "outputs": [
      {
       "output_type": "pyout",
       "prompt_number": 8,
       "text": [
        "<Result 'c:\\\\ArcGIS\\\\EDM.gdb\\\\temp\\\\CQPoints'>"
       ]
      }
     ],
     "prompt_number": 8
    },
    {
     "cell_type": "markdown",
     "metadata": {},
     "source": [
      "1.2.Create Table with information about buildings"
     ]
    },
    {
     "cell_type": "code",
     "collapsed": false,
     "input": [
      "OutTable = 'Buildings.dbf'\n",
      "arcpy.TableToTable_conversion(outFeatureClass, temporal1, OutTable)\n",
      "Buildings = dbf2df(temporal1+'\\\\'+OutTable, cols={'Name','POINT_X','POINT_Y','ORIG_FID','height'})"
     ],
     "language": "python",
     "metadata": {},
     "outputs": [],
     "prompt_number": 54
    },
    {
     "cell_type": "code",
     "collapsed": false,
     "input": [
      "Output = temporal1+'\\\\Boundaries.dbf'\n",
      "arcpy.PolygonNeighbors_analysis(CQ,Output,'OBJECTID')\n",
      "Boundaries = dbf2df(Output)"
     ],
     "language": "python",
     "metadata": {},
     "outputs": [],
     "prompt_number": 55
    },
    {
     "cell_type": "markdown",
     "metadata": {},
     "source": [
      "1.3.Create Join to obtain coordinates of the building studied (source) and their neighbors (neghbor) (those with whom it shares boundaries)"
     ]
    },
    {
     "cell_type": "code",
     "collapsed": false,
     "input": [
      "Datamerge = pd.merge(Boundaries,Buildings,left_on='src_OBJECT', right_on='ORIG_FID')\n",
      "Coordinates = pd.merge(Datamerge,Buildings,left_on='nbr_OBJECT', right_on='ORIG_FID')\n",
      "Coordinates.rename(columns={'POINT_X_x':'Xsource','POINT_Y_x':'Ysource','POINT_X_y':'Xneighbor','POINT_Y_y':'Yneighbor','height_x':'height_source','height_y':'height_neighbor','Name_x':'Name'},inplace=True)"
     ],
     "language": "python",
     "metadata": {},
     "outputs": [],
     "prompt_number": 56
    },
    {
     "cell_type": "code",
     "collapsed": false,
     "input": [
      "Coordinates.head()"
     ],
     "language": "python",
     "metadata": {},
     "outputs": [
      {
       "html": [
        "<pre>\n",
        "&ltclass 'pandas.core.frame.DataFrame'&gt\n",
        "Int64Index: 5 entries, 0 to 4\n",
        "Data columns (total 14 columns):\n",
        "LENGTH             5  non-null values\n",
        "NODE_COUNT         5  non-null values\n",
        "nbr_OBJECT         5  non-null values\n",
        "src_OBJECT         5  non-null values\n",
        "Name               5  non-null values\n",
        "ORIG_FID_x         5  non-null values\n",
        "Xsource            5  non-null values\n",
        "Ysource            5  non-null values\n",
        "height_source      5  non-null values\n",
        "Name_y             5  non-null values\n",
        "ORIG_FID_y         5  non-null values\n",
        "Xneighbor          5  non-null values\n",
        "Yneighbor          5  non-null values\n",
        "height_neighbor    5  non-null values\n",
        "dtypes: float64(7), int64(5), object(2)\n",
        "</pre>"
       ],
       "output_type": "pyout",
       "prompt_number": 57,
       "text": [
        "      LENGTH  NODE_COUNT  nbr_OBJECT  src_OBJECT     Name  ORIG_FID_x  \\\n",
        "0   0.000000           2          21           5   Bau 17           5   \n",
        "1  66.735612           0          23           8   Bau 06           8   \n",
        "2  28.336565           0          22           9   Bau 02           9   \n",
        "3   0.000000           2           5          21  Bau 17h          21   \n",
        "4  28.336565           0           9          22  Bau 02h          22   \n",
        "\n",
        "       Xsource      Ysource  height_source   Name_y  ORIG_FID_y    Xneighbor  \\\n",
        "0  681578.2498  225923.4699            7.8  Bau 17h          21  681531.8176   \n",
        "1  681398.6169  225650.6487            5.0  Bau 06h          23  681444.0431   \n",
        "2  681586.8999  225591.7916            3.9  Bau 02h          22  681582.6801   \n",
        "3  681531.8176  225903.9656           23.4   Bau 17           5  681578.2498   \n",
        "4  681582.6801  225540.4985           19.5   Bau 02           9  681586.8999   \n",
        "\n",
        "     Yneighbor  height_neighbor  \n",
        "0  225903.9656             23.4  \n",
        "1  225680.4136             15.6  \n",
        "2  225540.4985             19.5  \n",
        "3  225923.4699              7.8  \n",
        "4  225591.7916              3.9  "
       ]
      }
     ],
     "prompt_number": 57
    },
    {
     "cell_type": "markdown",
     "metadata": {},
     "source": [
      "1.4. Create labels in dataframes to iterate"
     ]
    },
    {
     "cell_type": "code",
     "collapsed": false,
     "input": [
      "Columns = ['f_N','f_W','f_S','f_E']\n",
      "for Label in Columns:\n",
      "    Coordinates[Label] = 1"
     ],
     "language": "python",
     "metadata": {},
     "outputs": [],
     "prompt_number": 58
    },
    {
     "cell_type": "markdown",
     "metadata": {},
     "source": [
      "1.5 Find values per each direction"
     ]
    },
    {
     "cell_type": "code",
     "collapsed": false,
     "input": [
      "directions = ['N','E','S','W']\n",
      "Num_Matches = Boundaries.LENGTH.count()\n",
      "for Match in range(Num_Matches):\n",
      "    for direction in directions:\n",
      "        Result = Calc_Location(Coordinates.loc[Match,'Xsource'],Coordinates.loc[Match,'Ysource'], Coordinates.loc[Match,'Xneighbor'], Coordinates.loc[Match,'Yneighbor'])\n",
      "        if Result == direction:\n",
      "            Coordinates.loc[Match, 'f_'+direction] = Calc_HorizonFactor(Coordinates.loc[Match,'height_source'], Coordinates.loc[Match,'height_neighbor'])"
     ],
     "language": "python",
     "metadata": {},
     "outputs": [],
     "prompt_number": 59
    },
    {
     "cell_type": "code",
     "collapsed": false,
     "input": [
      "MergeBuildings = Buildings.merge(Coordinates,on='Name',how='outer')\n",
      "Fvalues = pd.DataFrame(MergeBuildings,columns={'Name','Name_y','f_N','f_W','f_S','f_E'})\n",
      "Fvalues.fillna(value=int(1),inplace=True)\n",
      "Fvalues.to_csv(OutFvalues)"
     ],
     "language": "python",
     "metadata": {},
     "outputs": [],
     "prompt_number": 68
    },
    {
     "cell_type": "code",
     "collapsed": false,
     "input": [
      "print Fvalues"
     ],
     "language": "python",
     "metadata": {},
     "outputs": [
      {
       "output_type": "stream",
       "stream": "stdout",
       "text": [
        "         f_E     Name  f_N   Name_y       f_W  f_S\n",
        "0   1.000000    Bau A  1.0        1  1.000000    1\n",
        "1   1.000000    Bau D  1.0        1  1.000000    1\n",
        "2   1.000000    Bau E  1.0        1  1.000000    1\n",
        "3   1.000000    Bau F  1.0        1  1.000000    1\n",
        "4   1.000000   Bau 17  1.0  Bau 17h  0.000000    1\n",
        "5   1.000000   Bau 22  1.0        1  1.000000    1\n",
        "6   1.000000   Bau 19  1.0        1  1.000000    1\n",
        "7   0.000000   Bau 06  1.0  Bau 06h  1.000000    1\n",
        "8   1.000000   Bau 02  1.0  Bau 02h  1.000000    0\n",
        "9   1.000000   Bau 05  1.0        1  1.000000    1\n",
        "10  1.000000   Bau 03  1.0        1  1.000000    1\n",
        "11  1.000000   Bau 04  1.0        1  1.000000    1\n",
        "12  1.000000   Bau 16  1.0        1  1.000000    1\n",
        "13  1.000000   Bau 14  1.0        1  1.000000    1\n",
        "14  1.000000    Bau C  1.0        1  1.000000    1\n",
        "15  1.000000    Bau B  1.0        1  1.000000    1\n",
        "16  1.000000    Bau I  1.0        1  1.000000    1\n",
        "17  1.000000    Bau H  1.0        1  1.000000    1\n",
        "18  1.000000    Bau G  1.0        1  1.000000    1\n",
        "19  1.000000   Bau 07  1.0        1  1.000000    1\n",
        "20  0.666667  Bau 17h  1.0   Bau 17  1.000000    1\n",
        "21  1.000000  Bau 02h  0.8   Bau 02  1.000000    1\n",
        "22  1.000000  Bau 06h  1.0   Bau 06  0.679487    1\n",
        "23  1.000000   Bau 26  1.0        1  1.000000    1\n"
       ]
      }
     ],
     "prompt_number": 67
    },
    {
     "cell_type": "code",
     "collapsed": false,
     "input": [],
     "language": "python",
     "metadata": {},
     "outputs": []
    }
   ],
   "metadata": {}
  }
 ]
}
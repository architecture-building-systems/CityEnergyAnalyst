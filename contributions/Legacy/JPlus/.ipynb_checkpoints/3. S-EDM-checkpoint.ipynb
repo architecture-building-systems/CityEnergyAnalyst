{
 "metadata": {
  "name": "",
  "signature": "sha256:a4a2c9a192b1423fe08cd2be3a5e8be044659890bef81d7f46daeed719c8628c"
 },
 "nbformat": 3,
 "nbformat_minor": 0,
 "worksheets": [
  {
   "cells": [
    {
     "cell_type": "markdown",
     "metadata": {},
     "source": [
      "#Statistical Energy demand model (S-EDM)"
     ]
    },
    {
     "cell_type": "markdown",
     "metadata": {},
     "source": [
      "###MODULES"
     ]
    },
    {
     "cell_type": "code",
     "collapsed": false,
     "input": [
      "import pandas as pd\n",
      "import sys\n",
      "if r'C:\\Console' not in sys.path: sys.path.append(r'C:\\Console')\n",
      "import EDMFunctions as EDM\n",
      "import os"
     ],
     "language": "python",
     "metadata": {},
     "outputs": [],
     "prompt_number": 8
    },
    {
     "cell_type": "markdown",
     "metadata": {},
     "source": [
      "###VARIABLES"
     ]
    },
    {
     "cell_type": "code",
     "collapsed": false,
     "input": [
      "database = r'c:\\Zernez\\EDM.gdb'\n",
      "Scenarios = ['SQ']#,'BAU','HEB','CAMP','UC']\n",
      "number_of_zones = 1#20\n",
      "Zone_of_study = 1"
     ],
     "language": "python",
     "metadata": {},
     "outputs": [],
     "prompt_number": 9
    },
    {
     "cell_type": "code",
     "collapsed": false,
     "input": [
      "Statistical_database = pd.ExcelFile('c:\\Zernez\\EDMdata\\Statistical\\Archetypes_properties.xls')\n",
      "Model = pd.ExcelFile.parse(Statistical_database, 'Values')"
     ],
     "language": "python",
     "metadata": {},
     "outputs": [],
     "prompt_number": 10
    },
    {
     "cell_type": "code",
     "collapsed": false,
     "input": [
      "locationtemp1 = r'c:\\Zernez\\temp'\n",
      "locationSEDM = r'C:\\Zernez\\EDMdata\\DataFinal\\SEDM'"
     ],
     "language": "python",
     "metadata": {},
     "outputs": [],
     "prompt_number": 11
    },
    {
     "cell_type": "markdown",
     "metadata": {},
     "source": [
      "###PROCESS"
     ]
    },
    {
     "cell_type": "code",
     "collapsed": false,
     "input": [
      "#FOR THE WHOLE AREA\n",
      "for x in Scenarios:\n",
      "    #Variables\n",
      "    area = x+'AREA'\n",
      "    locationFinal = locationSEDM+'\\\\'+x\n",
      "    # confirm directory to save results\n",
      "    if not os.path.exists(locationFinal):\n",
      "        os.makedirs(locationFinal)\n",
      "    # run querry or statistics and export results\n",
      "    EDM.Querystatistics(database+'\\\\'+x+'\\\\'+area, 'Area', Model, locationtemp1,locationFinal)\n",
      "    print 'Complete'+' '+x "
     ],
     "language": "python",
     "metadata": {},
     "outputs": [
      {
       "ename": "KeyError",
       "evalue": "\"['ADMIN' 'SR' 'INDUS' 'REST' 'RESTS' 'DEPO' 'COM' 'MDU' 'SDU' 'EDU' 'CR'\\n 'HEALTH' 'SPORT' 'SWIM' 'PUBLIC' 'SUPER' 'ICE' 'HOT'] not in index\"",
       "output_type": "pyerr",
       "traceback": [
        "\u001b[1;31m---------------------------------------------------------------------------\u001b[0m\n\u001b[1;31mKeyError\u001b[0m                                  Traceback (most recent call last)",
        "\u001b[1;32m<ipython-input-8-27416373cd4b>\u001b[0m in \u001b[0;36m<module>\u001b[1;34m()\u001b[0m\n\u001b[0;32m      7\u001b[0m         \u001b[0mos\u001b[0m\u001b[1;33m.\u001b[0m\u001b[0mmakedirs\u001b[0m\u001b[1;33m(\u001b[0m\u001b[0mlocationFinal\u001b[0m\u001b[1;33m)\u001b[0m\u001b[1;33m\u001b[0m\u001b[0m\n\u001b[0;32m      8\u001b[0m     \u001b[1;31m# run querry or statistics and export results\u001b[0m\u001b[1;33m\u001b[0m\u001b[1;33m\u001b[0m\u001b[0m\n\u001b[1;32m----> 9\u001b[1;33m     \u001b[0mEDM\u001b[0m\u001b[1;33m.\u001b[0m\u001b[0mQuerystatistics\u001b[0m\u001b[1;33m(\u001b[0m\u001b[0mdatabase\u001b[0m\u001b[1;33m+\u001b[0m\u001b[1;34m'\\\\'\u001b[0m\u001b[1;33m+\u001b[0m\u001b[0mx\u001b[0m\u001b[1;33m+\u001b[0m\u001b[1;34m'\\\\'\u001b[0m\u001b[1;33m+\u001b[0m\u001b[0marea\u001b[0m\u001b[1;33m,\u001b[0m \u001b[1;34m'Area'\u001b[0m\u001b[1;33m,\u001b[0m \u001b[0mModel\u001b[0m\u001b[1;33m,\u001b[0m \u001b[0mlocationtemp1\u001b[0m\u001b[1;33m,\u001b[0m\u001b[0mlocationFinal\u001b[0m\u001b[1;33m)\u001b[0m\u001b[1;33m\u001b[0m\u001b[0m\n\u001b[0m\u001b[0;32m     10\u001b[0m     \u001b[1;32mprint\u001b[0m \u001b[1;34m'Complete'\u001b[0m\u001b[1;33m+\u001b[0m\u001b[1;34m' '\u001b[0m\u001b[1;33m+\u001b[0m\u001b[0mx\u001b[0m\u001b[1;33m\u001b[0m\u001b[0m\n",
        "\u001b[1;32mC:\\Console\\EDM\\EDMFunctions.pyc\u001b[0m in \u001b[0;36mQuerystatistics\u001b[1;34m(CQ, CQ_name, Model, locationtemp1, locationFinal)\u001b[0m\n\u001b[0;32m   2812\u001b[0m \u001b[1;33m\u001b[0m\u001b[0m\n\u001b[0;32m   2813\u001b[0m     \u001b[1;31m#Assing main use of the building To assign systems of heating or cooling in a building basis.\u001b[0m\u001b[1;33m\u001b[0m\u001b[1;33m\u001b[0m\u001b[0m\n\u001b[1;32m-> 2814\u001b[1;33m     \u001b[0mDatabase\u001b[0m\u001b[1;33m[\u001b[0m\u001b[1;34m'Type'\u001b[0m\u001b[1;33m]\u001b[0m \u001b[1;33m=\u001b[0m \u001b[0mCalc_MainUse\u001b[0m\u001b[1;33m(\u001b[0m\u001b[0mDatabase\u001b[0m\u001b[1;33m)\u001b[0m\u001b[1;33m\u001b[0m\u001b[0m\n\u001b[0m\u001b[0;32m   2815\u001b[0m \u001b[1;33m\u001b[0m\u001b[0m\n\u001b[0;32m   2816\u001b[0m     \u001b[1;31m# assign the year of each category and create a new code\u001b[0m\u001b[1;33m\u001b[0m\u001b[1;33m\u001b[0m\u001b[0m\n",
        "\u001b[1;32mC:\\Console\\EDM\\EDMFunctions.pyc\u001b[0m in \u001b[0;36mCalc_MainUse\u001b[1;34m(database)\u001b[0m\n\u001b[0;32m   2907\u001b[0m         \u001b[1;32mreturn\u001b[0m \u001b[0marray_max\u001b[0m\u001b[1;33m\u001b[0m\u001b[0m\n\u001b[0;32m   2908\u001b[0m \u001b[1;33m\u001b[0m\u001b[0m\n\u001b[1;32m-> 2909\u001b[1;33m     \u001b[0mdatabaseclean\u001b[0m \u001b[1;33m=\u001b[0m \u001b[0mdatabase\u001b[0m\u001b[1;33m[\u001b[0m\u001b[0muses\u001b[0m\u001b[1;33m]\u001b[0m\u001b[1;33m.\u001b[0m\u001b[0mtranspose\u001b[0m\u001b[1;33m(\u001b[0m\u001b[1;33m)\u001b[0m\u001b[1;33m\u001b[0m\u001b[0m\n\u001b[0m\u001b[0;32m   2910\u001b[0m     \u001b[0marray_min\u001b[0m \u001b[1;33m=\u001b[0m \u001b[0mnp\u001b[0m\u001b[1;33m.\u001b[0m\u001b[0marray\u001b[0m\u001b[1;33m(\u001b[0m\u001b[0mdatabaseclean\u001b[0m\u001b[1;33m[\u001b[0m\u001b[0mdatabaseclean\u001b[0m\u001b[1;33m[\u001b[0m\u001b[1;33m:\u001b[0m\u001b[1;33m]\u001b[0m\u001b[1;33m>\u001b[0m\u001b[1;36m0\u001b[0m\u001b[1;33m]\u001b[0m\u001b[1;33m.\u001b[0m\u001b[0midxmin\u001b[0m\u001b[1;33m(\u001b[0m\u001b[0mskipna\u001b[0m \u001b[1;33m=\u001b[0m\u001b[0mTrue\u001b[0m\u001b[1;33m)\u001b[0m\u001b[1;33m)\u001b[0m\u001b[1;33m\u001b[0m\u001b[0m\n\u001b[0;32m   2911\u001b[0m     \u001b[0marray_max\u001b[0m \u001b[1;33m=\u001b[0m \u001b[0mnp\u001b[0m\u001b[1;33m.\u001b[0m\u001b[0marray\u001b[0m\u001b[1;33m(\u001b[0m\u001b[0mdatabaseclean\u001b[0m\u001b[1;33m[\u001b[0m\u001b[0mdatabaseclean\u001b[0m\u001b[1;33m[\u001b[0m\u001b[1;33m:\u001b[0m\u001b[1;33m]\u001b[0m\u001b[1;33m>\u001b[0m\u001b[1;36m0\u001b[0m\u001b[1;33m]\u001b[0m\u001b[1;33m.\u001b[0m\u001b[0midxmax\u001b[0m\u001b[1;33m(\u001b[0m\u001b[0mskipna\u001b[0m \u001b[1;33m=\u001b[0m\u001b[0mTrue\u001b[0m\u001b[1;33m)\u001b[0m\u001b[1;33m)\u001b[0m\u001b[1;33m\u001b[0m\u001b[0m\n",
        "\u001b[1;32mC:\\Python27\\ArcGISx6410.2\\lib\\site-packages\\pandas-0.13.1-py2.7-win-amd64.egg\\pandas\\core\\frame.pyc\u001b[0m in \u001b[0;36m__getitem__\u001b[1;34m(self, key)\u001b[0m\n\u001b[0;32m   1650\u001b[0m         \u001b[1;32mif\u001b[0m \u001b[0misinstance\u001b[0m\u001b[1;33m(\u001b[0m\u001b[0mkey\u001b[0m\u001b[1;33m,\u001b[0m \u001b[1;33m(\u001b[0m\u001b[0mSeries\u001b[0m\u001b[1;33m,\u001b[0m \u001b[0mnp\u001b[0m\u001b[1;33m.\u001b[0m\u001b[0mndarray\u001b[0m\u001b[1;33m,\u001b[0m \u001b[0mlist\u001b[0m\u001b[1;33m)\u001b[0m\u001b[1;33m)\u001b[0m\u001b[1;33m:\u001b[0m\u001b[1;33m\u001b[0m\u001b[0m\n\u001b[0;32m   1651\u001b[0m             \u001b[1;31m# either boolean or fancy integer index\u001b[0m\u001b[1;33m\u001b[0m\u001b[1;33m\u001b[0m\u001b[0m\n\u001b[1;32m-> 1652\u001b[1;33m             \u001b[1;32mreturn\u001b[0m \u001b[0mself\u001b[0m\u001b[1;33m.\u001b[0m\u001b[0m_getitem_array\u001b[0m\u001b[1;33m(\u001b[0m\u001b[0mkey\u001b[0m\u001b[1;33m)\u001b[0m\u001b[1;33m\u001b[0m\u001b[0m\n\u001b[0m\u001b[0;32m   1653\u001b[0m         \u001b[1;32melif\u001b[0m \u001b[0misinstance\u001b[0m\u001b[1;33m(\u001b[0m\u001b[0mkey\u001b[0m\u001b[1;33m,\u001b[0m \u001b[0mDataFrame\u001b[0m\u001b[1;33m)\u001b[0m\u001b[1;33m:\u001b[0m\u001b[1;33m\u001b[0m\u001b[0m\n\u001b[0;32m   1654\u001b[0m             \u001b[1;32mreturn\u001b[0m \u001b[0mself\u001b[0m\u001b[1;33m.\u001b[0m\u001b[0m_getitem_frame\u001b[0m\u001b[1;33m(\u001b[0m\u001b[0mkey\u001b[0m\u001b[1;33m)\u001b[0m\u001b[1;33m\u001b[0m\u001b[0m\n",
        "\u001b[1;32mC:\\Python27\\ArcGISx6410.2\\lib\\site-packages\\pandas-0.13.1-py2.7-win-amd64.egg\\pandas\\core\\frame.pyc\u001b[0m in \u001b[0;36m_getitem_array\u001b[1;34m(self, key)\u001b[0m\n\u001b[0;32m   1694\u001b[0m             \u001b[1;32mreturn\u001b[0m \u001b[0mself\u001b[0m\u001b[1;33m.\u001b[0m\u001b[0mtake\u001b[0m\u001b[1;33m(\u001b[0m\u001b[0mindexer\u001b[0m\u001b[1;33m,\u001b[0m \u001b[0maxis\u001b[0m\u001b[1;33m=\u001b[0m\u001b[1;36m0\u001b[0m\u001b[1;33m,\u001b[0m \u001b[0mconvert\u001b[0m\u001b[1;33m=\u001b[0m\u001b[0mFalse\u001b[0m\u001b[1;33m)\u001b[0m\u001b[1;33m\u001b[0m\u001b[0m\n\u001b[0;32m   1695\u001b[0m         \u001b[1;32melse\u001b[0m\u001b[1;33m:\u001b[0m\u001b[1;33m\u001b[0m\u001b[0m\n\u001b[1;32m-> 1696\u001b[1;33m             \u001b[0mindexer\u001b[0m \u001b[1;33m=\u001b[0m \u001b[0mself\u001b[0m\u001b[1;33m.\u001b[0m\u001b[0mix\u001b[0m\u001b[1;33m.\u001b[0m\u001b[0m_convert_to_indexer\u001b[0m\u001b[1;33m(\u001b[0m\u001b[0mkey\u001b[0m\u001b[1;33m,\u001b[0m \u001b[0maxis\u001b[0m\u001b[1;33m=\u001b[0m\u001b[1;36m1\u001b[0m\u001b[1;33m)\u001b[0m\u001b[1;33m\u001b[0m\u001b[0m\n\u001b[0m\u001b[0;32m   1697\u001b[0m             \u001b[1;32mreturn\u001b[0m \u001b[0mself\u001b[0m\u001b[1;33m.\u001b[0m\u001b[0mtake\u001b[0m\u001b[1;33m(\u001b[0m\u001b[0mindexer\u001b[0m\u001b[1;33m,\u001b[0m \u001b[0maxis\u001b[0m\u001b[1;33m=\u001b[0m\u001b[1;36m1\u001b[0m\u001b[1;33m,\u001b[0m \u001b[0mconvert\u001b[0m\u001b[1;33m=\u001b[0m\u001b[0mTrue\u001b[0m\u001b[1;33m)\u001b[0m\u001b[1;33m\u001b[0m\u001b[0m\n\u001b[0;32m   1698\u001b[0m \u001b[1;33m\u001b[0m\u001b[0m\n",
        "\u001b[1;32mC:\\Python27\\ArcGISx6410.2\\lib\\site-packages\\pandas-0.13.1-py2.7-win-amd64.egg\\pandas\\core\\indexing.pyc\u001b[0m in \u001b[0;36m_convert_to_indexer\u001b[1;34m(self, obj, axis, is_setter)\u001b[0m\n\u001b[0;32m    965\u001b[0m                     \u001b[1;32mif\u001b[0m \u001b[0misinstance\u001b[0m\u001b[1;33m(\u001b[0m\u001b[0mobj\u001b[0m\u001b[1;33m,\u001b[0m \u001b[0mtuple\u001b[0m\u001b[1;33m)\u001b[0m \u001b[1;32mand\u001b[0m \u001b[0mis_setter\u001b[0m\u001b[1;33m:\u001b[0m\u001b[1;33m\u001b[0m\u001b[0m\n\u001b[0;32m    966\u001b[0m                         \u001b[1;32mreturn\u001b[0m \u001b[1;33m{\u001b[0m\u001b[1;34m'key'\u001b[0m\u001b[1;33m:\u001b[0m \u001b[0mobj\u001b[0m\u001b[1;33m}\u001b[0m\u001b[1;33m\u001b[0m\u001b[0m\n\u001b[1;32m--> 967\u001b[1;33m                     \u001b[1;32mraise\u001b[0m \u001b[0mKeyError\u001b[0m\u001b[1;33m(\u001b[0m\u001b[1;34m'%s not in index'\u001b[0m \u001b[1;33m%\u001b[0m \u001b[0mobjarr\u001b[0m\u001b[1;33m[\u001b[0m\u001b[0mmask\u001b[0m\u001b[1;33m]\u001b[0m\u001b[1;33m)\u001b[0m\u001b[1;33m\u001b[0m\u001b[0m\n\u001b[0m\u001b[0;32m    968\u001b[0m \u001b[1;33m\u001b[0m\u001b[0m\n\u001b[0;32m    969\u001b[0m                 \u001b[1;32mreturn\u001b[0m \u001b[0mindexer\u001b[0m\u001b[1;33m\u001b[0m\u001b[0m\n",
        "\u001b[1;31mKeyError\u001b[0m: \"['ADMIN' 'SR' 'INDUS' 'REST' 'RESTS' 'DEPO' 'COM' 'MDU' 'SDU' 'EDU' 'CR'\\n 'HEALTH' 'SPORT' 'SWIM' 'PUBLIC' 'SUPER' 'ICE' 'HOT'] not in index\""
       ]
      }
     ],
     "prompt_number": 8
    },
    {
     "cell_type": "code",
     "collapsed": false,
     "input": [
      "# FOR EACH ZONE OF STUDY\n",
      "# zones different to the Zone of study are stored in a folder called surroundings\n",
      "for x in Scenarios:\n",
      "    if x == 'SQ': #only for the first scenario\n",
      "        for number in range(number_of_zones):\n",
      "            Zone = 'Zone_'+str(number+1)\n",
      "            if number+1 != Zone_of_study:\n",
      "                # set local variables for iteration\n",
      "                locationFinal = locationSEDM+'\\\\'+'Surroundings'\n",
      "                # confirm directory to save results\n",
      "                if not os.path.exists(locationFinal+'\\\\'+Zone):\n",
      "                    os.makedirs(locationFinal+'\\\\'+Zone)\n",
      "                # run querry or statistics and export results\n",
      "                EDM.Querystatistics(database+'\\\\'+'Surroundings'+'\\\\'+Zone, Zone, Model, locationtemp1,locationFinal)\n",
      "            else:\n",
      "                # set local variables for iteration\n",
      "                locationFinal = locationSEDM+'\\\\'+x\n",
      "                # confirm directory to save results\n",
      "                if not os.path.exists(locationFinal+'\\\\'+Zone):\n",
      "                    os.makedirs(locationFinal+'\\\\'+Zone)\n",
      "                # run querry or statistics and export results\n",
      "                EDM.Querystatistics(database+'\\\\'+x+'\\\\'+x+Zone, Zone, Model, locationtemp1,locationFinal)                \n",
      "    else:\n",
      "        Zone = 'Zone_'+str(Zone_of_study)\n",
      "        locationFinal = locationSEDM+'\\\\'+x\n",
      "        # confirm directory to save results\n",
      "        if not os.path.exists(locationFinal+'\\\\'+Zone):\n",
      "            os.makedirs(locationFinal+'\\\\'+Zone)\n",
      "        # run querry or statistics and export results\n",
      "        EDM.Querystatistics(database+'\\\\'+x+'\\\\'+x+Zone, Zone, Model, locationtemp1,locationFinal)\n",
      "    print 'Complete'+' '+x "
     ],
     "language": "python",
     "metadata": {},
     "outputs": [
      {
       "output_type": "stream",
       "stream": "stdout",
       "text": [
        "Complete SQ\n"
       ]
      }
     ],
     "prompt_number": 12
    },
    {
     "cell_type": "code",
     "collapsed": false,
     "input": [],
     "language": "python",
     "metadata": {},
     "outputs": []
    }
   ],
   "metadata": {}
  }
 ]
}
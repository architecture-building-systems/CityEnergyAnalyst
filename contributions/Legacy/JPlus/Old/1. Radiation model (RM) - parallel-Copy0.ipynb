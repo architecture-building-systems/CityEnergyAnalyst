{
 "metadata": {
  "name": "1. Radiation model (RM) - parallel-Copy0"
 },
 "nbformat": 3,
 "nbformat_minor": 0,
 "worksheets": [
  {
   "cells": [
    {
     "cell_type": "markdown",
     "metadata": {},
     "source": [
      "#1. RADIATION MODEL\n",
      "##Introduction\n",
      "\n",
      "This routine calculates the solar radiation incident in the surfaces of Buildings in Wh/m2 per every hour of the year.\n",
      "THe algorithm considers shading form adjacent buildings, vegetation and terrain.\n",
      "\n",
      "###The input:\n",
      "\n",
      "1. From 0. City Quarters\n",
      "\n",
      "- CQ_Name: The name of the City quarter/Zone/Cluster to Create the radiation model obtained from the Routine Number 0. CQ\n",
      "- CQ = a .shp (multi-polygon) file containing the simplified buildings of the selected City quarter/Zone/Cluster to run the analysis and obtained from the Routine Numer 0. CQ.\n",
      "- Simple_Context = a .shp file containing the simplified buildings of all the context and obtained from the Routine Number 0. CQ\n",
      "\n",
      "2. Other\n",
      "\n",
      "- DEModel: a .asci or tif (raster) file containing a high definition Digital Elevation Model of the Context including mountains if possible.\n",
      "- Latitude: Latitude of the City of the case study (+) if North, (-) if South.\n",
      "- Longitude: Longitude of the City of the case study (+) if West of Grenwhich meridian, (-) if East.\n",
      "- Timezone: GMT + (?)\n",
      "- Daylightsaving dates: Number of day of the year where daylightsaving measures take place. for Zug in 2013 = 90 and 300\n",
      "\n",
      "###The Output:\n",
      "\n",
      "- DEModelFinal = a .asci or tif (raster) file containing a high definition Digital Elevation Model with Buildings.\n",
      "- DataRadiation = a .csv file containing the hourly radiation values Wh/m2 incident in a point representing every vertical surface of the Buildings analyzed,\n",
      "                  This file contents the Length of everysurface, the name of the building at which this surface belons too, the height of the building related, the Factor \" Freeheight\" and the Factpr \"FactorShade\"\n",
      "                  Freeheight stands for the height of the surface that is exposed to the exterior, factor Shade represents the amount of area of the surface facing the exterior."
     ]
    },
    {
     "cell_type": "markdown",
     "metadata": {},
     "source": [
      "## MODULES"
     ]
    },
    {
     "cell_type": "code",
     "collapsed": false,
     "input": [
      "import arcpy\n",
      "from arcpy.sa import *\n",
      "import pandas as pd\n",
      "import numpy as np\n",
      "arcpy.env.workspace = 'c:\\ArcGIS\\EDM.gdb'\n",
      "arcpy.env.overwriteOutput = True\n",
      "arcpy.CheckOutExtension(\"spatial\")\n",
      "arcpy.CheckOutExtension(\"3D\")"
     ],
     "language": "python",
     "metadata": {},
     "outputs": [
      {
       "output_type": "pyout",
       "prompt_number": 8,
       "text": [
        "u'CheckedOut'"
       ]
      }
     ],
     "prompt_number": 8
    },
    {
     "cell_type": "code",
     "collapsed": false,
     "input": [
      "import sys, os\n",
      "sys.path.append(\"C:\\Users\\Jimeno Fonseca\\Documents\\Console\\sandbox\")\n",
      "from pyGDsandbox.dataIO import df2dbf, dbf2df "
     ],
     "language": "python",
     "metadata": {},
     "outputs": [],
     "prompt_number": 9
    },
    {
     "cell_type": "code",
     "collapsed": false,
     "input": [
      "import datetime\n",
      "import jdcal"
     ],
     "language": "python",
     "metadata": {},
     "outputs": [],
     "prompt_number": 10
    },
    {
     "cell_type": "markdown",
     "metadata": {},
     "source": [
      "##VARIABLES"
     ]
    },
    {
     "cell_type": "code",
     "collapsed": false,
     "input": [
      "CQ_name = 'CityQuarter_3'\n",
      "CQ = r'c:\\ArcGIS\\EDM.gdb\\Communities\\CityQuarter_3' \n",
      "Context = r'c:\\ArcGIS\\EDM.gdb\\RawData\\Context'"
     ],
     "language": "python",
     "metadata": {},
     "outputs": [],
     "prompt_number": 11
    },
    {
     "cell_type": "code",
     "collapsed": false,
     "input": [
      "DEModel = r'c:\\ArcGIS\\EDM.gdb\\DEM' # DEM of analysis\n",
      "Latitude = 47.1628017306431# of the site Zug\n",
      "Longitude = 8.31 # of the site Zug\n",
      "TimeZone = 1 # of the site Zug"
     ],
     "language": "python",
     "metadata": {},
     "outputs": [],
     "prompt_number": 12
    },
    {
     "cell_type": "code",
     "collapsed": false,
     "input": [
      "Simple_CQ = r'c:\\ArcGIS\\EDM.gdb\\temp'+'\\\\'+'Sim'+CQ_name\n",
      "Simple_Context = r'c:\\ArcGIS\\EDM.gdb\\temp\\Simple_Context'"
     ],
     "language": "python",
     "metadata": {},
     "outputs": [],
     "prompt_number": 13
    },
    {
     "cell_type": "code",
     "collapsed": false,
     "input": [
      "Buffer_CQ = r'c:\\ArcGIS\\EDM.gdb\\temp\\BufferCQ'\n",
      "AggregatedBuffer = r'c:\\ArcGIS\\EDM.gdb\\temp\\BufferAggregated'\n",
      "temporal_lines = r'c:\\ArcGIS\\EDM.gdb\\temp\\lines' \n",
      "temporal_lines2 = r'c:\\ArcGIS\\EDM.gdb\\temp\\lines2' \n",
      "temporal_lines3 = r'c:\\ArcGIS\\EDM.gdb\\temp\\lines3'\n",
      "Points2 = r'c:\\ArcGIS\\EDM.gdb\\temp\\Points2'\n",
      "Points3 = r'c:\\ArcGIS\\EDM.gdb\\temp\\Points3'\n",
      "Points = r'c:\\ArcGIS\\EDM.gdb\\temp\\Points' \n",
      "SimpleBuffer_CQ = r'c:\\ArcGIS\\EDM.gdb\\temp\\SimpleBufferfCQ'\n",
      "temporal1 = r'c:\\ArcGIS\\temp'\n",
      "temporal2 = r'c:\\ArcGIS\\EDM.gdb'\n",
      "Outradiation = r'c:\\ArcGIS\\temp\\Surfaceradiationyear.csv'\n",
      "EraseObservers = r'c:\\ArcGIS\\EDM.gdb\\temp\\eraseobservers'\n",
      "Observers = r'c:\\ArcGIS\\EDM.gdb\\temp\\observers'\n",
      "CentroidCQ = r'c:\\ArcGIS\\EDM.gdb\\temp\\CQcentroid'\n",
      "Overlaptable = temporal1+'\\\\'+'overlapingTable.csv'"
     ],
     "language": "python",
     "metadata": {},
     "outputs": [],
     "prompt_number": 14
    },
    {
     "cell_type": "code",
     "collapsed": false,
     "input": [
      "DEModelFinal = r'c:\\ArcGIS\\EDM.gdb\\DEM_All'"
     ],
     "language": "python",
     "metadata": {},
     "outputs": [],
     "prompt_number": 15
    },
    {
     "cell_type": "code",
     "collapsed": false,
     "input": [
      "# Set local variables\n",
      "latitude = '47.1628017306431' # obtained from the model itself but String\n",
      "skySize = '3500'\n",
      "dayInterval = '1'\n",
      "hourInterval = '1'\n",
      "calcDirections = '32'\n",
      "zenithDivisions = '8'\n",
      "azimuthDivisions = '8'\n",
      "diffuseProp = '0.3'\n",
      "transmittivity = '0.5'\n",
      "heightoffset = '5'"
     ],
     "language": "python",
     "metadata": {},
     "outputs": [],
     "prompt_number": 16
    },
    {
     "cell_type": "code",
     "collapsed": false,
     "input": [
      "CQLines = r'c:\\ArcGIS\\EDM.gdb\\temp\\CQLines'\n",
      "CQVertices = r'c:\\ArcGIS\\EDM.gdb\\temp\\CQVertices'\n",
      "CQSegments = r'c:\\ArcGIS\\EDM.gdb\\temp\\CQSegment'\n",
      "CQSegments_centroid = r'c:\\ArcGIS\\EDM.gdb\\temp\\CQSegmentCentro'\n",
      "NearTable = r'c:\\ArcGIS\\temp\\NearTable.dbf'"
     ],
     "language": "python",
     "metadata": {},
     "outputs": [],
     "prompt_number": 17
    },
    {
     "cell_type": "code",
     "collapsed": false,
     "input": [
      "NonoverlappingBuildings = r'c:\\ArcGIS\\EDM.gdb\\temp\\Non_Overlap'\n",
      "DataCentroidsCSV=r'c:\\ArcGIS\\temp\\Datacentroids.csv'"
     ],
     "language": "python",
     "metadata": {},
     "outputs": [],
     "prompt_number": 18
    },
    {
     "cell_type": "code",
     "collapsed": false,
     "input": [
      "DataradiationLocation = r'c:\\ArcGIS\\temp'+'\\\\'+CQ_name+'\\\\'+'DataRadiation.csv'"
     ],
     "language": "python",
     "metadata": {},
     "outputs": [],
     "prompt_number": 19
    },
    {
     "cell_type": "markdown",
     "metadata": {},
     "source": [
      "##FUNCTIONS"
     ]
    },
    {
     "cell_type": "markdown",
     "metadata": {},
     "source": [
      "###Calculation of Sunrise hour"
     ]
    },
    {
     "cell_type": "code",
     "collapsed": false,
     "input": [
      "%autopx\n",
      "def Calc_sunrise(day,Longitude,Latitude,TimeZone): # Calculated according to NOAA website\n",
      "    # Calculate Date and Julian day\n",
      "    import datetime\n",
      "    import jdcal\n",
      "    import numpy as np\n",
      "    Date = datetime.datetime(2013, 1, 1) + datetime.timedelta(day - 1)\n",
      "    JuliandDay = sum(jdcal.gcal2jd(Date.year, Date.month, Date.day))\n",
      "    JulianCentury = (JuliandDay-2451545)/36525\n",
      "    # variables\n",
      "    Gmean = np.mod(280.46646+JulianCentury*(36000.76983 + JulianCentury*0.0003032),360)\n",
      "    Gmeansun = 357.52911+JulianCentury*(35999.05029 - 0.0001537*JulianCentury)\n",
      "    Orbit = 0.016708634-JulianCentury*(0.000042037+0.0000001267*JulianCentury)\n",
      "    Suneq_control = np.sin(np.radians(Gmeansun))*(1.914602-JulianCentury*(0.004817+0.000014*JulianCentury))+np.sin(np.radians(2*Gmeansun))*(0.019993-0.000101*JulianCentury)+np.sin(np.radians(3*Gmeansun))*0.000289\n",
      "    Suntrue_long = Gmean+Suneq_control\n",
      "    Sunapp_long = Suntrue_long-0.00569-0.00478*np.sin(np.radians(125.04-1934.136*JulianCentury))\n",
      "    MeanObl = 23+(26+((21.448-JulianCentury*(46.815+JulianCentury*(0.00059-JulianCentury*0.001813))))/60)/60\n",
      "    OblCorr = MeanObl+0.00256*np.cos(np.radians(125.04-1934.136*JulianCentury))\n",
      "    SunDeclinationAngle = np.degrees(np.arcsin(np.sin(np.radians(OblCorr))*np.sin(np.radians(Sunapp_long))))\n",
      "    vary = np.tan(np.radians(OblCorr/2))*np.tan(np.radians(OblCorr/2))\n",
      "    #Equation of time:\n",
      "    EOT =4*np.degrees(vary*np.sin(2*np.radians(Gmean))-2*Orbit*np.sin(np.radians(Gmeansun))+4*Orbit*vary*np.sin(np.radians(Gmeansun))*np.cos(2*np.radians(Gmean))-0.5*vary*vary*np.sin(4*np.radians(Gmean))-1.25*Orbit*Orbit*np.sin(2*np.radians(Gmeansun)))\n",
      "    # aparent sunrise hour\n",
      "    HA_sunrise = np.degrees(np.arccos(np.cos(np.radians(90.833))/(np.cos(np.radians(Latitude))*np.cos(np.radians(SunDeclinationAngle)))-np.tan(np.radians(Latitude))*np.tan(np.radians(SunDeclinationAngle))))\n",
      "    Solar_noon =(720-4*Longitude-EOT+TimeZone*60)/1440\n",
      "    Sun_rise = (Solar_noon-HA_sunrise*4/1440)*24\n",
      "    return Sun_rise\n",
      "%autopx"
     ],
     "language": "python",
     "metadata": {},
     "outputs": [
      {
       "output_type": "stream",
       "stream": "stdout",
       "text": [
        "%autopx enabled\n",
        "%autopx disabled\n"
       ]
      }
     ],
     "prompt_number": 117
    },
    {
     "cell_type": "markdown",
     "metadata": {},
     "source": [
      "###Parsing of Radiation data"
     ]
    },
    {
     "cell_type": "code",
     "collapsed": false,
     "input": [
      "%autopx\n",
      "def Calctable(day,Radiation):\n",
      "    import datetime\n",
      "    import pandas as pd\n",
      "    # Table with empty values with the same range as the points.\n",
      "    TableFShade_LCT = pd.DataFrame.copy(Radiation)\n",
      "    Names = ['T0','T1','T2','T3','T4','T5','T6','T7','T8','T9','T10','T11','T12','T13','T14','T15','T16','T17','T18','T19','T20','T21','T22','T23']\n",
      "    for Name in Names:\n",
      "        TableFShade_LCT[Name]= 0\n",
      "    #Counter of Columns in the Initial Tabshade\n",
      "    Counter = Radiation.count(1)\n",
      "    Value = Counter[0]-1\n",
      "    #Condition to take into account daysavingtime in Switzerland as the radiation data in ArcGIS is calculated for 2013.    \n",
      "    if 90 <= day <300: \n",
      "        D = 1\n",
      "    else:\n",
      "        D = 0 \n",
      "    # Calculation of Sunrise time\n",
      "    Sunrise_time = Calc_sunrise(day,Longitude,Latitude,TimeZone) + D\n",
      "    # Calculation of table\n",
      "    for time in range(Value):\n",
      "        Hour = int(Sunrise_time)+ int(time)\n",
      "        TableFShade_LCT['T'+str(Hour)] = Radiation['T'+str(time)]\n",
      "    #rename the table for every T to get in 1 to 8760 hours.\n",
      "    if day == 1:\n",
      "        name = 1\n",
      "    else:\n",
      "        name = int(day-1)*24+1\n",
      "    \n",
      "    TableFShade_LCT.rename(columns={'T0':'T'+str(name),'T1':'T'+str(name+1),'T2':'T'+str(name+2),'T3':'T'+str(name+3),'T4':'T'+str(name+4),\n",
      "                                    'T5':'T'+str(name+5),'T6':'T'+str(name+6),'T7':'T'+str(name+7),'T8':'T'+str(name+8),'T9':'T'+str(name+9),\n",
      "                                    'T10':'T'+str(name+10),'T11':'T'+str(name+11),'T12':'T'+str(name+12),'T13':'T'+str(name+13),'T14':'T'+str(name+14),\n",
      "                                    'T15':'T'+str(name+15),'T16':'T'+str(name+16),'T17':'T'+str(name+17),'T18':'T'+str(name+18),'T19':'T'+str(name+19),\n",
      "                                    'T20':'T'+str(name+20),'T21':'T'+str(name+21),'T22':'T'+str(name+22),'T23':'T'+str(name+23)},inplace=True)\n",
      "    return TableFShade_LCT\n",
      "%autopx"
     ],
     "language": "python",
     "metadata": {},
     "outputs": [
      {
       "output_type": "stream",
       "stream": "stdout",
       "text": [
        "%autopx enabled\n",
        "%autopx disabled\n"
       ]
      }
     ],
     "prompt_number": 93
    },
    {
     "cell_type": "markdown",
     "metadata": {},
     "source": [
      "##PROCESSES"
     ]
    },
    {
     "cell_type": "markdown",
     "metadata": {},
     "source": [
      "###Simplification of Buildings"
     ]
    },
    {
     "cell_type": "code",
     "collapsed": false,
     "input": [
      "arcpy.SimplifyBuilding_cartography(Context,Simple_Context,simplification_tolerance=8, minimum_area=None, conflict_option=True)"
     ],
     "language": "python",
     "metadata": {},
     "outputs": [
      {
       "output_type": "pyout",
       "prompt_number": 11,
       "text": [
        "<Result 'c:\\\\ArcGIS\\\\EDM.gdb\\\\temp\\\\Simple_Context'>"
       ]
      }
     ],
     "prompt_number": 11
    },
    {
     "cell_type": "code",
     "collapsed": false,
     "input": [
      "arcpy.SimplifyBuilding_cartography(CQ,Simple_CQ,simplification_tolerance=8, minimum_area=None, conflict_option=True)"
     ],
     "language": "python",
     "metadata": {},
     "outputs": [
      {
       "output_type": "pyout",
       "prompt_number": 60,
       "text": [
        "<Result 'c:\\\\ArcGIS\\\\EDM.gdb\\\\temp\\\\SimCityQuarter_3'>"
       ]
      }
     ],
     "prompt_number": 60
    },
    {
     "cell_type": "markdown",
     "metadata": {},
     "source": [
      "###Definition of areas of factors of Areas exposed to sun"
     ]
    },
    {
     "cell_type": "markdown",
     "metadata": {},
     "source": [
      "1.1.Create points in the centroid of segment line and table with near features: indentifying for each segment of line of building A the segment of line of building B in common. "
     ]
    },
    {
     "cell_type": "code",
     "collapsed": false,
     "input": [
      "arcpy.FeatureToLine_management(Simple_CQ,CQLines)\n",
      "arcpy.FeatureVerticesToPoints_management(Simple_CQ,CQVertices,'ALL')\n",
      "arcpy.SplitLineAtPoint_management(CQLines,CQVertices,CQSegments,'2 METERS')\n",
      "arcpy.FeatureVerticesToPoints_management(CQSegments,CQSegments_centroid,'MID')"
     ],
     "language": "python",
     "metadata": {},
     "outputs": [
      {
       "output_type": "pyout",
       "prompt_number": 46,
       "text": [
        "<Result 'c:\\\\ArcGIS\\\\EDM.gdb\\\\temp\\\\CQSegmentCentro'>"
       ]
      }
     ],
     "prompt_number": 46
    },
    {
     "cell_type": "code",
     "collapsed": false,
     "input": [
      "arcpy.GenerateNearTable_analysis(CQSegments_centroid,CQSegments_centroid,NearTable,\"1 Meters\",\"NO_LOCATION\",\"NO_ANGLE\",\"CLOSEST\",\"0\")"
     ],
     "language": "python",
     "metadata": {},
     "outputs": [
      {
       "output_type": "pyout",
       "prompt_number": 47,
       "text": [
        "<Result 'c:\\\\ArcGIS\\\\temp\\\\NearTable.dbf'>"
       ]
      }
     ],
     "prompt_number": 47
    },
    {
     "cell_type": "markdown",
     "metadata": {},
     "source": [
      "1.2. Import the table with NearMatches"
     ]
    },
    {
     "cell_type": "code",
     "collapsed": false,
     "input": [
      "NearMatches = dbf2df(NearTable)\n",
      "NearMatches"
     ],
     "language": "python",
     "metadata": {},
     "outputs": [
      {
       "html": [
        "<div style=\"max-height:1000px;max-width:1500px;overflow:auto;\">\n",
        "<table border=\"1\" class=\"dataframe\">\n",
        "  <thead>\n",
        "    <tr style=\"text-align: right;\">\n",
        "      <th></th>\n",
        "      <th>IN_FID</th>\n",
        "      <th>NEAR_DIST</th>\n",
        "      <th>NEAR_FID</th>\n",
        "    </tr>\n",
        "  </thead>\n",
        "  <tbody>\n",
        "    <tr>\n",
        "      <th>0</th>\n",
        "      <td>  13</td>\n",
        "      <td> 0.000000</td>\n",
        "      <td>  14</td>\n",
        "    </tr>\n",
        "    <tr>\n",
        "      <th>1</th>\n",
        "      <td>  14</td>\n",
        "      <td> 0.000000</td>\n",
        "      <td>  13</td>\n",
        "    </tr>\n",
        "    <tr>\n",
        "      <th>2</th>\n",
        "      <td>  55</td>\n",
        "      <td> 0.374731</td>\n",
        "      <td>  57</td>\n",
        "    </tr>\n",
        "    <tr>\n",
        "      <th>3</th>\n",
        "      <td>  57</td>\n",
        "      <td> 0.374731</td>\n",
        "      <td>  55</td>\n",
        "    </tr>\n",
        "    <tr>\n",
        "      <th>4</th>\n",
        "      <td>  59</td>\n",
        "      <td> 0.000000</td>\n",
        "      <td>  60</td>\n",
        "    </tr>\n",
        "    <tr>\n",
        "      <th>5</th>\n",
        "      <td>  60</td>\n",
        "      <td> 0.000000</td>\n",
        "      <td>  59</td>\n",
        "    </tr>\n",
        "    <tr>\n",
        "      <th>6</th>\n",
        "      <td> 120</td>\n",
        "      <td> 0.592903</td>\n",
        "      <td> 122</td>\n",
        "    </tr>\n",
        "    <tr>\n",
        "      <th>7</th>\n",
        "      <td> 122</td>\n",
        "      <td> 0.592903</td>\n",
        "      <td> 120</td>\n",
        "    </tr>\n",
        "  </tbody>\n",
        "</table>\n",
        "</div>"
       ],
       "output_type": "pyout",
       "prompt_number": 48,
       "text": [
        "   IN_FID  NEAR_DIST  NEAR_FID\n",
        "0      13   0.000000        14\n",
        "1      14   0.000000        13\n",
        "2      55   0.374731        57\n",
        "3      57   0.374731        55\n",
        "4      59   0.000000        60\n",
        "5      60   0.000000        59\n",
        "6     120   0.592903       122\n",
        "7     122   0.592903       120"
       ]
      }
     ],
     "prompt_number": 48
    },
    {
     "cell_type": "markdown",
     "metadata": {},
     "source": [
      "1.3. Import the table with attributes of the centroids of the Segments"
     ]
    },
    {
     "cell_type": "code",
     "collapsed": false,
     "input": [
      "OutTable = 'CentroidCQdata.dbf'\n",
      "arcpy.TableToTable_conversion(CQSegments_centroid, temporal1, OutTable)\n",
      "DataCentroids = dbf2df(temporal1+'\\\\'+OutTable, cols={'Name','height','ORIG_FID'})\n",
      "print DataCentroids.head()"
     ],
     "language": "python",
     "metadata": {},
     "outputs": [
      {
       "output_type": "stream",
       "stream": "stdout",
       "text": [
        "     Name  ORIG_FID  height\n",
        "0  Bau 26         1     3.9\n",
        "1  Bau 26         2     3.9\n",
        "2  Bau 26         3     3.9\n",
        "3  Bau 26         4     3.9\n",
        "4  Bau 07         5    26.7\n"
       ]
      }
     ],
     "prompt_number": 49
    },
    {
     "cell_type": "markdown",
     "metadata": {},
     "source": [
      "1.3. CreateJoin to Assign a Factor to every Centroid of the lines, FactorShade =0 if the line exist in a building totally covered by another one, and Freeheight = to the height of the line that is not obstructed by the other building"
     ]
    },
    {
     "cell_type": "code",
     "collapsed": false,
     "input": [
      "FirstJoin = pd.merge(NearMatches,DataCentroids,left_on='IN_FID', right_on='ORIG_FID')\n",
      "SecondaryJoin = pd.merge(FirstJoin,DataCentroids,left_on='NEAR_FID', right_on='ORIG_FID')"
     ],
     "language": "python",
     "metadata": {},
     "outputs": [],
     "prompt_number": 50
    },
    {
     "cell_type": "code",
     "collapsed": false,
     "input": [
      "rows = SecondaryJoin.IN_FID.count()\n",
      "SecondaryJoin['FactorShade']=0\n",
      "SecondaryJoin['Freeheight']=0\n",
      "for row in range(rows):\n",
      "    if SecondaryJoin.loc[row,'height_x'] <= SecondaryJoin.loc[row,'height_y']:\n",
      "        SecondaryJoin.loc[row,'FactorShade'] = 0\n",
      "        SecondaryJoin.loc[row,'Freeheight'] = 0\n",
      "    elif SecondaryJoin.loc[row,'height_x'] > SecondaryJoin.loc[row,'height_y'] and SecondaryJoin.loc[row,'height_x']-1 <= SecondaryJoin.loc[row,'height_y']:\n",
      "        SecondaryJoin.loc[row,'FactorShade'] = 0\n",
      "    else:\n",
      "        SecondaryJoin.loc[row,'FactorShade'] = 1\n",
      "        SecondaryJoin.loc[row,'Freeheight'] = abs(SecondaryJoin.loc[row,'height_y']- SecondaryJoin.loc[row,'height_x'])"
     ],
     "language": "python",
     "metadata": {},
     "outputs": [],
     "prompt_number": 51
    },
    {
     "cell_type": "markdown",
     "metadata": {},
     "source": [
      "1.4 Create and export Secondary Join with results, it will be Useful for the Chapter \"Observation Points'"
     ]
    },
    {
     "cell_type": "code",
     "collapsed": false,
     "input": [
      "SecondaryJoin.to_csv(Overlaptable,index=False)"
     ],
     "language": "python",
     "metadata": {},
     "outputs": [],
     "prompt_number": 52
    },
    {
     "cell_type": "markdown",
     "metadata": {},
     "source": [
      "1.4. Update table Datacentroids with the Fields Freeheight and Factor Shade. for those buildings without shading boundaries these factors are equal to 1 and the field height respectively"
     ]
    },
    {
     "cell_type": "code",
     "collapsed": false,
     "input": [
      "DataCentroids['FactorShade'] = 1\n",
      "DataCentroids['Freeheight'] = DataCentroids['height']\n",
      "rows = SecondaryJoin.IN_FID.count()\n",
      "rows2 = DataCentroids.ORIG_FID.count()"
     ],
     "language": "python",
     "metadata": {},
     "outputs": [],
     "prompt_number": 53
    },
    {
     "cell_type": "code",
     "collapsed": false,
     "input": [
      "for row in range(rows):\n",
      "    for row2 in range(rows2):\n",
      "        if SecondaryJoin.loc[row,'ORIG_FID_x'] == str(DataCentroids.loc[row2,'ORIG_FID']):\n",
      "            DataCentroids.loc[row2,'FactorShade'] = SecondaryJoin.loc[row,'FactorShade']\n",
      "            DataCentroids.loc[row2,'Freeheight'] = SecondaryJoin.loc[row,'Freeheight']"
     ],
     "language": "python",
     "metadata": {},
     "outputs": [],
     "prompt_number": 54
    },
    {
     "cell_type": "code",
     "collapsed": false,
     "input": [
      "DataCentroids.to_csv(DataCentroidsCSV,index=False)"
     ],
     "language": "python",
     "metadata": {},
     "outputs": [],
     "prompt_number": 91
    },
    {
     "cell_type": "markdown",
     "metadata": {},
     "source": [
      "###Buildings into DEM"
     ]
    },
    {
     "cell_type": "markdown",
     "metadata": {},
     "source": [
      "1.1. Create a raster with all the buildings"
     ]
    },
    {
     "cell_type": "code",
     "collapsed": false,
     "input": [
      "Outraster = r'c:\\ArcGIS\\EDM.gdb\\AllRaster'\n",
      "arcpy.env.extent = '676682, 218586, 684612, 229286' #These coordinates are extracted from the environment settings/once the DEM raster is selected directly in ArcGIS,\n",
      "arcpy.FeatureToRaster_conversion(Simple_Context,'height',Outraster,'0.5') #creating raster of the footprints of the buildings"
     ],
     "language": "python",
     "metadata": {},
     "outputs": [
      {
       "output_type": "pyout",
       "prompt_number": 9,
       "text": [
        "<Result 'c:\\\\ArcGIS\\\\EDM.gdb\\\\AllRaster'>"
       ]
      }
     ],
     "prompt_number": 9
    },
    {
     "cell_type": "markdown",
     "metadata": {},
     "source": [
      "1.2. clear non values and add all the Buildings to the DEM "
     ]
    },
    {
     "cell_type": "code",
     "collapsed": false,
     "input": [
      "OutNullRas =IsNull(Outraster) # identify noData Locations\n",
      "Output = Con(OutNullRas == 1,0,Outraster)\n",
      "RadiationDEM = Raster(DEModel) + Output\n",
      "RadiationDEM.save(r'c:\\ArcGIS\\EDM.gdb\\DEM_All')"
     ],
     "language": "python",
     "metadata": {},
     "outputs": [],
     "prompt_number": 10
    },
    {
     "cell_type": "markdown",
     "metadata": {},
     "source": [
      "###Observation Points "
     ]
    },
    {
     "cell_type": "markdown",
     "metadata": {},
     "source": [
      "2.1. First increase the boundaries in 2m of each surface in the community to analyze- this will avoid that the observers overlap the buildings and Simplify the community vertices to only create 1 point per surface"
     ]
    },
    {
     "cell_type": "code",
     "collapsed": false,
     "input": [
      "arcpy.Buffer_analysis(Simple_CQ,Buffer_CQ,buffer_distance_or_field=3, line_end_type='FLAT') # buffer with a flat finishing\n",
      "arcpy.Generalize_edit(Buffer_CQ,\"2 METERS\")"
     ],
     "language": "python",
     "metadata": {},
     "outputs": [
      {
       "output_type": "pyout",
       "prompt_number": 39,
       "text": [
        "<Result 'c:\\\\ArcGIS\\\\EDM.gdb\\\\temp\\\\BufferCQ'>"
       ]
      }
     ],
     "prompt_number": 39
    },
    {
     "cell_type": "markdown",
     "metadata": {},
     "source": [
      "2.2. Transform all polygons of the Areas to points or observation points"
     ]
    },
    {
     "cell_type": "code",
     "collapsed": false,
     "input": [
      "arcpy.SplitLine_management(Buffer_CQ,temporal_lines)\n",
      "arcpy.FeatureVerticesToPoints_management(temporal_lines,Points,'MID') # Second the transformation of Lines to a mid point"
     ],
     "language": "python",
     "metadata": {},
     "outputs": [
      {
       "output_type": "pyout",
       "prompt_number": 40,
       "text": [
        "<Result 'c:\\\\ArcGIS\\\\EDM.gdb\\\\temp\\\\Points'>"
       ]
      }
     ],
     "prompt_number": 40
    },
    {
     "cell_type": "markdown",
     "metadata": {},
     "source": [
      "2.3. Join all the polygons to get extra vertices, make lines and then get points. these points should be added to the original observation points in 2.2"
     ]
    },
    {
     "cell_type": "code",
     "collapsed": false,
     "input": [
      "arcpy.AggregatePolygons_cartography(Buffer_CQ,AggregatedBuffer,\"0.5 Meters\",\"0 SquareMeters\",\"0 SquareMeters\",\"ORTHOGONAL\") # agregate polygons\n",
      "arcpy.SplitLine_management(AggregatedBuffer,temporal_lines3) #make lines\n",
      "arcpy.FeatureVerticesToPoints_management(temporal_lines3,Points3,'MID')# create extra points"
     ],
     "language": "python",
     "metadata": {},
     "outputs": [
      {
       "output_type": "pyout",
       "prompt_number": 17,
       "text": [
        "<Result 'c:\\\\ArcGIS\\\\EDM.gdb\\\\temp\\\\Points3'>"
       ]
      }
     ],
     "prompt_number": 17
    },
    {
     "cell_type": "code",
     "collapsed": false,
     "input": [
      "Points3Updated = temporal2+'\\\\temp\\\\'+'Points3Updated'\n",
      "arcpy.SpatialJoin_analysis(Points3,Buffer_CQ,Points3Updated,\"JOIN_ONE_TO_ONE\",\"KEEP_ALL\",match_option=\"CLOSEST\")# add information to Points3 about their buildings"
     ],
     "language": "python",
     "metadata": {},
     "outputs": [
      {
       "output_type": "pyout",
       "prompt_number": 18,
       "text": [
        "<Result 'c:\\\\ArcGIS\\\\EDM.gdb\\\\temp\\\\Points3Updated'>"
       ]
      }
     ],
     "prompt_number": 18
    },
    {
     "cell_type": "code",
     "collapsed": false,
     "input": [
      "arcpy.Erase_analysis(Points3Updated,Points,EraseObservers,\"2 Meters\")# erase overlaping points\n",
      "arcpy.Merge_management([Points,EraseObservers],Observers)# erase overlaping points"
     ],
     "language": "python",
     "metadata": {},
     "outputs": [
      {
       "output_type": "pyout",
       "prompt_number": 22,
       "text": [
        "<Result 'c:\\\\ArcGIS\\\\EDM.gdb\\\\temp\\\\observers'>"
       ]
      }
     ],
     "prompt_number": 22
    },
    {
     "cell_type": "markdown",
     "metadata": {},
     "source": [
      "2.4. Eliminate Observation points above roofs of the highest surfaces(a trick to make the spatial selection of exposed surfaces and radiation points congruent, according to the first Chapter"
     ]
    },
    {
     "cell_type": "code",
     "collapsed": false,
     "input": [
      "#Import Secondary Join containing the data about buildings overlaping, eleiminate duplicades, chose only those ones no overlaped and reindex\n",
      "DataNear = pd.read_csv(Overlaptable)\n",
      "CleanDataNear = DataNear[DataNear['FactorShade'] == 1]\n",
      "CleanDataNear.drop_duplicates(cols='Name_x',inplace=True)\n",
      "CleanDataNear.reset_index(inplace=True)\n",
      "print CleanDataNear.head()"
     ],
     "language": "python",
     "metadata": {},
     "outputs": [
      {
       "output_type": "stream",
       "stream": "stdout",
       "text": [
        "   index  IN_FID  NEAR_DIST  NEAR_FID   Name_x  ORIG_FID_x  Shape_Leng_x  \\\n",
        "0      1      14   0.000000        13  Bau 02h          14     28.336565   \n",
        "1      3      57   0.374731        55  Bau 06h          57    124.436735   \n",
        "2      7     122   0.592903       120  Bau 17h         122     68.590371   \n",
        "\n",
        "   height_x  Name_y  ORIG_FID_y  Shape_Leng_y  height_y  FactorShade  \\\n",
        "0      19.5  Bau 02          13     28.336565       3.9            1   \n",
        "1      15.6  Bau 06          55    124.436327       5.0            1   \n",
        "2      23.4  Bau 17         120     68.591250       7.8            1   \n",
        "\n",
        "   Freeheight  \n",
        "0        15.6  \n",
        "1        10.6  \n",
        "2        15.6  \n"
       ]
      }
     ],
     "prompt_number": 32
    },
    {
     "cell_type": "code",
     "collapsed": false,
     "input": [
      "rows = CleanDataNear.Name_x.count()\n",
      "for row in range(rows):\n",
      "    Field = \"Name\" # select field where the name exists to iterate\n",
      "    Value = CleanDataNear.loc[row,'Name_x'] # set the value or name of the City quarter\n",
      "    Where_clausule =  ''''''+'\"'+Field+'\"'+\"=\"+\"\\'\"+str(Value)+\"\\'\"+'''''' # strange writing to introduce in ArcGIS\n",
      "    if row == 0:\n",
      "        arcpy.MakeFeatureLayer_management(Simple_CQ, 'Simple_lyr')\n",
      "        arcpy.SelectLayerByAttribute_management('Simple_lyr',\"NEW_SELECTION\",Where_clausule)\n",
      "    else:\n",
      "        arcpy.SelectLayerByAttribute_management('Simple_lyr',\"ADD_TO_SELECTION\",Where_clausule)\n",
      "        \n",
      "    arcpy.CopyFeatures_management('simple_lyr', NonoverlappingBuildings)"
     ],
     "language": "python",
     "metadata": {},
     "outputs": [],
     "prompt_number": 35
    },
    {
     "cell_type": "code",
     "collapsed": false,
     "input": [
      "arcpy.ErasePoint_edit(Observers,NonoverlappingBuildings,\"INSIDE\")"
     ],
     "language": "python",
     "metadata": {},
     "outputs": [
      {
       "output_type": "pyout",
       "prompt_number": 36,
       "text": [
        "<Result 'c:\\\\ArcGIS\\\\EDM.gdb\\\\temp\\\\observers'>"
       ]
      }
     ],
     "prompt_number": 36
    },
    {
     "cell_type": "markdown",
     "metadata": {},
     "source": [
      "###Hourly radiation"
     ]
    },
    {
     "cell_type": "markdown",
     "metadata": {},
     "source": [
      "3.2. Create a Directory for the Community to analyse"
     ]
    },
    {
     "cell_type": "code",
     "collapsed": false,
     "input": [
      "if not os.path.exists(r'c:\\ArcGIS\\temp'+'\\\\'+CQ_name):\n",
      "    os.makedirs(r'c:\\ArcGIS\\temp'+'\\\\'+CQ_name)\n",
      "if not os.path.exists(r'c:\\ArcGIS\\temp'+'\\\\'+CQ_name+'\\\\'+'Global'):\n",
      "    os.makedirs(r'c:\\ArcGIS\\temp'+'\\\\'+CQ_name+'\\\\'+'Global')\n",
      "if not os.path.exists(r'c:\\ArcGIS\\temp'+'\\\\'+CQ_name+'\\\\'+'Direct'):\n",
      "    os.makedirs(r'c:\\ArcGIS\\temp'+'\\\\'+CQ_name+'\\\\'+'Direct')"
     ],
     "language": "python",
     "metadata": {},
     "outputs": [],
     "prompt_number": 12
    },
    {
     "cell_type": "markdown",
     "metadata": {},
     "source": [
      "3.3. Create radiation in the surfaces per hour and return shading factors for each point  - Considering Buildings"
     ]
    },
    {
     "cell_type": "code",
     "collapsed": false,
     "input": [
      "#Parallels\n",
      "from IPython.parallel import Client\n",
      "client = Client()\n",
      "view = client.load_balanced_view()\n",
      "view.block = True\n",
      "dview = client[:]\n",
      "dview.push({\n",
      "    'CQ_name': CQ_name,\n",
      "    'DEModelFinal': DEModelFinal,\n",
      "    'Points': Points,\n",
      "    'heightoffset': heightoffset,\n",
      "    'latitude': latitude,\n",
      "    'skySize': skySize,\n",
      "    'dayInterval': dayInterval,\n",
      "    'hourInterval': hourInterval,\n",
      "    'calcDirections': calcDirections,\n",
      "    'zenithDivisions': zenithDivisions,\n",
      "    'azimuthDivisions': azimuthDivisions,\n",
      "    'diffuseProp': diffuseProp,\n",
      "    'transmittivity': transmittivity,\n",
      "    'Calctable': Calctable,\n",
      "    'Calc_sunrise': Calc_sunrise,\n",
      "    'Longitude': Longitude,\n",
      "    'Latitude': Latitude,\n",
      "    'TimeZone': TimeZone})\n",
      "# add all imports modules to the cores\n",
      "with dview.sync_imports():\n",
      "    import sys\n",
      "%px sys.path.append(\"C:\\Users\\Jimeno Fonseca\\Documents\\Console\\sandbox\")\n",
      "with dview.sync_imports():\n",
      "    import arcpy\n",
      "    import sys\n",
      "    from pyGDsandbox.dataIO import df2dbf, dbf2df \n",
      "    import pandas as pd\n",
      "    import numpy as np\n",
      "# Excecute these functions in all the cores necessary to run the Function  \n",
      "%autopx\n",
      "arcpy.env.workspace = 'c:\\ArcGIS\\EDM.gdb'\n",
      "arcpy.env.overwriteOutput = True\n",
      "arcpy.CheckOutExtension(\"spatial\")\n",
      "arcpy.CheckOutExtension(\"3D\")\n",
      "%autopx"
     ],
     "language": "python",
     "metadata": {},
     "outputs": [
      {
       "output_type": "stream",
       "stream": "stdout",
       "text": [
        "importing sys on engine(s)\n",
        "importing arcpy on engine(s)\n",
        "importing sys on engine(s)"
       ]
      },
      {
       "output_type": "stream",
       "stream": "stdout",
       "text": [
        "\n",
        "importing df2dbf,dbf2df from pyGDsandbox.dataIO on engine(s)\n",
        "importing pandas on engine(s)\n",
        "importing numpy on engine(s)\n",
        "%autopx enabled"
       ]
      },
      {
       "output_type": "stream",
       "stream": "stdout",
       "text": [
        "\n",
        "%autopx disabled\n"
       ]
      }
     ],
     "prompt_number": 125
    },
    {
     "cell_type": "code",
     "collapsed": false,
     "input": [
      "@view.parallel()\n",
      "def points_solar_radiation(day):\n",
      "    GlobalRadiation = r'c:\\ArcGIS\\temp'+'\\\\'+CQ_name+'\\\\'+'Global'+'\\\\'+'Day_'+str(day)+'.shp'\n",
      "    DirectRadiation = r'c:\\ArcGIS\\temp'+'\\\\'+CQ_name+'\\\\'+'Direct'+'\\\\'+'Day_'+str(day)+'.shp'\n",
      "    timeConfig =  'WithinDay    '+str(day)+', 0, 24'\n",
      "    arcpy.gp.PointsSolarRadiation_sa(DEModelFinal, Points, GlobalRadiation, heightoffset,\n",
      "        latitude, skySize, timeConfig, dayInterval, hourInterval, \"INTERVAL\", \"1\", \"FROM_DEM\",\n",
      "        calcDirections, zenithDivisions, azimuthDivisions, \"STANDARD_OVERCAST_SKY\",\n",
      "        diffuseProp, transmittivity, DirectRadiation, \"#\", \"#\")\n",
      "    Radiation = dbf2df(r'c:\\ArcGIS\\temp\\%s\\Global\\Day_%s.dbf' % (CQ_name, day)) #obtain file form the model with buildings\n",
      "    #Obtain the number of points modeled to do the iterations\n",
      "    Radiation['ID'] = 0\n",
      "    Counter = Radiation.ID.count()\n",
      "    Value = Counter + 1\n",
      "    Radiation['ID'] = range(1, Value)\n",
      "    #function to include all the hours and compude final table\n",
      "    RadiationClean = Calctable(day, Radiation)\n",
      "    return RadiationClean"
     ],
     "language": "python",
     "metadata": {},
     "outputs": [],
     "prompt_number": 126
    },
    {
     "cell_type": "code",
     "collapsed": false,
     "input": [
      "#Initialize variable in the function\n",
      "radiations = points_solar_radiation.map(range(1, 366))\n",
      "# save the results of the first day\n",
      "Radiationyear = radiations[0]\n",
      "# Append to the first day all the days\n",
      "for r in radiations[1:]:\n",
      "    Radiationyear = Radiationyear.merge(r, on='ID')\n",
      "# Export results to csv\n",
      "Radiationyear.to_csv(r'c:\\ArcGIS\\temp'+'\\\\'+CQ_name+'\\\\'+'Global'+'\\\\'+'RadiationYear.csv',Index=False)\n",
      "print 'done'"
     ],
     "language": "python",
     "metadata": {},
     "outputs": [],
     "prompt_number": "*"
    },
    {
     "cell_type": "markdown",
     "metadata": {},
     "source": [
      "###Radiation to Surfaces"
     ]
    },
    {
     "cell_type": "markdown",
     "metadata": {},
     "source": [
      "4.1 Create Join of features Observers and CQ_sementscentroids to assign Names and IDS of observers (field ORIG_ID) to the centroids of the lines of the buildings, then create a table to import as a Dataframe"
     ]
    },
    {
     "cell_type": "code",
     "collapsed": false,
     "input": [
      "Outjoin = temporal2+'\\\\temp\\\\'+'Join'\n",
      "arcpy.SpatialJoin_analysis(CQSegments_centroid,Observers,Outjoin,\"JOIN_ONE_TO_ONE\",\"KEEP_ALL\",match_option=\"CLOSEST\")"
     ],
     "language": "python",
     "metadata": {},
     "outputs": [
      {
       "output_type": "pyout",
       "prompt_number": 114,
       "text": [
        "<Result 'c:\\\\ArcGIS\\\\EDM.gdb\\\\temp\\\\Join'>"
       ]
      }
     ],
     "prompt_number": 114
    },
    {
     "cell_type": "code",
     "collapsed": false,
     "input": [
      "arcpy.JoinField_management(Outjoin,'OBJECTID',CQSegments, 'OBJECTID') # add the lenghts of the Lines to the File"
     ],
     "language": "python",
     "metadata": {},
     "outputs": [
      {
       "output_type": "pyout",
       "prompt_number": 115,
       "text": [
        "<Result 'c:\\\\ArcGIS\\\\EDM.gdb\\\\temp\\\\Join'>"
       ]
      }
     ],
     "prompt_number": 115
    },
    {
     "cell_type": "code",
     "collapsed": false,
     "input": [
      "OutTable = 'CentroidsIDobserv.dbf'\n",
      "arcpy.TableToTable_conversion(Outjoin, temporal1, OutTable)\n",
      "Centroids_ID_observers = dbf2df(temporal1+'\\\\'+OutTable, cols={'Name_1','height','ORIG_FID','Shape_Leng'})"
     ],
     "language": "python",
     "metadata": {},
     "outputs": [],
     "prompt_number": 116
    },
    {
     "cell_type": "markdown",
     "metadata": {},
     "source": [
      "4.2 Create a Join of the Centroid_ID_observers and Datacentroids in the Second Chapter to get values of surfaces Shaded."
     ]
    },
    {
     "cell_type": "code",
     "collapsed": false,
     "input": [
      "Datacentroids = pd.read_csv(DataCentroidsCSV)\n",
      "DataCentroidsFull = pd.merge(Centroids_ID_observers,Datacentroids,left_index=True,right_index=True)"
     ],
     "language": "python",
     "metadata": {},
     "outputs": [],
     "prompt_number": 118
    },
    {
     "cell_type": "markdown",
     "metadata": {},
     "source": [
      "4.1. Read again the radiation table and merge values with the Centroid_ID_observers under the field ID in Radiationtable and 'ORIG_ID' in Centroids..."
     ]
    },
    {
     "cell_type": "code",
     "collapsed": false,
     "input": [
      "Radiationtable = pd.read_csv(temporal1+'\\\\'+CQ_name+'\\\\'+'Global'+'\\\\'+'RadiationYear.csv',index_col='Unnamed: 0.1')\n",
      "DataRadiation = pd.merge(DataCentroidsFull,Radiationtable, left_on='ORIG_FID_x',right_on='ID')"
     ],
     "language": "python",
     "metadata": {},
     "outputs": [],
     "prompt_number": 173
    },
    {
     "cell_type": "code",
     "collapsed": false,
     "input": [
      "DataRadiation.to_csv(DataradiationLocation,index=False)"
     ],
     "language": "python",
     "metadata": {},
     "outputs": [],
     "prompt_number": 174
    }
   ],
   "metadata": {}
  }
 ]
}
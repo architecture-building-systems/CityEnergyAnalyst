{
 "cells": [
  {
   "cell_type": "markdown",
   "metadata": {},
   "source": "# Migration script\n\nMigrate the input databases from the 2.29 format to the 2.31.1 format.\n\nThis notebook assumes `SCENARIO_TO_MIGRATE` points to a scenario of Kleinalbis (which buildings?) in v2.29.0 format and `EXAMPLE_SCENARIO` to a scenario in v2.31.1 format. \n\nThese are the v2.29.0 format files to migrate:\n\n- shapefiles \n  - `inputs/building-geometry/zone.shp`... checked. no changes!\n  - `inputs/building-geometry/site.shp`... checked. no changes!\n  - `inputs/building-geometry/surroundings.shp`... checked. no changes!\n- inputs to archetypes-mapper\n  - `inputs/building-properties/age.dbf`... checked: merge to `typology.dbf`\n  - `inputs/building-properties/occupancy.dbf`... checked: merge to `typology.dbf`\n- outputs of archetypes-mapper\n  - `inputs/building-properties/air_conditioning_systems.dbf`\n  - `inputs/building-properties/architecture.dbf`\n  - `inputs/building-properties/indoor_comfort.dbf`\n  - `inputs/building-properties/internal_loads.dbf`\n  - `inputs/building-properties/supply_systems.dbf`\n  - `inputs/building-properties/schedules/B*.csv`... checked: add ELECTROMOBILITY column?\n\nAlso, remember, the inputs/technology folder also changed and the v2.31.1 format references these possibly differently.\n\n### Assumptions\n\nTo make this easier, here are some assumptions this script makes:\n\n- use types in `occupancy.dbf` correspond to use types in `USE_TYPE_PROPERTIES.XSLX` (and corresponding `*.csv` schedules)\n- user edits the schedules in the database selected, unless user has defined their own schedules with the `schedule-maker` tool - in that case, don't create schedules with the `archetypes-mapper`!\n- no more than 3 uses per row in `occupancy.dbf`"
  },
  {
   "cell_type": "code",
   "execution_count": 95,
   "metadata": {},
   "outputs": [],
   "source": "import os\nimport cea\nimport geopandas\nimport pandas as pd\nfrom packaging import version\n\nimport cea.inputlocator\nfrom cea.utilities.dbf import dbf_to_dataframe, dataframe_to_dbf"
  },
  {
   "cell_type": "code",
   "execution_count": 96,
   "metadata": {},
   "outputs": [],
   "source": "# Constants\nSCENARIO_TO_MIGRATE = r\"c:\\Users\\darthoma\\Documents\\CityEnergyAnalyst\\projects\\2.29.0\\kleinalbis\"\nEXAMPLE_SCENARIO = r\"c:\\Users\\darthoma\\Documents\\CityEnergyAnalyst\\projects\\working-with-databases\\kleinalbis\"\n\n# the (new) database to use for migration - user should prepare this in advance...\nDATABASE = r\"c:\\Users\\darthoma\\Documents\\GitHub\\CityEnergyAnalyst\\cea\\databases\\CH\"\nCONSTRUCTION_STANDARD_XLSX = os.path.join(DATABASE, \"archetypes\", \"CONSTRUCTION_STANDARD.xlsx\")"
  },
  {
   "cell_type": "code",
   "execution_count": 97,
   "metadata": {},
   "outputs": [],
   "source": "# we can't use the input locator for the v2.29.0 scenario, but we _can_ (and should) use it for v2.31.1.\nlocator = cea.inputlocator.InputLocator(scenario=EXAMPLE_SCENARIO)"
  },
  {
   "cell_type": "markdown",
   "metadata": {},
   "source": "## Migrate building-geometry files"
  },
  {
   "cell_type": "code",
   "execution_count": 98,
   "metadata": {},
   "outputs": [
    {
     "data": {
      "text/html": "<div>\n<style scoped>\n    .dataframe tbody tr th:only-of-type {\n        vertical-align: middle;\n    }\n\n    .dataframe tbody tr th {\n        vertical-align: top;\n    }\n\n    .dataframe thead th {\n        text-align: right;\n    }\n</style>\n<table border=\"1\" class=\"dataframe\">\n  <thead>\n    <tr style=\"text-align: right;\">\n      <th></th>\n      <th>Name</th>\n      <th>height_ag</th>\n      <th>floors_ag</th>\n      <th>height_bg</th>\n      <th>floors_bg</th>\n      <th>descriptio</th>\n      <th>category</th>\n      <th>REFERENCE</th>\n      <th>geometry</th>\n    </tr>\n  </thead>\n  <tbody>\n    <tr>\n      <th>0</th>\n      <td>B1000</td>\n      <td>9.0</td>\n      <td>3</td>\n      <td>3.0</td>\n      <td>1</td>\n      <td>FGZ-Siedlung 12: Kleinalbis II</td>\n      <td>house</td>\n      <td>OSM - as it is</td>\n      <td>POLYGON ((462732.2208216225 15245068.84431113,...</td>\n    </tr>\n    <tr>\n      <th>1</th>\n      <td>B1001</td>\n      <td>9.0</td>\n      <td>3</td>\n      <td>3.0</td>\n      <td>1</td>\n      <td>FGZ-Siedlung 12: Kleinalbis II</td>\n      <td>house</td>\n      <td>OSM - as it is</td>\n      <td>POLYGON ((462736.5184668251 15245045.1003448, ...</td>\n    </tr>\n    <tr>\n      <th>2</th>\n      <td>B1002</td>\n      <td>9.0</td>\n      <td>3</td>\n      <td>3.0</td>\n      <td>1</td>\n      <td>FGZ-Siedlung 12: Kleinalbis II</td>\n      <td>house</td>\n      <td>OSM - as it is</td>\n      <td>POLYGON ((462730.7804993654 15245054.87234257,...</td>\n    </tr>\n    <tr>\n      <th>3</th>\n      <td>B1003</td>\n      <td>9.0</td>\n      <td>3</td>\n      <td>3.0</td>\n      <td>1</td>\n      <td>FGZ-Siedlung 12: Kleinalbis II</td>\n      <td>house</td>\n      <td>OSM - as it is</td>\n      <td>POLYGON ((462743.7118557409 15245049.30022802,...</td>\n    </tr>\n    <tr>\n      <th>4</th>\n      <td>B1004</td>\n      <td>9.0</td>\n      <td>3</td>\n      <td>3.0</td>\n      <td>1</td>\n      <td>FGZ-Siedlung 12: Kleinalbis II</td>\n      <td>house</td>\n      <td>OSM - as it is</td>\n      <td>POLYGON ((462737.9663290229 15245059.07226665,...</td>\n    </tr>\n    <tr>\n      <th>5</th>\n      <td>B1005</td>\n      <td>9.0</td>\n      <td>3</td>\n      <td>3.0</td>\n      <td>1</td>\n      <td>FGZ-Siedlung 12: Kleinalbis II</td>\n      <td>house</td>\n      <td>OSM - as it is</td>\n      <td>POLYGON ((462732.2208216225 15245068.84431113,...</td>\n    </tr>\n  </tbody>\n</table>\n</div>",
      "text/plain": "    Name  height_ag  floors_ag  height_bg  floors_bg  \\\n0  B1000        9.0          3        3.0          1   \n1  B1001        9.0          3        3.0          1   \n2  B1002        9.0          3        3.0          1   \n3  B1003        9.0          3        3.0          1   \n4  B1004        9.0          3        3.0          1   \n5  B1005        9.0          3        3.0          1   \n\n                       descriptio category       REFERENCE  \\\n0  FGZ-Siedlung 12: Kleinalbis II    house  OSM - as it is   \n1  FGZ-Siedlung 12: Kleinalbis II    house  OSM - as it is   \n2  FGZ-Siedlung 12: Kleinalbis II    house  OSM - as it is   \n3  FGZ-Siedlung 12: Kleinalbis II    house  OSM - as it is   \n4  FGZ-Siedlung 12: Kleinalbis II    house  OSM - as it is   \n5  FGZ-Siedlung 12: Kleinalbis II    house  OSM - as it is   \n\n                                            geometry  \n0  POLYGON ((462732.2208216225 15245068.84431113,...  \n1  POLYGON ((462736.5184668251 15245045.1003448, ...  \n2  POLYGON ((462730.7804993654 15245054.87234257,...  \n3  POLYGON ((462743.7118557409 15245049.30022802,...  \n4  POLYGON ((462737.9663290229 15245059.07226665,...  \n5  POLYGON ((462732.2208216225 15245068.84431113,...  "
     },
     "execution_count": 98,
     "metadata": {},
     "output_type": "execute_result"
    }
   ],
   "source": "# let's first compare the two files (and practice reading/writing shape files)\nold_zone_shp = geopandas.GeoDataFrame.from_file(\n    os.path.join(SCENARIO_TO_MIGRATE, \"inputs\", \"building-geometry\", \"zone.shp\"))\nold_zone_shp"
  },
  {
   "cell_type": "code",
   "execution_count": 99,
   "metadata": {},
   "outputs": [
    {
     "data": {
      "text/html": "<div>\n<style scoped>\n    .dataframe tbody tr th:only-of-type {\n        vertical-align: middle;\n    }\n\n    .dataframe tbody tr th {\n        vertical-align: top;\n    }\n\n    .dataframe thead th {\n        text-align: right;\n    }\n</style>\n<table border=\"1\" class=\"dataframe\">\n  <thead>\n    <tr style=\"text-align: right;\">\n      <th></th>\n      <th>Name</th>\n      <th>height_ag</th>\n      <th>floors_ag</th>\n      <th>height_bg</th>\n      <th>floors_bg</th>\n      <th>descriptio</th>\n      <th>category</th>\n      <th>REFERENCE</th>\n      <th>geometry</th>\n    </tr>\n  </thead>\n  <tbody>\n    <tr>\n      <th>0</th>\n      <td>B1000</td>\n      <td>9.0</td>\n      <td>3</td>\n      <td>3.0</td>\n      <td>1</td>\n      <td>FGZ-Siedlung 12: Kleinalbis II</td>\n      <td>house</td>\n      <td>OSM - as it is</td>\n      <td>POLYGON ((462732.2208216225 15245068.84431113,...</td>\n    </tr>\n    <tr>\n      <th>1</th>\n      <td>B1001</td>\n      <td>9.0</td>\n      <td>3</td>\n      <td>3.0</td>\n      <td>1</td>\n      <td>FGZ-Siedlung 12: Kleinalbis II</td>\n      <td>house</td>\n      <td>OSM - as it is</td>\n      <td>POLYGON ((462736.5184668251 15245045.1003448, ...</td>\n    </tr>\n    <tr>\n      <th>2</th>\n      <td>B1002</td>\n      <td>9.0</td>\n      <td>3</td>\n      <td>3.0</td>\n      <td>1</td>\n      <td>FGZ-Siedlung 12: Kleinalbis II</td>\n      <td>house</td>\n      <td>OSM - as it is</td>\n      <td>POLYGON ((462730.7804993654 15245054.87234257,...</td>\n    </tr>\n    <tr>\n      <th>3</th>\n      <td>B1003</td>\n      <td>9.0</td>\n      <td>3</td>\n      <td>3.0</td>\n      <td>1</td>\n      <td>FGZ-Siedlung 12: Kleinalbis II</td>\n      <td>house</td>\n      <td>OSM - as it is</td>\n      <td>POLYGON ((462743.7118557409 15245049.30022802,...</td>\n    </tr>\n    <tr>\n      <th>4</th>\n      <td>B1004</td>\n      <td>9.0</td>\n      <td>3</td>\n      <td>3.0</td>\n      <td>1</td>\n      <td>FGZ-Siedlung 12: Kleinalbis II</td>\n      <td>house</td>\n      <td>OSM - as it is</td>\n      <td>POLYGON ((462737.9663290229 15245059.07226665,...</td>\n    </tr>\n    <tr>\n      <th>5</th>\n      <td>B1005</td>\n      <td>9.0</td>\n      <td>3</td>\n      <td>3.0</td>\n      <td>1</td>\n      <td>FGZ-Siedlung 12: Kleinalbis II</td>\n      <td>house</td>\n      <td>OSM - as it is</td>\n      <td>POLYGON ((462732.2208216225 15245068.84431113,...</td>\n    </tr>\n  </tbody>\n</table>\n</div>",
      "text/plain": "    Name  height_ag  floors_ag  height_bg  floors_bg  \\\n0  B1000        9.0          3        3.0          1   \n1  B1001        9.0          3        3.0          1   \n2  B1002        9.0          3        3.0          1   \n3  B1003        9.0          3        3.0          1   \n4  B1004        9.0          3        3.0          1   \n5  B1005        9.0          3        3.0          1   \n\n                       descriptio category       REFERENCE  \\\n0  FGZ-Siedlung 12: Kleinalbis II    house  OSM - as it is   \n1  FGZ-Siedlung 12: Kleinalbis II    house  OSM - as it is   \n2  FGZ-Siedlung 12: Kleinalbis II    house  OSM - as it is   \n3  FGZ-Siedlung 12: Kleinalbis II    house  OSM - as it is   \n4  FGZ-Siedlung 12: Kleinalbis II    house  OSM - as it is   \n5  FGZ-Siedlung 12: Kleinalbis II    house  OSM - as it is   \n\n                                            geometry  \n0  POLYGON ((462732.2208216225 15245068.84431113,...  \n1  POLYGON ((462736.5184668251 15245045.1003448, ...  \n2  POLYGON ((462730.7804993654 15245054.87234257,...  \n3  POLYGON ((462743.7118557409 15245049.30022802,...  \n4  POLYGON ((462737.9663290229 15245059.07226665,...  \n5  POLYGON ((462732.2208216225 15245068.84431113,...  "
     },
     "execution_count": 99,
     "metadata": {},
     "output_type": "execute_result"
    }
   ],
   "source": "new_zone_shp = geopandas.GeoDataFrame.from_file(locator.get_zone_geometry())\nnew_zone_shp"
  },
  {
   "cell_type": "markdown",
   "metadata": {},
   "source": "The zone.shp file is the the same! (repeated this procedure with site.shp and surroundings.shp)"
  },
  {
   "cell_type": "markdown",
   "metadata": {},
   "source": "## Migrate age.dbf file and occupancy.dbf file"
  },
  {
   "cell_type": "code",
   "execution_count": 100,
   "metadata": {},
   "outputs": [
    {
     "data": {
      "text/html": "<div>\n<style scoped>\n    .dataframe tbody tr th:only-of-type {\n        vertical-align: middle;\n    }\n\n    .dataframe tbody tr th {\n        vertical-align: top;\n    }\n\n    .dataframe thead th {\n        text-align: right;\n    }\n</style>\n<table border=\"1\" class=\"dataframe\">\n  <thead>\n    <tr style=\"text-align: right;\">\n      <th></th>\n      <th>HVAC</th>\n      <th>Name</th>\n      <th>REFERENCE</th>\n      <th>basement</th>\n      <th>built</th>\n      <th>envelope</th>\n      <th>partitions</th>\n      <th>roof</th>\n      <th>windows</th>\n    </tr>\n  </thead>\n  <tbody>\n    <tr>\n      <th>0</th>\n      <td>0</td>\n      <td>B1000</td>\n      <td>OSM - as it is</td>\n      <td>0</td>\n      <td>1943</td>\n      <td>0</td>\n      <td>0</td>\n      <td>0</td>\n      <td>0</td>\n    </tr>\n    <tr>\n      <th>1</th>\n      <td>0</td>\n      <td>B1001</td>\n      <td>OSM - as it is</td>\n      <td>0</td>\n      <td>1943</td>\n      <td>0</td>\n      <td>0</td>\n      <td>0</td>\n      <td>0</td>\n    </tr>\n    <tr>\n      <th>2</th>\n      <td>0</td>\n      <td>B1002</td>\n      <td>OSM - as it is</td>\n      <td>0</td>\n      <td>1943</td>\n      <td>0</td>\n      <td>0</td>\n      <td>0</td>\n      <td>0</td>\n    </tr>\n    <tr>\n      <th>3</th>\n      <td>0</td>\n      <td>B1003</td>\n      <td>OSM - as it is</td>\n      <td>0</td>\n      <td>1943</td>\n      <td>0</td>\n      <td>0</td>\n      <td>0</td>\n      <td>0</td>\n    </tr>\n    <tr>\n      <th>4</th>\n      <td>0</td>\n      <td>B1004</td>\n      <td>OSM - as it is</td>\n      <td>0</td>\n      <td>1943</td>\n      <td>0</td>\n      <td>0</td>\n      <td>0</td>\n      <td>0</td>\n    </tr>\n    <tr>\n      <th>5</th>\n      <td>0</td>\n      <td>B1005</td>\n      <td>OSM - as it is</td>\n      <td>0</td>\n      <td>1943</td>\n      <td>0</td>\n      <td>0</td>\n      <td>0</td>\n      <td>0</td>\n    </tr>\n  </tbody>\n</table>\n</div>",
      "text/plain": "   HVAC   Name       REFERENCE  basement  built  envelope  partitions  roof  \\\n0     0  B1000  OSM - as it is         0   1943         0           0     0   \n1     0  B1001  OSM - as it is         0   1943         0           0     0   \n2     0  B1002  OSM - as it is         0   1943         0           0     0   \n3     0  B1003  OSM - as it is         0   1943         0           0     0   \n4     0  B1004  OSM - as it is         0   1943         0           0     0   \n5     0  B1005  OSM - as it is         0   1943         0           0     0   \n\n   windows  \n0        0  \n1        0  \n2        0  \n3        0  \n4        0  \n5        0  "
     },
     "execution_count": 100,
     "metadata": {},
     "output_type": "execute_result"
    }
   ],
   "source": "old_age_dbf = dbf_to_dataframe(os.path.join(SCENARIO_TO_MIGRATE, \"inputs\", \"building-properties\", \"age.dbf\"))\nold_age_dbf"
  },
  {
   "cell_type": "code",
   "execution_count": 101,
   "metadata": {},
   "outputs": [
    {
     "data": {
      "text/html": "<div>\n<style scoped>\n    .dataframe tbody tr th:only-of-type {\n        vertical-align: middle;\n    }\n\n    .dataframe tbody tr th {\n        vertical-align: top;\n    }\n\n    .dataframe thead th {\n        text-align: right;\n    }\n</style>\n<table border=\"1\" class=\"dataframe\">\n  <thead>\n    <tr style=\"text-align: right;\">\n      <th></th>\n      <th>1ST_USE</th>\n      <th>1ST_USE_R</th>\n      <th>2ND_USE</th>\n      <th>2ND_USE_R</th>\n      <th>3RD_USE</th>\n      <th>3RD_USE_R</th>\n      <th>Name</th>\n      <th>REFERENCE</th>\n      <th>STANDARD</th>\n      <th>YEAR</th>\n    </tr>\n  </thead>\n  <tbody>\n    <tr>\n      <th>0</th>\n      <td>MULTI_RES</td>\n      <td>1.0</td>\n      <td>NONE</td>\n      <td>0.0</td>\n      <td>NONE</td>\n      <td>0.0</td>\n      <td>B1000</td>\n      <td>OSM - as it is</td>\n      <td>STANDARD2</td>\n      <td>1943</td>\n    </tr>\n    <tr>\n      <th>1</th>\n      <td>MULTI_RES</td>\n      <td>1.0</td>\n      <td>NONE</td>\n      <td>0.0</td>\n      <td>NONE</td>\n      <td>0.0</td>\n      <td>B1001</td>\n      <td>OSM - as it is</td>\n      <td>STANDARD2</td>\n      <td>1943</td>\n    </tr>\n    <tr>\n      <th>2</th>\n      <td>MULTI_RES</td>\n      <td>1.0</td>\n      <td>NONE</td>\n      <td>0.0</td>\n      <td>NONE</td>\n      <td>0.0</td>\n      <td>B1002</td>\n      <td>OSM - as it is</td>\n      <td>STANDARD2</td>\n      <td>1943</td>\n    </tr>\n    <tr>\n      <th>3</th>\n      <td>MULTI_RES</td>\n      <td>1.0</td>\n      <td>NONE</td>\n      <td>0.0</td>\n      <td>NONE</td>\n      <td>0.0</td>\n      <td>B1003</td>\n      <td>OSM - as it is</td>\n      <td>STANDARD2</td>\n      <td>1943</td>\n    </tr>\n    <tr>\n      <th>4</th>\n      <td>MULTI_RES</td>\n      <td>1.0</td>\n      <td>NONE</td>\n      <td>0.0</td>\n      <td>NONE</td>\n      <td>0.0</td>\n      <td>B1004</td>\n      <td>OSM - as it is</td>\n      <td>STANDARD2</td>\n      <td>1943</td>\n    </tr>\n    <tr>\n      <th>5</th>\n      <td>MULTI_RES</td>\n      <td>1.0</td>\n      <td>NONE</td>\n      <td>0.0</td>\n      <td>NONE</td>\n      <td>0.0</td>\n      <td>B1005</td>\n      <td>OSM - as it is</td>\n      <td>STANDARD2</td>\n      <td>1943</td>\n    </tr>\n  </tbody>\n</table>\n</div>",
      "text/plain": "     1ST_USE  1ST_USE_R 2ND_USE  2ND_USE_R 3RD_USE  3RD_USE_R   Name  \\\n0  MULTI_RES        1.0    NONE        0.0    NONE        0.0  B1000   \n1  MULTI_RES        1.0    NONE        0.0    NONE        0.0  B1001   \n2  MULTI_RES        1.0    NONE        0.0    NONE        0.0  B1002   \n3  MULTI_RES        1.0    NONE        0.0    NONE        0.0  B1003   \n4  MULTI_RES        1.0    NONE        0.0    NONE        0.0  B1004   \n5  MULTI_RES        1.0    NONE        0.0    NONE        0.0  B1005   \n\n        REFERENCE   STANDARD  YEAR  \n0  OSM - as it is  STANDARD2  1943  \n1  OSM - as it is  STANDARD2  1943  \n2  OSM - as it is  STANDARD2  1943  \n3  OSM - as it is  STANDARD2  1943  \n4  OSM - as it is  STANDARD2  1943  \n5  OSM - as it is  STANDARD2  1943  "
     },
     "execution_count": 101,
     "metadata": {},
     "output_type": "execute_result"
    }
   ],
   "source": "# i think that should be migrated to typology.dbf\nnew_typology_dbf = dbf_to_dataframe(locator.get_building_typology())\nnew_typology_dbf"
  },
  {
   "cell_type": "markdown",
   "metadata": {},
   "source": "OK. So. This is going to be interesting.\n\n- old_age_dbf.Name --> new_typology_dbf.Name\n- old_age_dbf.built --> new_typology_dbf.YEAR\n\n(I'm assuming we just forget the other stuff for now - maybe when we look into the old technologies folder, we'll figure out a way to translate the HVAC, basement, envelope, partitions, roof and windows fields. Maybe.)"
  },
  {
   "cell_type": "code",
   "execution_count": 102,
   "metadata": {},
   "outputs": [],
   "source": "old_occupancy_dbf = dbf_to_dataframe(\n    os.path.join(SCENARIO_TO_MIGRATE, \"inputs\", \"building-properties\", \"occupancy.dbf\"))\n# old_occupancy_dbf"
  },
  {
   "cell_type": "markdown",
   "metadata": {},
   "source": "Clearly, this information goes into the `typology.dbf` file - we just need to figure out how to map the uses."
  },
  {
   "cell_type": "code",
   "execution_count": 117,
   "metadata": {},
   "outputs": [
    {
     "data": {
      "text/html": "<div>\n<style scoped>\n    .dataframe tbody tr th:only-of-type {\n        vertical-align: middle;\n    }\n\n    .dataframe tbody tr th {\n        vertical-align: top;\n    }\n\n    .dataframe thead th {\n        text-align: right;\n    }\n</style>\n<table border=\"1\" class=\"dataframe\">\n  <thead>\n    <tr style=\"text-align: right;\">\n      <th></th>\n      <th>Name</th>\n      <th>YEAR</th>\n      <th>STANDARD</th>\n      <th>1ST_USE</th>\n      <th>1ST_USE_R</th>\n      <th>2ND_USE</th>\n      <th>2ND_USE_R</th>\n      <th>3RD_USE</th>\n      <th>3RD_USE_R</th>\n    </tr>\n  </thead>\n  <tbody>\n    <tr>\n      <th>0</th>\n      <td>B1000</td>\n      <td>1943</td>\n      <td>STANDARD2</td>\n      <td>SINGLE_RES</td>\n      <td>1.0</td>\n      <td>NONE</td>\n      <td>0.0</td>\n      <td>NONE</td>\n      <td>0.0</td>\n    </tr>\n    <tr>\n      <th>1</th>\n      <td>B1001</td>\n      <td>1943</td>\n      <td>STANDARD2</td>\n      <td>SINGLE_RES</td>\n      <td>1.0</td>\n      <td>NONE</td>\n      <td>0.0</td>\n      <td>NONE</td>\n      <td>0.0</td>\n    </tr>\n    <tr>\n      <th>2</th>\n      <td>B1002</td>\n      <td>1943</td>\n      <td>STANDARD2</td>\n      <td>SINGLE_RES</td>\n      <td>1.0</td>\n      <td>NONE</td>\n      <td>0.0</td>\n      <td>NONE</td>\n      <td>0.0</td>\n    </tr>\n    <tr>\n      <th>3</th>\n      <td>B1003</td>\n      <td>1943</td>\n      <td>STANDARD2</td>\n      <td>SINGLE_RES</td>\n      <td>1.0</td>\n      <td>NONE</td>\n      <td>0.0</td>\n      <td>NONE</td>\n      <td>0.0</td>\n    </tr>\n    <tr>\n      <th>4</th>\n      <td>B1004</td>\n      <td>1943</td>\n      <td>STANDARD2</td>\n      <td>SINGLE_RES</td>\n      <td>1.0</td>\n      <td>NONE</td>\n      <td>0.0</td>\n      <td>NONE</td>\n      <td>0.0</td>\n    </tr>\n    <tr>\n      <th>5</th>\n      <td>B1005</td>\n      <td>1943</td>\n      <td>STANDARD2</td>\n      <td>SINGLE_RES</td>\n      <td>1.0</td>\n      <td>NONE</td>\n      <td>0.0</td>\n      <td>NONE</td>\n      <td>0.0</td>\n    </tr>\n  </tbody>\n</table>\n</div>",
      "text/plain": "    Name  YEAR   STANDARD     1ST_USE  1ST_USE_R 2ND_USE  2ND_USE_R 3RD_USE  \\\n0  B1000  1943  STANDARD2  SINGLE_RES        1.0    NONE        0.0    NONE   \n1  B1001  1943  STANDARD2  SINGLE_RES        1.0    NONE        0.0    NONE   \n2  B1002  1943  STANDARD2  SINGLE_RES        1.0    NONE        0.0    NONE   \n3  B1003  1943  STANDARD2  SINGLE_RES        1.0    NONE        0.0    NONE   \n4  B1004  1943  STANDARD2  SINGLE_RES        1.0    NONE        0.0    NONE   \n5  B1005  1943  STANDARD2  SINGLE_RES        1.0    NONE        0.0    NONE   \n\n   3RD_USE_R  \n0        0.0  \n1        0.0  \n2        0.0  \n3        0.0  \n4        0.0  \n5        0.0  "
     },
     "execution_count": 117,
     "metadata": {},
     "output_type": "execute_result"
    }
   ],
   "source": "# NOTE: this stuff is good for the migration script\n\n\ndef lookup_standard(year, standards_df):\n    # find first standard that is similar to the year\n    standard = standards_df[(standards_df.YEAR_START < year) & (year < standards_df.YEAR_END)].iloc[0]\n    return standard.STANDARD\n\ndef convert_occupancy(name, occupancy_dbf):\n    # FIXME: do this smorter\n    row = occupancy_dbf[occupancy_dbf.Name == name].iloc[0]\n    uses = set(row.to_dict().keys()) - set([\"Name\", \"REFERENCE\"])\n    uses = sorted(uses, cmp=lambda a, b: cmp(float(row[a]), float(row[b])), reverse=True)\n    result = {\n        \"use_type1\": uses[0], \n        \"use_type1r\": float(row[uses[0]]), \n        \"2ND_USE\": uses[1], \n        \"2ND_USE_R\": float(row[uses[1]]), \n        \"3RD_USE\": uses[2], \n        \"3RD_USE_R\": float(row[uses[2]])}\n    if pd.np.isclose(result[\"2ND_USE_R\"], 0.0):\n        result[\"1ST_USE_R\"] = 1.0\n        result[\"2ND_USE_R\"] = 0.0\n        result[\"3RD_USE_R\"] = 0.0\n        result[\"2ND_USE\"] = \"NONE\"\n        result[\"3RD_USE\"] = \"NONE\"\n    elif pd.np.isclose(result[\"3RD_USE_R\"], 0.0):\n        result[\"1ST_USE_R\"] = 1.0 - result[\"2ND_USE_R\"]\n        result[\"3RD_USE_R\"] = 0.0\n        result[\"3RD_USE\"] = \"NONE\"\n    \n    result[\"1ST_USE_R\"] = 1.0 - result[\"2ND_USE_R\"] - result[\"3RD_USE_R\"]\n    return result\n\ndef merge_age_and_occupancy_to_typology(age_dbf, occupancy_dbf, standards_df):\n    # merge age.dbf and occupancy.dbf to typology.dbf\n    typology_dbf_columns = [\"Name\", \"YEAR\", \"STANDARD\", \"1ST_USE\", \"1ST_USE_R\", \"2ND_USE\", \"2ND_USE_R\", \"3RD_USE\", \"3RD_USE_R\"]\n    typology_dbf = pd.DataFrame(columns=typology_dbf_columns)\n    \n    for rindex, row in age_dbf.iterrows():\n        typology_row = {\n            \"Name\": row.Name, \n            \"YEAR\": row.built,\n            \"STANDARD\": lookup_standard(row.built, standards_df)}\n        typology_row.update(convert_occupancy(row.Name, occupancy_dbf))\n        \n        typology_dbf = typology_dbf.append(typology_row, ignore_index=True)\n    \n    return typology_dbf\n\n\nstandards_df = pd.read_excel(CONSTRUCTION_STANDARD_XLSX, \"STANDARD_DEFINITION\")\ntypology_dbf = merge_age_and_occupancy_to_typology(old_age_dbf, old_occupancy_dbf, standards_df)\ntypology_dbf"
  },
  {
   "attachments": {},
   "cell_type": "markdown",
   "metadata": {},
   "source": "## Migrate inputs/building-properties/air_conditioning_systems.dbf\n\n- copy Name, cool_ends, cool_starts, heat_ends, heat_starts\n- look up type_cs, type_ctrl, type_dhw, type_hs, type_vent (this is cool - maybe only the names changed?)\n- type_dhw: looks up (Tsww0_C, Qwwmax_Wm2) from database/assemblies/HVAC.xls\n- type_hs: trickier... i don't know if this can be done automatically?\n\nMy thinking right now is to use the `archetypes-mapper` tool to do the rest of the migration..."
  },
  {
   "cell_type": "code",
   "execution_count": 119,
   "metadata": {},
   "outputs": [
    {
     "data": {
      "text/html": "<div>\n<style scoped>\n    .dataframe tbody tr th:only-of-type {\n        vertical-align: middle;\n    }\n\n    .dataframe tbody tr th {\n        vertical-align: top;\n    }\n\n    .dataframe thead th {\n        text-align: right;\n    }\n</style>\n<table border=\"1\" class=\"dataframe\">\n  <thead>\n    <tr style=\"text-align: right;\">\n      <th></th>\n      <th>Name</th>\n      <th>cool_ends</th>\n      <th>cool_starts</th>\n      <th>heat_ends</th>\n      <th>heat_starts</th>\n      <th>type_cs</th>\n      <th>type_ctrl</th>\n      <th>type_dhw</th>\n      <th>type_hs</th>\n      <th>type_vent</th>\n    </tr>\n  </thead>\n  <tbody>\n    <tr>\n      <th>0</th>\n      <td>B1000</td>\n      <td>15|09</td>\n      <td>15|05</td>\n      <td>14|05</td>\n      <td>16|09</td>\n      <td>T0</td>\n      <td>T1</td>\n      <td>T1</td>\n      <td>T1</td>\n      <td>T0</td>\n    </tr>\n    <tr>\n      <th>1</th>\n      <td>B1001</td>\n      <td>15|09</td>\n      <td>15|05</td>\n      <td>14|05</td>\n      <td>16|09</td>\n      <td>T0</td>\n      <td>T1</td>\n      <td>T1</td>\n      <td>T1</td>\n      <td>T0</td>\n    </tr>\n    <tr>\n      <th>2</th>\n      <td>B1002</td>\n      <td>15|09</td>\n      <td>15|05</td>\n      <td>14|05</td>\n      <td>16|09</td>\n      <td>T0</td>\n      <td>T1</td>\n      <td>T1</td>\n      <td>T1</td>\n      <td>T0</td>\n    </tr>\n    <tr>\n      <th>3</th>\n      <td>B1003</td>\n      <td>15|09</td>\n      <td>15|05</td>\n      <td>14|05</td>\n      <td>16|09</td>\n      <td>T0</td>\n      <td>T1</td>\n      <td>T1</td>\n      <td>T1</td>\n      <td>T0</td>\n    </tr>\n    <tr>\n      <th>4</th>\n      <td>B1004</td>\n      <td>15|09</td>\n      <td>15|05</td>\n      <td>14|05</td>\n      <td>16|09</td>\n      <td>T0</td>\n      <td>T1</td>\n      <td>T1</td>\n      <td>T1</td>\n      <td>T0</td>\n    </tr>\n    <tr>\n      <th>5</th>\n      <td>B1005</td>\n      <td>15|09</td>\n      <td>15|05</td>\n      <td>14|05</td>\n      <td>16|09</td>\n      <td>T0</td>\n      <td>T1</td>\n      <td>T1</td>\n      <td>T1</td>\n      <td>T0</td>\n    </tr>\n  </tbody>\n</table>\n</div>",
      "text/plain": "    Name cool_ends cool_starts heat_ends heat_starts type_cs type_ctrl  \\\n0  B1000     15|09       15|05     14|05       16|09      T0        T1   \n1  B1001     15|09       15|05     14|05       16|09      T0        T1   \n2  B1002     15|09       15|05     14|05       16|09      T0        T1   \n3  B1003     15|09       15|05     14|05       16|09      T0        T1   \n4  B1004     15|09       15|05     14|05       16|09      T0        T1   \n5  B1005     15|09       15|05     14|05       16|09      T0        T1   \n\n  type_dhw type_hs type_vent  \n0       T1      T1        T0  \n1       T1      T1        T0  \n2       T1      T1        T0  \n3       T1      T1        T0  \n4       T1      T1        T0  \n5       T1      T1        T0  "
     },
     "execution_count": 119,
     "metadata": {},
     "output_type": "execute_result"
    }
   ],
   "source": "air_conditioning_systems_dbf = dbf_to_dataframe(\n    os.path.join(SCENARIO_TO_MIGRATE, \"inputs\", \"building-properties\", \"air_conditioning_systems.dbf\"))\nair_conditioning_systems_dbf"
  },
  {
   "cell_type": "code",
   "execution_count": 120,
   "metadata": {},
   "outputs": [
    {
     "data": {
      "text/html": "<div>\n<style scoped>\n    .dataframe tbody tr th:only-of-type {\n        vertical-align: middle;\n    }\n\n    .dataframe tbody tr th {\n        vertical-align: top;\n    }\n\n    .dataframe thead th {\n        text-align: right;\n    }\n</style>\n<table border=\"1\" class=\"dataframe\">\n  <thead>\n    <tr style=\"text-align: right;\">\n      <th></th>\n      <th>Name</th>\n      <th>cool_ends</th>\n      <th>cool_starts</th>\n      <th>heat_ends</th>\n      <th>heat_starts</th>\n      <th>type_cs</th>\n      <th>type_ctrl</th>\n      <th>type_dhw</th>\n      <th>type_hs</th>\n      <th>type_vent</th>\n    </tr>\n  </thead>\n  <tbody>\n    <tr>\n      <th>0</th>\n      <td>B1000</td>\n      <td>15|09</td>\n      <td>15|05</td>\n      <td>14|05</td>\n      <td>16|09</td>\n      <td>HVAC_COOLING_AS0</td>\n      <td>HVAC_CONTROLLER_AS1</td>\n      <td>HVAC_HOTWATER_AS1</td>\n      <td>HVAC_HEATING_AS1</td>\n      <td>HVAC_VENTILATION_AS0</td>\n    </tr>\n    <tr>\n      <th>1</th>\n      <td>B1001</td>\n      <td>15|09</td>\n      <td>15|05</td>\n      <td>14|05</td>\n      <td>16|09</td>\n      <td>HVAC_COOLING_AS0</td>\n      <td>HVAC_CONTROLLER_AS1</td>\n      <td>HVAC_HOTWATER_AS1</td>\n      <td>HVAC_HEATING_AS1</td>\n      <td>HVAC_VENTILATION_AS0</td>\n    </tr>\n    <tr>\n      <th>2</th>\n      <td>B1002</td>\n      <td>15|09</td>\n      <td>15|05</td>\n      <td>14|05</td>\n      <td>16|09</td>\n      <td>HVAC_COOLING_AS0</td>\n      <td>HVAC_CONTROLLER_AS1</td>\n      <td>HVAC_HOTWATER_AS1</td>\n      <td>HVAC_HEATING_AS1</td>\n      <td>HVAC_VENTILATION_AS0</td>\n    </tr>\n    <tr>\n      <th>3</th>\n      <td>B1003</td>\n      <td>15|09</td>\n      <td>15|05</td>\n      <td>14|05</td>\n      <td>16|09</td>\n      <td>HVAC_COOLING_AS0</td>\n      <td>HVAC_CONTROLLER_AS1</td>\n      <td>HVAC_HOTWATER_AS1</td>\n      <td>HVAC_HEATING_AS1</td>\n      <td>HVAC_VENTILATION_AS0</td>\n    </tr>\n    <tr>\n      <th>4</th>\n      <td>B1004</td>\n      <td>15|09</td>\n      <td>15|05</td>\n      <td>14|05</td>\n      <td>16|09</td>\n      <td>HVAC_COOLING_AS0</td>\n      <td>HVAC_CONTROLLER_AS1</td>\n      <td>HVAC_HOTWATER_AS1</td>\n      <td>HVAC_HEATING_AS1</td>\n      <td>HVAC_VENTILATION_AS0</td>\n    </tr>\n    <tr>\n      <th>5</th>\n      <td>B1005</td>\n      <td>15|09</td>\n      <td>15|05</td>\n      <td>14|05</td>\n      <td>16|09</td>\n      <td>HVAC_COOLING_AS0</td>\n      <td>HVAC_CONTROLLER_AS1</td>\n      <td>HVAC_HOTWATER_AS1</td>\n      <td>HVAC_HEATING_AS1</td>\n      <td>HVAC_VENTILATION_AS0</td>\n    </tr>\n  </tbody>\n</table>\n</div>",
      "text/plain": "    Name cool_ends cool_starts heat_ends heat_starts           type_cs  \\\n0  B1000     15|09       15|05     14|05       16|09  HVAC_COOLING_AS0   \n1  B1001     15|09       15|05     14|05       16|09  HVAC_COOLING_AS0   \n2  B1002     15|09       15|05     14|05       16|09  HVAC_COOLING_AS0   \n3  B1003     15|09       15|05     14|05       16|09  HVAC_COOLING_AS0   \n4  B1004     15|09       15|05     14|05       16|09  HVAC_COOLING_AS0   \n5  B1005     15|09       15|05     14|05       16|09  HVAC_COOLING_AS0   \n\n             type_ctrl           type_dhw           type_hs  \\\n0  HVAC_CONTROLLER_AS1  HVAC_HOTWATER_AS1  HVAC_HEATING_AS1   \n1  HVAC_CONTROLLER_AS1  HVAC_HOTWATER_AS1  HVAC_HEATING_AS1   \n2  HVAC_CONTROLLER_AS1  HVAC_HOTWATER_AS1  HVAC_HEATING_AS1   \n3  HVAC_CONTROLLER_AS1  HVAC_HOTWATER_AS1  HVAC_HEATING_AS1   \n4  HVAC_CONTROLLER_AS1  HVAC_HOTWATER_AS1  HVAC_HEATING_AS1   \n5  HVAC_CONTROLLER_AS1  HVAC_HOTWATER_AS1  HVAC_HEATING_AS1   \n\n              type_vent  \n0  HVAC_VENTILATION_AS0  \n1  HVAC_VENTILATION_AS0  \n2  HVAC_VENTILATION_AS0  \n3  HVAC_VENTILATION_AS0  \n4  HVAC_VENTILATION_AS0  \n5  HVAC_VENTILATION_AS0  "
     },
     "execution_count": 120,
     "metadata": {},
     "output_type": "execute_result"
    }
   ],
   "source": "dbf_to_dataframe(locator.get_building_air_conditioning())"
  },
  {
   "cell_type": "code",
   "execution_count": 121,
   "metadata": {},
   "outputs": [
    {
     "data": {
      "text/plain": "'c:\\\\Users\\\\darthoma\\\\Documents\\\\CityEnergyAnalyst\\\\projects\\\\working-with-databases\\\\kleinalbis\\\\inputs\\\\technology\\\\archetypes\\\\CONSTRUCTION_STANDARD.xlsx'"
     },
     "execution_count": 121,
     "metadata": {},
     "output_type": "execute_result"
    }
   ],
   "source": "locator.get_database_construction_standards()"
  },
  {
   "cell_type": "code",
   "execution_count": null,
   "metadata": {},
   "outputs": [],
   "source": ""
  }
 ],
 "metadata": {
  "kernelspec": {
   "display_name": "Python 2",
   "language": "python",
   "name": "python2"
  },
  "language_info": {
   "codemirror_mode": {
    "name": "ipython",
    "version": 2
   },
   "file_extension": ".py",
   "mimetype": "text/x-python",
   "name": "python",
   "nbconvert_exporter": "python",
   "pygments_lexer": "ipython2",
   "version": "2.7.15"
  }
 },
 "nbformat": 4,
 "nbformat_minor": 4
}

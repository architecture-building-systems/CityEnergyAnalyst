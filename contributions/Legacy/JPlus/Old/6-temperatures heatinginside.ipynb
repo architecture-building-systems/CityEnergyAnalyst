{
 "metadata": {
  "name": "6-temperatures heatinginside"
 },
 "nbformat": 3,
 "nbformat_minor": 0,
 "worksheets": [
  {
   "cells": [
    {
     "cell_type": "markdown",
     "metadata": {},
     "source": [
      "##Modules"
     ]
    },
    {
     "cell_type": "code",
     "collapsed": false,
     "input": [
      "import pandas as pd\n",
      "from pylab import *\n",
      "import matplotlib.pyplot as plot\n",
      "import os\n",
      "if r'C:\\Console' not in sys.path: sys.path.append(r'C:\\Console')\n",
      "import EDMFunctions as EDM\n",
      "import os"
     ],
     "language": "python",
     "metadata": {},
     "outputs": [],
     "prompt_number": 3
    },
    {
     "cell_type": "markdown",
     "metadata": {},
     "source": [
      "##VARIABLES"
     ]
    },
    {
     "cell_type": "code",
     "collapsed": false,
     "input": [
      "CQ_name = 'CityQuarter_3'\n",
      "CQ =r'c:\\ArcGIS\\EDM.gdb\\Communities'+'\\\\'+CQ_name\n",
      "Building = pd.read_csv(r'C:\\ArcGIS\\EDMdata\\DataFinal\\DEDM\\StatusQuo\\CityQuarter_3\\Bau A.csv')\n",
      "Scenario = 'StatusQuo'\n",
      "DataCQ = pd.ExcelFile('c:\\ArcGIS\\EDMdata\\Measured'+'\\\\'+CQ_name+'\\\\'+'BuildingProperties.xls') # Location of the data of the CQ to run\n",
      "CQproperties = pd.ExcelFile.parse(DataCQ, 'Values') # properties of buildings, Table with all requierements"
     ],
     "language": "python",
     "metadata": {},
     "outputs": [],
     "prompt_number": 4
    },
    {
     "cell_type": "code",
     "collapsed": false,
     "input": [
      "RadiationFile = r'c:\\ArcGIS\\temp'+'\\\\'+CQ_name+'\\\\'+'radiation'+'\\\\'+'RadiationYearFinal.csv'"
     ],
     "language": "python",
     "metadata": {},
     "outputs": [],
     "prompt_number": 8
    },
    {
     "cell_type": "code",
     "collapsed": false,
     "input": [
      "locationtemp1 = r'c:\\ArcGIS\\temp'\n",
      "locationFinal = r'c:\\ArcGIS\\EDMdata\\DataFinal'+'\\\\'+'DEDM'+'\\\\'+Scenario+'\\\\'+CQ_name"
     ],
     "language": "python",
     "metadata": {},
     "outputs": [],
     "prompt_number": 9
    },
    {
     "cell_type": "markdown",
     "metadata": {},
     "source": [
      "##pre-Processes"
     ]
    },
    {
     "cell_type": "code",
     "collapsed": false,
     "input": [
      "AllProperties = EDM.CalcProperties(CQ, CQproperties, RadiationFile, locationtemp1)"
     ],
     "language": "python",
     "metadata": {},
     "outputs": [],
     "prompt_number": 10
    },
    {
     "cell_type": "code",
     "collapsed": false,
     "input": [
      "Solar = EDM.CalcIncidentRadiation(AllProperties, RadiationFile)"
     ],
     "language": "python",
     "metadata": {},
     "outputs": [],
     "prompt_number": 11
    },
    {
     "cell_type": "markdown",
     "metadata": {},
     "source": [
      "##Only variables needeed"
     ]
    },
    {
     "cell_type": "code",
     "collapsed": false,
     "input": [
      "Properties = AllProperties[['Af','Emission_heating','Emission_cooling']]"
     ],
     "language": "python",
     "metadata": {},
     "outputs": [],
     "prompt_number": 22
    },
    {
     "cell_type": "code",
     "collapsed": false,
     "input": [
      "Building"
     ],
     "language": "python",
     "metadata": {},
     "outputs": [
      {
       "html": [
        "<pre>\n",
        "&ltclass 'pandas.core.frame.DataFrame'&gt\n",
        "Int64Index: 8760 entries, 0 to 8759\n",
        "Data columns (total 27 columns):\n",
        "Unnamed: 0    8760  non-null values\n",
        "DATE          8760  non-null values\n",
        "Hour          8760  non-null values\n",
        "Hour2         8760  non-null values\n",
        "Month         8760  non-null values\n",
        "Day           8760  non-null values\n",
        "tintH_set     8760  non-null values\n",
        "tintC_set     8760  non-null values\n",
        "Ve            8760  non-null values\n",
        "I_int         8760  non-null values\n",
        "IH_nd_ac      8760  non-null values\n",
        "IC_nd_ac      8760  non-null values\n",
        "g_gl          8760  non-null values\n",
        "Htr_1         8760  non-null values\n",
        "Htr_2         8760  non-null values\n",
        "Htr_3         8760  non-null values\n",
        "tm_t          8760  non-null values\n",
        "tair_ac       8760  non-null values\n",
        "top_ac        8760  non-null values\n",
        "IHC_nd_ac     8760  non-null values\n",
        "Asol          8760  non-null values\n",
        "I_sol         8760  non-null values\n",
        "te            8760  non-null values\n",
        "Hve           8760  non-null values\n",
        "I_ia          8760  non-null values\n",
        "I_m           8760  non-null values\n",
        "I_st          8760  non-null values\n",
        "dtypes: float64(24), int64(2), object(1)\n",
        "</pre>"
       ],
       "output_type": "pyout",
       "prompt_number": 23,
       "text": [
        "<class 'pandas.core.frame.DataFrame'>\n",
        "Int64Index: 8760 entries, 0 to 8759\n",
        "Data columns (total 27 columns):\n",
        "Unnamed: 0    8760  non-null values\n",
        "DATE          8760  non-null values\n",
        "Hour          8760  non-null values\n",
        "Hour2         8760  non-null values\n",
        "Month         8760  non-null values\n",
        "Day           8760  non-null values\n",
        "tintH_set     8760  non-null values\n",
        "tintC_set     8760  non-null values\n",
        "Ve            8760  non-null values\n",
        "I_int         8760  non-null values\n",
        "IH_nd_ac      8760  non-null values\n",
        "IC_nd_ac      8760  non-null values\n",
        "g_gl          8760  non-null values\n",
        "Htr_1         8760  non-null values\n",
        "Htr_2         8760  non-null values\n",
        "Htr_3         8760  non-null values\n",
        "tm_t          8760  non-null values\n",
        "tair_ac       8760  non-null values\n",
        "top_ac        8760  non-null values\n",
        "IHC_nd_ac     8760  non-null values\n",
        "Asol          8760  non-null values\n",
        "I_sol         8760  non-null values\n",
        "te            8760  non-null values\n",
        "Hve           8760  non-null values\n",
        "I_ia          8760  non-null values\n",
        "I_m           8760  non-null values\n",
        "I_st          8760  non-null values\n",
        "dtypes: float64(24), int64(2), object(1)"
       ]
      }
     ],
     "prompt_number": 23
    },
    {
     "cell_type": "code",
     "collapsed": false,
     "input": [
      "Thermalloads = Building[['DATE','Hour','Hour2','tair_ac','IH_nd_ac','IC_nd_ac','te']]"
     ],
     "language": "python",
     "metadata": {},
     "outputs": [
      {
       "output_type": "stream",
       "stream": "stdout",
       "text": [
        "\n"
       ]
      }
     ],
     "prompt_number": 31
    },
    {
     "cell_type": "markdown",
     "metadata": {},
     "source": [
      "find the maximum values"
     ]
    },
    {
     "cell_type": "code",
     "collapsed": false,
     "input": [
      "rows = Thermalloads.IH_nd_ac.count()\n",
      "for row in range(rows):\n",
      "    if Thermalloads.loc[row,'IH_nd_ac'] == Thermalloads['IH_nd_ac'].max():\n",
      "        print Thermalloads.loc[row,'DATE'], Thermalloads.loc[row,'Hour'], Thermalloads.loc[row,'Hour2'], Thermalloads.loc[row,'IH_nd_ac'].max(),Thermalloads.loc[row,'te'],Thermalloads.loc[row,'tair_ac']"
     ],
     "language": "python",
     "metadata": {},
     "outputs": [
      {
       "output_type": "stream",
       "stream": "stdout",
       "text": [
        "2010-11-30 00:00:00 11.0 8003.0 451838.378805 -4.1 20.0\n"
       ]
      }
     ],
     "prompt_number": 42
    },
    {
     "cell_type": "code",
     "collapsed": false,
     "input": [
      "Thermalloads['IH_nd_ac'].average()"
     ],
     "language": "python",
     "metadata": {},
     "outputs": [
      {
       "ename": "AttributeError",
       "evalue": "'Series' object has no attribute 'average'",
       "output_type": "pyerr",
       "traceback": [
        "\u001b[1;31m---------------------------------------------------------------------------\u001b[0m\n\u001b[1;31mAttributeError\u001b[0m                            Traceback (most recent call last)",
        "\u001b[1;32m<ipython-input-37-3ec1b78e6773>\u001b[0m in \u001b[0;36m<module>\u001b[1;34m()\u001b[0m\n\u001b[1;32m----> 1\u001b[1;33m \u001b[0mThermalloads\u001b[0m\u001b[1;33m[\u001b[0m\u001b[1;34m'IH_nd_ac'\u001b[0m\u001b[1;33m]\u001b[0m\u001b[1;33m.\u001b[0m\u001b[0maverage\u001b[0m\u001b[1;33m(\u001b[0m\u001b[1;33m)\u001b[0m\u001b[1;33m\u001b[0m\u001b[0m\n\u001b[0m",
        "\u001b[1;31mAttributeError\u001b[0m: 'Series' object has no attribute 'average'"
       ]
      }
     ],
     "prompt_number": 37
    },
    {
     "cell_type": "markdown",
     "metadata": {},
     "source": [
      "##functions"
     ]
    },
    {
     "cell_type": "code",
     "collapsed": false,
     "input": [
      "def calc_em_t(SystemH,SystemC):\n",
      "    #references: 70 supply 50 return radiatior system #several authors\n",
      "    # floor cooling/ceiling cooling 18 -22 /thermofloor.co.uk\n",
      "    # floor heating \n",
      "    heating ={'Type':['Wall heating','Ceiling heating', 'Radiatior', 'Floor heating', 'Air conditioning'],'tsnominal':[,35,70,35,],'trnominal':[,15,50,15,]}\n",
      "    cooling ={'Type':['Ceiling cooling','Floor cooling', 'Air conditioning'],'tsnominal':[18,18,12],'trnominal':[22,22,17]}\n",
      "    \n",
      "    \n",
      "    ValuesRf_Table = pd.DataFrame(d)\n",
      "    rows = ValuesRf_Table.Type.count()\n",
      "    for row in range(rows):\n",
      "        if ShadingType == ValuesRf_Table.loc[row,'Type'] and  ShadingPosition == 'Exterior':\n",
      "            return ValuesRf_Table.loc[row,'ValueOUT']\n",
      "        elif ShadingType == ValuesRf_Table.loc[row,'Type'] and  ShadingPosition == 'Interior':\n",
      "            return ValuesRf_Table.loc[row,'ValueIN']\n",
      "        else:\n",
      "            return 1  \n",
      "        \n",
      "    return ts_0,tr_0\n"
     ],
     "language": "python",
     "metadata": {},
     "outputs": []
    },
    {
     "cell_type": "markdown",
     "metadata": {},
     "source": [
      "Create domestic hydronic model"
     ]
    },
    {
     "cell_type": "code",
     "collapsed": false,
     "input": [
      "time = 8750"
     ],
     "language": "python",
     "metadata": {},
     "outputs": []
    },
    {
     "cell_type": "code",
     "collapsed": false,
     "input": [
      "Emissiontemp = calc_em_t(AllProperties.loc[0,'Emission_heating',AllProperties.loc[0,'Emission_cooling'])\n",
      "ts_0 = Emissiontemp[0]\n",
      "tr_0 = Emissiontemp[1]"
     ],
     "language": "python",
     "metadata": {},
     "outputs": []
    },
    {
     "cell_type": "code",
     "collapsed": false,
     "input": [
      "Q = U*A*(ts-ti_0"
     ],
     "language": "python",
     "metadata": {},
     "outputs": []
    },
    {
     "cell_type": "code",
     "collapsed": false,
     "input": [],
     "language": "python",
     "metadata": {},
     "outputs": []
    },
    {
     "cell_type": "markdown",
     "metadata": {},
     "source": [
      "## Processes"
     ]
    }
   ],
   "metadata": {}
  }
 ]
}
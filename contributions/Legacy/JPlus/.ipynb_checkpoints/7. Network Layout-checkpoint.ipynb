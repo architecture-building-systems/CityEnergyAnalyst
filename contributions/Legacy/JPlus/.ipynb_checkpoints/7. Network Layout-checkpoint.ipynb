{
 "metadata": {
  "name": "",
  "signature": "sha256:78544091b320aaf6612724e19a5f30c4eae1d9be22ea9fc3b462c07f87df8ddf"
 },
 "nbformat": 3,
 "nbformat_minor": 0,
 "worksheets": [
  {
   "cells": [
    {
     "cell_type": "markdown",
     "metadata": {},
     "source": [
      "# 7.Network layout"
     ]
    },
    {
     "cell_type": "code",
     "collapsed": false,
     "input": [
      "import arcpy\n",
      "import pandas as pd\n",
      "arcpy.env.workspace = 'c:\\Arcgis\\Network.gdb'\n",
      "arcpy.env.overwriteOutput = True\n",
      "arcpy.CheckOutExtension(\"spatial\")\n",
      "arcpy.CheckOutExtension(\"Network\")\n",
      "import os, sys\n",
      "from pyGDsandbox.dataIO import df2dbf, dbf2df \n",
      "from arcpy import Result\n",
      "if r'C:\\Console' not in sys.path: sys.path.append(r'C:\\Console')\n",
      "import ESMFunctions as ESM"
     ],
     "language": "python",
     "metadata": {},
     "outputs": [],
     "prompt_number": 12
    },
    {
     "cell_type": "markdown",
     "metadata": {},
     "source": [
      "###VARIABLES"
     ]
    },
    {
     "cell_type": "code",
     "collapsed": false,
     "input": [
      "#list of inputs\n",
      "Zone_of_study = 4\n",
      "Scenarios = ['HEB'] #List of scenarios to evaluate the potentials\n",
      "locationFinal = r'C:\\Arcgis\\ESMdata\\DataFinal\\NET'"
     ],
     "language": "python",
     "metadata": {},
     "outputs": [],
     "prompt_number": 13
    },
    {
     "cell_type": "code",
     "collapsed": false,
     "input": [
      "#locations\n",
      "Database = r'C:\\Arcgis\\Network.gdb'\n",
      "temporal = r'c:\\Arcgis\\Network.gdb\\temp' #location of temptemporal2ral files inside the database\n",
      "temporal2 = r'c:\\Arcgis\\temp' #location of temptemporal2ral files inside the database"
     ],
     "language": "python",
     "metadata": {},
     "outputs": [],
     "prompt_number": 14
    },
    {
     "cell_type": "heading",
     "level": 3,
     "metadata": {},
     "source": [
      "PROCESS"
     ]
    },
    {
     "cell_type": "code",
     "collapsed": false,
     "input": [
      "Scenario = Scenarios[0]"
     ],
     "language": "python",
     "metadata": {},
     "outputs": [],
     "prompt_number": 15
    },
    {
     "cell_type": "code",
     "collapsed": false,
     "input": [
      "Boundaries_Zones = Database+'\\\\'+'Boundaries'+'\\\\'+'Zones'"
     ],
     "language": "python",
     "metadata": {},
     "outputs": [],
     "prompt_number": 16
    },
    {
     "cell_type": "heading",
     "level": 3,
     "metadata": {},
     "source": [
      "Calculate basenetowrks heating and cooling cases"
     ]
    },
    {
     "cell_type": "code",
     "collapsed": false,
     "input": [
      "#import the locattion of the roads = pedestrian + streets + traintracks+exsitng networks\n",
      "Allroads = Database+'\\\\'+Scenario+'\\\\'+Scenario+'Allroads'\n",
      "#import location of points with information of buildings (flow in lps = (m_Qh0, m_Qc0), Plant = 1, Sinks (can be 0) for those buildings that could be one\n",
      "# and a field called ID == OBJECTID)\n",
      "buildings_area = Database+'\\\\'+Scenario+'\\\\'+Scenario+'AREA'\n",
      "buildingscool = Database+'\\\\'+Scenario+'\\\\'+Scenario+'coolingcost' #buildings with cooling load (peak period)\n",
      "buildingsheat = Database+'\\\\'+Scenario+'\\\\'+Scenario+'heatingcost' #buildings with heating load (Peak period)"
     ],
     "language": "python",
     "metadata": {},
     "outputs": [],
     "prompt_number": 17
    },
    {
     "cell_type": "code",
     "collapsed": false,
     "input": [
      "# calculate heating costumers\n",
      "arcpy.Select_analysis(buildings_area,buildingsheat, \"m_Qh0>0 OR Plant = 1\") # routine\n",
      "#calculate cooling costumers\n",
      "arcpy.Select_analysis(buildings_area,buildingscool, \"m_Qc0>0 OR Plant = 1\") # routine"
     ],
     "language": "python",
     "metadata": {},
     "outputs": [
      {
       "metadata": {},
       "output_type": "pyout",
       "prompt_number": 7,
       "text": [
        "<Result 'C:\\\\ArcGIS\\\\Network.gdb\\\\SQ\\\\SQcoolingcost'>"
       ]
      }
     ],
     "prompt_number": 7
    },
    {
     "cell_type": "code",
     "collapsed": false,
     "input": [
      "# Calculate the basenetwork for heating costumers\n",
      "output = Database+'\\\\'+Scenario+'\\\\'+Scenario+'heatingnet'\n",
      "ESM.basenetwork(Allroads,output,buildingsheat,temporal,temporal2,\"District heating\",Database)"
     ],
     "language": "python",
     "metadata": {},
     "outputs": []
    },
    {
     "cell_type": "code",
     "collapsed": false,
     "input": [
      "# Calculate the basenetwork for cooling costumers\n",
      "output = Database+'\\\\'+Scenario+'\\\\'+Scenario+'coolingnet'\n",
      "ESM.basenetwork(Allroads,output,buildingscool,temporal,temporal2,\"District cooling\",Database)"
     ],
     "language": "python",
     "metadata": {},
     "outputs": []
    },
    {
     "cell_type": "heading",
     "level": 5,
     "metadata": {},
     "source": [
      "Create network dataset in arcgis (ONly manual untill now) add a cost called segments, with a constant value 1 from-to and 2 to -from. calculate turns"
     ]
    },
    {
     "cell_type": "heading",
     "level": 4,
     "metadata": {},
     "source": [
      "Calculate for the heating case MST"
     ]
    },
    {
     "cell_type": "code",
     "collapsed": false,
     "input": [
      "network = Database+'\\\\'+Scenario+'\\\\'+Scenario+'heatingND'\n",
      "junctions = Database+'\\\\'+Scenario+'\\\\'+Scenario+'heatingND_Junctions'\n",
      "flowname = \"m_Qh0\"\n",
      "networkH = \"DH\"\n",
      "# create edges for the whole networx, adjacent and not adjacent points\n",
      "all_edges_a, all_edges_na = ESM.calc_edges(junctions,network,temporal2,calc_nodes = False) # [origin, destination, lenght]"
     ],
     "language": "python",
     "metadata": {},
     "outputs": [],
     "prompt_number": 18
    },
    {
     "cell_type": "code",
     "collapsed": false,
     "input": [
      "reload(ESM)\n",
      "# Extract buildings from the zone and identify if there are more than 2 buildings\n",
      "buildings, Flagcontinue = ESM.Calc_select_buildings(Zone_of_study, buildingsheat, Boundaries_Zones, temporal)\n",
      "if Flagcontinue == True: \n",
      "    # Create nodes of the whole network and for buildings\n",
      "    all_nodes, nodes_buildings = ESM.calc_allnodes(junctions,buildings,temporal, temporal2,flowname) #  [origin, source, sink, flow , Xcoordinate, ycoordinate ]\n",
      "    # Create possible conections between buildings\n",
      "    connections = [(a,b) for a in list(nodes_buildings[\"node\"]) for b in list(nodes_buildings[\"node\"])]\n",
      "    # Create list of connections including length\n",
      "    s2 = set(connections)\n",
      "    edges = [t for t in all_edges_na if (t[0],t[1]) in s2]\n",
      "    # calculate graph with values directly for EPANET\n",
      "    ESM.Calc_MST_graph(edges, all_edges_a, all_nodes, temporal2, temporal, buildings, locationFinal, Scenario, Zone_of_study,networkH)\n",
      "    arcpy.Delete_management(\"in_memory\")"
     ],
     "language": "python",
     "metadata": {},
     "outputs": [],
     "prompt_number": 8
    },
    {
     "cell_type": "code",
     "collapsed": false,
     "input": [
      "# Now for all zones except the zone of interest only running scenario SQ above\n",
      "# Extract buildings from the zone and identify if there are more than 2 buildings\n",
      "network = Database+'\\\\'+Scenario+'\\\\'+Scenario+'heatingND'\n",
      "junctions = Database+'\\\\'+Scenario+'\\\\'+Scenario+'heatingND_Junctions'\n",
      "flowname = \"m_Qh0\"\n",
      "networkC = \"DH\"\n",
      "zones = range(1,Zone_of_study)\n",
      "zones.extend(range(Zone_of_study+1, 22))\n",
      "for zone in zones:  \n",
      "    buildings, Flagcontinue = ESM.Calc_select_buildings(zone, buildingsheat, Boundaries_Zones, temporal)\n",
      "    if Flagcontinue == True: \n",
      "        # Create nodes of the whole network and for buildings\n",
      "        all_nodes, nodes_buildings = ESM.calc_allnodes(junctions,buildings,temporal, temporal2,flowname) #  [origin, source, sink, flow , Xcoordinate, ycoordinate ]\n",
      "        # Create possible conections between buildings\n",
      "        connections = [(a,b) for a in list(nodes_buildings[\"node\"]) for b in list(nodes_buildings[\"node\"])]\n",
      "        # Create list of connections including length\n",
      "        s2 = set(connections)\n",
      "        edges = [t for t in all_edges_na if (t[0],t[1]) in s2]\n",
      "        # calculate graph with values directly for EPANET\n",
      "        ESM.Calc_MST_graph(edges, all_edges_a, all_nodes, temporal2, temporal, buildings, locationFinal, \"Surroundings\", zone,networkH)\n",
      "        arcpy.Delete_management(\"in_memory\")"
     ],
     "language": "python",
     "metadata": {},
     "outputs": [
      {
       "output_type": "stream",
       "stream": "stdout",
       "text": [
        "The history saving thread hit an unexpected error (OperationalError('database is locked',)).History will not be written to the database.\n"
       ]
      }
     ],
     "prompt_number": 13
    },
    {
     "cell_type": "heading",
     "level": 4,
     "metadata": {},
     "source": [
      "Calculate for the cooling case MST"
     ]
    },
    {
     "cell_type": "code",
     "collapsed": false,
     "input": [
      "network = Database+'\\\\'+Scenario+'\\\\'+Scenario+'coolingND'\n",
      "junctions = Database+'\\\\'+Scenario+'\\\\'+Scenario+'coolingND_Junctions'\n",
      "flowname = \"m_Qc0\"\n",
      "networkC = \"DC\"\n",
      "# create edges for the whole networx, adjacent and not adjacent points\n",
      "all_edges_a, all_edges_na = ESM.calc_edges(junctions,network,temporal2,calc_nodes = False) # [origin, destination, lenght]"
     ],
     "language": "python",
     "metadata": {},
     "outputs": [],
     "prompt_number": 7
    },
    {
     "cell_type": "code",
     "collapsed": false,
     "input": [
      "# Extract buildings from the zone and identify if there are more than 2 buildings\n",
      "buildings, Flagcontinue = ESM.Calc_select_buildings(Zone_of_study, buildingscool, Boundaries_Zones, temporal)\n",
      "if Flagcontinue == True: \n",
      "    # Create nodes of the whole network and for buildings\n",
      "    all_nodes, nodes_buildings = ESM.calc_allnodes(junctions,buildings,temporal, temporal2,flowname) #  [origin, source, sink, flow , Xcoordinate, ycoordinate ]\n",
      "    # Create possible conections between buildings\n",
      "    connections = [(a,b) for a in list(nodes_buildings[\"node\"]) for b in list(nodes_buildings[\"node\"])]\n",
      "    # Create list of connections including length\n",
      "    s2 = set(connections)\n",
      "    edges = [t for t in all_edges_na if (t[0],t[1]) in s2]\n",
      "    # calculate graph with values directly for EPANET\n",
      "    ESM.Calc_MST_graph(edges, all_edges_a, all_nodes, temporal2, temporal, buildings, locationFinal, Scenario, Zone_of_study,networkC)\n",
      "    arcpy.Delete_management(\"in_memory\")"
     ],
     "language": "python",
     "metadata": {},
     "outputs": [
      {
       "ename": "TypeError",
       "evalue": "range() integer end argument expected, got list.",
       "output_type": "pyerr",
       "traceback": [
        "\u001b[1;31m---------------------------------------------------------------------------\u001b[0m\n\u001b[1;31mTypeError\u001b[0m                                 Traceback (most recent call last)",
        "\u001b[1;32m<ipython-input-31-18d20ba57b23>\u001b[0m in \u001b[0;36m<module>\u001b[1;34m()\u001b[0m\n\u001b[1;32m----> 1\u001b[1;33m \u001b[0mrange\u001b[0m\u001b[1;33m(\u001b[0m\u001b[0mrange\u001b[0m\u001b[1;33m(\u001b[0m\u001b[1;36m1\u001b[0m\u001b[1;33m,\u001b[0m\u001b[1;36m2\u001b[0m\u001b[1;33m)\u001b[0m\u001b[1;33m,\u001b[0m\u001b[0mrange\u001b[0m\u001b[1;33m(\u001b[0m\u001b[1;36m1\u001b[0m\u001b[1;33m,\u001b[0m\u001b[1;36m2\u001b[0m\u001b[1;33m)\u001b[0m\u001b[1;33m)\u001b[0m\u001b[1;33m\u001b[0m\u001b[0m\n\u001b[0m",
        "\u001b[1;31mTypeError\u001b[0m: range() integer end argument expected, got list."
       ]
      }
     ],
     "prompt_number": 31
    },
    {
     "cell_type": "code",
     "collapsed": false,
     "input": [
      "# Now for all zones except the zone of interest only running scenario SQ above\n",
      "# Extract buildings from the zone and identify if there are more than 2 buildings\n",
      "network = Database+'\\\\'+Scenario+'\\\\'+Scenario+'coolingND'\n",
      "junctions = Database+'\\\\'+Scenario+'\\\\'+Scenario+'coolingND_Junctions'\n",
      "flowname = \"m_Qc0\"\n",
      "networkC = \"DC\"\n",
      "Scenario = \"Surroundings\"\n",
      "zones = range(1,Zone_of_study)\n",
      "zones.extend(range(Zone_of_study+1, 22))\n",
      "for zone in zones:  \n",
      "    buildings, Flagcontinue = ESM.Calc_select_buildings(zone, buildingscool, Boundaries_Zones, temporal)\n",
      "    if Flagcontinue == True: \n",
      "        # Create nodes of the whole network and for buildings\n",
      "        all_nodes, nodes_buildings = ESM.calc_allnodes(junctions,buildings,temporal, temporal2,flowname) #  [origin, source, sink, flow , Xcoordinate, ycoordinate ]\n",
      "        # Create possible conections between buildings\n",
      "        connections = [(a,b) for a in list(nodes_buildings[\"node\"]) for b in list(nodes_buildings[\"node\"])]\n",
      "        # Create list of connections including length\n",
      "        s2 = set(connections)\n",
      "        edges = [t for t in all_edges_na if (t[0],t[1]) in s2]\n",
      "        # calculate graph with values directly for EPANET\n",
      "        ESM.Calc_MST_graph(edges, all_edges_a, all_nodes, temporal2, temporal, buildings, locationFinal, Scenario, zone,networkC)\n",
      "        arcpy.Delete_management(\"in_memory\")"
     ],
     "language": "python",
     "metadata": {},
     "outputs": [],
     "prompt_number": 8
    },
    {
     "cell_type": "heading",
     "level": 6,
     "metadata": {},
     "source": [
      "Go to Qgis and make the first run in EPANET. this will give the directions of the flow"
     ]
    },
    {
     "cell_type": "heading",
     "level": 6,
     "metadata": {},
     "source": [
      "Calculate order of files for the optimazation routine"
     ]
    },
    {
     "cell_type": "code",
     "collapsed": false,
     "input": [
      "Zone_of_study = 4\n",
      "networkH = \"DH\"\n",
      "pipes_DH = locationFinal+'\\\\'+Scenario+'\\\\'+'Zone_'+str(Zone_of_study)+'MST_'+networkH+'.shp'\n",
      "ESM.Calc_orderFlowPipes(pipes_DH,networkH,locationFinal,Scenario)\n",
      "source_DH = locationFinal+'\\\\'+Scenario+'\\\\'+'Zone_'+str(Zone_of_study)+'source_'+networkH+'.shp'\n",
      "sinks_DH = locationFinal+'\\\\'+Scenario+'\\\\'+'Zone_'+str(Zone_of_study)+'sink_'+networkH+'.shp'\n",
      "ESM.Calc_orderNodes(sinks_DH,source_DH,buildingsheat,temporal2,networkH,locationFinal,Scenario)"
     ],
     "language": "python",
     "metadata": {},
     "outputs": [],
     "prompt_number": 19
    },
    {
     "cell_type": "code",
     "collapsed": false,
     "input": [
      "# for the pipes, only run once.\n",
      "networkC = \"DC\"\n",
      "pipes_DC = locationFinal+'\\\\'+Scenario+'\\\\'+'Zone_'+str(Zone_of_study)+'MST_'+networkC+'.shp'\n",
      "ESM.Calc_orderFlowPipes(pipes_DC,networkC,locationFinal,Scenario)\n",
      "source_DC = locationFinal+'\\\\'+Scenario+'\\\\'+'Zone_'+str(Zone_of_study)+'source_'+networkC+'.shp'\n",
      "sinks_DC = locationFinal+'\\\\'+Scenario+'\\\\'+'Zone_'+str(Zone_of_study)+'sink_'+networkC+'.shp'\n",
      "ESM.Calc_orderNodes(sinks_DC,source_DC,buildingscool,temporal2,networkC,locationFinal,Scenario)"
     ],
     "language": "python",
     "metadata": {},
     "outputs": [],
     "prompt_number": 22
    }
   ],
   "metadata": {}
  }
 ]
}
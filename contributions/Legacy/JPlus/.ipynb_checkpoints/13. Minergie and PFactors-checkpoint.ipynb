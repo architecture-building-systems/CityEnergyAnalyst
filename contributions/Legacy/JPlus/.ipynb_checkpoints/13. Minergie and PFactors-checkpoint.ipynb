{
 "metadata": {
  "name": "",
  "signature": "sha256:d7b83b8e47c300496e31b9d09526a6e0e3a6eeb0ee46833b19eba18d4a26e033"
 },
 "nbformat": 3,
 "nbformat_minor": 0,
 "worksheets": [
  {
   "cells": [
    {
     "cell_type": "markdown",
     "metadata": {},
     "source": [
      "This rutine creates a table with the Minergie values to evaluate the performance of building envelope, systems and applainces.it also creates a list PEF and CO2 factors"
     ]
    },
    {
     "cell_type": "code",
     "collapsed": false,
     "input": [
      "import pandas as pd\n",
      "import os, sys\n",
      "import arcpy\n",
      "sys.path.append(\"C:\\console\\sandbox\")\n",
      "from pyGDsandbox.dataIO import df2dbf, dbf2df \n",
      "if r'C:\\Console' not in sys.path: sys.path.append(r'C:\\Console')\n",
      "import EDMFunctions as EDM\n",
      "reload(EDM)"
     ],
     "language": "python",
     "metadata": {},
     "outputs": [
      {
       "metadata": {},
       "output_type": "pyout",
       "prompt_number": 6,
       "text": [
        "<module 'EDMFunctions' from 'EDMFunctions.pyc'>"
       ]
      }
     ],
     "prompt_number": 6
    },
    {
     "cell_type": "code",
     "collapsed": false,
     "input": [
      "Zone_of_study = 4\n",
      "Zone_calc = 4\n",
      "number_of_zones = 20\n",
      "database = r'c:\\ArcGIS\\EDM.gdb'\n",
      "Scenarios = ['SQ','BAU','HEB','CAMP','UC']"
     ],
     "language": "python",
     "metadata": {},
     "outputs": [],
     "prompt_number": 7
    },
    {
     "cell_type": "code",
     "collapsed": false,
     "input": [
      "locationFinal = r'C:\\ArcGIS\\EDMdata\\DataFinal\\EDM'\n",
      "locationtemp1 = r'c:\\ArcGIS\\temp'"
     ],
     "language": "python",
     "metadata": {},
     "outputs": [],
     "prompt_number": 8
    },
    {
     "cell_type": "markdown",
     "metadata": {},
     "source": [
      "##Process"
     ]
    },
    {
     "cell_type": "markdown",
     "metadata": {},
     "source": [
      "First create the minergie data"
     ]
    },
    {
     "cell_type": "code",
     "collapsed": false,
     "input": [
      "for x in Scenarios:\n",
      "    # import data with the type of uses\n",
      "    Data0 = database+'\\\\'+x+'\\\\'+x+'AREA'\n",
      "    OutTable = 'SQAREA.dbf'\n",
      "    arcpy.TableToTable_conversion(Data0, locationtemp1, OutTable)\n",
      "    Data1 = dbf2df(locationtemp1+'\\\\'+OutTable)\n",
      "    # select the prevailing type of use of the building Type\n",
      "    Data2 = EDM.MainUse(Data1)\n",
      "    Data2['Qhs_lim']= 0\n",
      "    Data2['Typecode']= 0\n",
      "    Data2['Ealaux_lim']= 0\n",
      "    counter = Data2.Name.count()\n",
      "    for row in range(counter):\n",
      "        Uses = ['ADMIN','SR','INDUS','REST','RESTS','DEPO','COM','MDU','SDU','EDU','CR','HEALTH','SPORT','SWIM','PUBLIC','SUPER','ICE','HOT']\n",
      "        Qhli = [65,65,60,95,95,60,50,55,65,70,50,80,70,70,95,50,75,55]\n",
      "        Eli = [25.5,4380,40.2,56.4,66.9,2,39.8,12,17,19.69,5.7,40.2,14.4,40.6,25.72,38.76,26.7,16]\n",
      "        AQhli = [85,85,70,75,75,70,65,65,65,70,65,80,70,90,75,50,70,65]\n",
      "        At_Ae = [1.2,1.5,1.8,1.5,1.5,2,1,1.3,1.7,1.2,1,0.8,2.4,2.5,1.2,1,2.4,1.3]\n",
      "        for use in range(18):\n",
      "            if Data2.loc[row,'Type'] == Uses[use]:\n",
      "                Data2.loc[row,'Qhs_lim'] = 0.9*(Qhli[use]+AQhli[use]*At_Ae[use])*0.277778 #from MJ/m2 to kWh/m2\n",
      "                Data2.loc[row,'Typecode'] = use+1\n",
      "                Data2.loc[row,'Eli'] = Eli[use]\n",
      "    Data2.to_excel(locationFinal+'\\\\'+x+'\\\\'+'Minergie.xls',cols ={'Name','Qhs_lim','Typecode','Eli'})"
     ],
     "language": "python",
     "metadata": {},
     "outputs": [],
     "prompt_number": 8
    },
    {
     "cell_type": "markdown",
     "metadata": {},
     "source": [
      "Create factors and export results of primary energy and emissions status Quo"
     ]
    },
    {
     "cell_type": "code",
     "collapsed": false,
     "input": [
      "x = 'SQ'\n",
      "# import data with the infrastructure type\n",
      "Data0 = database+'\\\\'+x+'\\\\'+x+'INFR'\n",
      "OutTable = 'SQINFR.dbf'\n",
      "arcpy.TableToTable_conversion(Data0, locationtemp1, OutTable)\n",
      "Data = dbf2df(locationtemp1+'\\\\'+OutTable)\n",
      "# import data with loads\n",
      "Data0 = r'c:\\ArcGIS\\Statistical Zoning.gdb'+'\\\\'+'Anchorloads'+'\\\\'+'BuildingsArea_1'\n",
      "OutTable = 'SQloads.dbf'\n",
      "arcpy.TableToTable_conversion(Data0, locationtemp1, OutTable)\n",
      "Loads = dbf2df(locationtemp1+'\\\\'+OutTable)\n",
      "# create join of values\n",
      "Jointables = pd.merge(Data,Loads, on ='Name')\n",
      "# import excel file with factors\n",
      "Factors = pd.read_excel(r'C:\\ArcGIS\\EDMdata\\Statistical\\Codes_infr.xls','Sheet1')"
     ],
     "language": "python",
     "metadata": {},
     "outputs": [],
     "prompt_number": 162
    },
    {
     "cell_type": "code",
     "collapsed": false,
     "input": [
      "Jointables['Qhs_type'] = Jointables['Qhs_type'].apply(int)\n",
      "Jointables['Qhs_type'] = Jointables['Qhs_type'].apply(str)\n",
      "Jointables['Qhs_carrie']= Jointables['Qhs_carrie'].apply(int)\n",
      "Jointables['Qhs_carrie']= Jointables['Qhs_carrie'].apply(str)\n",
      "Jointables['Code2_Qh'] = Jointables['Qhs_type']+ Jointables['Qhs_carrie']\n",
      "Jointables['Qcs_type'] = Jointables['Qcs_type'].apply(int)\n",
      "Jointables['Qcs_type'] = Jointables['Qcs_type'].apply(str)\n",
      "Jointables['Qcs_carrie']= Jointables['Qcs_carrie'].apply(int)\n",
      "Jointables['Qcs_carrie']= Jointables['Qcs_carrie'].apply(str)\n",
      "Jointables['Code2_Qc'] = Jointables['Qcs_type']+ Jointables['Qcs_carrie']\n",
      "\n",
      "#initialize the vector of primary energy (non-renewable with the factors of electricity\n",
      "Jointables['EP'] = Jointables['E']*2.63\n",
      "Jointables['GHG'] = Jointables['E']*0.0413"
     ],
     "language": "python",
     "metadata": {},
     "outputs": [],
     "prompt_number": 163
    },
    {
     "cell_type": "code",
     "collapsed": false,
     "input": [
      "#create real values\n",
      "counter1 = Factors.Code.count()\n",
      "counter2 = Jointables.Name.count()\n",
      "for x in range(counter1):\n",
      "    for y in range(counter2):\n",
      "        if str(Factors.loc[x,'Code']) == Jointables.loc[y,'Code2_Qh']:\n",
      "            #include 0.010 kWh/kWhth= % of auxiliary electricity per each thermal generated\n",
      "            Jointables.loc[y,'EP'] = Jointables.loc[y,'EP']+Factors.loc[x,'Qhs_Ep']*Jointables.loc[y,'Qh']+(0.01*2.63*Jointables.loc[y,'Qh'])\n",
      "            Jointables.loc[y,'GHG'] = Jointables.loc[y,'GHG']+Factors.loc[x,'Qhs_CO2']*Jointables.loc[y,'Qh']+(0.01*0.0413*Jointables.loc[y,'Qh'])\n",
      "        \n",
      "        if str(Factors.loc[x,'Code']) == Jointables.loc[y,'Code2_Qc']: \n",
      "            #include 0.010 kWh/kWhth= % of auxiliary electricity per each thermal generated\n",
      "            Jointables.loc[y,'EP'] = Jointables.loc[y,'EP']+Factors.loc[x,'Qcs_Ep']*Jointables.loc[y,'Qc']+(0.01*2.63*Jointables.loc[y,'Qc'])\n",
      "            Jointables.loc[y,'GHG'] = Jointables.loc[y,'GHG']+Factors.loc[x,'Qcs_CO2']*Jointables.loc[y,'Qc']+(0.01*0.0413*Jointables.loc[y,'Qc'])\n",
      "\n",
      "#create scenario where all buildings are connected to a network of cooling and heating from the lake\n",
      "Jointables['EP_lake'] = (Jointables['E']*2.63)+(0.897*Jointables['Qh'])+(0.15614*Jointables['Qc'])+(0.01*2.63*Jointables['Qc'])\n",
      "Jointables['GHG_lake'] = (Jointables['E']*0.0413)+(0.015*Jointables['Qh'])+(0.0024*Jointables['Qc'])+(0.01*0.0413*Jointables['Qc'])            \n",
      "            \n",
      "            # Change units of CO2 from kgto ton.\n",
      "# MJ to GJ\n",
      "Jointables['EP'] = Jointables['EP']*3.6\n",
      "Jointables['GHG'] = Jointables['GHG']*3.6\n",
      "Jointables['EP_lake'] = Jointables['EP_lake']*3.6\n",
      "Jointables['GHG_lake'] = Jointables['GHG_lake']*3.6"
     ],
     "language": "python",
     "metadata": {},
     "outputs": [],
     "prompt_number": 164
    },
    {
     "cell_type": "code",
     "collapsed": false,
     "input": [
      "Jointables.to_excel(locationFinal+'\\\\'+'SQ'+'\\\\'+'EP_GHG.xls',sheet_name='Values',cols={'Name','EP','GHG','EP_lake','GHG_lake'})"
     ],
     "language": "python",
     "metadata": {},
     "outputs": [],
     "prompt_number": 165
    }
   ],
   "metadata": {}
  }
 ]
}
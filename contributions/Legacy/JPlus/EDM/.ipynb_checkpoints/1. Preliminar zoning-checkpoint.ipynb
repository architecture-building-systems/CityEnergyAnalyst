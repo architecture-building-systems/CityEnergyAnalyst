{
 "metadata": {
  "name": "",
  "signature": "sha256:dd0319e9ba5b5cac74dc92c9d6b31c1fa89986104dff59f73ebfe5cab1a5691f"
 },
 "nbformat": 3,
 "nbformat_minor": 0,
 "worksheets": [
  {
   "cells": [
    {
     "cell_type": "markdown",
     "metadata": {},
     "source": [
      "#1. Pre-Areas and Zones:\n",
      "\n",
      "##INTRODUCTION\n",
      "This subroutine creates diverse zones/clusters/cityquarter of Buildings for the city of interest.\n",
      "\n",
      "###The input:\n",
      "\n",
      "-  Context: a .shp (multi-polygon) file including the buildings of the city of interest and its surroundings.\n",
      "-  Boundaries_City: a .shp (single-polygon) file of the administrative/political boundaries of the city with the surroundings.\n",
      "-  Boundaries_CQ: a (multi-polygon) file of the administratiev/political boundaries of the zones/clusters/cityquarters to study.\n",
      "   Specific Requirements, fields: \"Zone\" (Zone/cluster/Cityquarter to study), \"CityQuarter\"(City quarter or district where the zone,/Cluster belongs to)\n",
      "\n",
      "###The Output:\n",
      "\n",
      "- Buildings for the next areas:\n",
      "- City: a .shp (multi-polygon) file including the Buildings inside the boundaries of the city.\n",
      "- Surroundings: a .shp (multi-polygon) file including the Buildings outside the boundaries of the city.\n",
      "- City Quarter 'n': Multiple .shp (multi-polygon) files including the Buildings inside the boundaries of the n City-quarters/zones/Clusters to analyse.\n",
      "\n",
      "###Data Requirements:\n",
      "\n",
      "The next data requirements are not completely necessary to run this routine, but this is in total\n",
      "all the information requiered to Model the Urban Energy System.\n",
      "\n",
      "1. For the Buildings inside the area of study (the zones/clusters/cityquarters):\n",
      "\n",
      "- Factor of occupancy (0-1): Ratio of ocuppied area in every building for the categories (14) of SDU(Single dwelling units), \n",
      "  MDU (Multiple dwelling units) ADMIN(Administrative), INDUS(Industrial), COM(Comercial),HOT(Hotel),  SR(,\n",
      "  EDU (Schools, excl. University), CR(Cooling rooms), REST(restaurants HEALTH(Hospital), SPORT(Sport, leisure), SWIM(Swimming pool,\n",
      "  PUBLIC(Chuches, public halls), DEPO(deposits- unheated spaces), ICE(Ice hokey stadiums).\n",
      "- Height in meters.\n",
      "- Factor of heated space (0-1): if unknown it is considered 0.9 = 90% of footprint area.\n",
      "- Year of construction.\n",
      "- Energy system for heating and cooling: ratio of energy demand currently supplied by a X energysystem between the categories of:.......\n",
      "\n",
      "\n",
      "2. For the Buildings inside the Main Cluster/Zone/Cityquarter of study:\n",
      "\n",
      "- All of point (I).\n",
      "- U values of Roof, Walls, Basement, Windows,\n",
      "- Type of Glazing.\n",
      "- Number of Floors.\n",
      "- Ratio of windows/opaque surfaces,\n",
      "- Type of construction(light, Heavy,Medium)\n",
      "\n",
      "3. For the Buildings out of the area of study\n",
      "\n",
      "- Height in meters."
     ]
    },
    {
     "cell_type": "markdown",
     "metadata": {},
     "source": [
      "##MODULES"
     ]
    },
    {
     "cell_type": "code",
     "collapsed": false,
     "input": [
      "import arcpy\n",
      "import pandas as pd\n",
      "arcpy.env.workspace = 'c:\\ArcGIS\\EDM.gdb'\n",
      "arcpy.env.overwriteOutput = True\n",
      "arcpy.CheckOutExtension(\"spatial\")"
     ],
     "language": "python",
     "metadata": {},
     "outputs": [
      {
       "metadata": {},
       "output_type": "pyout",
       "prompt_number": 13,
       "text": [
        "u'CheckedOut'"
       ]
      }
     ],
     "prompt_number": 13
    },
    {
     "cell_type": "code",
     "collapsed": false,
     "input": [
      "import sys, os\n",
      "sys.path.append(\"C:\\Users\\Jimeno Fonseca\\Documents\\Console\\sandbox\")\n",
      "from pyGDsandbox.dataIO import df2dbf, dbf2df "
     ],
     "language": "python",
     "metadata": {},
     "outputs": [],
     "prompt_number": 14
    },
    {
     "cell_type": "markdown",
     "metadata": {},
     "source": [
      "##VARIABLES"
     ]
    },
    {
     "cell_type": "code",
     "collapsed": false,
     "input": [
      "database = r'c:\\ArcGIS\\EDM.gdb'\n",
      "Scenarios = ['SQ','BAU','HEB','CAMP','UC']\n",
      "Boundaries_City = r'c:\\ArcGIS\\EDM.gdb\\RawData\\Boundaries_City' # administrative boundaries - Contents: No special contents.\n",
      "Boundaries_Zones = r'c:\\ArcGIS\\EDM.gdb\\RawData\\Boundaries_CQ' #Not necessarly adminsitrative boundaries, more dependent on typology and social aspects (Zone) - Contents: Zone, CityQuarter, and a ID which is an Integer"
     ],
     "language": "python",
     "metadata": {},
     "outputs": [],
     "prompt_number": 15
    },
    {
     "cell_type": "code",
     "collapsed": false,
     "input": [
      "temporal1 = r'c:\\ArcGIS\\temp' # location of temporal files out of the database\n",
      "temporal2 = r'c:\\ArcGIS\\EDM.gdb\\temp' #location of temptemporal2ral files inside the database"
     ],
     "language": "python",
     "metadata": {},
     "outputs": [],
     "prompt_number": 7
    },
    {
     "cell_type": "markdown",
     "metadata": {},
     "source": [
      "###PROCESSES"
     ]
    },
    {
     "cell_type": "markdown",
     "metadata": {},
     "source": [
      "#### Definition of Area"
     ]
    },
    {
     "cell_type": "code",
     "collapsed": false,
     "input": [
      "for x in Scenarios:\n",
      "    Context = database+'\\\\'+x+'\\\\'+x+'CONTEXT'\n",
      "    arcpy.MakeFeatureLayer_management(Context, 'CTR_lyr')\n",
      "    arcpy.SelectLayerByLocation_management('CTR_lyr', 'intersect', Boundaries_Zones)\n",
      "    arcpy.CopyFeatures_management('CTR_lyr', database+'\\\\'+x+'\\\\'+x+'AREA')"
     ],
     "language": "python",
     "metadata": {},
     "outputs": [],
     "prompt_number": 16
    },
    {
     "cell_type": "markdown",
     "metadata": {},
     "source": [
      "####Definition of Zones"
     ]
    },
    {
     "cell_type": "code",
     "collapsed": false,
     "input": [
      "#Import List of Cityquarters and Count them for iteration\n",
      "OutTable = 'Boundaries_CQ.dbf'\n",
      "arcpy.TableToTable_conversion(Boundaries_Zones, temporal1, OutTable)\n",
      "List_Boundaries_CQ = dbf2df(temporal1+'\\\\'+OutTable)\n",
      "Counter = List_Boundaries_CQ.Zone.count()\n",
      "List_Boundaries_CQ['ID']= range(1,Counter+1)"
     ],
     "language": "python",
     "metadata": {},
     "outputs": [],
     "prompt_number": 6
    },
    {
     "cell_type": "code",
     "collapsed": false,
     "input": [
      "#Create independent layers for each City Quarter and Create cityQuarters\n",
      "for City_Quarter in range(Counter):\n",
      "    # list of variables\n",
      "    Field = \"ID\" # select field where the name exists to iterate\n",
      "    Value = List_Boundaries_Zones.loc[City_Quarter,Field] # set the value or name of the City quarter\n",
      "    Where_clausule =  ''''''+'\"'+Field+'\"'+\"=\"+\"\\'\"+str(Value)+\"\\'\"+'''''' # strange writing to introduce in ArcGIS\n",
      "    # selection\n",
      "    Single_CityQuarter = temporal1+\"\\\\\"+\"zone\"+str(Value)+'.shp' # location of the result of each CityQuarter\n",
      "    arcpy.Select_analysis(Boundaries_Zones,Single_CityQuarter,Where_clausule) # routine\n",
      "    arcpy.env.workspace = 'c:\\ArcGIS\\EDM.gdb'\n",
      "    # copy of city quarters\n",
      "    arcpy.MakeFeatureLayer_management(City, 'CQ_lyr') \n",
      "    arcpy.SelectLayerByLocation_management('CQ_lyr', 'intersect', Single_CityQuarter)\n",
      "    if City_Quarter != 3:\n",
      "        arcpy.CopyFeatures_management('CQ_lyr', database+'\\\\'+'Surroundings'+\"\\\\\"+\"ZONE\"+str(City_Quarter))\n",
      "    else:\n",
      "        arcpy.CopyFeatures_management('CQ_lyr', database+'\\\\'+'SQ'+\"\\\\\"+\"SQZONE\"+str(City_Quarter))    "
     ],
     "language": "python",
     "metadata": {},
     "outputs": [],
     "prompt_number": 12
    }
   ],
   "metadata": {}
  }
 ]
}
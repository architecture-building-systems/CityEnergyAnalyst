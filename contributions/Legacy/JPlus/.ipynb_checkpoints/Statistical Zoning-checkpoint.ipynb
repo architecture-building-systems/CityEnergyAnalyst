{
 "metadata": {
  "name": "",
  "signature": "sha256:e44cc47c13ec807d1dd2f687ac0d9d4daf1c93e8707dd1162ebe326bd0dbbf10"
 },
 "nbformat": 3,
 "nbformat_minor": 0,
 "worksheets": [
  {
   "cells": [
    {
     "cell_type": "heading",
     "level": 3,
     "metadata": {},
     "source": [
      "uP TO nOW THIS ROUTINE IS MADE MANUALLY IN ARCGIS. BUT IT CAN BE AUTOMIZED FOLLOWING THE RESULTS OF THE PAPER\"INTEGRATED MODEL FOR CHARACTERIZATION OF SPATIOTEMPORAL PATTERNS OF BUILDING ENERGY DEMAND IN NEIGHBORHOODS AND CITY DISTRICTS\"\n",
      "HERE AFTER IS INTEGRATED A MODEL TO RELOCATE THE FILES FROM THE PRELIMINAR ZONING (THIS IS TEMPORAL) IN THE FUTURE THE ZONING IS MADE BEFORE CALCULATING EVERYTHING. (RIGHT AFTER THE RESULTS OF THE STATISTICAL MODEL) AVOIDING THIS STEP"
     ]
    },
    {
     "cell_type": "code",
     "collapsed": false,
     "input": [
      "import arcpy\n",
      "import pandas as pd\n",
      "arcpy.env.workspace = 'c:\\ArcGIS\\EDM.gdb'\n",
      "arcpy.env.overwriteOutput = True\n",
      "arcpy.CheckOutExtension(\"spatial\")\n",
      "import shutil"
     ],
     "language": "python",
     "metadata": {},
     "outputs": [],
     "prompt_number": 8
    },
    {
     "cell_type": "code",
     "collapsed": false,
     "input": [
      "import sys, os\n",
      "sys.path.append(\"C:\\Users\\Jimeno Fonseca\\Documents\\Console\\sandbox\")\n",
      "from pyGDsandbox.dataIO import df2dbf, dbf2df "
     ],
     "language": "python",
     "metadata": {},
     "outputs": [],
     "prompt_number": 9
    },
    {
     "cell_type": "code",
     "collapsed": false,
     "input": [
      "Zone_calc = 4\n",
      "database = r'c:\\ArcGIS\\EDM.gdb'\n",
      "scenario = 'SQ'\n",
      "Boundaries_Zones = r'c:\\ArcGIS\\Zoning.gdb\\DataCollection\\Energyareas' #Not necessarly adminsitrative boundaries, more dependent on typology and social aspects (Zone) - Contents: Zone, CityQuarter, and a ID \n",
      "temporal1 = r'c:\\ArcGIS\\temp' # location of temporal files out of the database\n",
      "temporal2 = r'c:\\ArcGIS\\EDM.gdb\\temp' #location of temptemporal2ral files inside the database"
     ],
     "language": "python",
     "metadata": {},
     "outputs": [],
     "prompt_number": 13
    },
    {
     "cell_type": "code",
     "collapsed": false,
     "input": [
      "Zone = database+'\\\\'+scenario+'\\\\'+scenario+'AREA'\n",
      "#Import List of Cityquarters and Count them for iteration\n",
      "OutTable = 'table.dbf'\n",
      "arcpy.TableToTable_conversion(Boundaries_Zones, temporal1, OutTable)\n",
      "List_Boundaries_Zones = dbf2df(temporal1+'\\\\'+OutTable)\n",
      "Counter = List_Boundaries_Zones.OBJECTID.count()\n",
      "List_Boundaries_Zones['ID']= range(1,Counter+1)\n",
      "\n",
      "for City_Quarter in range(1,Counter+1):\n",
      "    # list of variables\n",
      "    Where_clausule =  ''''''+'\"'+\"ID\"+'\"'+\"=\"+\"\\'\"+str(int(City_Quarter))+\"\\'\"+'''''' # strange writing to introduce in ArcGIS\n",
      "\n",
      "    # selection\n",
      "    Single_CityQuarter = temporal1+\"\\\\\"+\"zone\"+str(City_Quarter)+'.shp' # location of the result of each CityQuarter\n",
      "    arcpy.Select_analysis(Boundaries_Zones,Single_CityQuarter,Where_clausule) # routine\n",
      "    arcpy.env.workspace = 'c:\\ArcGIS\\EDM.gdb'\n",
      "\n",
      "    # copy of city quarters\n",
      "    arcpy.MakeFeatureLayer_management(Zone, 'CQ_lyr') \n",
      "    arcpy.SelectLayerByLocation_management('CQ_lyr', 'intersect', Single_CityQuarter)\n",
      "\n",
      "    if City_Quarter != Zone_calc:\n",
      "        dstname = r'C:\\ArcGIS\\EDMdata\\DataFinal\\EDM\\Surroundings'+'\\\\'+'Zone_'+str(City_Quarter)\n",
      "        location = database+'\\\\'+'Surroundings'+\"\\\\\"+\"ZONE\"+str(City_Quarter)\n",
      "        arcpy.CopyFeatures_management('CQ_lyr', location)\n",
      "    else:\n",
      "        dstname = r'C:\\ArcGIS\\EDMdata\\DataFinal\\EDM'+'\\\\'+scenario+'\\\\'+\"Zone_\"+str(City_Quarter)\n",
      "        location = database+'\\\\'+scenario+\"\\\\\"+scenario+\"ZONE\"+str(City_Quarter)\n",
      "        arcpy.CopyFeatures_management('CQ_lyr', location)\n",
      "\n",
      "    OutTable = 'table.dbf'\n",
      "    arcpy.TableToTable_conversion(location, temporal1, OutTable)\n",
      "    List = dbf2df(temporal1+'\\\\'+OutTable)\n",
      "    List_names = list(List.Name)\n",
      "    COUNTER = List_Boundaries_Zones.OBJECTID.count()\n",
      "\n",
      "    listzones = [1,2,3,5,6,7,8,9,10,11,12,13,14,15,16,17,18,19,20,21]\n",
      "    for x in listzones:\n",
      "        srcname = r'C:\\ArcGIS\\EDMdata\\DataFinal\\EDM\\Surroundings'+'\\\\'+'Zone_'+str(x)\n",
      "        names = os.listdir(srcname)\n",
      "        for name in List_names:\n",
      "            namecsv = name+'.csv' \n",
      "            if namecsv in names:\n",
      "                src= os.path.join(srcname, namecsv)\n",
      "                dst = os.path.join(dstname, namecsv)\n",
      "                shutil.move(src, dst)"
     ],
     "language": "python",
     "metadata": {},
     "outputs": [],
     "prompt_number": 16
    },
    {
     "cell_type": "code",
     "collapsed": false,
     "input": [],
     "language": "python",
     "metadata": {},
     "outputs": []
    }
   ],
   "metadata": {}
  }
 ]
}
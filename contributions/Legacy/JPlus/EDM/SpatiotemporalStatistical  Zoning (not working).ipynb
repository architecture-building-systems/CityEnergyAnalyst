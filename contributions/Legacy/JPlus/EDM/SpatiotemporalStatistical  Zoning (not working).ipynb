{
 "metadata": {
  "name": "",
  "signature": "sha256:34c1ee59f29f131b4c35400bf30751136e600d1c97f60cb7acb2defe27a2f7f1"
 },
 "nbformat": 3,
 "nbformat_minor": 0,
 "worksheets": [
  {
   "cells": [
    {
     "cell_type": "markdown",
     "metadata": {},
     "source": [
      "#6. Spatiotemporal Zoning"
     ]
    },
    {
     "cell_type": "code",
     "collapsed": false,
     "input": [
      "import pandas as pd\n",
      "import os, sys\n",
      "import arcpy\n",
      "arcpy.env.overwriteOutput = True\n",
      "arcpy.CheckOutExtension(\"spatial\")\n",
      "arcpy.CheckOutExtension(\"3D\")\n",
      "sys.path.append(\"C:\\console\\sandbox\")\n",
      "from pyGDsandbox.dataIO import df2dbf, dbf2df \n",
      "if r'C:\\Console' not in sys.path: sys.path.append(r'C:\\Console')\n",
      "import EDMFunctions as EDM\n",
      "reload(EDM)"
     ],
     "language": "python",
     "metadata": {},
     "outputs": [
      {
       "metadata": {},
       "output_type": "pyout",
       "prompt_number": 68,
       "text": [
        "<module 'EDMFunctions' from 'EDMFunctions.pyc'>"
       ]
      }
     ],
     "prompt_number": 68
    },
    {
     "cell_type": "markdown",
     "metadata": {},
     "source": [
      "###Variables"
     ]
    },
    {
     "cell_type": "code",
     "collapsed": false,
     "input": [
      "Zone_of_study = 3\n",
      "Zone_calc = 3\n",
      "number_of_zones = 19\n",
      "database = r'c:\\ArcGIS\\EDM.gdb'\n",
      "Scenarios = ['SQ','BAU','HEB','CAMP','UC']"
     ],
     "language": "python",
     "metadata": {},
     "outputs": [],
     "prompt_number": 325
    },
    {
     "cell_type": "code",
     "collapsed": false,
     "input": [
      "locationFinal = r'C:\\ArcGIS\\EDMdata\\DataFinal\\EDM'\n",
      "locationtemp1 = r'c:\\ArcGIS\\temp'\n",
      "locationAna = r'C:\\ArcGIS\\EDMdata\\DataFinal\\DEDM'"
     ],
     "language": "python",
     "metadata": {},
     "outputs": [],
     "prompt_number": 289
    },
    {
     "cell_type": "markdown",
     "metadata": {},
     "source": [
      "###Process"
     ]
    },
    {
     "cell_type": "markdown",
     "metadata": {},
     "source": [
      "####Create spatiotemporal analysis.The timeseries are read, and the peaks of electricity(incl. cooling,ele), thermal cooling and thermal heating are computed. for each one, the date when the peak occurs is added."
     ]
    },
    {
     "cell_type": "code",
     "collapsed": false,
     "input": [
      "reload(EDM)\n",
      "for x in Scenarios:\n",
      "    for r in range (20):\n",
      "        Zone = 'ZONE_'+str(r) \n",
      "        if r == Zone_of_study:\n",
      "            Data = pd.read_csv(locationFinal+'\\\\'+x+'\\\\'+Zone+'\\\\'+'Total.csv') \n",
      "            source = x\n",
      "            counter = Data.Name.count()\n",
      "        else:\n",
      "            Data = pd.read_csv(locationFinal+'\\\\'+'Surroundings'+'\\\\'+Zone+'\\\\'+'Total.csv')\n",
      "            source = 'Surroundings'\n",
      "            counter = Data.Name.count()\n",
      "        for row in range (counter):\n",
      "            Name = Data.loc[row,'Name']\n",
      "            Databuilding = pd.read_csv(locationFinal+'\\\\'+source+'\\\\'+Zone+'\\\\'+Name+'.csv')\n",
      "            Databuilding.fillna(value=0,inplace=True)\n",
      "            Databuilding['Qh'] = Databuilding['Qhsf']+Databuilding['Qwwf']+Databuilding['Qhpf']\n",
      "            Databuilding['Qc'] = Databuilding['Qcpf']+Databuilding['Qcsf']+Databuilding['Qcicef']+Databuilding['Qcdataf']\n",
      "            Databuilding['E'] = Databuilding['Ealf']+Databuilding['Edataf']+Databuilding['Ecaf']+Databuilding['Epf']+Databuilding['Qc']/3                \n",
      "            NewFrame = pd.DataFrame(Databuilding,columns={'NAME','DATE','Qh','Qc','E'})\n",
      "            NewFrame['DATE'] = pd.date_range('1/1/2010', periods=8760, freq='H')\n",
      "            # days where the maximums happen in these dataseries\n",
      "            newQh = NewFrame[(NewFrame['DATE']>= '2010-12-27') & (NewFrame['DATE']< '2010-12-28')] \n",
      "            newE = NewFrame[(NewFrame['DATE']>= '2010-06-28') & (NewFrame['DATE']< '2010-06-29')]\n",
      "            newQc = NewFrame[(NewFrame['DATE']>= '2010-06-28') & (NewFrame['DATE']< '2010-06-29')]\n",
      "            #maximums\n",
      "            newEr = newE[newE['E']== newE['E'].max()]\n",
      "            newQhr = newQh[newQh['Qh']== newQh['Qh'].max()]\n",
      "            newQcr = newQc[newQc['Qc']== newQc['Qc'].max()]\n",
      "            newEr = newEr[:1]\n",
      "            newQhr = newQhr[:1]\n",
      "            newQcr = newQcr[:1]\n",
      "            #create row with data\n",
      "            TotalE = pd.DataFrame({'E':newEr['E'],'Edate':newEr['DATE'],'NAME':newEr['NAME']})\n",
      "            TotalQh = pd.DataFrame({'Qh':newQhr['Qh'],'Qhdate':newQhr['DATE'],'NAME':newQhr['NAME']})\n",
      "            TotalQc = pd.DataFrame({'Qc':newQcr['Qc'],'Qcdate':newQcr['DATE'],'NAME':newQcr['NAME']})\n",
      "            Total = pd.merge(TotalE,TotalQc,on='NAME')\n",
      "            Total = pd.merge(Total,TotalQh,on='NAME')\n",
      "            if (row == 0) & (r == 0):\n",
      "                totaltemp = Total\n",
      "            else:\n",
      "                totaltemp = totaltemp.append(Total)\n",
      "    totaltemp.reset_index(inplace=True)\n",
      "    totaltemp.to_csv(locationFinal+'\\\\'+x+'\\\\'+'Datespeaks.csv',index=False)\n",
      "    statzoningdatabase = r'c:\\ArcGIS\\Statistical zoning.gdb'\n",
      "    Namedata = x+'_peakdates'\n",
      "    arcpy.TableToTable_conversion(locationFinal+'\\\\'+x+'\\\\'+'Datespeaks.csv',statzoningdatabase,Namedata)\n",
      "    arcpy.ConvertTimeField_management(statzoningdatabase+'\\\\'+Namedata,\"Edate\",\"'Not Used'\",\"TIME_E0\",\"TEXT\",\"yyyy-MM-dd HH:mm:ss\")\n",
      "    arcpy.ConvertTimeField_management(statzoningdatabase+'\\\\'+Namedata,\"Qhdate\",\"'Not Used'\",\"TIME_Qh0\",\"TEXT\",\"yyyy-MM-dd HH:mm:ss\")\n",
      "    arcpy.ConvertTimeField_management(statzoningdatabase+'\\\\'+Namedata,\"Qcdate\",\"'Not Used'\",\"TIME_Qc0\",\"TEXT\",\"yyyy-MM-dd HH:mm:ss\")"
     ],
     "language": "python",
     "metadata": {},
     "outputs": [],
     "prompt_number": 327
    },
    {
     "cell_type": "code",
     "collapsed": false,
     "input": [],
     "language": "python",
     "metadata": {},
     "outputs": []
    }
   ],
   "metadata": {}
  }
 ]
}
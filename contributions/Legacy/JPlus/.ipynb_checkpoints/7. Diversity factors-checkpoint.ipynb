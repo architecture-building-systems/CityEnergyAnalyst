{
 "metadata": {
  "name": "",
  "signature": "sha256:8128e37fea0c31d2d07c9780c76b0a934741a57d96835ac8b457b3c4bfafee27"
 },
 "nbformat": 3,
 "nbformat_minor": 0,
 "worksheets": [
  {
   "cells": [
    {
     "cell_type": "markdown",
     "metadata": {},
     "source": [
      "# 7. Diversity factors\n",
      "\n",
      "\n",
      "The objective of this script is to determine diversity factor of zones per energy vector\n",
      "    "
     ]
    },
    {
     "cell_type": "code",
     "collapsed": false,
     "input": [
      "import pandas as pd\n",
      "import os, sys\n",
      "if r'C:\\Console' not in sys.path: sys.path.append(r'C:\\Console')\n",
      "import numpy as np"
     ],
     "language": "python",
     "metadata": {},
     "outputs": [],
     "prompt_number": 2
    },
    {
     "cell_type": "markdown",
     "metadata": {},
     "source": [
      "###VARIABLES"
     ]
    },
    {
     "cell_type": "code",
     "collapsed": false,
     "input": [
      "#list of inputs\n",
      "database = r'c:\\ArcGIS\\EDM.gdb'\n",
      "temporal1 = r'c:\\ArcGIS\\temp' # location of temporal files out of the database\n",
      "Scenarios = ['SQ','BAU','UC','CAMP','HEB'] #List of scenarios to evaluate the potentials\n",
      "locationFinal = r'C:\\ArcGIS\\EDMdata\\DataFinal\\EDM'\n",
      "Zone_of_study = 4"
     ],
     "language": "python",
     "metadata": {},
     "outputs": [],
     "prompt_number": 23
    },
    {
     "cell_type": "code",
     "collapsed": true,
     "input": [
      "for scenario in Scenarios:  \n",
      "    locationData = locationFinal+'\\\\'+scenario+'\\\\'+\"ZONE_\"+str(Zone_of_study)\n",
      "    CQ_names =  pd.read_csv(locationData+'\\\\'+'Total.csv')\n",
      "    names = CQ_names.Name\n",
      "    Qh = []\n",
      "    Qc = []\n",
      "    Ef = []\n",
      "    for x in names:\n",
      "        building = pd.read_csv(locationData+'\\\\'+x+'.csv')\n",
      "        Q = building.Qwwf+building.Qhpf+building.Qhsf\n",
      "        Qf = building.Qcdataf+building.Qcsf+building.Qcpf+building.Qcicef\n",
      "        E = building.Ef\n",
      "        Qc.append(Qf), Qh.append(Q), Ef.append(E)        \n",
      "    Qh_zone = np.sum(Qh, axis =0).max()/sum([x.max() for x in Qh])\n",
      "    Qc_zone = np.sum(Qc, axis =0).max()/sum([x.max() for x in Qc])\n",
      "    Ef_zone = np.sum(Ef, axis =0).max()/sum([x.max() for x in Ef])\n",
      "    out = locationData+'\\\\'+'Diversity.csv'    \n",
      "    pd.DataFrame({\"DF_Qh\":Qh_zone,\"DF_Qc\":Qc_zone,\"DF_E\":Ef_zone},index=[0]).to_csv(out, index=False, float_format='%3f')"
     ],
     "language": "python",
     "metadata": {},
     "outputs": [],
     "prompt_number": 32
    },
    {
     "cell_type": "code",
     "collapsed": false,
     "input": [],
     "language": "python",
     "metadata": {},
     "outputs": [
      {
       "metadata": {},
       "output_type": "pyout",
       "prompt_number": 29,
       "text": [
        "19064.795043239734"
       ]
      }
     ],
     "prompt_number": 29
    },
    {
     "cell_type": "heading",
     "level": 3,
     "metadata": {},
     "source": [
      "Do this for anergy networks DF"
     ]
    },
    {
     "cell_type": "code",
     "collapsed": false,
     "input": [
      "#Create file with factors\n",
      "for scenario in Scenarios:        \n",
      "    Factors = pd.DataFrame({\"ID\":range(number_zones)}) #to match arcgis zoning names \n",
      "    Factors['DF_Qh'] = 0\n",
      "    if scenario== 'SQ':\n",
      "        r1= 1\n",
      "        r2= number_zones+1\n",
      "    else:\n",
      "        r1= Zone_of_study\n",
      "        r2 = Zone_of_study+1\n",
      "    \n",
      "    for r in range(r1,r2):\n",
      "        if r != Zone_of_study:\n",
      "            location = database+'\\\\'+'Surroundings'+\"\\\\\"+\"ZONE\"+str(r)\n",
      "            locationfinal = r'C:\\ArcGIS\\EDMdata\\DataFinal\\EDM\\Surroundings'+'\\\\'+'Zone_'+str(r)\n",
      "        else:\n",
      "            location = database+'\\\\'+scenario+\"\\\\\"+scenario+\"ZONE\"+str(r)\n",
      "            locationfinal = r'C:\\ArcGIS\\EDMdata\\DataFinal\\EDM'+'\\\\'+scenario+'\\\\'+\"Zone_\"+str(r)\n",
      "\n",
      "        OutTable = 'table3.dbf'\n",
      "        arcpy.TableToTable_conversion(location, temporal1, OutTable)\n",
      "        List = dbf2df(temporal1+'\\\\'+OutTable)\n",
      "        buildings = List.Name.count()\n",
      "        \n",
      "        for row in range (buildings):\n",
      "            Name = List.loc[row,'Name']\n",
      "            Data = pd.read_csv(locationfinal+'\\\\'+Name+'.csv')\n",
      "            if row ==0:\n",
      "                SeriesAVG = Data.copy()\n",
      "                SeriesAVG['Qhf'] = Data['Qhsf']+Data['Qwwf']+Data['Qhpf']\n",
      "                SeriesAVG['Qcf'] = Data['Qcsf']+Data['Qcdataf']+Data['Qcicef']+Data['Qcpf']\n",
      "            else:\n",
      "                SeriesAVG['Qhf'] = SeriesAVG['Qhf']+Data['Qhsf']+Data['Qwwf']+Data['Qhpf']\n",
      "                SeriesAVG['Qcf'] = SeriesAVG['Qcf']+Data['Qcsf']+Data['Qcdataf']+Data['Qcicef']+Data['Qcpf']\n",
      "        \n",
      "        EmaxsysQh= (SeriesAVG['Qhf']).max()\n",
      "        storage = 0\n",
      "        for x in range(8760):\n",
      "            surplus = SeriesAVG.loc[x,'Qhf']- 0.8*SeriesAVG.loc[x,'Qcf']\n",
      "            if surplus <= 0:\n",
      "                storage = storage + (-surplus)\n",
      "                SeriesAVG.loc[x,'Qhf'] = 0\n",
      "            elif surplus > 0:\n",
      "                SeriesAVG.loc[x,'Qhf'] = surplus - storage\n",
      "                if SeriesAVG.loc[x,'Qhf'] <= 0:\n",
      "                    storage = -SeriesAVG.loc[x,'Qhf']\n",
      "                    SeriesAVG.loc[x,'Qhf'] = 0\n",
      "                if SeriesAVG.loc[x,'Qhf'] > 0:\n",
      "                    storage = 0\n",
      "                    \n",
      "        #EmaxsysQhc = (SeriesAVG['Qhf']-SeriesAVG['Qcf']).max()\n",
      "        EmaxsysQhc = (SeriesAVG['Qhf']).max()\n",
      "        \n",
      "        Factors.loc[r-1,'DF_Qh'] = EmaxsysQhc/EmaxsysQh\n",
      "        Factors.loc[r-1,'ID'] = str(r)    \n",
      "    Factors.to_excel(r'C:\\ArcGIS\\EDMdata\\DataFinal\\EDM'+'\\\\'+scenario+'\\\\'+'Diversity_anergy.xls')"
     ],
     "language": "python",
     "metadata": {},
     "outputs": [
      {
       "ename": "IOError",
       "evalue": "[Errno 13] Permission denied: 'C:\\\\ArcGIS\\\\EDMdata\\\\DataFinal\\\\EDM\\\\SQ\\\\Diversity_anergy.xls'",
       "output_type": "pyerr",
       "traceback": [
        "\u001b[1;31m---------------------------------------------------------------------------\u001b[0m\n\u001b[1;31mIOError\u001b[0m                                   Traceback (most recent call last)",
        "\u001b[1;32m<ipython-input-81-1ade13646d80>\u001b[0m in \u001b[0;36m<module>\u001b[1;34m()\u001b[0m\n\u001b[0;32m     54\u001b[0m         \u001b[0mFactors\u001b[0m\u001b[1;33m.\u001b[0m\u001b[0mloc\u001b[0m\u001b[1;33m[\u001b[0m\u001b[0mr\u001b[0m\u001b[1;33m-\u001b[0m\u001b[1;36m1\u001b[0m\u001b[1;33m,\u001b[0m\u001b[1;34m'DF_Qh'\u001b[0m\u001b[1;33m]\u001b[0m \u001b[1;33m=\u001b[0m \u001b[0mEmaxsysQhc\u001b[0m\u001b[1;33m/\u001b[0m\u001b[0mEmaxsysQh\u001b[0m\u001b[1;33m\u001b[0m\u001b[0m\n\u001b[0;32m     55\u001b[0m         \u001b[0mFactors\u001b[0m\u001b[1;33m.\u001b[0m\u001b[0mloc\u001b[0m\u001b[1;33m[\u001b[0m\u001b[0mr\u001b[0m\u001b[1;33m-\u001b[0m\u001b[1;36m1\u001b[0m\u001b[1;33m,\u001b[0m\u001b[1;34m'ID'\u001b[0m\u001b[1;33m]\u001b[0m \u001b[1;33m=\u001b[0m \u001b[0mstr\u001b[0m\u001b[1;33m(\u001b[0m\u001b[0mr\u001b[0m\u001b[1;33m)\u001b[0m\u001b[1;33m\u001b[0m\u001b[0m\n\u001b[1;32m---> 56\u001b[1;33m     \u001b[0mFactors\u001b[0m\u001b[1;33m.\u001b[0m\u001b[0mto_excel\u001b[0m\u001b[1;33m(\u001b[0m\u001b[1;34mr'C:\\ArcGIS\\EDMdata\\DataFinal\\EDM'\u001b[0m\u001b[1;33m+\u001b[0m\u001b[1;34m'\\\\'\u001b[0m\u001b[1;33m+\u001b[0m\u001b[0mscenario\u001b[0m\u001b[1;33m+\u001b[0m\u001b[1;34m'\\\\'\u001b[0m\u001b[1;33m+\u001b[0m\u001b[1;34m'Diversity_anergy.xls'\u001b[0m\u001b[1;33m)\u001b[0m\u001b[1;33m\u001b[0m\u001b[0m\n\u001b[0m",
        "\u001b[1;32mC:\\Python27\\ArcGISx6410.2\\lib\\site-packages\\pandas-0.13.1-py2.7-win-amd64.egg\\pandas\\core\\frame.pyc\u001b[0m in \u001b[0;36mto_excel\u001b[1;34m(self, excel_writer, sheet_name, na_rep, float_format, cols, header, index, index_label, startrow, startcol, engine, merge_cells)\u001b[0m\n\u001b[0;32m   1204\u001b[0m                                  startrow=startrow, startcol=startcol)\n\u001b[0;32m   1205\u001b[0m         \u001b[1;32mif\u001b[0m \u001b[0mneed_save\u001b[0m\u001b[1;33m:\u001b[0m\u001b[1;33m\u001b[0m\u001b[0m\n\u001b[1;32m-> 1206\u001b[1;33m             \u001b[0mexcel_writer\u001b[0m\u001b[1;33m.\u001b[0m\u001b[0msave\u001b[0m\u001b[1;33m(\u001b[0m\u001b[1;33m)\u001b[0m\u001b[1;33m\u001b[0m\u001b[0m\n\u001b[0m\u001b[0;32m   1207\u001b[0m \u001b[1;33m\u001b[0m\u001b[0m\n\u001b[0;32m   1208\u001b[0m     def to_stata(\n",
        "\u001b[1;32mC:\\Python27\\ArcGISx6410.2\\lib\\site-packages\\pandas-0.13.1-py2.7-win-amd64.egg\\pandas\\io\\excel.pyc\u001b[0m in \u001b[0;36msave\u001b[1;34m(self)\u001b[0m\n\u001b[0;32m    608\u001b[0m         \u001b[0mSave\u001b[0m \u001b[0mworkbook\u001b[0m \u001b[0mto\u001b[0m \u001b[0mdisk\u001b[0m\u001b[1;33m.\u001b[0m\u001b[1;33m\u001b[0m\u001b[0m\n\u001b[0;32m    609\u001b[0m         \"\"\"\n\u001b[1;32m--> 610\u001b[1;33m         \u001b[1;32mreturn\u001b[0m \u001b[0mself\u001b[0m\u001b[1;33m.\u001b[0m\u001b[0mbook\u001b[0m\u001b[1;33m.\u001b[0m\u001b[0msave\u001b[0m\u001b[1;33m(\u001b[0m\u001b[0mself\u001b[0m\u001b[1;33m.\u001b[0m\u001b[0mpath\u001b[0m\u001b[1;33m)\u001b[0m\u001b[1;33m\u001b[0m\u001b[0m\n\u001b[0m\u001b[0;32m    611\u001b[0m \u001b[1;33m\u001b[0m\u001b[0m\n\u001b[0;32m    612\u001b[0m     \u001b[1;32mdef\u001b[0m \u001b[0mwrite_cells\u001b[0m\u001b[1;33m(\u001b[0m\u001b[0mself\u001b[0m\u001b[1;33m,\u001b[0m \u001b[0mcells\u001b[0m\u001b[1;33m,\u001b[0m \u001b[0msheet_name\u001b[0m\u001b[1;33m=\u001b[0m\u001b[0mNone\u001b[0m\u001b[1;33m,\u001b[0m \u001b[0mstartrow\u001b[0m\u001b[1;33m=\u001b[0m\u001b[1;36m0\u001b[0m\u001b[1;33m,\u001b[0m \u001b[0mstartcol\u001b[0m\u001b[1;33m=\u001b[0m\u001b[1;36m0\u001b[0m\u001b[1;33m)\u001b[0m\u001b[1;33m:\u001b[0m\u001b[1;33m\u001b[0m\u001b[0m\n",
        "\u001b[1;32mC:\\Python27\\ArcGISx6410.2\\lib\\site-packages\\xlwt\\Workbook.pyc\u001b[0m in \u001b[0;36msave\u001b[1;34m(self, filename)\u001b[0m\n\u001b[0;32m    660\u001b[0m \u001b[1;33m\u001b[0m\u001b[0m\n\u001b[0;32m    661\u001b[0m         \u001b[0mdoc\u001b[0m \u001b[1;33m=\u001b[0m \u001b[0mCompoundDoc\u001b[0m\u001b[1;33m.\u001b[0m\u001b[0mXlsDoc\u001b[0m\u001b[1;33m(\u001b[0m\u001b[1;33m)\u001b[0m\u001b[1;33m\u001b[0m\u001b[0m\n\u001b[1;32m--> 662\u001b[1;33m         \u001b[0mdoc\u001b[0m\u001b[1;33m.\u001b[0m\u001b[0msave\u001b[0m\u001b[1;33m(\u001b[0m\u001b[0mfilename\u001b[0m\u001b[1;33m,\u001b[0m \u001b[0mself\u001b[0m\u001b[1;33m.\u001b[0m\u001b[0mget_biff_data\u001b[0m\u001b[1;33m(\u001b[0m\u001b[1;33m)\u001b[0m\u001b[1;33m)\u001b[0m\u001b[1;33m\u001b[0m\u001b[0m\n\u001b[0m\u001b[0;32m    663\u001b[0m \u001b[1;33m\u001b[0m\u001b[0m\n\u001b[0;32m    664\u001b[0m \u001b[1;33m\u001b[0m\u001b[0m\n",
        "\u001b[1;32mC:\\Python27\\ArcGISx6410.2\\lib\\site-packages\\xlwt\\CompoundDoc.pyc\u001b[0m in \u001b[0;36msave\u001b[1;34m(self, file_name_or_filelike_obj, stream)\u001b[0m\n\u001b[0;32m    259\u001b[0m         \u001b[0mwe_own_it\u001b[0m \u001b[1;33m=\u001b[0m \u001b[1;32mnot\u001b[0m \u001b[0mhasattr\u001b[0m\u001b[1;33m(\u001b[0m\u001b[0mf\u001b[0m\u001b[1;33m,\u001b[0m \u001b[1;34m'write'\u001b[0m\u001b[1;33m)\u001b[0m\u001b[1;33m\u001b[0m\u001b[0m\n\u001b[0;32m    260\u001b[0m         \u001b[1;32mif\u001b[0m \u001b[0mwe_own_it\u001b[0m\u001b[1;33m:\u001b[0m\u001b[1;33m\u001b[0m\u001b[0m\n\u001b[1;32m--> 261\u001b[1;33m             \u001b[0mf\u001b[0m \u001b[1;33m=\u001b[0m \u001b[0mopen\u001b[0m\u001b[1;33m(\u001b[0m\u001b[0mfile_name_or_filelike_obj\u001b[0m\u001b[1;33m,\u001b[0m \u001b[1;34m'w+b'\u001b[0m\u001b[1;33m)\u001b[0m\u001b[1;33m\u001b[0m\u001b[0m\n\u001b[0m\u001b[0;32m    262\u001b[0m         \u001b[0mf\u001b[0m\u001b[1;33m.\u001b[0m\u001b[0mwrite\u001b[0m\u001b[1;33m(\u001b[0m\u001b[0mself\u001b[0m\u001b[1;33m.\u001b[0m\u001b[0mheader\u001b[0m\u001b[1;33m)\u001b[0m\u001b[1;33m\u001b[0m\u001b[0m\n\u001b[0;32m    263\u001b[0m         \u001b[0mf\u001b[0m\u001b[1;33m.\u001b[0m\u001b[0mwrite\u001b[0m\u001b[1;33m(\u001b[0m\u001b[0mself\u001b[0m\u001b[1;33m.\u001b[0m\u001b[0mpacked_MSAT_1st\u001b[0m\u001b[1;33m)\u001b[0m\u001b[1;33m\u001b[0m\u001b[0m\n",
        "\u001b[1;31mIOError\u001b[0m: [Errno 13] Permission denied: 'C:\\\\ArcGIS\\\\EDMdata\\\\DataFinal\\\\EDM\\\\SQ\\\\Diversity_anergy.xls'"
       ]
      }
     ],
     "prompt_number": 81
    },
    {
     "cell_type": "code",
     "collapsed": false,
     "input": [
      "Factors.to_excel(r'C:\\ArcGIS\\EDMdata\\DataFinal\\EDM'+'\\\\'+scenario+'\\\\'+'Diversity_anergy.xls')"
     ],
     "language": "python",
     "metadata": {},
     "outputs": [],
     "prompt_number": 77
    },
    {
     "cell_type": "code",
     "collapsed": false,
     "input": [
      "EmaxsysQh"
     ],
     "language": "python",
     "metadata": {},
     "outputs": [
      {
       "metadata": {},
       "output_type": "pyout",
       "prompt_number": 72,
       "text": [
        "19648.588229170611"
       ]
      }
     ],
     "prompt_number": 72
    },
    {
     "cell_type": "code",
     "collapsed": false,
     "input": [
      "EmaxsysQhc - EmaxsysQh"
     ],
     "language": "python",
     "metadata": {},
     "outputs": [
      {
       "metadata": {},
       "output_type": "pyout",
       "prompt_number": 74,
       "text": [
        "-248.76080633578022"
       ]
      }
     ],
     "prompt_number": 74
    },
    {
     "cell_type": "code",
     "collapsed": false,
     "input": [
      "EmaxsysQh"
     ],
     "language": "python",
     "metadata": {},
     "outputs": [
      {
       "metadata": {},
       "output_type": "pyout",
       "prompt_number": 78,
       "text": [
        "23675.428837368941"
       ]
      }
     ],
     "prompt_number": 78
    },
    {
     "cell_type": "code",
     "collapsed": false,
     "input": [
      "EmaxsysQhc"
     ],
     "language": "python",
     "metadata": {},
     "outputs": [
      {
       "metadata": {},
       "output_type": "pyout",
       "prompt_number": 79,
       "text": [
        "23674.039940014321"
       ]
      }
     ],
     "prompt_number": 79
    },
    {
     "cell_type": "code",
     "collapsed": false,
     "input": [
      "EmaxsysQhc - EmaxsysQh"
     ],
     "language": "python",
     "metadata": {},
     "outputs": [
      {
       "metadata": {},
       "output_type": "pyout",
       "prompt_number": 80,
       "text": [
        "-1.388897354619985"
       ]
      }
     ],
     "prompt_number": 80
    },
    {
     "cell_type": "code",
     "collapsed": false,
     "input": [],
     "language": "python",
     "metadata": {},
     "outputs": []
    }
   ],
   "metadata": {}
  }
 ]
}
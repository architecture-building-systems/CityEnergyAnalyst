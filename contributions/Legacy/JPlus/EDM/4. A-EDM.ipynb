{
 "metadata": {
  "name": "",
  "signature": "sha256:1566564e66e20001b6fba0697fcc553ead3577841bd222237840829cacb78964"
 },
 "nbformat": 3,
 "nbformat_minor": 0,
 "worksheets": [
  {
   "cells": [
    {
     "cell_type": "markdown",
     "metadata": {},
     "source": [
      "#  Analytical Energy Demand Model (A-EDM)\n",
      "###INTRODUCTION\n",
      "\n",
      "This Routine calculates the thermal, Cooling and electrical hourly demand in buildings\n",
      "the model is developed under the standard EN 13790:2007, 'SIMPLIFIED HOURLY MODEL' for heating and cooling loads,\n",
      "Whereas Electrical loads are assumed to be distributed during the year according to the Standard SIA 2024 for different categories of use.\n",
      "\n",
      "it calculates the next values in MWh/year and dynamics:\n",
      "\n",
      "- Qhsf: final space heating consumption\n",
      "- Qcsf: final space cooling consumption\n",
      "- Qwwf: final space cooling consumption\n",
      "- Ealf: final electricity consumption due to appliances and lighting"
     ]
    },
    {
     "cell_type": "markdown",
     "metadata": {},
     "source": [
      "##MODULES"
     ]
    },
    {
     "cell_type": "code",
     "collapsed": true,
     "input": [
      "import pandas as pd\n",
      "import os, sys\n",
      "if r'C:\\Console' not in sys.path: sys.path.append(r'C:\\Console')\n",
      "import EDMFunctions as EDM\n",
      "import numpy as np"
     ],
     "language": "python",
     "metadata": {},
     "outputs": [],
     "prompt_number": 1
    },
    {
     "cell_type": "markdown",
     "metadata": {},
     "source": [
      "##VARIABLES"
     ]
    },
    {
     "cell_type": "code",
     "collapsed": false,
     "input": [
      "case_study = 'ArcGIS' #ArcGIS for inducity and Zernez for Zernez"
     ],
     "language": "python",
     "metadata": {},
     "outputs": [],
     "prompt_number": 43
    },
    {
     "cell_type": "code",
     "collapsed": false,
     "input": [
      "Scenario = 'SQ'; Zone_of_study = 1\n",
      "Zone_calc = 1\n",
      "Zone = 'Zone_'+str(Zone_calc)"
     ],
     "language": "python",
     "metadata": {},
     "outputs": [],
     "prompt_number": 44
    },
    {
     "cell_type": "code",
     "collapsed": false,
     "input": [
      "# do this if no difference between server room and cooling room loads has to be done\n",
      "Servers=0\n",
      "Coolingroom=0"
     ],
     "language": "python",
     "metadata": {},
     "outputs": [],
     "prompt_number": 45
    },
    {
     "cell_type": "code",
     "collapsed": false,
     "input": [
      "WeatherData = pd.ExcelFile('C:\\Zernez\\EDMdata\\Weatherdata\\Temp_Design.xls')\n",
      "Temp = pd.ExcelFile.parse(WeatherData, 'Values_hour',convert_float=True)\n",
      "Seasonhours = [3216,6192] # hours of start and end of cooling season\n",
      "T_ext = np.array(Temp.te)\n",
      "RH_ext = np.array(Temp.RH)\n",
      "# the maximum and minimum outside temperatures\n",
      "T_ext_max = T_ext.max()\n",
      "T_ext_min = T_ext.min()"
     ],
     "language": "python",
     "metadata": {},
     "outputs": [],
     "prompt_number": 46
    },
    {
     "cell_type": "code",
     "collapsed": false,
     "input": [
      "# it lasts 10 sec to load!\n",
      "Schedules = pd.ExcelFile('C:\\Zernez\\EDMdata\\Statistical\\Archetypes_schedules.xls')\n",
      "Profiles_names = ['ADMIN','SR','INDUS','REST','RESTS','DEPO','COM','MDU','SDU','EDU','CR','HEALTH','SPORT',\n",
      "            'SWIM','PUBLIC','SUPER','ICE','HOT']\n",
      "Profiles= list(range(len(Profiles_names)))\n",
      "rows = len(Profiles_names)\n",
      "for row in range(rows):\n",
      "    Profiles[row] = pd.ExcelFile.parse(Schedules, Profiles_names[row],convert_float=True)\n",
      "    Profiles[row]['tintH_set'],Profiles[row]['tintC_set']  = np.vectorize(EDM.calc_fill_local_Text)(T_ext,Profiles[row]['tintH_set'].copy(),\n",
      "                                                                                                    Profiles[row]['tintC_set'].copy(),T_ext_max)\n",
      "if Servers == 0:\n",
      "    Profiles[1] = Profiles[0]\n",
      "if Coolingroom == 0:\n",
      "    Profiles[10] = Profiles[15]"
     ],
     "language": "python",
     "metadata": {},
     "outputs": [],
     "prompt_number": 47
    },
    {
     "cell_type": "code",
     "collapsed": false,
     "input": [
      "locationtemp1 = r'c:\\Zernez\\temp'"
     ],
     "language": "python",
     "metadata": {},
     "outputs": [],
     "prompt_number": 18
    },
    {
     "cell_type": "code",
     "collapsed": false,
     "input": [
      "if Zone_calc != Zone_of_study:\n",
      "    CQ = r'c:\\Zernez\\EDM.gdb'+'\\\\'+'Surroundings'+'\\\\'+Zone\n",
      "    DataCQ = pd.ExcelFile('c:\\Zernez\\EDMdata\\DataFinal\\SEDM'+'\\\\'+'Surroundings'+'\\\\'+Zone+'\\\\'+'Properties.xls') # Location of the data of the CQ to run\n",
      "    CQproperties = pd.ExcelFile.parse(DataCQ, 'Values') # properties of buildings, Table with all requierements\n",
      "    RadiationFile = 'c:\\Zernez\\EDMdata\\DataFinal\\RM'+'\\\\'+'Surroundings'+'\\\\'+Zone+'\\\\'+'Radiation_faces'+'\\\\'+'RadiationYearFinal.csv'\n",
      "    locationFinal = r'c:\\Zernez\\EDMdata\\DataFinal'+'\\\\'+'DEDM'+'\\\\'+'Surroundings'+'\\\\'+Zone\n",
      "else:\n",
      "    RadiationFile = 'c:\\Zernez\\EDMdata\\DataFinal\\RM'+'\\\\'+Scenario+'\\\\'+Zone+'\\\\'+'Radiation_faces'+'\\\\'+'RadiationYearFinal.csv'\n",
      "    CQ = r'c:\\Zernez\\EDM.gdb'+'\\\\'+Scenario+'\\\\'+Scenario+Zone\n",
      "    DataCQ = pd.ExcelFile('c:\\Zernez\\EDMdata\\DataFinal\\SEDM'+'\\\\'+Scenario+'\\\\'+Zone+'\\\\'+'Properties.xls') # Location of the data of the CQ to run    \n",
      "    CQproperties = pd.ExcelFile.parse(DataCQ, 'Values') # properties of buildings, Table with all requierements\n",
      "    locationFinal = r'c:\\Zernez\\EDMdata\\DataFinal'+'\\\\'+'DEDM'+'\\\\'+Scenario+'\\\\'+Zone\n",
      "if Scenario == \"SQ\":\n",
      "    DataCQ = pd.ExcelFile('c:\\Zernez\\EDMdata\\Measured'+'\\\\'+Zone+'\\\\'+'Properties.xls') # Location of the data of the CQ to run    \n",
      "    CQproperties = pd.ExcelFile.parse(DataCQ, 'Values') # properties of buildings, Table with all requierements    "
     ],
     "language": "python",
     "metadata": {},
     "outputs": [],
     "prompt_number": 54
    },
    {
     "cell_type": "markdown",
     "metadata": {},
     "source": [
      "##PROCESS"
     ]
    },
    {
     "cell_type": "markdown",
     "metadata": {},
     "source": [
      "Calculate properties of buildings such as areas and thermal transmittance coefficients"
     ]
    },
    {
     "cell_type": "code",
     "collapsed": false,
     "input": [
      "# it lasts 5 sec to load!\n",
      "AllProperties = EDM.CalcProperties(CQ, CQproperties, RadiationFile, locationtemp1)"
     ],
     "language": "python",
     "metadata": {},
     "outputs": [],
     "prompt_number": 55
    },
    {
     "cell_type": "markdown",
     "metadata": {},
     "source": [
      "Incident radiation in areas exposed to solar radiation"
     ]
    },
    {
     "cell_type": "code",
     "collapsed": false,
     "input": [
      "# it lasts 22 sec to load!\n",
      "Solar = EDM.CalcIncidentRadiation(AllProperties, RadiationFile)"
     ],
     "language": "python",
     "metadata": {},
     "outputs": [],
     "prompt_number": 56
    },
    {
     "cell_type": "markdown",
     "metadata": {},
     "source": [
      "###2. Calculation of NET-Thermal loads - Simplified hourly dynamic method - EN 13790:2007: It includes determination of losses of emission and control and distribution, EN15316:2008"
     ]
    },
    {
     "cell_type": "code",
     "collapsed": false,
     "input": [
      "#constant variables\n",
      "# CONSTANT VALUES\n",
      "g_gl = 0.9*0.75 # solar energy transmittance assuming a reduction factor of 0.9 and most of the windows to be double glazing (0.75)\n",
      "F_f = 0.3 # Frame area faction coefficient\n",
      "Bf = 0.7 # It calculates the coefficient of reduction in transmittance for surfaces in contact with the ground according to values of  SIA 380/1\n",
      "D = 20 #in mm the diameter of the pipe to calculate losses\n",
      "hf = 3 # average height per floor in m\n",
      "Pwater = 998 # water density kg/m3\n",
      "PaCa = 1200  # Air constant J/m3K \n",
      "Cpw= 4.184 # heat capacity of water in kJ/kgK\n",
      "Flowtap = 0.036 # in m3/min ==  12 l/min during 3 min every tap opening \n",
      "# constants\n",
      "deltaP_l = 0.1 #delta of pressure\n",
      "fsr = 0.3 # factor for pressure calculation\n",
      "#constant values for HVAC\n",
      "nrec_N = 0.75  #possilbe recovery\n",
      "C1 = 0.054 # assumed a flat plate heat exchanger\n",
      "Vmax = 3 # maximum estimated flow i m3/s\n",
      "Pair = 1.2 #kg/m3\n",
      "Cpv = 1.859 # in KJ/kgK specific heat capacity of water vapor\n",
      "Cpa = 1.008 # in KJ/kgK specific heat capacity of air\n",
      "lvapor = 2257 #kJ/kg"
     ],
     "language": "python",
     "metadata": {},
     "outputs": [],
     "prompt_number": 57
    },
    {
     "cell_type": "code",
     "collapsed": false,
     "input": [
      "buildings = AllProperties.Name.count()\n",
      "for building in range(buildings):\n",
      "    result = EDM.CalcThermalLoads(building, AllProperties.ix[building], Solar.ix[building], locationFinal, Profiles,Profiles_names,\n",
      "                                  T_ext,Seasonhours,T_ext_max, RH_ext, T_ext_min,g_gl,F_f,Bf,D,hf,Pwater,PaCa,Cpw, Flowtap,\n",
      "                                  deltaP_l, fsr,nrec_N,C1,Vmax,Pair,Cpv,Cpa,lvapor, servers=0,coolingroom=0)\n",
      "    print 'complete building '+ str(building) + 'of '+ str(buildings)"
     ],
     "language": "python",
     "metadata": {},
     "outputs": [
      {
       "output_type": "stream",
       "stream": "stdout",
       "text": [
        "complete building 0of 38\n",
        "complete building 1of 38"
       ]
      },
      {
       "output_type": "stream",
       "stream": "stdout",
       "text": [
        "\n",
        "complete building 2of 38"
       ]
      },
      {
       "output_type": "stream",
       "stream": "stdout",
       "text": [
        "\n",
        "complete building 3of 38"
       ]
      },
      {
       "output_type": "stream",
       "stream": "stdout",
       "text": [
        "\n",
        "complete building 4of 38"
       ]
      },
      {
       "output_type": "stream",
       "stream": "stdout",
       "text": [
        "\n",
        "complete building 5of 38"
       ]
      },
      {
       "output_type": "stream",
       "stream": "stdout",
       "text": [
        "\n",
        "complete building 6of 38"
       ]
      },
      {
       "output_type": "stream",
       "stream": "stdout",
       "text": [
        "\n",
        "complete building 7of 38"
       ]
      },
      {
       "output_type": "stream",
       "stream": "stdout",
       "text": [
        "\n",
        "complete building 8of 38"
       ]
      },
      {
       "output_type": "stream",
       "stream": "stdout",
       "text": [
        "\n",
        "complete building 9of 38"
       ]
      },
      {
       "output_type": "stream",
       "stream": "stdout",
       "text": [
        "\n",
        "complete building 10of 38"
       ]
      },
      {
       "output_type": "stream",
       "stream": "stdout",
       "text": [
        "\n",
        "complete building 11of 38"
       ]
      },
      {
       "output_type": "stream",
       "stream": "stdout",
       "text": [
        "\n",
        "complete building 12of 38"
       ]
      },
      {
       "output_type": "stream",
       "stream": "stdout",
       "text": [
        "\n",
        "complete building 13of 38"
       ]
      },
      {
       "output_type": "stream",
       "stream": "stdout",
       "text": [
        "\n",
        "complete building 14of 38"
       ]
      },
      {
       "output_type": "stream",
       "stream": "stdout",
       "text": [
        "\n",
        "complete building 15of 38"
       ]
      },
      {
       "output_type": "stream",
       "stream": "stdout",
       "text": [
        "\n",
        "complete building 16of 38"
       ]
      },
      {
       "output_type": "stream",
       "stream": "stdout",
       "text": [
        "\n",
        "complete building 17of 38"
       ]
      },
      {
       "output_type": "stream",
       "stream": "stdout",
       "text": [
        "\n",
        "complete building 18of 38"
       ]
      },
      {
       "output_type": "stream",
       "stream": "stdout",
       "text": [
        "\n",
        "complete building 19of 38"
       ]
      },
      {
       "output_type": "stream",
       "stream": "stdout",
       "text": [
        "\n",
        "complete building 20of 38"
       ]
      },
      {
       "output_type": "stream",
       "stream": "stdout",
       "text": [
        "\n",
        "complete building 21of 38"
       ]
      },
      {
       "output_type": "stream",
       "stream": "stdout",
       "text": [
        "\n",
        "complete building 22of 38"
       ]
      },
      {
       "output_type": "stream",
       "stream": "stdout",
       "text": [
        "\n",
        "complete building 23of 38"
       ]
      },
      {
       "output_type": "stream",
       "stream": "stdout",
       "text": [
        "\n",
        "complete building 24of 38"
       ]
      },
      {
       "output_type": "stream",
       "stream": "stdout",
       "text": [
        "\n",
        "complete building 25of 38"
       ]
      },
      {
       "output_type": "stream",
       "stream": "stdout",
       "text": [
        "\n",
        "complete building 26of 38"
       ]
      },
      {
       "output_type": "stream",
       "stream": "stdout",
       "text": [
        "\n",
        "complete building 27of 38"
       ]
      },
      {
       "output_type": "stream",
       "stream": "stdout",
       "text": [
        "\n",
        "complete building 28of 38"
       ]
      },
      {
       "output_type": "stream",
       "stream": "stdout",
       "text": [
        "\n",
        "complete building 29of 38"
       ]
      },
      {
       "output_type": "stream",
       "stream": "stdout",
       "text": [
        "\n",
        "complete building 30of 38"
       ]
      },
      {
       "output_type": "stream",
       "stream": "stdout",
       "text": [
        "\n",
        "complete building 31of 38"
       ]
      },
      {
       "output_type": "stream",
       "stream": "stdout",
       "text": [
        "\n",
        "complete building 32of 38"
       ]
      },
      {
       "output_type": "stream",
       "stream": "stdout",
       "text": [
        "\n",
        "complete building 33of 38"
       ]
      },
      {
       "output_type": "stream",
       "stream": "stdout",
       "text": [
        "\n",
        "complete building 34of 38"
       ]
      },
      {
       "output_type": "stream",
       "stream": "stdout",
       "text": [
        "\n",
        "complete building 35of 38"
       ]
      },
      {
       "output_type": "stream",
       "stream": "stdout",
       "text": [
        "\n",
        "complete building 36of 38"
       ]
      },
      {
       "output_type": "stream",
       "stream": "stdout",
       "text": [
        "\n",
        "complete building 37of 38"
       ]
      },
      {
       "output_type": "stream",
       "stream": "stdout",
       "text": [
        "\n"
       ]
      }
     ],
     "prompt_number": 58
    },
    {
     "cell_type": "code",
     "collapsed": false,
     "input": [
      "name = AllProperties.Name[0]\n",
      "dataframe = pd.read_csv(locationFinal+'\\\\'+name+'T'+'.csv')\n",
      "for x in AllProperties.Name[1:]:\n",
      "    dataframe2 = pd.read_csv(locationFinal+'\\\\'+x+'T'+'.csv')\n",
      "    dataframe = dataframe.append(dataframe2,ignore_index=True)\n",
      "dataframe.to_csv(locationFinal+'\\\\'+'Total.csv')"
     ],
     "language": "python",
     "metadata": {},
     "outputs": [],
     "prompt_number": 60
    },
    {
     "cell_type": "code",
     "collapsed": false,
     "input": [
      "%reset"
     ],
     "language": "python",
     "metadata": {},
     "outputs": [
      {
       "name": "stdout",
       "output_type": "stream",
       "stream": "stdout",
       "text": [
        "Once deleted, variables cannot be recovered. Proceed (y/[n])? y\n"
       ]
      }
     ]
    },
    {
     "cell_type": "code",
     "collapsed": false,
     "input": [
      "for x in range(5,21):\n",
      "    Zone = 'ZONE_'+str(x)\n",
      "    if x != Zone_of_study:\n",
      "        CQ = r'c:\\ArcGIS\\EDM.gdb'+'\\\\'+'Surroundings'+'\\\\'+Zone\n",
      "        DataCQ = pd.ExcelFile('c:\\ArcGIS\\EDMdata\\DataFinal\\SEDM'+'\\\\'+'Surroundings'+'\\\\'+Zone+'\\\\'+'Properties.xls') # Location of the data of the CQ to run\n",
      "        CQproperties = pd.ExcelFile.parse(DataCQ, 'Values') # properties of buildings, Table with all requierements\n",
      "        RadiationFile = 'c:\\ArcGIS\\EDMdata\\DataFinal\\RM'+'\\\\'+'Surroundings'+'\\\\'+Zone+'\\\\'+'Radiation_faces'+'\\\\'+'RadiationYearFinal.csv'\n",
      "        locationFinal = r'c:\\ArcGIS\\EDMdata\\DataFinal'+'\\\\'+'DEDM'+'\\\\'+'Surroundings'+'\\\\'+Zone\n",
      "    else:\n",
      "        RadiationFile = 'c:\\ArcGIS\\EDMdata\\DataFinal\\RM'+'\\\\'+Scenario+'\\\\'+Zone+'\\\\'+'Radiation_faces'+'\\\\'+'RadiationYearFinal.csv'\n",
      "        CQ = r'c:\\ArcGIS\\EDM.gdb'+'\\\\'+Scenario+'\\\\'+Scenario+Zone\n",
      "        DataCQ = pd.ExcelFile('c:\\ArcGIS\\EDMdata\\DataFinal\\SEDM'+'\\\\'+Scenario+'\\\\'+Zone+'\\\\'+'Properties.xls') # Location of the data of the CQ to run    \n",
      "        CQproperties = pd.ExcelFile.parse(DataCQ, 'Values') # properties of buildings, Table with all requierements\n",
      "        locationFinal = r'c:\\ArcGIS\\EDMdata\\DataFinal'+'\\\\'+'DEDM'+'\\\\'+Scenario+'\\\\'+Zone\n",
      "    \n",
      "    \n",
      "    AllProperties = EDM.CalcProperties(CQ, CQproperties, RadiationFile, locationtemp1)\n",
      "    Solar = EDM.CalcIncidentRadiation(AllProperties, RadiationFile)\n",
      "    \n",
      "    for building in range(AllProperties.Name.count()):\n",
      "        result = EDM.CalcThermalLoads(building, AllProperties.ix[building], Solar.ix[building], locationFinal, Profiles,Profiles_names,\n",
      "                                      T_ext,Seasonhours,T_ext_max, RH_ext, T_ext_min,g_gl,F_f,Bf,D,hf,Pwater,PaCa,Cpw, Flowtap,\n",
      "                                      deltaP_l, fsr,nrec_N,C1,Vmax,Pair,Cpv,Cpa,lvapor, servers=0,coolingroom=0)\n",
      "    print 'complete'\n",
      "    \n",
      "    name = AllProperties.Name[0]\n",
      "    dataframe = pd.read_csv(locationFinal+'\\\\'+name+'T'+'.csv')\n",
      "    for x in AllProperties.Name[1:]:\n",
      "        dataframe2 = pd.read_csv(locationFinal+'\\\\'+x+'T'+'.csv')\n",
      "        dataframe = dataframe.append(dataframe2,ignore_index=True)\n",
      "    dataframe.to_csv(locationFinal+'\\\\'+'Total.csv')"
     ],
     "language": "python",
     "metadata": {},
     "outputs": [
      {
       "output_type": "stream",
       "stream": "stdout",
       "text": [
        "complete\n",
        "complete"
       ]
      },
      {
       "output_type": "stream",
       "stream": "stdout",
       "text": [
        "\n",
        "complete"
       ]
      },
      {
       "output_type": "stream",
       "stream": "stdout",
       "text": [
        "\n",
        "complete"
       ]
      },
      {
       "output_type": "stream",
       "stream": "stdout",
       "text": [
        "\n",
        "complete"
       ]
      },
      {
       "output_type": "stream",
       "stream": "stdout",
       "text": [
        "\n",
        "complete"
       ]
      },
      {
       "output_type": "stream",
       "stream": "stdout",
       "text": [
        "\n",
        "complete"
       ]
      },
      {
       "output_type": "stream",
       "stream": "stdout",
       "text": [
        "\n",
        "complete"
       ]
      },
      {
       "output_type": "stream",
       "stream": "stdout",
       "text": [
        "\n",
        "complete"
       ]
      },
      {
       "output_type": "stream",
       "stream": "stdout",
       "text": [
        "\n",
        "complete"
       ]
      },
      {
       "output_type": "stream",
       "stream": "stdout",
       "text": [
        "\n",
        "complete"
       ]
      },
      {
       "output_type": "stream",
       "stream": "stdout",
       "text": [
        "\n",
        "complete"
       ]
      },
      {
       "output_type": "stream",
       "stream": "stdout",
       "text": [
        "\n",
        "complete"
       ]
      },
      {
       "output_type": "stream",
       "stream": "stdout",
       "text": [
        "\n",
        "complete"
       ]
      },
      {
       "output_type": "stream",
       "stream": "stdout",
       "text": [
        "\n",
        "complete"
       ]
      },
      {
       "output_type": "stream",
       "stream": "stdout",
       "text": [
        "\n",
        "complete"
       ]
      },
      {
       "output_type": "stream",
       "stream": "stdout",
       "text": [
        "\n"
       ]
      }
     ],
     "prompt_number": 69
    },
    {
     "cell_type": "code",
     "collapsed": false,
     "input": [],
     "language": "python",
     "metadata": {},
     "outputs": []
    }
   ],
   "metadata": {}
  }
 ]
}
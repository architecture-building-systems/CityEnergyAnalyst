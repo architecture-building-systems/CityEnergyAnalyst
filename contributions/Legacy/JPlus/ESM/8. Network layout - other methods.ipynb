{
 "metadata": {
  "name": "",
  "signature": "sha256:416e121ede5325e75ed1f71d1418f3b6c61d900676e146357919ba3197a2435a"
 },
 "nbformat": 3,
 "nbformat_minor": 0,
 "worksheets": [
  {
   "cells": [
    {
     "cell_type": "markdown",
     "metadata": {},
     "source": [
      "# 7.Network layout\n",
      "\n",
      "The objective of this script is to determine the potential of connecting different zones in terms of the next criteria:\n",
      "    \n",
      "    \n",
      "    - Diversity factor effects.\n",
      "    - Length of piping, number of substations, CO2 reduced if so."
     ]
    },
    {
     "cell_type": "code",
     "collapsed": false,
     "input": [
      "import arcpy\n",
      "import pandas as pd\n",
      "import numpy as np\n",
      "arcpy.env.workspace = 'c:\\ArcGIS\\Network.gdb'\n",
      "arcpy.env.overwriteOutput = True\n",
      "arcpy.CheckOutExtension(\"spatial\")\n",
      "arcpy.CheckOutExtension(\"Network\")\n",
      "import os, sys\n",
      "from pyGDsandbox.dataIO import df2dbf, dbf2df \n",
      "from arcpy import Result\n",
      "if r'C:\\Console' not in sys.path: sys.path.append(r'C:\\Console')\n",
      "import ESMFunctions as ESM"
     ],
     "language": "python",
     "metadata": {},
     "outputs": [],
     "prompt_number": 1
    },
    {
     "cell_type": "markdown",
     "metadata": {},
     "source": [
      "###VARIABLES"
     ]
    },
    {
     "cell_type": "code",
     "collapsed": false,
     "input": [
      "#list of inputs\n",
      "Zone_of_study = 3\n",
      "Scenarios = ['SQ','BAU','UC','CAMP','HEB'] #List of scenarios to evaluate the potentials\n",
      "locationFinal = r'C:\\ArcGIS\\ESMdata\\DataFinal\\NET'"
     ],
     "language": "python",
     "metadata": {},
     "outputs": [],
     "prompt_number": 2
    },
    {
     "cell_type": "code",
     "collapsed": false,
     "input": [
      "#locations\n",
      "Database = r'C:\\ArcGIS\\Network.gdb'\n",
      "temporal = r'c:\\ArcGIS\\Network.gdb\\temp' #location of temptemporal2ral files inside the database\n",
      "temporal2 = r'c:\\ArcGIS\\temp' #location of temptemporal2ral files inside the database\n",
      "epanet = r'c:\\ArcGIS\\temp\\EPANET' #location of files for epanet modeling"
     ],
     "language": "python",
     "metadata": {},
     "outputs": [],
     "prompt_number": 3
    },
    {
     "cell_type": "markdown",
     "metadata": {},
     "source": [
      "###Functions"
     ]
    },
    {
     "cell_type": "markdown",
     "metadata": {},
     "source": [
      "###Process"
     ]
    },
    {
     "cell_type": "markdown",
     "metadata": {},
     "source": [
      "###This first part creates the base network from pedestrian, streets and traintracks. It adds the distribution lines to every building. For this it is necesssaru the location points of the buildings with their heating, cooling loads and a binary variable to despict plants."
     ]
    },
    {
     "cell_type": "code",
     "collapsed": false,
     "input": [
      "Scenario = Scenarios[0]\n",
      "#import the locattion of the roads = pedestrian + streets + traintracks+exsitng networks\n",
      "Allroads = Database+'\\\\'+Scenario+'\\\\'+Scenario+'Allroads'\n",
      "#import location of points with information of buildings (Qh, Qc and Af, Plant =1 for those buildings that could be one\n",
      "# and a field called ID == OBJECTID)\n",
      "buidingsheat = Database+'\\\\'+Scenario+'\\\\'+Scenario+'heatingcost' #buildings with heating load (Peak period)\n",
      "buidingscool = Database+'\\\\'+Scenario+'\\\\'+Scenario+'coolingcost' #buildings with cooling load (peak period)"
     ],
     "language": "python",
     "metadata": {},
     "outputs": [],
     "prompt_number": 4
    },
    {
     "cell_type": "code",
     "collapsed": false,
     "input": [
      "# Calculate the basenetwork for heating costumers\n",
      "output = Database+'\\\\'+Scenario+'\\\\'+Scenario+'heatingnet'\n",
      "ESM.basenetwork(Allroads,output,buidingsheat,temporal,temporal2,\"District heating\",Database)"
     ],
     "language": "python",
     "metadata": {},
     "outputs": []
    },
    {
     "cell_type": "code",
     "collapsed": false,
     "input": [
      "# Calculate the basenetwork for cooling costumers\n",
      "output = Database+'\\\\'+Scenario+'\\\\'+Scenario+'coolingnet'\n",
      "ESM.basenetwork(Allroads,output,buidingscool,temporal,temporal2,NetworkType=\"District cooling\",Database)"
     ],
     "language": "python",
     "metadata": {},
     "outputs": []
    },
    {
     "cell_type": "markdown",
     "metadata": {},
     "source": [
      "###In a second part we create optimal routes. we run the close facility in arcgis as the problem single source - multiple destination based on a central plant. then we run the geometric tracing to find the closest route withn a series of closest routes among all other costumers. then we run the minimum spanning tree."
     ]
    },
    {
     "cell_type": "code",
     "collapsed": false,
     "input": [
      "# Inputs\n",
      "Boundaries_Zones = Database+'\\\\'+'Boundaries'+'\\\\'+'Zones'\n",
      "heatingcostumers = Database+'\\\\'+Scenario+'\\\\'+Scenario+'heatingcost'\n",
      "coolingcostumers = Database+'\\\\'+Scenario+'\\\\'+Scenario+'coolingcost'\n",
      "NetwrokDatasetDH = Database+'\\\\'+Scenario+'\\\\'+Scenario+'HeatingNET'\n",
      "NetwrokDatasetDC = Database+'\\\\'+Scenario+'\\\\'+Scenario+'CoolingNET'\n",
      "OutputDH = Database+'\\\\'+Scenario+'\\\\'+Scenario+'HeatingFacilityClust'\n",
      "OutputDC = Database+'\\\\'+Scenario+'\\\\'+Scenario+'coolingFacilityClust'\n",
      "geomNetwrokDatasetDH = Database+'\\\\'+Scenario+'\\\\'+Scenario+'HeatingGEOM'\n",
      "geomNetwrokDatasetDC = Database+'\\\\'+Scenario+'\\\\'+Scenario+'CoolingGEOM'\n",
      "namedatasetDH = Scenario+'HeatingGEOM'\n",
      "namedatasetDC = Scenario+'CoolingGEOM'\n",
      "heatingnet = \"SQheatingnet_1\"\n",
      "coolingnet = \"SQcoolingnet_1\"\n",
      "OutputDHGEOM = Database+'\\\\'+Scenario+'\\\\'+Scenario+'HeatingGEOMClust'\n",
      "OutputDCGEOM = Database+'\\\\'+Scenario+'\\\\'+Scenario+'coolingGEOMClust'\n",
      "Kheating =  0.65 #correaltion values of geometry of sample network\n",
      "Kcooling =  0.72 #correaltion values of geometry of sample network\n",
      "\n",
      "#Import List of Cityquarters and Count them for iteration\n",
      "OutTable = 'Boundaries_CQ.dbf'\n",
      "arcpy.TableToTable_conversion(Boundaries_Zones, temporal2, OutTable)\n",
      "List_Boundaries_CQ = dbf2df(temporal2+'\\\\'+OutTable)\n",
      "Counter = List_Boundaries_CQ.ID.count()"
     ],
     "language": "python",
     "metadata": {},
     "outputs": [],
     "prompt_number": 16
    },
    {
     "cell_type": "code",
     "collapsed": false,
     "input": [
      "#create empty dataframe with lengths\n",
      "reload(ESM)\n",
      "Lenghts = pd.DataFrame(columns=['Zone','SP-SO/MD_Qh','SP-MO/MD_Qh','GC_Qh','MST_Qh'],index=range(Counter))\n",
      "for Zone in range(Counter):\n",
      "    Valuezone = Zone+1 # set the value or name of the City quarter\n",
      "    Lenghts.loc[Zone,'Zone']= Valuezone\n",
      "    #for heating costumers\n",
      "    nameS = \"Heatingstops\"\n",
      "    nameA = \"Heatinganchors\"\n",
      "    result0 = ESM.AnchorsStops(heatingcostumers, nameS,nameA,temporal,temporal2,Boundaries_Zones,\"Qh\",Valuezone)\n",
      "    Anchor = result0[0];Stop = result0[1]; Flagcontinue = result0[2];b =result0[3];a =result0[4]\n",
      "    if Flagcontinue == 0:\n",
      "        # for one to multiple\n",
      "        Lenghts.loc[Zone,'GC_Qh'] = ESM.Networkcorrelation(a,b,Kheating)\n",
      "        result = ESM.Facilitynetworkanalysis(NetwrokDatasetDH,Anchor,Stop,Valuezone,temporal,Flag=\"heat\")\n",
      "        results = result[0]\n",
      "        Lenghts.loc[Zone,'SP-SO/MD_Qh']= result[1]\n",
      "        #for Multiple to multiple\n",
      "        geoms = ESM.Geometricalnetworkanalysis(geomNetwrokDatasetDH,Stop,heatingnet,Valuezone,\"heat\",namedatasetDH,temporal)\n",
      "        geom = geoms[0]\n",
      "        Lenghts.loc[Zone,'SP-MO/MD_Qh']= geoms[1]        \n",
      "        # for MST\n",
      "        edges = ESM.calc_edges(Stop,NetwrokDatasetDH,temporal2,temporal)\n",
      "        Nodes = ESM.calc_nodes(Stop,temporal2)\n",
      "        edgelist = ESM.calc_MST(Nodes,edges)\n",
      "        MSTs = ESM.calc_MSTnetwork(NetwrokDatasetDH,Stop,edgelist,temporal,temporal2,Zone,\"heat\")\n",
      "        MST = MSTs[0]\n",
      "        Lenghts.loc[Zone,'MST_Qh'] = MSTs[1]\n",
      "        #creating joint files\n",
      "        if Zone == 0:\n",
      "            resultFinal = results\n",
      "            geomFinal = geom\n",
      "            MSTFinal = MST\n",
      "        else:\n",
      "            arcpy.Append_management(results,resultFinal)\n",
      "            arcpy.Append_management(geom,geomFinal)\n",
      "            arcpy.Append_management(MST,MSTFinal)\n",
      "    else:\n",
      "        Lenghts.loc[Zone,'SP-SO/MD_Qh']= 0\n",
      "        Lenghts.loc[Zone,'SP-MO/MD_Qh']= 0\n",
      "        Lenghts.loc[Zone,'GC_Qh']= 0\n",
      "        Lenghts.loc[Zone,'MST_Qh']= 0\n",
      "        \n",
      "    #for cooling costumers\n",
      "    nameS = \"coolinggstops\"\n",
      "    nameA = \"coolinganchors\"\n",
      "    result1 = ESM.AnchorsStops(coolingcostumers, nameS,nameA,temporal,temporal2,Boundaries_Zones,\"Qc\",Valuezone)\n",
      "    Anchor = result1[0];Stop = result1[1]; Flagcontinue = result1[2];b =result1[3];a =result1[4]\n",
      "    if Flagcontinue == 0:\n",
      "        Lenghts.loc[Zone,'GC_Qc'] = ESM.Networkcorrelation(a,b,Kcooling)\n",
      "        result2 = ESM.Facilitynetworkanalysis(NetwrokDatasetDC,Anchor,Stop,Valuezone,temporal,Flag=\"cool\")\n",
      "        results2 = result2[0]\n",
      "        Lenghts.loc[Zone,'SP-SO/MD_Qc']= result2[1]\n",
      "        geoms2 = ESM.Geometricalnetworkanalysis(geomNetwrokDatasetDC,Stop,coolingnet,Valuezone,\"cool\",namedatasetDC,temporal)\n",
      "        geom2 = geoms2[0]\n",
      "        Lenghts.loc[Zone,'SP-MO/MD_Qc']= geoms2[1]\n",
      "        # for MST\n",
      "        edges2 = ESM.calc_edges(Stop,NetwrokDatasetDC,temporal2,temporal)\n",
      "        Nodes2 = ESM.calc_nodes(Stop,temporal2)\n",
      "        edgelist2 = ESM.calc_MST(Nodes2,edges2)\n",
      "        MSTs2 = ESM.calc_MSTnetwork(NetwrokDatasetDC,Stop,edgelist2,temporal,temporal2,Zone,\"cool\")\n",
      "        MST2 = MSTs2[0]\n",
      "        Lenghts.loc[Zone,'MST_Qc'] = MSTs2[1]        \n",
      "        #creating joint files        \n",
      "        \n",
      "        if Zone == 0:\n",
      "            resultFinal2 = results2\n",
      "            geomFinal2 = geom2\n",
      "            MSTFinal2 = MST2\n",
      "        else:\n",
      "            arcpy.Append_management(results2,resultFinal2)\n",
      "            arcpy.Append_management(geom2,geomFinal2)\n",
      "            arcpy.Append_management(MST2,MSTFinal2)\n",
      "    else:        \n",
      "        Lenghts.loc[Zone,'SP-SO/MD_Qc']= 0\n",
      "        Lenghts.loc[Zone,'GC_Qc']= 0\n",
      "        Lenghts.loc[Zone,'SP-MO/MD_Qc']= 0\n",
      "        Lenghts.loc[Zone,'MST_Qc']= 0\n",
      "    print \"Finished\"+str(Valuezone)"
     ],
     "language": "python",
     "metadata": {},
     "outputs": [
      {
       "output_type": "stream",
       "stream": "stdout",
       "text": [
        "Finished1\n",
        "Finished2"
       ]
      },
      {
       "output_type": "stream",
       "stream": "stdout",
       "text": [
        "\n",
        "Finished3"
       ]
      },
      {
       "output_type": "stream",
       "stream": "stdout",
       "text": [
        "\n",
        "Finished4"
       ]
      },
      {
       "output_type": "stream",
       "stream": "stdout",
       "text": [
        "\n",
        "Finished5"
       ]
      },
      {
       "output_type": "stream",
       "stream": "stdout",
       "text": [
        "\n",
        "Finished6"
       ]
      },
      {
       "output_type": "stream",
       "stream": "stdout",
       "text": [
        "\n",
        "Finished7"
       ]
      },
      {
       "output_type": "stream",
       "stream": "stdout",
       "text": [
        "\n",
        "Finished8"
       ]
      },
      {
       "output_type": "stream",
       "stream": "stdout",
       "text": [
        "\n",
        "Finished9"
       ]
      },
      {
       "output_type": "stream",
       "stream": "stdout",
       "text": [
        "\n",
        "Finished10"
       ]
      },
      {
       "output_type": "stream",
       "stream": "stdout",
       "text": [
        "\n",
        "Finished11"
       ]
      },
      {
       "output_type": "stream",
       "stream": "stdout",
       "text": [
        "\n",
        "Finished12"
       ]
      },
      {
       "output_type": "stream",
       "stream": "stdout",
       "text": [
        "\n",
        "Finished13"
       ]
      },
      {
       "output_type": "stream",
       "stream": "stdout",
       "text": [
        "\n",
        "Finished14"
       ]
      },
      {
       "output_type": "stream",
       "stream": "stdout",
       "text": [
        "\n",
        "Finished15"
       ]
      },
      {
       "output_type": "stream",
       "stream": "stdout",
       "text": [
        "\n",
        "Finished16"
       ]
      },
      {
       "output_type": "stream",
       "stream": "stdout",
       "text": [
        "\n",
        "Finished17"
       ]
      },
      {
       "output_type": "stream",
       "stream": "stdout",
       "text": [
        "\n",
        "Finished18"
       ]
      },
      {
       "output_type": "stream",
       "stream": "stdout",
       "text": [
        "\n",
        "Finished19"
       ]
      },
      {
       "output_type": "stream",
       "stream": "stdout",
       "text": [
        "\n",
        "Finished20"
       ]
      },
      {
       "output_type": "stream",
       "stream": "stdout",
       "text": [
        "\n",
        "Finished21"
       ]
      },
      {
       "output_type": "stream",
       "stream": "stdout",
       "text": [
        "\n"
       ]
      }
     ],
     "prompt_number": 18
    },
    {
     "cell_type": "code",
     "collapsed": false,
     "input": [
      "Lenghts.to_excel(locationFinal+'\\\\'+Scenario+'\\\\'+\"NetworksLength8to21.xls\",sheet_name='Values')\n",
      "arcpy.Delete_management(\"in_memory\")"
     ],
     "language": "python",
     "metadata": {},
     "outputs": [
      {
       "metadata": {},
       "output_type": "pyout",
       "prompt_number": 20,
       "text": [
        "<Result 'true'>"
       ]
      }
     ],
     "prompt_number": 20
    },
    {
     "cell_type": "markdown",
     "metadata": {},
     "source": [
      "###In A third part all the files are created in order to be modeled in EPANET"
     ]
    },
    {
     "cell_type": "code",
     "collapsed": false,
     "input": [
      "# import file with lenghts and ID of zones\n",
      "Zonesfile = pd.ExcelFile(locationFinal+'\\\\'+Scenario+'\\\\'+\"NetworksLength.xls\")\n",
      "Zones = pd.ExcelFile.parse(Zonesfile, 'Values')\n",
      "for zone in range (Zones.ID.count()):\n",
      "    \n",
      "    if Zones.loc[zone,'F_Method_Qh'] > 0:\n",
      "    \n",
      "        #for heating costumers\n",
      "        pump = temporal+ \"pump\"+str(zone+1)\n",
      "        anchor = temporal+'\\\\'+\"Heatinganchors\"+str(zone+1)\n",
      "        stops = temporal+'\\\\'+\"Heatingstops\"+str(zone+1)\n",
      "        network = temporal+'\\\\'+\"MSTheat\"+str(zone)\n",
      "        Calc_prepareEPANET(stops,pump,anchor, network, \"MST\", \"H\", zone, 40)\n",
      "        network = temporal+'\\\\'+\"GEOM\"+str(zone+1)+\"heat\"\n",
      "        Calc_prepareEPANET(stops,pump,anchor, network, \"SPMO\", \"H\", zone, 40)\n",
      "        network = temporal+'\\\\'+\"ROUTE\"+str(zone)+\"heat\"\n",
      "        Calc_prepareEPANET(stops,pump,anchor, network, \"SPSO\", \"H\", zone, 40)\n",
      "    \n",
      "    if Zones.loc[zone,'F_Method_Qc'] > 0:\n",
      "    \n",
      "        #for cooling costumers\n",
      "        pump = temporal+ \"pump\"+str(zone+1)\n",
      "        anchor = temporal+'\\\\'+\"coolingstops\"+str(zone+1)\n",
      "        stops = temporal+'\\\\'+\"coolinganchors\"+str(zone+1)\n",
      "        network = temporal+'\\\\'+\"MSTcool\"+str(zone)\n",
      "        Calc_prepareEPANET(stops,pump,anchor, network, \"MST\", \"C\", zone, 8)\n",
      "        network = temporal+'\\\\'+\"GEOM\"+str(zone+1)+\"cool\"\n",
      "        Calc_prepareEPANET(stops,pump,anchor, network, \"SPMO\", \"C\", zone, 8)\n",
      "        network = temporal+'\\\\'+\"ROUTE\"+str(zone)+\"cool\"\n",
      "        Calc_prepareEPANET(stops,pump,anchor, network, \"SPSO\", \"C\", zone, 8)   "
     ],
     "language": "python",
     "metadata": {},
     "outputs": []
    },
    {
     "cell_type": "code",
     "collapsed": false,
     "input": [
      "arcpy.Delete_management(\"in_memory\")"
     ],
     "language": "python",
     "metadata": {},
     "outputs": [
      {
       "metadata": {},
       "output_type": "pyout",
       "prompt_number": 6,
       "text": [
        "<Result 'true'>"
       ]
      }
     ],
     "prompt_number": 6
    },
    {
     "cell_type": "code",
     "collapsed": false,
     "input": [
      "Form here on everything is optimized in epanet API interface"
     ],
     "language": "python",
     "metadata": {},
     "outputs": []
    }
   ],
   "metadata": {}
  }
 ]
}
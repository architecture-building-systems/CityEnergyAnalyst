{
 "metadata": {
  "name": ""
 },
 "nbformat": 3,
 "nbformat_minor": 0,
 "worksheets": [
  {
   "cells": [
    {
     "cell_type": "markdown",
     "metadata": {},
     "source": [
      "# 2000-Watt Society Goals\n",
      "\n",
      "This routine calculates the average emissions and primary energy (non renewable) in every sector"
     ]
    },
    {
     "cell_type": "markdown",
     "metadata": {},
     "source": [
      "####MODULES"
     ]
    },
    {
     "cell_type": "code",
     "collapsed": false,
     "input": [
      "from __future__ import division\n",
      "import arcpy\n",
      "from arcpy import sa\n",
      "import sys,os\n",
      "import pandas as pd\n",
      "sys.path.append(\"C:\\console\\sandbox\")\n",
      "from pyGDsandbox.dataIO import df2dbf, dbf2df \n",
      "arcpy.env.overwriteOutput = True\n",
      "if r'C:\\Console' not in sys.path: sys.path.append(r'C:\\Console')\n",
      "import EDMFunctions as EDM"
     ],
     "language": "python",
     "metadata": {},
     "outputs": [],
     "prompt_number": 1
    },
    {
     "cell_type": "markdown",
     "metadata": {},
     "source": [
      "####VARIABLES"
     ]
    },
    {
     "cell_type": "code",
     "collapsed": false,
     "input": [
      "Scenario = 'SQ'\n",
      "Zone = 'ZONE_3'"
     ],
     "language": "python",
     "metadata": {},
     "outputs": [],
     "prompt_number": 2
    },
    {
     "cell_type": "code",
     "collapsed": false,
     "input": [
      "database = r'c:\\ArcGIS\\EDM.gdb' \n",
      "locationgem = r'C:\\ArcGIS\\EDMdata\\DataFinal\\GEM'+'\\\\'+Scenario+'\\\\'+Zone #GEM is the grey emissions model\n",
      "locationedm = r'C:\\ArcGIS\\EDMdata\\DataFinal\\EDM'+'\\\\'+Scenario+'\\\\'+Zone #EDM is the energy demand model\n",
      "locationtemp1 = r'c:\\ArcGIS\\temp'\n",
      "locationFinal = r'C:\\ArcGIS\\EDMdata\\DataFinal\\2000watt'+'\\\\'+Scenario+'\\\\'+Zone #GEM is the grey emissions model"
     ],
     "language": "python",
     "metadata": {},
     "outputs": [],
     "prompt_number": 3
    },
    {
     "cell_type": "code",
     "collapsed": false,
     "input": [
      "#GREY EMISSIONS\n",
      "data = pd.ExcelFile(locationgem+'\\\\'+'Grey.xls')\n",
      "grey = pd.ExcelFile.parse(data, 'Values')\n",
      "energy = pd.read_csv(locationedm+'\\\\'+'Total.csv')"
     ],
     "language": "python",
     "metadata": {},
     "outputs": [],
     "prompt_number": 4
    },
    {
     "cell_type": "code",
     "collapsed": false,
     "input": [
      "#RECOVERY AND EMISSION FACTORS\n",
      "# factors organized in Status Quo, BAU,HEB,UC and CAMP\n",
      "rs = [0,0,1402.21,0,504.44]#value in MWh of recoverable due tro servers\n",
      "ri = [0,565.55,0,565.55,0] #value in MWh of recoverable due to processes\n",
      "fe_Qh = [0.085,0.028,0.026,0.026,0.028] #emissions factor heating\n",
      "fe_Qc = [0.002,0.002,0.002,0.002,0.002] #emissions energy factor cooling\n",
      "fe_E = [0.0413,0.0413,0.0366,0.0345,0.0344] #emissions energy factor electricity\n",
      "fp_Qh = [1.457,0.818,0.681,0.681,0.818] #primary energy factor heating\n",
      "fp_Qc = [0.155,0.155,0.155,0.155,0.155]#primary energy factor cooling\n",
      "fp_E = [2.63,2.63,2.19,1.98,1.97]#primary energy factor electricity\n",
      "# for industry primary factors total no processes\n",
      "fpt_Qh = [1.466,0.892,0.734,0.734,0.892] #primary energy factor heating\n",
      "fpt_Qc = [17.34,17.34,17.34,17.34,17.34]#primary energy factor cooling\n",
      "fpt_E = [2.051,3.051,2.53,2.28,2.27]#primary energy factor electricity\n",
      "# for industry primary factors only heating processes\n",
      "fe_Qhp = [0.085,0.075,0.075,0.075,0.075]\n",
      "fp_Qhp = [1.466,1.291,1.291,1.291,1.291]\n",
      "# this states if there is recovery\n",
      "if Scenario == 'SQ':\n",
      "    r = 0 \n",
      "elif Scenario == 'BAU':\n",
      "    r = 1\n",
      "elif Scenario == 'HEB':\n",
      "    r = 2    \n",
      "elif Scenario == 'UC':\n",
      "    r = 3        \n",
      "elif Scenario == 'CAMP':\n",
      "    r = 4"
     ],
     "language": "python",
     "metadata": {},
     "outputs": [],
     "prompt_number": 5
    },
    {
     "cell_type": "markdown",
     "metadata": {},
     "source": [
      "####PROCESS"
     ]
    },
    {
     "cell_type": "code",
     "collapsed": false,
     "input": [
      "# Create the table or database of the CQ to generate the values\n",
      "CQ = database+'\\\\'+Scenario+'\\\\'+Scenario+Zone\n",
      "OutTable = 'Database.dbf'\n",
      "arcpy.TableToTable_conversion(CQ, locationtemp1, OutTable)\n",
      "Database0 = dbf2df(locationtemp1+'\\\\'+OutTable)\n",
      "Database1 = pd.merge(Database0,energy, on='Name')\n",
      "Database = pd.merge(Database1,grey, on='Name')"
     ],
     "language": "python",
     "metadata": {},
     "outputs": [],
     "prompt_number": 425
    },
    {
     "cell_type": "markdown",
     "metadata": {},
     "source": [
      "####FUNCTIONS"
     ]
    },
    {
     "cell_type": "code",
     "collapsed": false,
     "input": [
      "#CREATE SECTORS\n",
      "Database['supermarket'] = Database['CR']+Database['SUPER']\n",
      "Database['retail'] = Database['COM']\n",
      "Database['restaurant'] = Database['REST']+Database['RESTS']+Database['CR']\n",
      "Database['other'] = Database['PUBLIC']+Database['SPORT']+Database['SWIM']+Database['HEALTH']+Database['DEPO']+abs(Database['PFloor']-1)\n",
      "Database['offices'] = Database['ADMIN']+Database['SR']+Database['EDU']\n",
      "Database['hotel'] = Database['HOT']\n",
      "Database['dwellings'] = Database['MDU'] + Database['SDU']\n",
      "Database['industry'] = Database['INDUS']"
     ],
     "language": "python",
     "metadata": {},
     "outputs": [
      {
       "ename": "NameError",
       "evalue": "name 'Database' is not defined",
       "output_type": "pyerr",
       "traceback": [
        "\u001b[1;31m---------------------------------------------------------------------------\u001b[0m\n\u001b[1;31mNameError\u001b[0m                                 Traceback (most recent call last)",
        "\u001b[1;32m<ipython-input-6-ff28b2f5393c>\u001b[0m in \u001b[0;36m<module>\u001b[1;34m()\u001b[0m\n\u001b[0;32m      1\u001b[0m \u001b[1;31m#CREATE SECTORS\u001b[0m\u001b[1;33m\u001b[0m\u001b[1;33m\u001b[0m\u001b[0m\n\u001b[1;32m----> 2\u001b[1;33m \u001b[0mDatabase\u001b[0m\u001b[1;33m[\u001b[0m\u001b[1;34m'supermarket'\u001b[0m\u001b[1;33m]\u001b[0m \u001b[1;33m=\u001b[0m \u001b[0mDatabase\u001b[0m\u001b[1;33m[\u001b[0m\u001b[1;34m'CR'\u001b[0m\u001b[1;33m]\u001b[0m\u001b[1;33m+\u001b[0m\u001b[0mDatabase\u001b[0m\u001b[1;33m[\u001b[0m\u001b[1;34m'SUPER'\u001b[0m\u001b[1;33m]\u001b[0m\u001b[1;33m\u001b[0m\u001b[0m\n\u001b[0m\u001b[0;32m      3\u001b[0m \u001b[0mDatabase\u001b[0m\u001b[1;33m[\u001b[0m\u001b[1;34m'retail'\u001b[0m\u001b[1;33m]\u001b[0m \u001b[1;33m=\u001b[0m \u001b[0mDatabase\u001b[0m\u001b[1;33m[\u001b[0m\u001b[1;34m'COM'\u001b[0m\u001b[1;33m]\u001b[0m\u001b[1;33m\u001b[0m\u001b[0m\n\u001b[0;32m      4\u001b[0m \u001b[0mDatabase\u001b[0m\u001b[1;33m[\u001b[0m\u001b[1;34m'restaurant'\u001b[0m\u001b[1;33m]\u001b[0m \u001b[1;33m=\u001b[0m \u001b[0mDatabase\u001b[0m\u001b[1;33m[\u001b[0m\u001b[1;34m'REST'\u001b[0m\u001b[1;33m]\u001b[0m\u001b[1;33m+\u001b[0m\u001b[0mDatabase\u001b[0m\u001b[1;33m[\u001b[0m\u001b[1;34m'RESTS'\u001b[0m\u001b[1;33m]\u001b[0m\u001b[1;33m+\u001b[0m\u001b[0mDatabase\u001b[0m\u001b[1;33m[\u001b[0m\u001b[1;34m'CR'\u001b[0m\u001b[1;33m]\u001b[0m\u001b[1;33m\u001b[0m\u001b[0m\n\u001b[0;32m      5\u001b[0m \u001b[0mDatabase\u001b[0m\u001b[1;33m[\u001b[0m\u001b[1;34m'other'\u001b[0m\u001b[1;33m]\u001b[0m \u001b[1;33m=\u001b[0m \u001b[0mDatabase\u001b[0m\u001b[1;33m[\u001b[0m\u001b[1;34m'PUBLIC'\u001b[0m\u001b[1;33m]\u001b[0m\u001b[1;33m+\u001b[0m\u001b[0mDatabase\u001b[0m\u001b[1;33m[\u001b[0m\u001b[1;34m'SPORT'\u001b[0m\u001b[1;33m]\u001b[0m\u001b[1;33m+\u001b[0m\u001b[0mDatabase\u001b[0m\u001b[1;33m[\u001b[0m\u001b[1;34m'SWIM'\u001b[0m\u001b[1;33m]\u001b[0m\u001b[1;33m+\u001b[0m\u001b[0mDatabase\u001b[0m\u001b[1;33m[\u001b[0m\u001b[1;34m'HEALTH'\u001b[0m\u001b[1;33m]\u001b[0m\u001b[1;33m+\u001b[0m\u001b[0mDatabase\u001b[0m\u001b[1;33m[\u001b[0m\u001b[1;34m'DEPO'\u001b[0m\u001b[1;33m]\u001b[0m\u001b[1;33m+\u001b[0m\u001b[0mabs\u001b[0m\u001b[1;33m(\u001b[0m\u001b[0mDatabase\u001b[0m\u001b[1;33m[\u001b[0m\u001b[1;34m'PFloor'\u001b[0m\u001b[1;33m]\u001b[0m\u001b[1;33m-\u001b[0m\u001b[1;36m1\u001b[0m\u001b[1;33m)\u001b[0m\u001b[1;33m\u001b[0m\u001b[0m\n",
        "\u001b[1;31mNameError\u001b[0m: name 'Database' is not defined"
       ]
      }
     ],
     "prompt_number": 6
    },
    {
     "cell_type": "code",
     "collapsed": false,
     "input": [
      "#FOR ALL\n",
      "Database['Areaf'] = Database.Af\n",
      "Af_tot = Database.Areaf.sum()\n",
      "Qh = (Database['Qhsf']+Database['Qwwf']+Database['Qhpf']).sum()-(rs[r]+ri[r])\n",
      "Qc =(Database['Qcsf']+Database['Qcdataf']+Database['Qcpf']+Database['Qcicef']).sum()- rs[r]\n",
      "E = (Database['Ealf']+Database['Ecaf']+Database['Epf']+Database['Edataf']).sum()\n",
      "#operation\n",
      "Emissions = (Qh*fe_Qh[r] + Qc*fe_Qc[r] + E*fe_E[r])/Af_tot*3600\n",
      "Primary = (Qh*fp_Qh[r] + Qc*fp_Qc[r] + E*fp_E[r])/Af_tot*3600\n",
      "#construction\n",
      "greyprimary = Database['GE'].sum()/Database['Areaf'].sum()\n",
      "greyemissions = Database['GGHG'].sum()/Database['Areaf'].sum()\n",
      "\n",
      "#Create dataframe\n",
      "GT = {'CAT': 'Total','CO2': Emissions,'Ep': Primary,'GHGE': greyemissions,'GE': greyprimary}\n",
      "Grandtotal = pd.DataFrame(GT,index=[0])"
     ],
     "language": "python",
     "metadata": {},
     "outputs": [],
     "prompt_number": 427
    },
    {
     "cell_type": "code",
     "collapsed": false,
     "input": [
      "#FOR dweillings\n",
      "Database['Areaf'] = Database.Af*Database.dwellings\n",
      "Af_tot = Database.Areaf.sum()\n",
      "Qh = ((Database['Qhsf']+Database['Qwwf'])*Database['dwellings']).sum()\n",
      "Database['Qh'] = Database['Qhsf']+Database['Qwwf']+Database['Qhpf']\n",
      "Qh = Qh -(rs[r]+ri[r])*Qh/Database['Qh'].sum() #recover according to ammount of heat consumed\n",
      "Qc = (Database['Qcsf']*Database['dwellings']).sum()\n",
      "Database['Qc'] =Database['Qcsf']+Database['Qcdataf']+Database['Qcpf']+Database['Qcicef']\n",
      "Qc = Qc - rs[r]*Qc/Database['Qc'].sum()\n",
      "E = (Database['Ealf']*Database['dwellings']).sum()\n",
      "#operation\n",
      "Emissions = (Qh*fe_Qh[r] + Qc*fe_Qc[r] + E*fe_E[r])/Af_tot*3600\n",
      "Primary = (Qh*fp_Qh[r] + Qc*fp_Qc[r] + E*fp_E[r])/Af_tot*3600\n",
      "#construction\n",
      "greyprimary = (Database['GE']*Database['dwellings']).sum()/Database['Areaf'].sum()\n",
      "greyemissions = (Database['GGHG']*Database['dwellings']).sum()/Database['Areaf'].sum()\n",
      "\n",
      "# Attach to dataframe \n",
      "GT = {'CAT': 'dwellings','CO2': Emissions,'Ep': Primary,'GHGE': greyemissions,'GE': greyprimary}\n",
      "Grandtotal2 = pd.DataFrame(GT,index=[0])\n",
      "Grandtotal = Grandtotal.append(Grandtotal2)"
     ],
     "language": "python",
     "metadata": {},
     "outputs": [],
     "prompt_number": 428
    },
    {
     "cell_type": "code",
     "collapsed": false,
     "input": [
      "#FOR OFFICES\n",
      "Database['Areaf'] = Database.Af*Database.offices\n",
      "Af_tot = Database.Areaf.sum()\n",
      "Qh = ((Database['Qhsf']+Database['Qwwf'])*Database['offices']).sum()\n",
      "Qh = Qh -(rs[r]+ri[r])*Qh/Database['Qh'].sum()\n",
      "Qc = ((Database['Qcsf']+Database['Qcdataf'])*Database['offices']).sum()\n",
      "Qc = Qc - rs[r]*Qc/Database['Qc'].sum()\n",
      "E = ((Database['Ealf']+Database['Edataf'])*Database['offices']).sum()\n",
      "#operation\n",
      "Emissions = (Qh*fe_Qh[r] + Qc*fe_Qc[r] + E*fe_E[r])/Af_tot*3600\n",
      "Primary = (Qh*fp_Qh[r] + Qc*fp_Qc[r] + E*fp_E[r])/Af_tot*3600\n",
      "#construction\n",
      "greyprimary = (Database['GE']*Database['offices']).sum()/Database['Areaf'].sum()\n",
      "greyemissions = (Database['GGHG']*Database['offices']).sum()/Database['Areaf'].sum()\n",
      "\n",
      "# Attach to dataframe \n",
      "GT = {'CAT': 'offices','CO2': Emissions,'Ep': Primary,'GHGE': greyemissions,'GE': greyprimary}\n",
      "Grandtotal2 = pd.DataFrame(GT,index=[0])\n",
      "Grandtotal = Grandtotal.append(Grandtotal2)"
     ],
     "language": "python",
     "metadata": {},
     "outputs": [],
     "prompt_number": 429
    },
    {
     "cell_type": "code",
     "collapsed": false,
     "input": [
      "#FOR supermarket\n",
      "Database['Areaf'] = Database.Af*Database.supermarket\n",
      "Af_tot = Database.Areaf.sum()\n",
      "Qh = ((Database['Qhsf']+Database['Qwwf'])*Database['supermarket']).sum()\n",
      "Qh = Qh -(rs[r]+ri[r])*Qh/Database['Qh'].sum()\n",
      "Qc = ((Database['Qcsf']+Database['Qcicef'])*Database['supermarket']).sum()\n",
      "Qc = Qc - rs[r]*Qc/Database['Qc'].sum()\n",
      "E = (Database['Ealf']*Database['supermarket']).sum()\n",
      "#operation\n",
      "Emissions = (Qh*fe_Qh[r] + Qc*fe_Qc[r] + E*fe_E[r])/Af_tot*3600\n",
      "Primary = (Qh*fp_Qh[r] + Qc*fp_Qc[r] + E*fp_E[r])/Af_tot*3600\n",
      "#construction\n",
      "greyprimary = (Database['GE']*Database['supermarket']).sum()/Database['Areaf'].sum()\n",
      "greyemissions = (Database['GGHG']*Database['supermarket']).sum()/Database['Areaf'].sum()\n",
      "\n",
      "# Attach to dataframe \n",
      "GT = {'CAT': 'supermarket','CO2': Emissions,'Ep': Primary,'GHGE': greyemissions,'GE': greyprimary}\n",
      "Grandtotal2 = pd.DataFrame(GT,index=[0])\n",
      "Grandtotal = Grandtotal.append(Grandtotal2)"
     ],
     "language": "python",
     "metadata": {},
     "outputs": [],
     "prompt_number": 430
    },
    {
     "cell_type": "code",
     "collapsed": false,
     "input": [
      "#FOR hotel\n",
      "Database['Areaf'] = Database.Af*Database.hotel\n",
      "Af_tot = Database.Areaf.sum()\n",
      "Qh = ((Database['Qhsf']+Database['Qwwf'])*Database['hotel']).sum()\n",
      "Qh = Qh -(rs[r]+ri[r])*Qh/Database['Qh'].sum()\n",
      "Qc = ((Database['Qcsf'])*Database['hotel']).sum()\n",
      "Qc = Qc - rs[r]*Qc/Database['Qc'].sum()\n",
      "E = (Database['Ealf']*Database['hotel']).sum()\n",
      "#operation\n",
      "Emissions = (Qh*fe_Qh[r] + Qc*fe_Qc[r] + E*fe_E[r])/Af_tot*3600\n",
      "Primary = (Qh*fp_Qh[r] + Qc*fp_Qc[r] + E*fp_E[r])/Af_tot*3600\n",
      "#construction\n",
      "greyprimary = (Database['GE']*Database['hotel']).sum()/Database['Areaf'].sum()\n",
      "greyemissions = (Database['GGHG']*Database['hotel']).sum()/Database['Areaf'].sum()\n",
      "\n",
      "# Attach to dataframe \n",
      "GT = {'CAT': 'hotel','CO2': Emissions,'Ep': Primary,'GHGE': greyemissions,'GE': greyprimary}\n",
      "Grandtotal2 = pd.DataFrame(GT,index=[0])\n",
      "Grandtotal = Grandtotal.append(Grandtotal2)"
     ],
     "language": "python",
     "metadata": {},
     "outputs": [],
     "prompt_number": 431
    },
    {
     "cell_type": "code",
     "collapsed": false,
     "input": [
      "#FOR restaurant\n",
      "Database['Areaf'] = Database.Af*Database.restaurant\n",
      "Af_tot = Database.Areaf.sum()\n",
      "Qh = ((Database['Qhsf']+Database['Qwwf'])*Database['restaurant']).sum()\n",
      "Qh = Qh -(rs[r]+ri[r])*Qh/Database['Qh'].sum()\n",
      "Qc = ((Database['Qcsf']+Database['Qcicef'])*Database['restaurant']).sum()\n",
      "Qc = Qc - rs[r]*Qc/Database['Qc'].sum()\n",
      "E = (Database['Ealf']*Database['restaurant']).sum()\n",
      "#operation\n",
      "Emissions = (Qh*fe_Qh[r] + Qc*fe_Qc[r] + E*fe_E[r])/Af_tot*3600\n",
      "Primary = (Qh*fp_Qh[r] + Qc*fp_Qc[r] + E*fp_E[r])/Af_tot*3600\n",
      "#construction\n",
      "greyprimary = (Database['GE']*Database['restaurant']*Database['PFloor']).sum()/Database['Areaf'].sum()\n",
      "greyemissions = (Database['GGHG']*Database['restaurant']*Database['PFloor']).sum()/Database['Areaf'].sum()\n",
      "\n",
      "# Attach to dataframe \n",
      "GT = {'CAT': 'restaurant','CO2': Emissions,'Ep': Primary,'GHGE': greyemissions,'GE': greyprimary}\n",
      "Grandtotal2 = pd.DataFrame(GT,index=[0])\n",
      "Grandtotal = Grandtotal.append(Grandtotal2)"
     ],
     "language": "python",
     "metadata": {},
     "outputs": [],
     "prompt_number": 432
    },
    {
     "cell_type": "code",
     "collapsed": false,
     "input": [
      "#FOR retail\n",
      "Database['Areaf'] = Database.Af*Database.retail\n",
      "Af_tot = Database.Areaf.sum()\n",
      "Qh = ((Database['Qhsf']+Database['Qwwf'])*Database['retail']).sum()\n",
      "Qh = Qh -(rs[r]+ri[r])*Qh/Database['Qh'].sum()\n",
      "Qc = ((Database['Qcsf'])*Database['retail']).sum()\n",
      "Qc = Qc - rs[r]*Qc/Database['Qc'].sum()\n",
      "E = (Database['Ealf']*Database['retail']).sum()\n",
      "#operation\n",
      "Emissions = (Qh*fe_Qh[r] + Qc*fe_Qc[r] + E*fe_E[r])/Af_tot*3600\n",
      "Primary = (Qh*fp_Qh[r] + Qc*fp_Qc[r] + E*fp_E[r])/Af_tot*3600\n",
      "#construction\n",
      "greyprimary = (Database['GE']*Database['retail']).sum()/Database['Areaf'].sum()\n",
      "greyemissions = (Database['GGHG']*Database['retail']).sum()/Database['Areaf'].sum()\n",
      "\n",
      "# Attach to dataframe \n",
      "GT = {'CAT': 'retail','CO2': Emissions,'Ep': Primary,'GHGE': greyemissions,'GE': greyprimary}\n",
      "Grandtotal2 = pd.DataFrame(GT,index=[0])\n",
      "Grandtotal = Grandtotal.append(Grandtotal2)"
     ],
     "language": "python",
     "metadata": {},
     "outputs": [],
     "prompt_number": 433
    },
    {
     "cell_type": "code",
     "collapsed": false,
     "input": [
      "#FOR OTHER\n",
      "Database['Areaf'] = Database['Af']*Database['other']\n",
      "Af_tot = Database.Areaf.sum()\n",
      "Qh = ((Database['Qhsf']+Database['Qwwf'])*Database['other']).sum()\n",
      "Qh = Qh -(rs[r]+ri[r])*Qh/Database['Qh'].sum()\n",
      "Qc = ((Database['Qcsf'])*Database['other']).sum()\n",
      "Qc = Qc - rs[r]*Qc/Database['Qc'].sum()\n",
      "E = (Database['Ealf']*Database['other']).sum()\n",
      "Emissions = (Qh*fe_Qh[r] + Qc*fe_Qc[r] + E*fe_E[r])/Af_tot*3600\n",
      "Primary = (Qh*fp_Qh[r] + Qc*fp_Qc[r] + E*fp_E[r])/Af_tot*3600\n",
      "#construction\n",
      "greyprimary = (Database['GE']*Database['other']).sum()/Database['Areaf'].sum()\n",
      "greyemissions = (Database['GGHG']*Database['other']).sum()/Database['Areaf'].sum()\n",
      "\n",
      "#Create dataframe\n",
      "GT = {'CAT': 'other','CO2': Emissions,'Ep': Primary,'GHGE': greyemissions,'GE': greyprimary}\n",
      "Grandtotal2 = pd.DataFrame(GT,index=[0])\n",
      "Grandtotal = Grandtotal.append(Grandtotal2)"
     ],
     "language": "python",
     "metadata": {},
     "outputs": [],
     "prompt_number": 434
    },
    {
     "cell_type": "code",
     "collapsed": false,
     "input": [
      "#FOR industry (no processes included)\n",
      "Database['Areaf'] = Database['Af']*Database['industry']\n",
      "Af_tot = Database.Areaf.sum()\n",
      "Qh = ((Database['Qhsf']+Database['Qwwf'])*Database['industry']).sum()\n",
      "Qh = Qh -(rs[r]+ri[r])*Qh/Database['Qh'].sum()\n",
      "Qc = ((Database['Qcsf'])*Database['industry']).sum()\n",
      "Qc = Qc - rs[r]*Qc/Database['Qc'].sum()\n",
      "E = (Database['Ealf']*Database['industry']).sum()\n",
      "Emissions = (Qh*fe_Qh[r] + Qc*fe_Qc[r] + E*fe_E[r])/Af_tot*3600\n",
      "Primary = (Qh*fp_Qh[r] + Qc*fp_Qc[r] + E*fp_E[r])/Af_tot*3600\n",
      "#construction\n",
      "greyprimary = (Database['GE']*Database['industry']).sum()/Database['Areaf'].sum()\n",
      "greyemissions = (Database['GGHG']*Database['industry']).sum()/Database['Areaf'].sum()\n",
      "\n",
      "#Create dataframe\n",
      "GT = {'CAT': 'Industry_buildings','CO2': Emissions,'Ep': Primary,'GHGE': greyemissions,'GE': greyprimary}\n",
      "Grandtotal2 = pd.DataFrame(GT,index=[0])\n",
      "Grandtotal = Grandtotal.append(Grandtotal2)"
     ],
     "language": "python",
     "metadata": {},
     "outputs": [],
     "prompt_number": 435
    },
    {
     "cell_type": "code",
     "collapsed": false,
     "input": [
      "print Grandtotal2"
     ],
     "language": "python",
     "metadata": {},
     "outputs": [
      {
       "output_type": "stream",
       "stream": "stdout",
       "text": [
        "                  CAT       CO2           Ep        GE      GHGE\n",
        "0  Industry_buildings  41.64364  1326.586262  0.538494  0.044608\n"
       ]
      }
     ],
     "prompt_number": 436
    },
    {
     "cell_type": "code",
     "collapsed": false,
     "input": [
      "#FOR Processes\n",
      "Database['Areaf'] = Database['Af']*Database['industry']\n",
      "Af_tot = Database.Areaf.sum()\n",
      "Qh = (Database['Qhpf']).sum()\n",
      "Qh = Qh -(rs[r]+ri[r])*Qh/Database['Qh'].sum()\n",
      "Qc = (Database['Qcpf']).sum()\n",
      "Qc = Qc - rs[r]*Qc/Database['Qc'].sum()\n",
      "E = ((Database['Ecaf']+Database['Epf'])).sum()\n",
      "Emissions = (Qh*fe_Qhp[r] + Qc*fe_Qc[r] + E*fe_E[r])/Af_tot*3600\n",
      "Primary = (Qh*fp_Qhp[r] + Qc*fp_Qc[r] + E*fp_E[r])/Af_tot*3600\n",
      "#construction\n",
      "greyprimary = (Database['GE']*Database['industry']).sum()/Database['Areaf'].sum()\n",
      "greyemissions = (Database['GGHG']*Database['industry']).sum()/Database['Areaf'].sum()\n",
      "\n",
      "#Create dataframe\n",
      "GT = {'CAT': 'Industry_processes','CO2': Emissions,'Ep': Primary,'GHGE': greyemissions,'GE': greyprimary}\n",
      "Grandtotal2 = pd.DataFrame(GT,index=[0])\n",
      "Grandtotal = Grandtotal.append(Grandtotal2)\n",
      "Grandtotal.fillna(0,inplace=True)\n",
      "Grandtotal.to_excel(locationFinal+'\\\\'+'Total.xls')"
     ],
     "language": "python",
     "metadata": {},
     "outputs": [],
     "prompt_number": 437
    },
    {
     "cell_type": "markdown",
     "metadata": {},
     "source": [
      "####EMISSIONS OPERATION ALL SCENARIOS SEVERAL INFRASTRUCTURAL CONFIGURATIONS AND BUILDING RETROFIT"
     ]
    },
    {
     "cell_type": "code",
     "collapsed": false,
     "input": [
      "#THIS IS WITH THE NEW TYPE OF SYSTEM\n",
      "# factors organized in Status Quo, BAU,HEB,UC and CAMP\n",
      "rs = [1250.4,1356.6,1402.21,0,504.44]#value in MWh of recoverable due tro servers\n",
      "ri = [295.2,565.55,0,565.55,0] #value in MWh of recoverable due to processes\n",
      "fe_Qh = [0.028,0.028,0.026,0.026,0.028] #emissions factor heating\n",
      "fe_Qc = [0.002,0.002,0.002,0.002,0.002] #emissions energy factor cooling\n",
      "fe_E = [0.0384,0.0386,0.0366,0.0350,0.0346] #emissions energy factor electricity\n",
      "fp_Qh = [0.818,0.818,0.681,0.681,0.818] #primary energy factor heating\n",
      "fp_Qc = [0.155,0.155,0.155,0.155,0.155]#primary energy factor cooling\n",
      "fp_E = [2.346,2.37,2.193,2.011,1.973]#primary energy factor electricity\n",
      "\n",
      "\n",
      "# list of scenarios\n",
      "sc = ['SQ', 'BAU', 'HEB', 'UC', 'CAMP']\n",
      "# list of Cityquarters in each scenario\n",
      "database = r'c:\\ArcGIS\\EDM.gdb' #Scenarios or Communities\n",
      "locationtemp1 = r'c:\\ArcGIS\\temp'\n",
      "\n",
      "for row in range(5):\n",
      "    Scenario = sc[row]\n",
      "    locationedm = r'C:\\ArcGIS\\EDMdata\\DataFinal\\EDM'+'\\\\'+Scenario+'\\\\'+Zone #EDM is the energy demand model\n",
      "    # Create the table or database of the CQ to generate the values\n",
      "    CQ = database+'\\\\'+Scenario+'\\\\'+Scenario+Zone\n",
      "    Database = pd.read_csv(locationedm+'\\\\'+'Total.csv')\n",
      "    Af_tot = Database.Af.sum()\n",
      "    Qh = (Database['Qhsf']+Database['Qwwf']+Database['Qhpf']).sum()-(rs[row]+ri[row])\n",
      "    Qc =(Database['Qcsf']+Database['Qcdataf']+Database['Qcpf']+Database['Qcicef']).sum()- (rs[row]/0.8)\n",
      "    E = (Database['Ealf']+Database['Ecaf']+Database['Edataf']+Database['Epf']).sum()\n",
      "    Emissions = (Qh*fe_Qh[row] + Qc*fe_Qc[row] + E*fe_E[row])/Af_tot*3600\n",
      "    Primary = (Qh*fp_Qh[row] + Qc*fp_Qc[row] + E*fp_E[row])/Af_tot*3600\n",
      "\n",
      "    print  Emissions,Primary"
     ],
     "language": "python",
     "metadata": {},
     "outputs": [
      {
       "output_type": "stream",
       "stream": "stdout",
       "text": [
        "26.0561387244 1365.01633914\n",
        "23.0256970567 1232.37078824\n",
        "18.2427453084"
       ]
      },
      {
       "output_type": "stream",
       "stream": "stdout",
       "text": [
        " 905.871177259\n",
        "18.9398591583"
       ]
      },
      {
       "output_type": "stream",
       "stream": "stdout",
       "text": [
        " 899.965847839\n",
        "16.8057658957 775.949248913\n"
       ]
      }
     ],
     "prompt_number": 11
    },
    {
     "cell_type": "code",
     "collapsed": false,
     "input": [
      "#THIS IS WITH ONLY PV\n",
      "# factors organized in Status Quo, BAU,HEB,UC and CAMP\n",
      "rs = [0,0,0,0,0]#value in MWh of recoverable due tro servers\n",
      "ri = [0,0,0,0,0] #value in MWh of recoverable due to processes\n",
      "fe_Qh = [0.085,0.085,0.085,0.085,0.085] #emissions factor heating\n",
      "fe_Qc = [0.002,0.002,0.002,0.002,0.002] #emissions energy factor cooling\n",
      "fe_E = [0.0384,0.0386,0.0366,0.0350,0.0346] #emissions energy factor electricity\n",
      "\n",
      "fp_Qh = [1.457,1.457,1.457,1.4571,1.457] #primary energy factor heating\n",
      "fp_Qc = [0.155,0.155,0.155,0.155,0.155]#primary energy factor cooling\n",
      "fp_E = [2.346,2.37,2.193,2.011,1.973]#primary energy factor electricity\n",
      "\n",
      "# list of scenarios\n",
      "sc = ['SQ', 'BAU', 'HEB', 'UC', 'CAMP']\n",
      "# list of Cityquarters in each scenario\n",
      "database = r'c:\\ArcGIS\\EDM.gdb' #Scenarios or Communities\n",
      "locationtemp1 = r'c:\\ArcGIS\\temp'\n",
      "\n",
      "for row in range(5):\n",
      "    Scenario = sc[row]\n",
      "    locationedm = r'C:\\ArcGIS\\EDMdata\\DataFinal\\EDM'+'\\\\'+Scenario+'\\\\'+Zone #EDM is the energy demand model\n",
      "    # Create the table or database of the CQ to generate the values\n",
      "    CQ = database+'\\\\'+Scenario+'\\\\'+Scenario+Zone\n",
      "    Database = pd.read_csv(locationedm+'\\\\'+'Total.csv')\n",
      "    Af_tot = Database.Af.sum()\n",
      "    Qh = (Database['Qhsf']+Database['Qwwf']+Database['Qhpf']).sum()-(rs[row]+ri[row])\n",
      "    Qc =(Database['Qcsf']+Database['Qcdataf']+Database['Qcpf']+Database['Qcicef']).sum()- (rs[row]/0.8)\n",
      "    E = (Database['Ealf']+Database['Ecaf']+Database['Edataf']+Database['Epf']).sum()\n",
      "    Emissions = (Qh*fe_Qh[row] + Qc*fe_Qc[row] + E*fe_E[row])/Af_tot*3600\n",
      "    Primary = (Qh*fp_Qh[row] + Qc*fp_Qc[row] + E*fp_E[row])/Af_tot*3600\n",
      "\n",
      "    print  Emissions,Primary"
     ],
     "language": "python",
     "metadata": {},
     "outputs": [
      {
       "output_type": "stream",
       "stream": "stdout",
       "text": [
        "44.3774754144 1597.25317036\n",
        "38.1057878962 1426.49662119\n",
        "32.6603174985 1105.49619845\n",
        "33.7148070156 1098.01799013\n",
        "30.9619644916 940.065261011\n"
       ]
      }
     ],
     "prompt_number": 23
    },
    {
     "cell_type": "code",
     "collapsed": false,
     "input": [
      "#THIS IS WITH THE HEAT RECOVERY OF INDUSTRY\n",
      "# factors organized in Status Quo, BAU,HEB,UC and CAMP\n",
      "rs = [0,0,0,0,0]#value in MWh of recoverable due tro servers\n",
      "ri = [295.2,565.55,0,565.55,0] #value in MWh of recoverable due to processes\n",
      "fe_Qh = [0.085,0.085,0.085,0.085,0.085] #emissions factor heating\n",
      "fe_Qc = [0.002,0.002,0.002,0.002,0.002] #emissions energy factor cooling\n",
      "fe_E = [0.0413,0.0413,0.0413,0.0413,0.0413] #emissions energy factor electricity\n",
      "\n",
      "fp_Qh = [1.457,1.457,1.457,1.4571,1.457] #primary energy factor heating\n",
      "fp_Qc = [0.155,0.155,0.155,0.155,0.155]#primary energy factor cooling\n",
      "fp_E = [2.635,2.635,2.635,2.635,2.635]#primary energy factor electricity\n",
      "\n",
      "\n",
      "# list of scenarios\n",
      "sc = ['SQ', 'BAU', 'HEB', 'UC', 'CAMP']\n",
      "# list of Cityquarters in each scenario\n",
      "database = r'c:\\ArcGIS\\EDM.gdb' #Scenarios or Communities\n",
      "locationtemp1 = r'c:\\ArcGIS\\temp'\n",
      "\n",
      "for row in range(5):\n",
      "    Scenario = sc[row]\n",
      "    locationedm = r'C:\\ArcGIS\\EDMdata\\DataFinal\\EDM'+'\\\\'+Scenario+'\\\\'+Zone #EDM is the energy demand model\n",
      "    # Create the table or database of the CQ to generate the values\n",
      "    CQ = database+'\\\\'+Scenario+'\\\\'+Scenario+Zone\n",
      "    Database = pd.read_csv(locationedm+'\\\\'+'Total.csv')\n",
      "    Af_tot = Database.Af.sum()\n",
      "    Qh = (Database['Qhsf']+Database['Qwwf']+Database['Qhpf']).sum()-(rs[row]+ri[row])\n",
      "    Qc =(Database['Qcsf']+Database['Qcdataf']+Database['Qcpf']+Database['Qcicef']).sum()- (rs[row]/0.8)\n",
      "    E = (Database['Ealf']+Database['Ecaf']+Database['Edataf']+Database['Epf']).sum()\n",
      "    Emissions = (Qh*fe_Qh[row] + Qc*fe_Qc[row] + E*fe_E[row])/Af_tot*3600\n",
      "    Primary = (Qh*fp_Qh[row] + Qc*fp_Qc[row] + E*fp_E[row])/Af_tot*3600\n",
      "\n",
      "    print  Emissions,Primary"
     ],
     "language": "python",
     "metadata": {},
     "outputs": [
      {
       "output_type": "stream",
       "stream": "stdout",
       "text": [
        "45.1058681615 1726.19054385\n",
        "38.3018295096 1527.5166456\n",
        "34.2782760787 1257.65315429\n",
        "35.0754257526 1308.75106782\n",
        "32.924290514 1133.95478741\n"
       ]
      }
     ],
     "prompt_number": 14
    },
    {
     "cell_type": "code",
     "collapsed": false,
     "input": [
      "#THIS IS WITH THE HEAT RECOVERY OF SERVERS\n",
      "# factors organized in Status Quo, BAU,HEB,UC and CAMP\n",
      "rs = [1250.4,1356.6,1402.21,0,504.44]#value in MWh of recoverable due tro servers\n",
      "ri = [0,0,0,0,0] #value in MWh of recoverable due to processes\n",
      "fe_Qh = [0.085,0.085,0.085,0.085,0.085] #emissions factor heating\n",
      "fe_Qc = [0.002,0.002,0.002,0.002,0.002] #emissions energy factor cooling\n",
      "fe_E = [0.0413,0.0413,0.0413,0.0413,0.0413] #emissions energy factor electricity\n",
      "\n",
      "fp_Qh = [1.457,1.457,1.457,1.4571,1.457] #primary energy factor heating\n",
      "fp_Qc = [0.155,0.155,0.155,0.155,0.155]#primary energy factor cooling\n",
      "fp_E = [2.635,2.635,2.635,2.635,2.635]#primary energy factor electricity\n",
      "\n",
      "# list of scenarios\n",
      "sc = ['Statusquo', 'BAU2030', 'HEB2030', 'UC2030', 'CAMP2030']\n",
      "# list of Cityquarters in each scenario\n",
      "cq = ['CityQuarter_3', 'BAU_2030', 'HEB_2030', 'UC_2030','CAMP_2030']\n",
      "cq2 = ['CityQuarter_3', 'BAU2030', 'HEB2030', 'UC2030','CAMP2030']\n",
      "locationClusters = r'c:\\ArcGIS\\EDM.gdb\\Communities' #Scenarios or Communities\n",
      "locationtemp1 = r'c:\\ArcGIS\\temp'\n",
      "\n",
      "for row in range(5):\n",
      "    Scenario = sc[row]\n",
      "    CQuarter1 = cq[row]\n",
      "    CQuarter2 = cq2[row]\n",
      "    locationedm = r'C:\\ArcGIS\\EDMdata\\DataFinal\\EDM'+'\\\\'+Scenario+'\\\\'+CQuarter2 #EDM is the energy demand model\n",
      "    # Create the table or database of the CQ to generate the values\n",
      "    CQ = locationClusters+'\\\\'+CQuarter1\n",
      "    OutTable = 'Database.dbf'\n",
      "    data = pd.ExcelFile(locationedm+'\\\\'+'Total.xls')\n",
      "    energy = pd.ExcelFile.parse(data, 'sheet1')\n",
      "    arcpy.TableToTable_conversion(CQ, locationtemp1, OutTable)\n",
      "    Database0 = dbf2df(locationtemp1+'\\\\'+OutTable)\n",
      "    Database = pd.merge(Database0,energy, on='Name')\n",
      "    \n",
      "    Database['Af'] = Database['Shape_Area']*Database['Floors']*Database['Hs']\n",
      "    Af_tot = Database.Af.sum()\n",
      "    Qh = (Database['Qhsf']+Database['Qwwf']+Database['Qhpf']).sum()-(rs[row]+ri[row])\n",
      "    Qc =(Database['Qcsf']+Database['Qcdataf']+Database['Qcpf']).sum()- (rs[row]/0.8)\n",
      "    E = (Database['Ealf']+Database['Ecaf']+Database['Edataf']+Database['Epf']).sum()\n",
      "    Emissions = (Qh*fe_Qh[row] + Qc*fe_Qc[row] + E*fe_E[row])/Af_tot*3600\n",
      "    Primary = (Qh*fp_Qh[row] + Qc*fp_Qc[row] + E*fp_E[row])/Af_tot*3600\n",
      "\n",
      "    print  Emissions,Primary"
     ],
     "language": "python",
     "metadata": {},
     "outputs": [
      {
       "output_type": "stream",
       "stream": "stdout",
       "text": [
        "43.4220948909 1724.50142061\n",
        "38.6823793253"
       ]
      },
      {
       "output_type": "stream",
       "stream": "stdout",
       "text": [
        " 1614.37894169\n",
        "31.1048933864"
       ]
      },
      {
       "output_type": "stream",
       "stream": "stdout",
       "text": [
        " 1135.62221478\n",
        "36.0024832041"
       ]
      },
      {
       "output_type": "stream",
       "stream": "stdout",
       "text": [
        " 1324.61637853\n",
        "32.1631437183"
       ]
      },
      {
       "output_type": "stream",
       "stream": "stdout",
       "text": [
        " 1119.33638699\n"
       ]
      }
     ],
     "prompt_number": 9
    },
    {
     "cell_type": "code",
     "collapsed": false,
     "input": [
      "#THIS IS WITH THE OLD SYSTEM\n",
      "# factors organized in Status Quo, BAU,HEB,UC and CAMP\n",
      "rs = [0,0,0,0,0]#value in MWh of recoverable due tro servers\n",
      "ri = [0,0,0,0,0] #value in MWh of recoverable due to processes\n",
      "fe_Qh = [0.085,0.085,0.085,0.085,0.085] #emissions factor heating\n",
      "fe_Qc = [0.002,0.002,0.002,0.002,0.002] #emissions energy factor cooling\n",
      "fe_E = [0.0413,0.0413,0.0413,0.0413,0.0413] #emissions energy factor electricity\n",
      "\n",
      "fp_Qh = [1.457,1.457,1.457,1.4571,1.457] #primary energy factor heating\n",
      "fp_Qc = [0.155,0.155,0.155,0.155,0.155]#primary energy factor cooling\n",
      "fp_E = [2.635,2.635,2.635,2.635,2.635]#primary energy factor electricity\n",
      "\n",
      "# list of scenarios\n",
      "sc = ['SQ', 'BAU', 'HEB', 'UC', 'CAMP']\n",
      "# list of Cityquarters in each scenario\n",
      "database = r'c:\\ArcGIS\\EDM.gdb' #Scenarios or Communities\n",
      "locationtemp1 = r'c:\\ArcGIS\\temp'\n",
      "\n",
      "for row in range(5):\n",
      "    Scenario = sc[row]\n",
      "    locationedm = r'C:\\ArcGIS\\EDMdata\\DataFinal\\EDM'+'\\\\'+Scenario+'\\\\'+Zone #EDM is the energy demand model\n",
      "    # Create the table or database of the CQ to generate the values\n",
      "    CQ = database+'\\\\'+Scenario+'\\\\'+Scenario+Zone\n",
      "    Database = pd.read_csv(locationedm+'\\\\'+'Total.csv')\n",
      "    Af_tot = Database.Af.sum()\n",
      "    Qh = (Database['Qhsf']+Database['Qwwf']+Database['Qhpf']).sum()-(rs[row]+ri[row])\n",
      "    Qc =(Database['Qcsf']+Database['Qcdataf']+Database['Qcpf']+Database['Qcicef']).sum()- (rs[row]/0.8)\n",
      "    E = (Database['Ealf']+Database['Ecaf']+Database['Edataf']+Database['Epf']).sum()\n",
      "    Emissions = (Qh*fe_Qh[row] + Qc*fe_Qc[row] + E*fe_E[row])/Af_tot*3600\n",
      "    Primary = (Qh*fp_Qh[row] + Qc*fp_Qc[row] + E*fp_E[row])/Af_tot*3600\n",
      "\n",
      "    print  Emissions,Primary"
     ],
     "language": "python",
     "metadata": {},
     "outputs": [
      {
       "output_type": "stream",
       "stream": "stdout",
       "text": [
        "45.7887737468 1737.896349\n",
        "39.3113587069 1544.82116372\n",
        "34.2782760787 1257.65315429\n",
        "36.0029244956 1324.65057862\n",
        "32.924290514 1133.95478741\n"
       ]
      }
     ],
     "prompt_number": 22
    },
    {
     "cell_type": "code",
     "collapsed": false,
     "input": [
      "#THIS IS WITH THE LAKE-WATER HEATPUMPS\n",
      "# factors organized in Status Quo, BAU,HEB,UC and CAMP\n",
      "rs = [0,0,0,0,0]#value in MWh of recoverable due tro servers\n",
      "ri = [0,0,0,0,0] #value in MWh of recoverable due to processes\n",
      "fe_Qh = [0.028,0.028,0.026,0.026,0.028] #emissions factor heating\n",
      "fe_Qc = [0.002,0.002,0.002,0.002,0.002] #emissions energy factor cooling\n",
      "fe_E = [0.0413,0.0413,0.0413,0.0413,0.0413] #emissions energy factor electricity\n",
      "\n",
      "fp_Qh = [0.818,0.818,0.618,0.618,0.818] #primary energy factor heating\n",
      "fp_Qc = [0.155,0.155,0.155,0.155,0.155]#primary energy factor cooling\n",
      "fp_E = [2.635,2.635,2.635,2.635,2.635]#primary energy factor electricity\n",
      "\n",
      "# list of scenarios\n",
      "sc = ['SQ', 'BAU', 'HEB', 'UC', 'CAMP']\n",
      "# list of Cityquarters in each scenario\n",
      "database = r'c:\\ArcGIS\\EDM.gdb' #Scenarios or Communities\n",
      "locationtemp1 = r'c:\\ArcGIS\\temp'\n",
      "\n",
      "for row in range(5):\n",
      "    Scenario = sc[row]\n",
      "    locationedm = r'C:\\ArcGIS\\EDMdata\\DataFinal\\EDM'+'\\\\'+Scenario+'\\\\'+Zone #EDM is the energy demand model\n",
      "    # Create the table or database of the CQ to generate the values\n",
      "    CQ = database+'\\\\'+Scenario+'\\\\'+Scenario+Zone\n",
      "    Database = pd.read_csv(locationedm+'\\\\'+'Total.csv')\n",
      "    Af_tot = Database.Af.sum()\n",
      "    Qh = (Database['Qhsf']+Database['Qwwf']+Database['Qhpf']).sum()-(rs[row]+ri[row])\n",
      "    Qc =(Database['Qcsf']+Database['Qcdataf']+Database['Qcpf']+Database['Qcicef']).sum()- (rs[row]/0.8)\n",
      "    E = (Database['Ealf']+Database['Ecaf']+Database['Edataf']+Database['Epf']).sum()\n",
      "    Emissions = (Qh*fe_Qh[row] + Qc*fe_Qc[row] + E*fe_E[row])/Af_tot*3600\n",
      "    Primary = (Qh*fp_Qh[row] + Qc*fp_Qc[row] + E*fp_E[row])/Af_tot*3600\n",
      "\n",
      "    print  Emissions,Primary"
     ],
     "language": "python",
     "metadata": {},
     "outputs": [
      {
       "output_type": "stream",
       "stream": "stdout",
       "text": [
        "28.7303388298 1546.66231546\n",
        "25.4327402826 1389.23454665\n",
        "20.4306606286 1060.73536848\n",
        "21.5116821362 1118.55563856\n",
        "19.014775858 978.021807314\n"
       ]
      }
     ],
     "prompt_number": 17
    },
    {
     "cell_type": "code",
     "collapsed": false,
     "input": [
      "#THIS IS WITH THE SOLAR COLLECTORS\n",
      "# factors organized in Status Quo, BAU,HEB,UC and CAMP\n",
      "rs = [0,0,0,0,0]#value in MWh of recoverable due tro servers\n",
      "ri = [0,0,0,0,0] #value in MWh of recoverable due to processes\n",
      "fe_Qh = [0.0268,0.0268,0.0268,0.0268,0.0268] #emissions factor heating\n",
      "fe_Qc = [0.002,0.002,0.002,0.002,0.002] #emissions energy factor cooling\n",
      "fe_E = [0.0413,0.0413,0.0413,0.0413,0.0413] #emissions energy factor electricity\n",
      "\n",
      "fp_Qh = [0.6192,0.6192,0.6192,0.6192,0.6192] #primary energy factor heating\n",
      "fp_Qc = [0.155,0.155,0.155,0.155,0.155]#primary energy factor cooling\n",
      "fp_E = [2.635,2.635,2.635,2.635,2.635]#primary energy factor electricity\n",
      "\n",
      "# list of scenarios\n",
      "sc = ['SQ', 'BAU', 'HEB', 'UC', 'CAMP']\n",
      "# list of Cityquarters in each scenario\n",
      "database = r'c:\\ArcGIS\\EDM.gdb' #Scenarios or Communities\n",
      "locationtemp1 = r'c:\\ArcGIS\\temp'\n",
      "\n",
      "for row in range(5):\n",
      "    Scenario = sc[row]\n",
      "    locationedm = r'C:\\ArcGIS\\EDMdata\\DataFinal\\EDM'+'\\\\'+Scenario+'\\\\'+Zone #EDM is the energy demand model\n",
      "    # Create the table or database of the CQ to generate the values\n",
      "    CQ = database+'\\\\'+Scenario+'\\\\'+Scenario+Zone\n",
      "    Database = pd.read_csv(locationedm+'\\\\'+'Total.csv')\n",
      "    Af_tot = Database.Af.sum()\n",
      "    Qh = (Database['Qhsf']+Database['Qwwf']+Database['Qhpf']).sum()-(rs[row]+ri[row])\n",
      "    Qc =(Database['Qcsf']+Database['Qcdataf']+Database['Qcpf']+Database['Qcicef']).sum()- (rs[row]/0.8)\n",
      "    E = (Database['Ealf']+Database['Ecaf']+Database['Edataf']+Database['Epf']).sum()\n",
      "    Emissions = (Qh*fe_Qh[row] + Qc*fe_Qc[row] + E*fe_E[row])/Af_tot*3600\n",
      "    Primary = (Qh*fp_Qh[row] + Qc*fp_Qc[row] + E*fp_E[row])/Af_tot*3600\n",
      "\n",
      "    print  Emissions,Primary"
     ],
     "language": "python",
     "metadata": {},
     "outputs": [
      {
       "output_type": "stream",
       "stream": "stdout",
       "text": [
        "28.3712138842 1487.1672828\n",
        "25.1405588421 1340.82982134\n",
        "20.6184249059 1061.0170149\n",
        "21.708173558 1118.85037569\n",
        "18.7219439705 929.509324619\n"
       ]
      }
     ],
     "prompt_number": 20
    },
    {
     "cell_type": "code",
     "collapsed": false,
     "input": [
      "#THIS IS WITH THE SOLAR COLLECTORS + PV = PVT +Hp for extraction\n",
      "# factors organized in Status Quo, BAU,HEB,UC and CAMP\n",
      "rs = [1250.4,1356.6,1402.21,0,504.44]#value in MWh of recoverable due tro servers\n",
      "ri = [295.2,565.55,0,565.55,0] #value in MWh of recoverable due to processes\n",
      "fe_Qh = [0.0268,0.0268,0.0268,0.0268,0.0268] #emissions factor heating\n",
      "fe_Qc = [0.002,0.002,0.002,0.002,0.002] #emissions energy factor cooling\n",
      "fe_E = [0.0384,0.0386,0.0366,0.0350,0.0346] #emissions energy factor electricity\n",
      "\n",
      "fp_Qh = [0.6192,0.6192,0.6192,0.6192,0.6192] #primary energy factor heating\n",
      "fp_Qc = [0.155,0.155,0.155,0.155,0.155]#primary energy factor cooling\n",
      "fp_E = [2.346,2.37,2.193,2.011,1.973]#primary energy factor electricity\n",
      "\n",
      "\n",
      "# list of scenarios\n",
      "sc = ['SQ', 'BAU', 'HEB', 'UC', 'CAMP']\n",
      "# list of Cityquarters in each scenario\n",
      "database = r'c:\\ArcGIS\\EDM.gdb' #Scenarios or Communities\n",
      "locationtemp1 = r'c:\\ArcGIS\\temp'\n",
      "\n",
      "for row in range(5):\n",
      "    Scenario = sc[row]\n",
      "    locationedm = r'C:\\ArcGIS\\EDMdata\\DataFinal\\EDM'+'\\\\'+Scenario+'\\\\'+Zone #EDM is the energy demand model\n",
      "    # Create the table or database of the CQ to generate the values\n",
      "    Database = pd.read_csv(locationedm+'\\\\'+'Total.csv')\n",
      "    Af_tot = Database.Af.sum()\n",
      "    Qh = (Database['Qhsf']+Database['Qwwf']+Database['Qhpf']).sum()-(rs[row]+ri[row])\n",
      "    Qc =(Database['Qcsf']+Database['Qcdataf']+Database['Qcpf']+Database['Qcicef']).sum()- (rs[row]/0.8)\n",
      "    E = (Database['Ealf']+Database['Ecaf']+Database['Edataf']+Database['Epf']).sum()\n",
      "    Emissions = (Qh*fe_Qh[row] + Qc*fe_Qc[row] + E*fe_E[row])/Af_tot*3600\n",
      "    Primary = (Qh*fp_Qh[row] + Qc*fp_Qc[row] + E*fp_E[row])/Af_tot*3600\n",
      "\n",
      "    print  Emissions,Primary"
     ],
     "language": "python",
     "metadata": {},
     "outputs": [
      {
       "output_type": "stream",
       "stream": "stdout",
       "text": [
        "25.7474919649 1313.88385933\n",
        "22.7819548732 1191.99083318\n",
        "18.4145108 892.602293032\n",
        "19.1276211802 885.461231648\n",
        "16.5226396058 729.044660226\n"
       ]
      }
     ],
     "prompt_number": 21
    },
    {
     "cell_type": "code",
     "collapsed": false,
     "input": [
      "#THIS IS FOR CHP WITH BIOGAS\n",
      "# factors organized in Status Quo, BAU,HEB,UC and CAMP\n",
      "rs = [0,0,0,0,0]#value in MWh of recoverable due tro servers\n",
      "ri = [0,0,0,0,0] #value in MWh of recoverable due to processes\n",
      "fe_Qh = [0.0318,0.0318,0.0318,0.0318,0.0318] #emissions factor heating\n",
      "fe_Qc = [0.002,0.002,0.002,0.002,0.002] #emissions energy factor cooling\n",
      "fe_E = [0.0303,0.0315,0.0282,0.0277,0.0253] #emissions energy factor electricity\n",
      "\n",
      "fp_Qh = [0.5368,0.5368,0.5368,0.5368,0.5368] #primary energy factor heating\n",
      "fp_Qc = [0.155,0.155,0.155,0.155,0.155]#primary energy factor cooling\n",
      "fp_E = [1.9189,1.9991,1.7815,1.7451,1.5875]#primary energy factor electricity\n",
      "\n",
      "# list of scenarios\n",
      "sc = ['Statusquo', 'BAU2030', 'HEB2030', 'UC2030', 'CAMP2030']\n",
      "# list of Cityquarters in each scenario\n",
      "cq = ['CityQuarter_3', 'BAU_2030', 'HEB_2030', 'UC_2030','CAMP_2030']\n",
      "cq2 = ['CityQuarter_3', 'BAU2030', 'HEB2030', 'UC2030','CAMP2030']\n",
      "locationClusters = r'c:\\ArcGIS\\EDM.gdb\\Communities' #Scenarios or Communities\n",
      "locationtemp1 = r'c:\\ArcGIS\\temp'\n",
      "\n",
      "for row in range(5):\n",
      "    Scenario = sc[row]\n",
      "    CQuarter1 = cq[row]\n",
      "    CQuarter2 = cq2[row]\n",
      "    locationedm = r'C:\\ArcGIS\\EDMdata\\DataFinal\\EDM'+'\\\\'+Scenario+'\\\\'+CQuarter2 #EDM is the energy demand model\n",
      "    # Create the table or database of the CQ to generate the values\n",
      "    CQ = locationClusters+'\\\\'+CQuarter1\n",
      "    OutTable = 'Database.dbf'\n",
      "    data = pd.ExcelFile(locationedm+'\\\\'+'Total.xls')\n",
      "    energy = pd.ExcelFile.parse(data, 'sheet1')\n",
      "    arcpy.TableToTable_conversion(CQ, locationtemp1, OutTable)\n",
      "    Database0 = dbf2df(locationtemp1+'\\\\'+OutTable)\n",
      "    Database = pd.merge(Database0,energy, on='Name')\n",
      "    \n",
      "    Database['Af'] = Database['Shape_Area']*Database['Floors']*Database['Hs']\n",
      "    Af_tot = Database.Af.sum()\n",
      "    Qh = (Database['Qhsf']+Database['Qwwf']+Database['Qhpf']).sum()-(rs[row]+ri[row])\n",
      "    Qc =(Database['Qcsf']+Database['Qcdataf']+Database['Qcpf']).sum()- (rs[row]/0.8)\n",
      "    E = (Database['Ealf']+Database['Ecaf']+Database['Edataf']+Database['Epf']).sum()\n",
      "    Emissions = (Qh*fe_Qh[row] + Qc*fe_Qc[row] + E*fe_E[row])/Af_tot*3600\n",
      "    Primary = (Qh*fp_Qh[row] + Qc*fp_Qc[row] + E*fp_E[row])/Af_tot*3600\n",
      "\n",
      "    print  Emissions,Primary"
     ],
     "language": "python",
     "metadata": {},
     "outputs": [
      {
       "output_type": "stream",
       "stream": "stdout",
       "text": [
        "24.9875831923 1145.56846318\n",
        "23.3885244273"
       ]
      },
      {
       "output_type": "stream",
       "stream": "stdout",
       "text": [
        " 1126.05102784\n",
        "16.3324971661"
       ]
      },
      {
       "output_type": "stream",
       "stream": "stdout",
       "text": [
        " 689.020967916\n",
        "17.9963754421"
       ]
      },
      {
       "output_type": "stream",
       "stream": "stdout",
       "text": [
        " 775.371885268\n",
        "15.2400060584"
       ]
      },
      {
       "output_type": "stream",
       "stream": "stdout",
       "text": [
        " 602.603718269\n"
       ]
      }
     ],
     "prompt_number": 16
    },
    {
     "cell_type": "code",
     "collapsed": false,
     "input": [
      "#THIS IS WITH THE OLD SYSTEM + summer sHUTDOWN +DECENTRALIZED BOILER\n",
      "# factors organized in Status Quo, BAU,HEB,UC and CAMP\n",
      "rs = [0,0,0,0,0]#value in MWh of recoverable due tro servers\n",
      "ri = [0,0,0,0,0] #value in MWh of recoverable due to processes\n",
      "fe_Qh = [0.075,0.075,0.075,0.075,0.075] #emissions factor heating\n",
      "fe_Qc = [0.002,0.002,0.002,0.002,0.002] #emissions energy factor cooling\n",
      "fe_E = [0.0413,0.0413,0.0413,0.0413,0.0413] #emissions energy factor electricity\n",
      "\n",
      "fp_Qh = [1.291,1.291,1.291,1.291,1.291] #primary energy factor heating\n",
      "fp_Qc = [0.155,0.155,0.155,0.155,0.155]#primary energy factor cooling\n",
      "fp_E = [2.635,2.635,2.635,2.635,2.635]#primary energy factor electricity\n",
      "\n",
      "# list of scenarios\n",
      "sc = ['Statusquo', 'BAU2030', 'HEB2030', 'UC2030', 'CAMP2030']\n",
      "# list of Cityquarters in each scenario\n",
      "cq = ['CityQuarter_3', 'BAU_2030', 'HEB_2030', 'UC_2030','CAMP_2030']\n",
      "cq2 = ['CityQuarter_3', 'BAU2030', 'HEB2030', 'UC2030','CAMP2030']\n",
      "locationClusters = r'c:\\ArcGIS\\EDM.gdb\\Communities' #Scenarios or Communities\n",
      "locationtemp1 = r'c:\\ArcGIS\\temp'\n",
      "\n",
      "for row in range(5):\n",
      "    Scenario = sc[row]\n",
      "    CQuarter1 = cq[row]\n",
      "    CQuarter2 = cq2[row]\n",
      "    locationedm = r'C:\\ArcGIS\\EDMdata\\DataFinal\\EDM'+'\\\\'+Scenario+'\\\\'+CQuarter2 #EDM is the energy demand model\n",
      "    # Create the table or database of the CQ to generate the values\n",
      "    CQ = locationClusters+'\\\\'+CQuarter1\n",
      "    OutTable = 'Database.dbf'\n",
      "    data = pd.ExcelFile(locationedm+'\\\\'+'Total.xls')\n",
      "    energy = pd.ExcelFile.parse(data, 'sheet1')\n",
      "    arcpy.TableToTable_conversion(CQ, locationtemp1, OutTable)\n",
      "    Database0 = dbf2df(locationtemp1+'\\\\'+OutTable)\n",
      "    Database = pd.merge(Database0,energy, on='Name')\n",
      "    \n",
      "    Database['Af'] = Database['Shape_Area']*Database['Floors']*Database['Hs']\n",
      "    Af_tot = Database.Af.sum()\n",
      "    Qh = (Database['Qhsf']+Database['Qwwf']+Database['Qhpf']).sum()-(rs[row]+ri[row])\n",
      "    Qc =(Database['Qcsf']+Database['Qcdataf']+Database['Qcpf']).sum()- (rs[row]/0.8)\n",
      "    E = (Database['Ealf']+Database['Ecaf']+Database['Edataf']+Database['Epf']).sum()\n",
      "    Emissions = (Qh*fe_Qh[row] + Qc*fe_Qc[row] + E*fe_E[row])/Af_tot*3600\n",
      "    Primary = (Qh*fp_Qh[row] + Qc*fp_Qc[row] + E*fp_E[row])/Af_tot*3600\n",
      "\n",
      "    print  Emissions,Primary"
     ],
     "language": "python",
     "metadata": {},
     "outputs": [
      {
       "output_type": "stream",
       "stream": "stdout",
       "text": [
        "43.4071513028 1730.97558806\n",
        "38.7213774415"
       ]
      },
      {
       "output_type": "stream",
       "stream": "stdout",
       "text": [
        " 1620.64715019\n",
        "30.5084998236"
       ]
      },
      {
       "output_type": "stream",
       "stream": "stdout",
       "text": [
        " 1129.68151788\n",
        "33.5463404313"
       ]
      },
      {
       "output_type": "stream",
       "stream": "stdout",
       "text": [
        " 1283.81984707\n",
        "30.4343616292"
       ]
      },
      {
       "output_type": "stream",
       "stream": "stdout",
       "text": [
        " 1092.23965748\n"
       ]
      }
     ],
     "prompt_number": 17
    },
    {
     "cell_type": "code",
     "collapsed": false,
     "input": [
      "#THIS IS WITH BIOMASS PELLETS BOILER\n",
      "# factors organized in Status Quo, BAU,HEB,UC and CAMP\n",
      "rs = [0,0,0,0,0]#value in MWh of recoverable due tro servers\n",
      "ri = [0,0,0,0,0] #value in MWh of recoverable due to processes\n",
      "fe_Qh = [0.014,0.014,0.014,0.014,0.014] #emissions factor heating\n",
      "fe_Qc = [0.002,0.002,0.002,0.002,0.002] #emissions energy factor cooling\n",
      "fe_E = [0.0413,0.0413,0.0413,0.0413,0.0413] #emissions energy factor electricity\n",
      "\n",
      "fp_Qh = [0.227,0.227,0.227,0.227,0.227] #primary energy factor heating\n",
      "fp_Qc = [0.155,0.155,0.155,0.155,0.155]#primary energy factor cooling\n",
      "fp_E = [2.635,2.635,2.635,2.635,2.635]#primary energy factor electricity\n",
      "\n",
      "# list of scenarios\n",
      "sc = ['Statusquo', 'BAU2030', 'HEB2030', 'UC2030', 'CAMP2030']\n",
      "# list of Cityquarters in each scenario\n",
      "cq = ['CityQuarter_3', 'BAU_2030', 'HEB_2030', 'UC_2030','CAMP_2030']\n",
      "cq2 = ['CityQuarter_3', 'BAU2030', 'HEB2030', 'UC2030','CAMP2030']\n",
      "locationClusters = r'c:\\ArcGIS\\EDM.gdb\\Communities' #Scenarios or Communities\n",
      "locationtemp1 = r'c:\\ArcGIS\\temp'\n",
      "\n",
      "for row in range(5):\n",
      "    Scenario = sc[row]\n",
      "    CQuarter1 = cq[row]\n",
      "    CQuarter2 = cq2[row]\n",
      "    locationedm = r'C:\\ArcGIS\\EDMdata\\DataFinal\\EDM'+'\\\\'+Scenario+'\\\\'+CQuarter2 #EDM is the energy demand model\n",
      "    # Create the table or database of the CQ to generate the values\n",
      "    CQ = locationClusters+'\\\\'+CQuarter1\n",
      "    OutTable = 'Database.dbf'\n",
      "    data = pd.ExcelFile(locationedm+'\\\\'+'Total.xls')\n",
      "    energy = pd.ExcelFile.parse(data, 'sheet1')\n",
      "    arcpy.TableToTable_conversion(CQ, locationtemp1, OutTable)\n",
      "    Database0 = dbf2df(locationtemp1+'\\\\'+OutTable)\n",
      "    Database = pd.merge(Database0,energy, on='Name')\n",
      "    \n",
      "    Database['Af'] = Database['Shape_Area']*Database['Floors']*Database['Hs']\n",
      "    Af_tot = Database.Af.sum()\n",
      "    Qh = (Database['Qhsf']+Database['Qwwf']+Database['Qhpf']).sum()-(rs[row]+ri[row])\n",
      "    Qc =(Database['Qcsf']+Database['Qcdataf']+Database['Qcpf']).sum()- (rs[row]/0.8)\n",
      "    E = (Database['Ealf']+Database['Ecaf']+Database['Edataf']+Database['Epf']).sum()\n",
      "    Emissions = (Qh*fe_Qh[row] + Qc*fe_Qc[row] + E*fe_E[row])/Af_tot*3600\n",
      "    Primary = (Qh*fp_Qh[row] + Qc*fp_Qc[row] + E*fp_E[row])/Af_tot*3600\n",
      "\n",
      "    print  Emissions,Primary"
     ],
     "language": "python",
     "metadata": {},
     "outputs": [
      {
       "output_type": "stream",
       "stream": "stdout",
       "text": [
        "25.2176811525 1413.70351855\n",
        "23.8262358163"
       ]
      },
      {
       "output_type": "stream",
       "stream": "stdout",
       "text": [
        " 1360.83681102\n",
        "16.2104784375"
       ]
      },
      {
       "output_type": "stream",
       "stream": "stdout",
       "text": [
        " 880.286521903\n",
        "18.5638695173"
       ]
      },
      {
       "output_type": "stream",
       "stream": "stdout",
       "text": [
        " 1022.48625605\n",
        "15.5782631019"
       ]
      },
      {
       "output_type": "stream",
       "stream": "stdout",
       "text": [
        " 833.110332352\n"
       ]
      }
     ],
     "prompt_number": 18
    },
    {
     "cell_type": "code",
     "collapsed": false,
     "input": [],
     "language": "python",
     "metadata": {},
     "outputs": []
    }
   ],
   "metadata": {}
  }
 ]
}
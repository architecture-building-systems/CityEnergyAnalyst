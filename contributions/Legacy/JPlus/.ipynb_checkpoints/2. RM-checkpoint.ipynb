{
 "metadata": {
  "name": "",
  "signature": "sha256:367bfd80346adcdaa724598312c195bd245600f929124533d40ac3f6963ce54e"
 },
 "nbformat": 3,
 "nbformat_minor": 0,
 "worksheets": [
  {
   "cells": [
    {
     "cell_type": "markdown",
     "metadata": {},
     "source": [
      "#RADIATION MODEL\n",
      "##Introduction\n",
      "\n",
      "This routine calculates the solar radiation incident in the surfaces of Buildings in Wh/m2 per every hour of the year.\n",
      "THe algorithm considers shading form adjacent buildings, vegetation and terrain.\n",
      "\n",
      "###The input:\n",
      "\n",
      "1. From 0. City Quarters\n",
      "\n",
      "- CQ_Name: The name of the City quarter/Zone/Cluster to Create the radiation model obtained from the Routine Number 0. CQ\n",
      "- CQ = a .shp (multi-polygon) file containing the simplified buildings of the selected City quarter/Zone/Cluster to run the analysis and obtained from the Routine Numer 0. CQ.\n",
      "- Simple_Context = a .shp file containing the simplified buildings of all the context and obtained from the Routine Number 0. CQ\n",
      "\n",
      "2. Other\n",
      "\n",
      "- DEModel: a .asci or tif (raster) file containing a high definition Digital Elevation Model of the Context including mountains if possible.\n",
      "- Latitude: Latitude of the City of the case study (+) if North, (-) if South.\n",
      "- Longitude: Longitude of the City of the case study (+) if East of Grenwhich meridian, (-) if West.\n",
      "- Timezone: GMT + (?)\n",
      "- Daylightsaving dates: Number of day of the year where daylightsaving measures take place. for Zug in 2013 = 90 and 300\n",
      "\n",
      "###The Output:\n",
      "\n",
      "- DEModelFinal = a .asci or tif (raster) file containing a high definition Digital Elevation Model with Buildings.\n",
      "- DataRadiation = a .csv file containing the hourly radiation values Wh/m2 incident in a point representing every vertical surface of the Buildings analyzed,\n",
      "This file contents the Length of everysurface, the name of the building at which this surface belons too, the height of the building related, the Factor \" Freeheight\" and the Factpr \"FactorShade\"\n",
      "Freeheight stands for the height of the surface that is exposed to the exterior, factor Shade represents the amount of area of the surface facing the exterior."
     ]
    },
    {
     "cell_type": "markdown",
     "metadata": {},
     "source": [
      "##Modules"
     ]
    },
    {
     "cell_type": "code",
     "collapsed": false,
     "input": [
      "import arcpy\n",
      "import sys\n",
      "import pandas as pd\n",
      "if r'C:\\Console' not in sys.path: sys.path.append(r'C:\\Console')\n",
      "import EDMFunctions as EDM\n",
      "import os\n",
      "import datetime\n",
      "import jdcal\n",
      "import numpy as np\n",
      "arcpy.env.overwriteOutput = True\n",
      "arcpy.CheckOutExtension(\"spatial\")\n",
      "arcpy.CheckOutExtension(\"3D\")"
     ],
     "language": "python",
     "metadata": {},
     "outputs": [
      {
       "metadata": {},
       "output_type": "pyout",
       "prompt_number": 1,
       "text": [
        "u'CheckedOut'"
       ]
      }
     ],
     "prompt_number": 1
    },
    {
     "cell_type": "markdown",
     "metadata": {},
     "source": [
      "##Variables"
     ]
    },
    {
     "cell_type": "code",
     "collapsed": false,
     "input": [
      "Scenario = 'SQ' #Name of the City Quarter to calculate\n",
      "Zone = 1"
     ],
     "language": "python",
     "metadata": {},
     "outputs": [],
     "prompt_number": 2
    },
    {
     "cell_type": "code",
     "collapsed": false,
     "input": [
      "database = r'c:\\Zernez\\EDM.gdb'  #ArcGIS database\n",
      "CQ = database+'\\\\'+Scenario+'\\\\'+Scenario+'Zone_'+str(Zone)\n",
      "context = database+'\\\\'+Scenario+'\\\\'+Scenario+'AREA'\n",
      "DEM = database+'\\\\DEM_Clip' # DEM of analysis resampled to grid of 1m for more accurracy\n",
      "locationfinal = r'c:\\Zernez\\EDMdata\\DataFinal\\RM'+'\\\\'+Scenario+'\\\\'+'Zone_'+str(Zone)+'\\\\'+'Radiation_faces'"
     ],
     "language": "python",
     "metadata": {},
     "outputs": [],
     "prompt_number": 3
    },
    {
     "cell_type": "code",
     "collapsed": false,
     "input": [
      "WeatherData = pd.ExcelFile('C:\\Zernez\\EDMdata\\Weatherdata\\Temp_Design.xls') # Location of temperature data\n",
      "T_G_hour = pd.ExcelFile.parse(WeatherData, 'Values_hour') # temperature and radiation table\n",
      "T_G_day = pd.ExcelFile.parse(WeatherData, 'Values_day') # temperature and radiation table"
     ],
     "language": "python",
     "metadata": {},
     "outputs": [],
     "prompt_number": 4
    },
    {
     "cell_type": "code",
     "collapsed": false,
     "input": [
      "latitude =  46.95240555555556   #47.1628017306431      #longitude of the city\n",
      "longitude = 7.439583333333333    #8.31                 #latitude of the city\n",
      "timezone = 1                     #Timezone of the city\n",
      "Yearsimul = 2014\n",
      "DEM_extent = '801979, 174609, 804203, 176423' #lef,bottom,right,top"
     ],
     "language": "python",
     "metadata": {},
     "outputs": [],
     "prompt_number": 5
    },
    {
     "cell_type": "code",
     "collapsed": false,
     "input": [
      "environment = r'c:\\Zernez'\n",
      "locationtemp1 = r'c:\\Zernez\\temp'\n",
      "locationtemp2 = r'c:\\Zernez\\EDM.gdb\\temp'"
     ],
     "language": "python",
     "metadata": {},
     "outputs": [],
     "prompt_number": 6
    },
    {
     "cell_type": "code",
     "collapsed": false,
     "input": [
      "T_G_day['sunrise'] = 0\n",
      "T_G_day=  EDM.calc_sunrise(T_G_day,Yearsimul,timezone,longitude,latitude)"
     ],
     "language": "python",
     "metadata": {},
     "outputs": [],
     "prompt_number": 7
    },
    {
     "cell_type": "markdown",
     "metadata": {},
     "source": [
      "##Processes"
     ]
    },
    {
     "cell_type": "markdown",
     "metadata": {},
     "source": [
      "####1. Simplify buildings and create raster model for radiation analysis"
     ]
    },
    {
     "cell_type": "code",
     "collapsed": false,
     "input": [
      "# Define local variables  - Outputs\n",
      "Simple_CQ = locationtemp2+'\\\\'+'Simple_CQ'\n",
      "Simple_context = locationtemp2+'\\\\'+'Simple_context'\n",
      "DEMfinal = locationtemp1+'\\\\'+'DEM_All2'"
     ],
     "language": "python",
     "metadata": {},
     "outputs": [],
     "prompt_number": 9
    },
    {
     "cell_type": "code",
     "collapsed": false,
     "input": [
      "# Simplify buildings of the cityquarter and of the context\n",
      "arcpy.SimplifyBuilding_cartography(CQ,Simple_CQ,simplification_tolerance=8, minimum_area=None)"
     ],
     "language": "python",
     "metadata": {},
     "outputs": [
      {
       "metadata": {},
       "output_type": "pyout",
       "prompt_number": 10,
       "text": [
        "<Result 'c:\\\\Zernez\\\\EDM.gdb\\\\temp\\\\Simple_CQ'>"
       ]
      }
     ],
     "prompt_number": 10
    },
    {
     "cell_type": "code",
     "collapsed": false,
     "input": [
      "arcpy.SimplifyBuilding_cartography(context,Simple_context,simplification_tolerance=8, minimum_area=None)"
     ],
     "language": "python",
     "metadata": {},
     "outputs": [
      {
       "metadata": {},
       "output_type": "pyout",
       "prompt_number": 11,
       "text": [
        "<Result 'c:\\\\Zernez\\\\EDM.gdb\\\\temp\\\\Simple_context'>"
       ]
      }
     ],
     "prompt_number": 11
    },
    {
     "cell_type": "code",
     "collapsed": false,
     "input": [
      "# Burn buildings of the context into the DEM model\n",
      "EDM.Burn(Simple_context,DEM,DEMfinal,locationtemp1,locationtemp2,database,DEM_extent)"
     ],
     "language": "python",
     "metadata": {},
     "outputs": [
      {
       "metadata": {},
       "output_type": "pyout",
       "prompt_number": 12,
       "text": [
        "u'Succeeded at Wed Jan 14 11:54:07 2015 (Elapsed Time: 1.27 seconds)'"
       ]
      }
     ],
     "prompt_number": 12
    },
    {
     "cell_type": "markdown",
     "metadata": {},
     "source": [
      "####2. Calculate boundaries of buildings and derive factorheight and FactorShade."
     ]
    },
    {
     "cell_type": "code",
     "collapsed": false,
     "input": [
      "# Define local variables  - Outputs\n",
      "DataFactorsBoundaries = locationtemp1+'\\\\'+'DataFactorsBoundaries.csv'\n",
      "DataFactorsCentroids = locationtemp1+'\\\\'+'DataFactorsCentroids.csv'"
     ],
     "language": "python",
     "metadata": {},
     "outputs": [],
     "prompt_number": 13
    },
    {
     "cell_type": "code",
     "collapsed": false,
     "input": [
      "EDM.CalcBoundaries(Simple_CQ, locationtemp1, locationtemp2, DataFactorsCentroids, DataFactorsBoundaries)"
     ],
     "language": "python",
     "metadata": {},
     "outputs": [
      {
       "metadata": {},
       "output_type": "pyout",
       "prompt_number": 14,
       "text": [
        "u'Executing: TableToTable c:\\\\Zernez\\\\EDM.gdb\\\\temp\\\\CQSegmentCentro c:\\\\Zernez\\\\temp CentroidCQdata.dbf # \"FID_Simple \"FID_Simple_CQ\" true true false 4 Long 0 0 ,First,#,c:\\\\Zernez\\\\EDM.gdb\\\\temp\\\\CQSegmentCentro,FID_Simple_CQ,-1,-1;height \"height\" true true false 8 Double 0 0 ,First,#,c:\\\\Zernez\\\\EDM.gdb\\\\temp\\\\CQSegmentCentro,height,-1,-1;Name \"Name\" true true false 50 Text 0 0 ,First,#,c:\\\\Zernez\\\\EDM.gdb\\\\temp\\\\CQSegmentCentro,Name,-1,-1;Year \"Year\" true true false 8 Double 0 0 ,First,#,c:\\\\Zernez\\\\EDM.gdb\\\\temp\\\\CQSegmentCentro,Year,-1,-1;Retrofit \"Retrofit\" true true false 8 Double 0 0 ,First,#,c:\\\\Zernez\\\\EDM.gdb\\\\temp\\\\CQSegmentCentro,Retrofit,-1,-1;Renovated \"Renovated\" true true false 8 Double 0 0 ,First,#,c:\\\\Zernez\\\\EDM.gdb\\\\temp\\\\CQSegmentCentro,Renovated,-1,-1;Floors \"Floors\" true true false 8 Double 0 0 ,First,#,c:\\\\Zernez\\\\EDM.gdb\\\\temp\\\\CQSegmentCentro,Floors,-1,-1;Hs \"Hs\" true true false 8 Double 0 0 ,First,#,c:\\\\Zernez\\\\EDM.gdb\\\\temp\\\\CQSegmentCentro,Hs,-1,-1;fwindow \"fwindow\" true true false 8 Double 0 0 ,First,#,c:\\\\Zernez\\\\EDM.gdb\\\\temp\\\\CQSegmentCentro,fwindow,-1,-1;ADMIN \"ADMIN\" true true false 8 Double 0 0 ,First,#,c:\\\\Zernez\\\\EDM.gdb\\\\temp\\\\CQSegmentCentro,ADMIN,-1,-1;MDU \"MDU\" true true false 8 Double 0 0 ,First,#,c:\\\\Zernez\\\\EDM.gdb\\\\temp\\\\CQSegmentCentro,MDU,-1,-1;SDU \"SDU\" true true false 8 Double 0 0 ,First,#,c:\\\\Zernez\\\\EDM.gdb\\\\temp\\\\CQSegmentCentro,SDU,-1,-1;COM \"COM\" true true false 8 Double 0 0 ,First,#,c:\\\\Zernez\\\\EDM.gdb\\\\temp\\\\CQSegmentCentro,COM,-1,-1;HOT \"HOT\" true true false 8 Double 0 0 ,First,#,c:\\\\Zernez\\\\EDM.gdb\\\\temp\\\\CQSegmentCentro,HOT,-1,-1;EDU \"EDU\" true true false 8 Double 0 0 ,First,#,c:\\\\Zernez\\\\EDM.gdb\\\\temp\\\\CQSegmentCentro,EDU,-1,-1;REST \"REST\" true true false 8 Double 0 0 ,First,#,c:\\\\Zernez\\\\EDM.gdb\\\\temp\\\\CQSegmentCentro,REST,-1,-1;RESTS \"RESTS\" true true false 8 Double 0 0 ,First,#,c:\\\\Zernez\\\\EDM.gdb\\\\temp\\\\CQSegmentCentro,RESTS,-1,-1;SUPER \"SUPER\" true true false 8 Double 0 0 ,First,#,c:\\\\Zernez\\\\EDM.gdb\\\\temp\\\\CQSegmentCentro,SUPER,-1,-1;PUBLIC \"PUBLIC\" true true false 8 Double 0 0 ,First,#,c:\\\\Zernez\\\\EDM.gdb\\\\temp\\\\CQSegmentCentro,PUBLIC,-1,-1;SPORT \"SPORT\" true true false 8 Double 0 0 ,First,#,c:\\\\Zernez\\\\EDM.gdb\\\\temp\\\\CQSegmentCentro,SPORT,-1,-1;SWIM \"SWIM\" true true false 8 Double 0 0 ,First,#,c:\\\\Zernez\\\\EDM.gdb\\\\temp\\\\CQSegmentCentro,SWIM,-1,-1;SR \"SR\" true true false 8 Double 0 0 ,First,#,c:\\\\Zernez\\\\EDM.gdb\\\\temp\\\\CQSegmentCentro,SR,-1,-1;CR \"CR\" true true false 8 Double 0 0 ,First,#,c:\\\\Zernez\\\\EDM.gdb\\\\temp\\\\CQSegmentCentro,CR,-1,-1;ICE \"ICE\" true true false 8 Double 0 0 ,First,#,c:\\\\Zernez\\\\EDM.gdb\\\\temp\\\\CQSegmentCentro,ICE,-1,-1;HEALTH \"HEALTH\" true true false 8 Double 0 0 ,First,#,c:\\\\Zernez\\\\EDM.gdb\\\\temp\\\\CQSegmentCentro,HEALTH,-1,-1;DEPO \"DEPO\" true true false 8 Double 0 0 ,First,#,c:\\\\Zernez\\\\EDM.gdb\\\\temp\\\\CQSegmentCentro,DEPO,-1,-1;INDUS \"INDUS\" true true false 8 Double 0 0 ,First,#,c:\\\\Zernez\\\\EDM.gdb\\\\temp\\\\CQSegmentCentro,INDUS,-1,-1;MBG_Width \"MBG_Width\" true true false 8 Double 0 0 ,First,#,c:\\\\Zernez\\\\EDM.gdb\\\\temp\\\\CQSegmentCentro,MBG_Width,-1,-1;MBG_Length \"MBG_Length\" true true false 8 Double 0 0 ,First,#,c:\\\\Zernez\\\\EDM.gdb\\\\temp\\\\CQSegmentCentro,MBG_Length,-1,-1;PFloor \"PFloor\" true true false 2 Short 0 0 ,First,#,c:\\\\Zernez\\\\EDM.gdb\\\\temp\\\\CQSegmentCentro,PFloor,-1,-1;Shading_Ty \"Shading_Type\" true true false 8 Double 0 0 ,First,#,c:\\\\Zernez\\\\EDM.gdb\\\\temp\\\\CQSegmentCentro,Shading_Type,-1,-1;Shading_Po \"Shading_Position\" true true false 2 Short 0 0 ,First,#,c:\\\\Zernez\\\\EDM.gdb\\\\temp\\\\CQSegmentCentro,Shading_Position,-1,-1;InBld_FID \"InBld_FID\" true true false 4 Long 0 0 ,First,#,c:\\\\Zernez\\\\EDM.gdb\\\\temp\\\\CQSegmentCentro,InBld_FID,-1,-1;BLD_STATUS \"BLD_STATUS\" true true false 4 Long 0 0 ,First,#,c:\\\\Zernez\\\\EDM.gdb\\\\temp\\\\CQSegmentCentro,BLD_STATUS,-1,-1;ORIG_FID \"ORIG_FID\" true true false 4 Long 0 0 ,First,#,c:\\\\Zernez\\\\EDM.gdb\\\\temp\\\\CQSegmentCentro,ORIG_FID,-1,-1\" #\\nStart Time: Wed Jan 14 11:54:26 2015\\nSucceeded at Wed Jan 14 11:54:26 2015 (Elapsed Time: 0.21 seconds)'"
       ]
      }
     ],
     "prompt_number": 14
    },
    {
     "cell_type": "markdown",
     "metadata": {},
     "source": [
      "####3. Calculate observation points eliminating any overlap of those boundaries"
     ]
    },
    {
     "cell_type": "code",
     "collapsed": false,
     "input": [
      "# Local variables\n",
      "Observers = locationtemp2+'\\\\'+'observers'"
     ],
     "language": "python",
     "metadata": {},
     "outputs": [],
     "prompt_number": 15
    },
    {
     "cell_type": "code",
     "collapsed": false,
     "input": [
      "EDM.CalcObservers(Simple_CQ, Observers, DataFactorsBoundaries, locationtemp2, environment)"
     ],
     "language": "python",
     "metadata": {},
     "outputs": [
      {
       "output_type": "stream",
       "stream": "stderr",
       "text": [
        "EDMFunctions.py:1325: SettingWithCopyWarning: A value is trying to be set on a copy of a slice from a DataFrame\n",
        "  rows = CleanDataNear.Name_x.count()\n"
       ]
      },
      {
       "metadata": {},
       "output_type": "pyout",
       "prompt_number": 16,
       "text": [
        "u'Executing: CopyFeatures c:\\\\Zernez\\\\EDM.gdb\\\\temp\\\\observers0 c:\\\\Zernez\\\\EDM.gdb\\\\temp\\\\observers # 0 0 0\\nStart Time: Wed Jan 14 11:55:46 2015\\nSucceeded at Wed Jan 14 11:55:48 2015 (Elapsed Time: 1.15 seconds)'"
       ]
      }
     ],
     "prompt_number": 16
    },
    {
     "cell_type": "markdown",
     "metadata": {},
     "source": [
      "#### 4. Calculate radiation - in parallel"
     ]
    },
    {
     "cell_type": "code",
     "collapsed": false,
     "input": [
      "from IPython.parallel import Client # Create Parallel modules nd star the 8 cores\n",
      "client = Client()\n",
      "lview = client.load_balanced_view()\n",
      "lview.block = True\n",
      "dview = client[:]\n",
      "dview.push({'Scenario':Scenario, 'T_G_day':T_G_day, 'latitude':latitude, 'locationfinal':locationfinal,\n",
      "            'longitude':longitude, 'timezone': timezone,'DEMfinal':DEMfinal,'Observers':Observers})\n",
      "%px import sys\n",
      "%px if r'C:\\Console\\EDM' not in sys.path: sys.path.append(r'C:\\Console\\EDM')\n",
      "%px import EDMFunctions as EDM\n"
     ],
     "language": "python",
     "metadata": {},
     "outputs": [],
     "prompt_number": 17
    },
    {
     "cell_type": "code",
     "collapsed": false,
     "input": [
      "@lview.parallel()\n",
      "def radiation(day):\n",
      "    aspect_slope = \"FROM_DEM\"\n",
      "    heightoffset = 1\n",
      "    return EDM.CalcRadiation(day, Scenario, DEMfinal, Observers, T_G_day, latitude, locationfinal, aspect_slope, heightoffset)"
     ],
     "language": "python",
     "metadata": {},
     "outputs": [],
     "prompt_number": 19
    },
    {
     "cell_type": "code",
     "collapsed": false,
     "input": [
      "radiation.map(range(350,351))"
     ],
     "language": "python",
     "metadata": {},
     "outputs": [
      {
       "metadata": {},
       "output_type": "pyout",
       "prompt_number": 24,
       "text": [
        "[u'Executing: PointsSolarRadiation c:\\\\Zernez\\\\temp\\\\dem_all2 c:\\\\Zernez\\\\EDM.gdb\\\\temp\\\\observers c:\\\\Zernez\\\\EDMdata\\\\DataFinal\\\\RM\\\\SQ\\\\Zone_1\\\\Radiation_faces\\\\Day_350.shp 1 46.9524055556 1800 \"WithinDay  350 0 24\" 1 1 INTERVAL 1 FROM_DEM 32 1200 160 STANDARD_OVERCAST_SKY 0.706948410311 0.293051589689 # # #\\nStart Time: Wed Jan 14 12:10:36 2015\\nSucceeded at Wed Jan 14 12:10:38 2015 (Elapsed Time: 2.46 seconds)']"
       ]
      }
     ],
     "prompt_number": 24
    },
    {
     "cell_type": "code",
     "collapsed": false,
     "input": [
      "@lview.parallel()\n",
      "#run the transformation of files in parallel - appending all and adding non-sunshine hours\n",
      "def radiationday(day):\n",
      "    return EDM.calc_radiationday(day,T_G_day, locationfinal)"
     ],
     "language": "python",
     "metadata": {},
     "outputs": [],
     "prompt_number": 21
    },
    {
     "cell_type": "code",
     "collapsed": false,
     "input": [
      "radiations = radiationday.map(range(1,366))"
     ],
     "language": "python",
     "metadata": {},
     "outputs": [],
     "prompt_number": 25
    },
    {
     "cell_type": "code",
     "collapsed": false,
     "input": [
      "Radiationyear = radiations[0]\n",
      "for r in radiations[1:]:\n",
      "    Radiationyear = Radiationyear.merge(r, on='ID',how='outer')\n",
      "Radiationyear.fillna(value=0,inplace=True)\n",
      "Radiationyear.to_csv(locationfinal+'\\\\'+'RadiationYear.csv',Index=False)\n",
      "print 'Complete!'"
     ],
     "language": "python",
     "metadata": {},
     "outputs": [
      {
       "output_type": "stream",
       "stream": "stdout",
       "text": [
        "Complete!\n"
       ]
      }
     ],
     "prompt_number": 50
    },
    {
     "cell_type": "markdown",
     "metadata": {},
     "source": [
      "###5. Assign ratiation to every surface of the buildings\n",
      "####ATTENTION: to run this the boundaries and observers have to be re run first if they have not been"
     ]
    },
    {
     "cell_type": "code",
     "collapsed": false,
     "input": [
      "# local variables\n",
      "DataradiationLocation = locationfinal+'\\\\'+'RadiationYear.csv'\n",
      "Radiationyearfinal = locationfinal+'\\\\'+'RadiationYearFinal.csv'"
     ],
     "language": "python",
     "metadata": {},
     "outputs": [],
     "prompt_number": 81
    },
    {
     "cell_type": "code",
     "collapsed": false,
     "input": [
      "reload(EDM)"
     ],
     "language": "python",
     "metadata": {},
     "outputs": [
      {
       "metadata": {},
       "output_type": "pyout",
       "prompt_number": 85,
       "text": [
        "<module 'EDMFunctions' from 'EDMFunctions.py'>"
       ]
      }
     ],
     "prompt_number": 85
    },
    {
     "cell_type": "code",
     "collapsed": false,
     "input": [
      "EDM.CalcRadiationSurfaces(Observers,Radiationyearfinal, DataFactorsCentroids, DataradiationLocation,  locationtemp1, locationtemp2)"
     ],
     "language": "python",
     "metadata": {},
     "outputs": [
      {
       "metadata": {},
       "output_type": "pyout",
       "prompt_number": 86,
       "text": [
        "u'Executing: TableToTable c:\\\\Zernez\\\\EDM.gdb\\\\temp\\\\Join c:\\\\Zernez\\\\temp CentroidsIDobserv.dbf # \"Join_Count \"Join_Count\" true true false 4 Long 0 0 ,First,#,c:\\\\Zernez\\\\EDM.gdb\\\\temp\\\\Join,Join_Count,-1,-1;TARGET_FID \"TARGET_FID\" true true false 4 Long 0 0 ,First,#,c:\\\\Zernez\\\\EDM.gdb\\\\temp\\\\Join,TARGET_FID,-1,-1;FID_Simple \"FID_Simple_CQ\" true true false 4 Long 0 0 ,First,#,c:\\\\Zernez\\\\EDM.gdb\\\\temp\\\\Join,FID_Simple_CQ,-1,-1;height \"height\" true true false 8 Double 0 0 ,First,#,c:\\\\Zernez\\\\EDM.gdb\\\\temp\\\\Join,height,-1,-1;Name \"Name\" true true false 50 Text 0 0 ,First,#,c:\\\\Zernez\\\\EDM.gdb\\\\temp\\\\Join,Name,-1,-1;Year \"Year\" true true false 8 Double 0 0 ,First,#,c:\\\\Zernez\\\\EDM.gdb\\\\temp\\\\Join,Year,-1,-1;Retrofit \"Retrofit\" true true false 8 Double 0 0 ,First,#,c:\\\\Zernez\\\\EDM.gdb\\\\temp\\\\Join,Retrofit,-1,-1;Renovated \"Renovated\" true true false 8 Double 0 0 ,First,#,c:\\\\Zernez\\\\EDM.gdb\\\\temp\\\\Join,Renovated,-1,-1;Floors \"Floors\" true true false 8 Double 0 0 ,First,#,c:\\\\Zernez\\\\EDM.gdb\\\\temp\\\\Join,Floors,-1,-1;Hs \"Hs\" true true false 8 Double 0 0 ,First,#,c:\\\\Zernez\\\\EDM.gdb\\\\temp\\\\Join,Hs,-1,-1;fwindow \"fwindow\" true true false 8 Double 0 0 ,First,#,c:\\\\Zernez\\\\EDM.gdb\\\\temp\\\\Join,fwindow,-1,-1;ADMIN \"ADMIN\" true true false 8 Double 0 0 ,First,#,c:\\\\Zernez\\\\EDM.gdb\\\\temp\\\\Join,ADMIN,-1,-1;MDU \"MDU\" true true false 8 Double 0 0 ,First,#,c:\\\\Zernez\\\\EDM.gdb\\\\temp\\\\Join,MDU,-1,-1;SDU \"SDU\" true true false 8 Double 0 0 ,First,#,c:\\\\Zernez\\\\EDM.gdb\\\\temp\\\\Join,SDU,-1,-1;COM \"COM\" true true false 8 Double 0 0 ,First,#,c:\\\\Zernez\\\\EDM.gdb\\\\temp\\\\Join,COM,-1,-1;HOT \"HOT\" true true false 8 Double 0 0 ,First,#,c:\\\\Zernez\\\\EDM.gdb\\\\temp\\\\Join,HOT,-1,-1;EDU \"EDU\" true true false 8 Double 0 0 ,First,#,c:\\\\Zernez\\\\EDM.gdb\\\\temp\\\\Join,EDU,-1,-1;REST \"REST\" true true false 8 Double 0 0 ,First,#,c:\\\\Zernez\\\\EDM.gdb\\\\temp\\\\Join,REST,-1,-1;RESTS \"RESTS\" true true false 8 Double 0 0 ,First,#,c:\\\\Zernez\\\\EDM.gdb\\\\temp\\\\Join,RESTS,-1,-1;SUPER \"SUPER\" true true false 8 Double 0 0 ,First,#,c:\\\\Zernez\\\\EDM.gdb\\\\temp\\\\Join,SUPER,-1,-1;PUBLIC \"PUBLIC\" true true false 8 Double 0 0 ,First,#,c:\\\\Zernez\\\\EDM.gdb\\\\temp\\\\Join,PUBLIC,-1,-1;SPORT \"SPORT\" true true false 8 Double 0 0 ,First,#,c:\\\\Zernez\\\\EDM.gdb\\\\temp\\\\Join,SPORT,-1,-1;SWIM \"SWIM\" true true false 8 Double 0 0 ,First,#,c:\\\\Zernez\\\\EDM.gdb\\\\temp\\\\Join,SWIM,-1,-1;SR \"SR\" true true false 8 Double 0 0 ,First,#,c:\\\\Zernez\\\\EDM.gdb\\\\temp\\\\Join,SR,-1,-1;CR \"CR\" true true false 8 Double 0 0 ,First,#,c:\\\\Zernez\\\\EDM.gdb\\\\temp\\\\Join,CR,-1,-1;ICE \"ICE\" true true false 8 Double 0 0 ,First,#,c:\\\\Zernez\\\\EDM.gdb\\\\temp\\\\Join,ICE,-1,-1;HEALTH \"HEALTH\" true true false 8 Double 0 0 ,First,#,c:\\\\Zernez\\\\EDM.gdb\\\\temp\\\\Join,HEALTH,-1,-1;DEPO \"DEPO\" true true false 8 Double 0 0 ,First,#,c:\\\\Zernez\\\\EDM.gdb\\\\temp\\\\Join,DEPO,-1,-1;INDUS \"INDUS\" true true false 8 Double 0 0 ,First,#,c:\\\\Zernez\\\\EDM.gdb\\\\temp\\\\Join,INDUS,-1,-1;MBG_Width \"MBG_Width\" true true false 8 Double 0 0 ,First,#,c:\\\\Zernez\\\\EDM.gdb\\\\temp\\\\Join,MBG_Width,-1,-1;MBG_Length \"MBG_Length\" true true false 8 Double 0 0 ,First,#,c:\\\\Zernez\\\\EDM.gdb\\\\temp\\\\Join,MBG_Length,-1,-1;PFloor \"PFloor\" true true false 2 Short 0 0 ,First,#,c:\\\\Zernez\\\\EDM.gdb\\\\temp\\\\Join,PFloor,-1,-1;Shading_Ty \"Shading_Type\" true true false 8 Double 0 0 ,First,#,c:\\\\Zernez\\\\EDM.gdb\\\\temp\\\\Join,Shading_Type,-1,-1;Shading_Po \"Shading_Position\" true true false 2 Short 0 0 ,First,#,c:\\\\Zernez\\\\EDM.gdb\\\\temp\\\\Join,Shading_Position,-1,-1;InBld_FID \"InBld_FID\" true true false 4 Long 0 0 ,First,#,c:\\\\Zernez\\\\EDM.gdb\\\\temp\\\\Join,InBld_FID,-1,-1;BLD_STATUS \"BLD_STATUS\" true true false 4 Long 0 0 ,First,#,c:\\\\Zernez\\\\EDM.gdb\\\\temp\\\\Join,BLD_STATUS,-1,-1;ORIG_FID \"ORIG_FID\" true true false 4 Long 0 0 ,First,#,c:\\\\Zernez\\\\EDM.gdb\\\\temp\\\\Join,ORIG_FID,-1,-1;Name_1 \"Name\" true true false 50 Text 0 0 ,First,#,c:\\\\Zernez\\\\EDM.gdb\\\\temp\\\\Join,Name_1,-1,-1;InBld_FID_ \"InBld_FID\" true true false 4 Long 0 0 ,First,#,c:\\\\Zernez\\\\EDM.gdb\\\\temp\\\\Join,InBld_FID_1,-1,-1;BLD_STAT_1 \"BLD_STATUS\" true true false 4 Long 0 0 ,First,#,c:\\\\Zernez\\\\EDM.gdb\\\\temp\\\\Join,BLD_STATUS_1,-1,-1;ORIG_FID_1 \"ORIG_FID\" true true false 4 Long 0 0 ,First,#,c:\\\\Zernez\\\\EDM.gdb\\\\temp\\\\Join,ORIG_FID_1,-1,-1;Join_Cou_1 \"Join_Count\" true true false 4 Long 0 0 ,First,#,c:\\\\Zernez\\\\EDM.gdb\\\\temp\\\\Join,Join_Count_1,-1,-1;TARGET_F_1 \"TARGET_FID\" true true false 4 Long 0 0 ,First,#,c:\\\\Zernez\\\\EDM.gdb\\\\temp\\\\Join,TARGET_FID_1,-1,-1;FID_Simp_1 \"FID_Simple_CQ\" true true false 4 Long 0 0 ,First,#,c:\\\\Zernez\\\\EDM.gdb\\\\temp\\\\Join,FID_Simple_CQ_1,-1,-1;height_1 \"height\" true true false 8 Double 0 0 ,First,#,c:\\\\Zernez\\\\EDM.gdb\\\\temp\\\\Join,height_1,-1,-1;Name_12 \"Name\" true true false 50 Text 0 0 ,First,#,c:\\\\Zernez\\\\EDM.gdb\\\\temp\\\\Join,Name_12,-1,-1;Year_1 \"Year\" true true false 8 Double 0 0 ,First,#,c:\\\\Zernez\\\\EDM.gdb\\\\temp\\\\Join,Year_1,-1,-1;Retrofit_1 \"Retrofit\" true true false 8 Double 0 0 ,First,#,c:\\\\Zernez\\\\EDM.gdb\\\\temp\\\\Join,Retrofit_1,-1,-1;Renovated_ \"Renovated\" true true false 8 Double 0 0 ,First,#,c:\\\\Zernez\\\\EDM.gdb\\\\temp\\\\Join,Renovated_1,-1,-1;Floors_1 \"Floors\" true true false 8 Double 0 0 ,First,#,c:\\\\Zernez\\\\EDM.gdb\\\\temp\\\\Join,Floors_1,-1,-1;Hs_1 \"Hs\" true true false 8 Double 0 0 ,First,#,c:\\\\Zernez\\\\EDM.gdb\\\\temp\\\\Join,Hs_1,-1,-1;fwindow_1 \"fwindow\" true true false 8 Double 0 0 ,First,#,c:\\\\Zernez\\\\EDM.gdb\\\\temp\\\\Join,fwindow_1,-1,-1;ADMIN_1 \"ADMIN\" true true false 8 Double 0 0 ,First,#,c:\\\\Zernez\\\\EDM.gdb\\\\temp\\\\Join,ADMIN_1,-1,-1;MDU_1 \"MDU\" true true false 8 Double 0 0 ,First,#,c:\\\\Zernez\\\\EDM.gdb\\\\temp\\\\Join,MDU_1,-1,-1;SDU_1 \"SDU\" true true false 8 Double 0 0 ,First,#,c:\\\\Zernez\\\\EDM.gdb\\\\temp\\\\Join,SDU_1,-1,-1;COM_1 \"COM\" true true false 8 Double 0 0 ,First,#,c:\\\\Zernez\\\\EDM.gdb\\\\temp\\\\Join,COM_1,-1,-1;HOT_1 \"HOT\" true true false 8 Double 0 0 ,First,#,c:\\\\Zernez\\\\EDM.gdb\\\\temp\\\\Join,HOT_1,-1,-1;EDU_1 \"EDU\" true true false 8 Double 0 0 ,First,#,c:\\\\Zernez\\\\EDM.gdb\\\\temp\\\\Join,EDU_1,-1,-1;REST_1 \"REST\" true true false 8 Double 0 0 ,First,#,c:\\\\Zernez\\\\EDM.gdb\\\\temp\\\\Join,REST_1,-1,-1;RESTS_1 \"RESTS\" true true false 8 Double 0 0 ,First,#,c:\\\\Zernez\\\\EDM.gdb\\\\temp\\\\Join,RESTS_1,-1,-1;SUPER_1 \"SUPER\" true true false 8 Double 0 0 ,First,#,c:\\\\Zernez\\\\EDM.gdb\\\\temp\\\\Join,SUPER_1,-1,-1;PUBLIC_1 \"PUBLIC\" true true false 8 Double 0 0 ,First,#,c:\\\\Zernez\\\\EDM.gdb\\\\temp\\\\Join,PUBLIC_1,-1,-1;SPORT_1 \"SPORT\" true true false 8 Double 0 0 ,First,#,c:\\\\Zernez\\\\EDM.gdb\\\\temp\\\\Join,SPORT_1,-1,-1;SWIM_1 \"SWIM\" true true false 8 Double 0 0 ,First,#,c:\\\\Zernez\\\\EDM.gdb\\\\temp\\\\Join,SWIM_1,-1,-1;SR_1 \"SR\" true true false 8 Double 0 0 ,First,#,c:\\\\Zernez\\\\EDM.gdb\\\\temp\\\\Join,SR_1,-1,-1;CR_1 \"CR\" true true false 8 Double 0 0 ,First,#,c:\\\\Zernez\\\\EDM.gdb\\\\temp\\\\Join,CR_1,-1,-1;ICE_1 \"ICE\" true true false 8 Double 0 0 ,First,#,c:\\\\Zernez\\\\EDM.gdb\\\\temp\\\\Join,ICE_1,-1,-1;HEALTH_1 \"HEALTH\" true true false 8 Double 0 0 ,First,#,c:\\\\Zernez\\\\EDM.gdb\\\\temp\\\\Join,HEALTH_1,-1,-1;DEPO_1 \"DEPO\" true true false 8 Double 0 0 ,First,#,c:\\\\Zernez\\\\EDM.gdb\\\\temp\\\\Join,DEPO_1,-1,-1;INDUS_1 \"INDUS\" true true false 8 Double 0 0 ,First,#,c:\\\\Zernez\\\\EDM.gdb\\\\temp\\\\Join,INDUS_1,-1,-1;MBG_Width_ \"MBG_Width\" true true false 8 Double 0 0 ,First,#,c:\\\\Zernez\\\\EDM.gdb\\\\temp\\\\Join,MBG_Width_1,-1,-1;MBG_Leng_1 \"MBG_Length\" true true false 8 Double 0 0 ,First,#,c:\\\\Zernez\\\\EDM.gdb\\\\temp\\\\Join,MBG_Length_1,-1,-1;PFloor_1 \"PFloor\" true true false 2 Short 0 0 ,First,#,c:\\\\Zernez\\\\EDM.gdb\\\\temp\\\\Join,PFloor_1,-1,-1;Shading__1 \"Shading_Type\" true true false 8 Double 0 0 ,First,#,c:\\\\Zernez\\\\EDM.gdb\\\\temp\\\\Join,Shading_Type_1,-1,-1;Shading__2 \"Shading_Position\" true true false 2 Short 0 0 ,First,#,c:\\\\Zernez\\\\EDM.gdb\\\\temp\\\\Join,Shading_Position_1,-1,-1;InBld_FID1 \"InBld_FID\" true true false 4 Long 0 0 ,First,#,c:\\\\Zernez\\\\EDM.gdb\\\\temp\\\\Join,InBld_FID_12,-1,-1;BLD_STAT_2 \"BLD_STATUS\" true true false 4 Long 0 0 ,First,#,c:\\\\Zernez\\\\EDM.gdb\\\\temp\\\\Join,BLD_STATUS_12,-1,-1;Shape_Leng \"Shape_Leng\" false true true 8 Double 0 0 ,First,#,c:\\\\Zernez\\\\EDM.gdb\\\\temp\\\\Join,Shape_Length,-1,-1\" #\\nStart Time: Wed Jan 14 14:41:56 2015\\nSucceeded at Wed Jan 14 14:41:57 2015 (Elapsed Time: 0.14 seconds)'"
       ]
      }
     ],
     "prompt_number": 86
    }
   ],
   "metadata": {}
  }
 ]
}
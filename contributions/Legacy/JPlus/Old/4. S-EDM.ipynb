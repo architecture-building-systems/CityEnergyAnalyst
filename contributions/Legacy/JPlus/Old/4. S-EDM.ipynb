{
 "metadata": {
  "name": "4. S-EDM"
 },
 "nbformat": 3,
 "nbformat_minor": 0,
 "worksheets": [
  {
   "cells": [
    {
     "cell_type": "markdown",
     "metadata": {},
     "source": [
      "#Statistical Energy demand model (S-EDM)\n",
      "##Introduction\n",
      "\n",
      "This energy demand model is based on the assignment of statistical energy intensity values in buildings. This values are categorized according to occupancy and year of construction. the data has been obtained from a survey of 10000 buildings in the city of Geneva and adopted to the conditions of the case study as necessary.\n"
     ]
    },
    {
     "cell_type": "markdown",
     "metadata": {},
     "source": [
      "###MODULES"
     ]
    },
    {
     "cell_type": "code",
     "collapsed": false,
     "input": [
      "import pandas as pd\n",
      "import arcpy\n",
      "arcpy.env.workspace = 'c:\\ArcGIS\\EDM.gdb'\n",
      "arcpy.env.overwriteOutput = True\n",
      "arcpy.CheckOutExtension(\"spatial\")"
     ],
     "language": "python",
     "metadata": {},
     "outputs": [
      {
       "output_type": "pyout",
       "prompt_number": 94,
       "text": [
        "u'CheckedOut'"
       ]
      }
     ],
     "prompt_number": 94
    },
    {
     "cell_type": "code",
     "collapsed": false,
     "input": [
      "import sys, os\n",
      "sys.path.append(\"C:\\Users\\Jimeno Fonseca\\Documents\\Console\\sandbox\")\n",
      "from pyGDsandbox.dataIO import df2dbf, dbf2df "
     ],
     "language": "python",
     "metadata": {},
     "outputs": [],
     "prompt_number": 95
    },
    {
     "cell_type": "markdown",
     "metadata": {},
     "source": [
      "###VARIABLES"
     ]
    },
    {
     "cell_type": "code",
     "collapsed": false,
     "input": [
      "CQ_name = 'CityQuarter_6'\n",
      "CQ = r'c:\\ArcGIS\\EDM.gdb\\Communities'+'\\\\'+CQ_name"
     ],
     "language": "python",
     "metadata": {},
     "outputs": [],
     "prompt_number": 103
    },
    {
     "cell_type": "code",
     "collapsed": false,
     "input": [
      "Statistical_database = pd.ExcelFile('c:\\ArcGIS\\EDMdata\\DataRaw\\Statistical Model.xls')\n",
      "Model = pd.ExcelFile.parse(Statistical_database, 'Values')\n",
      "Scenario = 'StatusQuo'"
     ],
     "language": "python",
     "metadata": {},
     "outputs": [],
     "prompt_number": 104
    },
    {
     "cell_type": "code",
     "collapsed": false,
     "input": [
      "Properties = pd.ExcelFile('c:\\ArcGIS\\EDMdata\\DataRaw\\Statistical Model.xls')"
     ],
     "language": "python",
     "metadata": {},
     "outputs": []
    },
    {
     "cell_type": "code",
     "collapsed": false,
     "input": [
      "results = r'C:\\ArcGIS\\EDMdata\\DataFinal\\SEDM'+'\\\\'+Scenario"
     ],
     "language": "python",
     "metadata": {},
     "outputs": [],
     "prompt_number": 105
    },
    {
     "cell_type": "code",
     "collapsed": false,
     "input": [
      "locationtemp1 = r'c:\\ArcGIS\\temp'\n",
      "locationtemp2 = r'c:\\ArcGIS\\EDM.gdb\\temp'"
     ],
     "language": "python",
     "metadata": {},
     "outputs": [],
     "prompt_number": 106
    },
    {
     "cell_type": "markdown",
     "metadata": {},
     "source": [
      "###FUNCTIONS"
     ]
    },
    {
     "cell_type": "markdown",
     "metadata": {},
     "source": [
      "As the values in the statistical model are codified according to a secuence of 1, 2, 3, 4 and 5, a function has to be define to codify in the same therms the Database, a new filed (YearCAt) is assigned to the Database"
     ]
    },
    {
     "cell_type": "code",
     "collapsed": false,
     "input": [
      "def YearCategoryFunction(x,y):\n",
      "    if x <= 1920:\n",
      "        #Database['Qh'] = Database.ADMIN.value * Model.\n",
      "        result = '1'\n",
      "    elif x > 1920 and x <= 1970:\n",
      "        result = '2'\n",
      "    elif x > 1970 and x <= 1980:\n",
      "        result = '3'\n",
      "    elif x > 1980 and x <= 2000:\n",
      "        result = '4'\n",
      "    elif x > 2000 and x <= 2020:\n",
      "        result = '5'\n",
      "    elif x > 2020:\n",
      "        result = '6'\n",
      "        \n",
      "    if x <= 1920 and y=='Yes':\n",
      "        result = '7'\n",
      "    elif 1920 < x <= 1970 and y=='Yes':\n",
      "        result = '8'\n",
      "    elif 1970 < x <= 1980 and y=='Yes':\n",
      "        result = '9'\n",
      "    elif 1980 < x <= 2000 and y=='Yes':\n",
      "        result = '10'\n",
      "    \n",
      "    return result"
     ],
     "language": "python",
     "metadata": {},
     "outputs": [],
     "prompt_number": 108
    },
    {
     "cell_type": "markdown",
     "metadata": {},
     "source": [
      "###PROCESS"
     ]
    },
    {
     "cell_type": "markdown",
     "metadata": {},
     "source": [
      "Set directory to save the results"
     ]
    },
    {
     "cell_type": "code",
     "collapsed": false,
     "input": [
      "# set temporal directories\n",
      "if not os.path.exists(Route+'\\\\'+CQ_name):\n",
      "    os.makedirs(Route+'\\\\'+CQ_name)"
     ],
     "language": "python",
     "metadata": {},
     "outputs": [],
     "prompt_number": 109
    },
    {
     "cell_type": "markdown",
     "metadata": {},
     "source": [
      "Create the table or database of the CQ to generate the values"
     ]
    },
    {
     "cell_type": "code",
     "collapsed": false,
     "input": [
      "OutTable = 'Database.dbf'\n",
      "arcpy.TableToTable_conversion(CQ, locationtemp1, OutTable)\n",
      "Database = dbf2df(locationtemp1+'\\\\'+OutTable)"
     ],
     "language": "python",
     "metadata": {},
     "outputs": [],
     "prompt_number": 110
    },
    {
     "cell_type": "code",
     "collapsed": false,
     "input": [
      "Database['YearCat'] = Database.apply(lambda x: YearCategoryFunction(x['Year'], x['Renovated']), axis=1)"
     ],
     "language": "python",
     "metadata": {},
     "outputs": [],
     "prompt_number": 111
    },
    {
     "cell_type": "markdown",
     "metadata": {},
     "source": [
      "The database is unpivoted and the YearCAt field is added "
     ]
    },
    {
     "cell_type": "code",
     "collapsed": false,
     "input": [
      "DatabaseUnpivoted = pd.melt(Database, id_vars=('Name','Shape_Area','YearCat','Hs','Floors'))"
     ],
     "language": "python",
     "metadata": {},
     "outputs": [],
     "prompt_number": 112
    },
    {
     "cell_type": "code",
     "collapsed": false,
     "input": [
      "rows = DatabaseUnpivoted.variable.count()\n",
      "if Servers ==0:\n",
      "    for r in range(rows):\n",
      "        if DatabaseUnpivoted.loc[r,'variable'] == 'SR':\n",
      "            DatabaseUnpivoted.loc[r,'variable'] = 'ADMIN'"
     ],
     "language": "python",
     "metadata": {},
     "outputs": [],
     "prompt_number": 113
    },
    {
     "cell_type": "code",
     "collapsed": false,
     "input": [
      "DatabaseUnpivoted['CODE'] = DatabaseUnpivoted.variable + DatabaseUnpivoted.YearCat\n",
      "DatabaseUnpivoted.head()"
     ],
     "language": "python",
     "metadata": {},
     "outputs": [
      {
       "html": [
        "<div style=\"max-height:1000px;max-width:1500px;overflow:auto;\">\n",
        "<table border=\"1\" class=\"dataframe\">\n",
        "  <thead>\n",
        "    <tr style=\"text-align: right;\">\n",
        "      <th></th>\n",
        "      <th>Name</th>\n",
        "      <th>Shape_Area</th>\n",
        "      <th>YearCat</th>\n",
        "      <th>Hs</th>\n",
        "      <th>Floors</th>\n",
        "      <th>variable</th>\n",
        "      <th>value</th>\n",
        "      <th>CODE</th>\n",
        "    </tr>\n",
        "  </thead>\n",
        "  <tbody>\n",
        "    <tr>\n",
        "      <th>0</th>\n",
        "      <td> 25n</td>\n",
        "      <td> 1046.867241</td>\n",
        "      <td> 5</td>\n",
        "      <td> 0.9</td>\n",
        "      <td>  7</td>\n",
        "      <td> ADMIN</td>\n",
        "      <td> 0</td>\n",
        "      <td> ADMIN5</td>\n",
        "    </tr>\n",
        "    <tr>\n",
        "      <th>1</th>\n",
        "      <td> 26n</td>\n",
        "      <td>  441.050268</td>\n",
        "      <td> 5</td>\n",
        "      <td> 0.9</td>\n",
        "      <td> 12</td>\n",
        "      <td> ADMIN</td>\n",
        "      <td> 0</td>\n",
        "      <td> ADMIN5</td>\n",
        "    </tr>\n",
        "    <tr>\n",
        "      <th>2</th>\n",
        "      <td> 27n</td>\n",
        "      <td> 1046.867241</td>\n",
        "      <td> 5</td>\n",
        "      <td> 0.9</td>\n",
        "      <td>  7</td>\n",
        "      <td> ADMIN</td>\n",
        "      <td> 0</td>\n",
        "      <td> ADMIN5</td>\n",
        "    </tr>\n",
        "    <tr>\n",
        "      <th>3</th>\n",
        "      <td> 28n</td>\n",
        "      <td>  441.050268</td>\n",
        "      <td> 5</td>\n",
        "      <td> 0.9</td>\n",
        "      <td> 12</td>\n",
        "      <td> ADMIN</td>\n",
        "      <td> 0</td>\n",
        "      <td> ADMIN5</td>\n",
        "    </tr>\n",
        "    <tr>\n",
        "      <th>4</th>\n",
        "      <td> 29n</td>\n",
        "      <td>  439.713836</td>\n",
        "      <td> 5</td>\n",
        "      <td> 0.9</td>\n",
        "      <td> 12</td>\n",
        "      <td> ADMIN</td>\n",
        "      <td> 0</td>\n",
        "      <td> ADMIN5</td>\n",
        "    </tr>\n",
        "  </tbody>\n",
        "</table>\n",
        "</div>"
       ],
       "output_type": "pyout",
       "prompt_number": 114,
       "text": [
        "  Name   Shape_Area YearCat   Hs  Floors variable value    CODE\n",
        "0  25n  1046.867241       5  0.9       7    ADMIN     0  ADMIN5\n",
        "1  26n   441.050268       5  0.9      12    ADMIN     0  ADMIN5\n",
        "2  27n  1046.867241       5  0.9       7    ADMIN     0  ADMIN5\n",
        "3  28n   441.050268       5  0.9      12    ADMIN     0  ADMIN5\n",
        "4  29n   439.713836       5  0.9      12    ADMIN     0  ADMIN5"
       ]
      }
     ],
     "prompt_number": 114
    },
    {
     "cell_type": "markdown",
     "metadata": {},
     "source": [
      "Now both Database with the new codification is merged or joined to the values of the Statistical model"
     ]
    },
    {
     "cell_type": "code",
     "collapsed": false,
     "input": [
      "DatabaseModelMerge = pd.merge(DatabaseUnpivoted, Model, left_on='CODE', right_on='Code')"
     ],
     "language": "python",
     "metadata": {},
     "outputs": [],
     "prompt_number": 115
    },
    {
     "cell_type": "markdown",
     "metadata": {},
     "source": [
      "Now the values are created. as all the intensity values are described in MJ/m2. they are transformed into MWh, Heated space is assumed as an overall 90% of the gross area according to the standard SIA, unless it is known (Siemens buildings and surroundings, Obtained during visual inspection a report of the area Grafenau)"
     ]
    },
    {
     "cell_type": "code",
     "collapsed": false,
     "input": [
      "DatabaseModelMerge['Qh'] = DatabaseModelMerge.value * DatabaseModelMerge.Shape_Area * DatabaseModelMerge.Floors * DatabaseModelMerge.Hs* DatabaseModelMerge.qhf_kWhm2/1000\n",
      "DatabaseModelMerge['Qww'] = DatabaseModelMerge.value * DatabaseModelMerge.Shape_Area * DatabaseModelMerge.Floors * DatabaseModelMerge.Hs* DatabaseModelMerge.qwwf_kWhm2/1000\n",
      "DatabaseModelMerge['Qc'] = DatabaseModelMerge.value * DatabaseModelMerge.Shape_Area * DatabaseModelMerge.Floors * DatabaseModelMerge.Hs* DatabaseModelMerge.qcf_kWhm2/1000\n",
      "DatabaseModelMerge['E'] = DatabaseModelMerge.value * DatabaseModelMerge.Shape_Area * DatabaseModelMerge.Floors * DatabaseModelMerge.Hs* DatabaseModelMerge.Ef_kWhm2/1000"
     ],
     "language": "python",
     "metadata": {},
     "outputs": [],
     "prompt_number": 116
    },
    {
     "cell_type": "markdown",
     "metadata": {},
     "source": [
      "Pivoting the new table and summing rows"
     ]
    },
    {
     "cell_type": "code",
     "collapsed": false,
     "input": [
      "#Pivoting\n",
      "BuildingQhMatrix = pd.pivot_table(DatabaseModelMerge, values='Qh', rows='Name', cols='CODE', aggfunc='sum', margins='add all rows')\n",
      "BuildingQwwMatrix = pd.pivot_table(DatabaseModelMerge, values='Qww', rows='Name', cols='CODE', aggfunc='sum', margins='add all rows')\n",
      "BuildingQcMatrix = pd.pivot_table(DatabaseModelMerge, values='Qc', rows='Name', cols='CODE', aggfunc='sum', margins='add all rows')\n",
      "BuildingEMatrix = pd.pivot_table(DatabaseModelMerge, values='E', rows='Name', cols='CODE', aggfunc='sum', margins='add all rows')"
     ],
     "language": "python",
     "metadata": {},
     "outputs": [],
     "prompt_number": 118
    },
    {
     "cell_type": "markdown",
     "metadata": {},
     "source": [
      "Results for the city of Modeled- statistical data"
     ]
    },
    {
     "cell_type": "code",
     "collapsed": false,
     "input": [
      "Total = pd.DataFrame({'Qh_MWh': BuildingQhMatrix['All'],'Qww_MWh': BuildingQwwMatrix['All'],'Qc_MWh': BuildingQcMatrix['All'],'E_MWh': BuildingEMatrix['All']})"
     ],
     "language": "python",
     "metadata": {},
     "outputs": [],
     "prompt_number": 119
    },
    {
     "cell_type": "code",
     "collapsed": false,
     "input": [
      "Total['Qhw_MWh'] = Total['Qh_MWh'] + Total['Qww_MWh']\n",
      "Total['Source'] = 'Modeled_Statistics'"
     ],
     "language": "python",
     "metadata": {},
     "outputs": [],
     "prompt_number": 122
    },
    {
     "cell_type": "code",
     "collapsed": false,
     "input": [
      "Total.to_csv(Route+'\\\\'+CQ_name+'\\\\'+'Total.csv', sheet_name='Values')"
     ],
     "language": "python",
     "metadata": {},
     "outputs": [],
     "prompt_number": 123
    },
    {
     "cell_type": "markdown",
     "metadata": {},
     "source": [
      "Updating results from the City according to More specific data available in different zones of the City"
     ]
    },
    {
     "cell_type": "code",
     "collapsed": false,
     "input": [
      "r = pd.ExcelFile('c:\\ArcGIS\\EDM\\DataFinal\\City.xls')\n",
      "City = pd.ExcelFile.parse(r,'Values')\n",
      "Z = pd.ExcelFile('c:\\ArcGIS\\EDM\\DataFinal\\Zones.xls')\n",
      "Zones = pd.ExcelFile.parse(Z,'Values')"
     ],
     "language": "python",
     "metadata": {},
     "outputs": [
      {
       "ename": "IOError",
       "evalue": "[Errno 2] No such file or directory: 'c:\\\\ArcGIS\\\\EDM\\\\DataFinal\\\\City.xls'",
       "output_type": "pyerr",
       "traceback": [
        "\u001b[1;31m---------------------------------------------------------------------------\u001b[0m\n\u001b[1;31mIOError\u001b[0m                                   Traceback (most recent call last)",
        "\u001b[1;32m<ipython-input-46-d5defc5f56d7>\u001b[0m in \u001b[0;36m<module>\u001b[1;34m()\u001b[0m\n\u001b[1;32m----> 1\u001b[1;33m \u001b[0mr\u001b[0m \u001b[1;33m=\u001b[0m \u001b[0mpd\u001b[0m\u001b[1;33m.\u001b[0m\u001b[0mExcelFile\u001b[0m\u001b[1;33m(\u001b[0m\u001b[1;34m'c:\\ArcGIS\\EDM\\DataFinal\\City.xls'\u001b[0m\u001b[1;33m)\u001b[0m\u001b[1;33m\u001b[0m\u001b[0m\n\u001b[0m\u001b[0;32m      2\u001b[0m \u001b[0mCity\u001b[0m \u001b[1;33m=\u001b[0m \u001b[0mpd\u001b[0m\u001b[1;33m.\u001b[0m\u001b[0mExcelFile\u001b[0m\u001b[1;33m.\u001b[0m\u001b[0mparse\u001b[0m\u001b[1;33m(\u001b[0m\u001b[0mr\u001b[0m\u001b[1;33m,\u001b[0m\u001b[1;34m'Values'\u001b[0m\u001b[1;33m)\u001b[0m\u001b[1;33m\u001b[0m\u001b[0m\n\u001b[0;32m      3\u001b[0m \u001b[0mZ\u001b[0m \u001b[1;33m=\u001b[0m \u001b[0mpd\u001b[0m\u001b[1;33m.\u001b[0m\u001b[0mExcelFile\u001b[0m\u001b[1;33m(\u001b[0m\u001b[1;34m'c:\\ArcGIS\\EDM\\DataFinal\\Zones.xls'\u001b[0m\u001b[1;33m)\u001b[0m\u001b[1;33m\u001b[0m\u001b[0m\n\u001b[0;32m      4\u001b[0m \u001b[0mZones\u001b[0m \u001b[1;33m=\u001b[0m \u001b[0mpd\u001b[0m\u001b[1;33m.\u001b[0m\u001b[0mExcelFile\u001b[0m\u001b[1;33m.\u001b[0m\u001b[0mparse\u001b[0m\u001b[1;33m(\u001b[0m\u001b[0mZ\u001b[0m\u001b[1;33m,\u001b[0m\u001b[1;34m'Values'\u001b[0m\u001b[1;33m)\u001b[0m\u001b[1;33m\u001b[0m\u001b[0m\n",
        "\u001b[1;32mC:\\Python27\\ArcGISx6410.1\\lib\\site-packages\\pandas\\io\\parsers.pyc\u001b[0m in \u001b[0;36m__init__\u001b[1;34m(self, path_or_buf, kind)\u001b[0m\n\u001b[0;32m   1834\u001b[0m                 \u001b[0mself\u001b[0m\u001b[1;33m.\u001b[0m\u001b[0muse_xlsx\u001b[0m \u001b[1;33m=\u001b[0m \u001b[0mFalse\u001b[0m\u001b[1;33m\u001b[0m\u001b[0m\n\u001b[0;32m   1835\u001b[0m                 \u001b[1;32mimport\u001b[0m \u001b[0mxlrd\u001b[0m\u001b[1;33m\u001b[0m\u001b[0m\n\u001b[1;32m-> 1836\u001b[1;33m                 \u001b[0mself\u001b[0m\u001b[1;33m.\u001b[0m\u001b[0mbook\u001b[0m \u001b[1;33m=\u001b[0m \u001b[0mxlrd\u001b[0m\u001b[1;33m.\u001b[0m\u001b[0mopen_workbook\u001b[0m\u001b[1;33m(\u001b[0m\u001b[0mpath_or_buf\u001b[0m\u001b[1;33m)\u001b[0m\u001b[1;33m\u001b[0m\u001b[0m\n\u001b[0m\u001b[0;32m   1837\u001b[0m             \u001b[1;32melse\u001b[0m\u001b[1;33m:\u001b[0m\u001b[1;33m\u001b[0m\u001b[0m\n\u001b[0;32m   1838\u001b[0m                 \u001b[0mself\u001b[0m\u001b[1;33m.\u001b[0m\u001b[0muse_xlsx\u001b[0m \u001b[1;33m=\u001b[0m \u001b[0mTrue\u001b[0m\u001b[1;33m\u001b[0m\u001b[0m\n",
        "\u001b[1;32mC:\\Python27\\ArcGISx6410.1\\lib\\site-packages\\xlrd\\__init__.pyc\u001b[0m in \u001b[0;36mopen_workbook\u001b[1;34m(filename, logfile, verbosity, use_mmap, file_contents, encoding_override, formatting_info, on_demand, ragged_rows)\u001b[0m\n\u001b[0;32m    392\u001b[0m         \u001b[0mpeek\u001b[0m \u001b[1;33m=\u001b[0m \u001b[0mfile_contents\u001b[0m\u001b[1;33m[\u001b[0m\u001b[1;33m:\u001b[0m\u001b[0mpeeksz\u001b[0m\u001b[1;33m]\u001b[0m\u001b[1;33m\u001b[0m\u001b[0m\n\u001b[0;32m    393\u001b[0m     \u001b[1;32melse\u001b[0m\u001b[1;33m:\u001b[0m\u001b[1;33m\u001b[0m\u001b[0m\n\u001b[1;32m--> 394\u001b[1;33m         \u001b[0mf\u001b[0m \u001b[1;33m=\u001b[0m \u001b[0mopen\u001b[0m\u001b[1;33m(\u001b[0m\u001b[0mfilename\u001b[0m\u001b[1;33m,\u001b[0m \u001b[1;34m\"rb\"\u001b[0m\u001b[1;33m)\u001b[0m\u001b[1;33m\u001b[0m\u001b[0m\n\u001b[0m\u001b[0;32m    395\u001b[0m         \u001b[0mpeek\u001b[0m \u001b[1;33m=\u001b[0m \u001b[0mf\u001b[0m\u001b[1;33m.\u001b[0m\u001b[0mread\u001b[0m\u001b[1;33m(\u001b[0m\u001b[0mpeeksz\u001b[0m\u001b[1;33m)\u001b[0m\u001b[1;33m\u001b[0m\u001b[0m\n\u001b[0;32m    396\u001b[0m         \u001b[0mf\u001b[0m\u001b[1;33m.\u001b[0m\u001b[0mclose\u001b[0m\u001b[1;33m(\u001b[0m\u001b[1;33m)\u001b[0m\u001b[1;33m\u001b[0m\u001b[0m\n",
        "\u001b[1;31mIOError\u001b[0m: [Errno 2] No such file or directory: 'c:\\\\ArcGIS\\\\EDM\\\\DataFinal\\\\City.xls'"
       ]
      }
     ],
     "prompt_number": 46
    },
    {
     "cell_type": "code",
     "collapsed": false,
     "input": [
      "# the index has to be redifined\n",
      "City2 = City.set_index('Name')\n",
      "Zones2 = Zones.set_index('Name')"
     ],
     "language": "python",
     "metadata": {},
     "outputs": [],
     "prompt_number": 15
    },
    {
     "cell_type": "code",
     "collapsed": false,
     "input": [
      "City2.update(Zones2)"
     ],
     "language": "python",
     "metadata": {},
     "outputs": [],
     "prompt_number": 16
    },
    {
     "cell_type": "markdown",
     "metadata": {},
     "source": [
      "The results are appended to the values of Siemens' the main community of analysis"
     ]
    },
    {
     "cell_type": "code",
     "collapsed": false,
     "input": [
      "S = pd.ExcelFile('c:\\ArcGIS\\EDM\\DataFinal\\Siemens.xls')\n",
      "Siemens = pd.ExcelFile.parse(S,'Values')\n",
      "Siemens2 = Siemens.set_index('Name')"
     ],
     "language": "python",
     "metadata": {},
     "outputs": [],
     "prompt_number": 17
    },
    {
     "cell_type": "code",
     "collapsed": false,
     "input": [
      "Result = City2.append(Siemens2)"
     ],
     "language": "python",
     "metadata": {},
     "outputs": [],
     "prompt_number": 18
    },
    {
     "cell_type": "code",
     "collapsed": false,
     "input": [
      "Result.to_excel('c:\\ArcGIS\\EDM\\DataFinal\\City.xls', sheet_name='Values')"
     ],
     "language": "python",
     "metadata": {},
     "outputs": [],
     "prompt_number": 19
    },
    {
     "cell_type": "markdown",
     "metadata": {},
     "source": [
      "MODEL ONLY SIEMENS VALUES"
     ]
    },
    {
     "cell_type": "code",
     "collapsed": false,
     "input": [
      "Total.to_excel('c:\\ArcGIS\\EDM\\DataFinal\\CiTYZERO.xls', sheet_name='Values')"
     ],
     "language": "python",
     "metadata": {},
     "outputs": [],
     "prompt_number": 20
    },
    {
     "cell_type": "code",
     "collapsed": false,
     "input": [
      "Siemens = pd.ExcelFile.parse(S,'Totals')\n",
      "Siemens3 = Siemens.set_index('Name')\n",
      "r = pd.ExcelFile('c:\\ArcGIS\\EDM\\DataFinal\\CityZERO.xls')\n",
      "CityZERO = pd.ExcelFile.parse(r,'Values')"
     ],
     "language": "python",
     "metadata": {},
     "outputs": [],
     "prompt_number": 21
    },
    {
     "cell_type": "code",
     "collapsed": false,
     "input": [
      "CityZERO2 = CityZERO.set_index('Name')\n",
      "CityZERO2['Qh_MWh']=0\n",
      "CityZERO2['Qww_MWh']=0\n",
      "CityZERO2['Qhw_MWh']=0\n",
      "CityZERO2['Qc_MWh']=0\n",
      "CityZERO2['Qe_MWh']=0\n",
      "CityZERO2['QT_MWh']=0\n",
      "CityZERO2['Qe_MWh']=0\n",
      "CityZERO2['E_MWh']=0\n",
      "CityZERO2['RH_MWh']=0\n",
      "CityZERO2['DHW_MWh']=0\n",
      "CityZERO2['H_MWh']=0\n",
      "CityZERO2['PH_MWh']=0\n",
      "CityZERO2['RC_MWh']=0\n",
      "CityZERO2['PC_MWh']=0\n",
      "CityZERO2['SC_MWh']=0\n",
      "CityZERO2['SE_MWh']=0\n",
      "CityZERO2['V_MWh']=0\n",
      "CityZERO2['IE_MWh']=0\n",
      "CityZERO2['CA_MWh']=0\n",
      "CityZERO2['NG_MWh']=0\n",
      "CityZERO2['AL_MWh']=0"
     ],
     "language": "python",
     "metadata": {},
     "outputs": [],
     "prompt_number": 22
    },
    {
     "cell_type": "code",
     "collapsed": false,
     "input": [
      "Result2 = CityZERO2.append(Siemens3)"
     ],
     "language": "python",
     "metadata": {},
     "outputs": [],
     "prompt_number": 23
    },
    {
     "cell_type": "code",
     "collapsed": false,
     "input": [
      "Result2.to_excel('c:\\ArcGIS\\EDM\\DataFinal\\CityZERO.xls')"
     ],
     "language": "python",
     "metadata": {},
     "outputs": [],
     "prompt_number": 24
    }
   ],
   "metadata": {}
  }
 ]
}
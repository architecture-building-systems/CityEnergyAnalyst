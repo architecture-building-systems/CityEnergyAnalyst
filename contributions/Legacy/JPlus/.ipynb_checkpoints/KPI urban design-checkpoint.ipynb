{
 "metadata": {
  "name": "",
  "signature": "sha256:5c0cb62279ff5ec716f6fc0788165764920b54c8031f4dce9f1d6ea3af509f3b"
 },
 "nbformat": 3,
 "nbformat_minor": 0,
 "worksheets": [
  {
   "cells": [
    {
     "cell_type": "heading",
     "level": 4,
     "metadata": {},
     "source": [
      "This routine calculates diverse factors refering to the quality of an urban design:\n",
      "- FSI:\n",
      "- EBF:\n",
      "- MXI:\n",
      "- GFA:"
     ]
    },
    {
     "cell_type": "code",
     "collapsed": false,
     "input": [
      "from __future__ import division\n",
      "from math import *\n",
      "import arcpy\n",
      "import sys,os\n",
      "import numpy as np\n",
      "import pandas as pd\n",
      "sys.path.append(\"C:\\console\\sandbox\")\n",
      "from pyGDsandbox.dataIO import df2dbf, dbf2df \n",
      "arcpy.env.overwriteOutput = True\n",
      "arcpy.CheckOutExtension(\"spatial\")\n",
      "import EDMFunctions as EDM"
     ],
     "language": "python",
     "metadata": {},
     "outputs": [],
     "prompt_number": 91
    },
    {
     "cell_type": "code",
     "collapsed": false,
     "input": [
      "#list of inputs\n",
      "Zone_of_study = 4\n",
      "Area_parcels = 118797\n",
      "Scenarios = ['SQ','BAU','CAMP','HEB','UC']"
     ],
     "language": "python",
     "metadata": {},
     "outputs": [],
     "prompt_number": 92
    },
    {
     "cell_type": "code",
     "collapsed": false,
     "input": [
      "MXI = []\n",
      "FSI = []\n",
      "LUMI_U = []\n",
      "LUMI_T = []\n",
      "N_typ = []\n",
      "for scenario in Scenarios: \n",
      "    locationFinal = r'C:\\Arcgis\\EDMdata\\DataFinal\\UD'\n",
      "    Database = \"C:\\Arcgis\\EDM.gdb\"\n",
      "    locationtemp1 = r'c:\\Arcgis\\temp'\n",
      "    CQ = Database+\"\\\\\"+scenario+\"\\\\\"+scenario+\"Zone_\"+str(Zone_of_study)\n",
      "    #Create the table or database of the CQ to generate the values\n",
      "    \n",
      "    OutTable = 'Database.dbf'\n",
      "    arcpy.TableToTable_conversion(CQ, locationtemp1, OutTable)\n",
      "    Database = dbf2df(locationtemp1+'\\\\'+OutTable)\n",
      "    Database['GFA'] = Database.Shape_Area*Database.Floors\n",
      "\n",
      "    # The MXI only measures the fraction of residential area over all other built uses.\n",
      "    uses = ['MDU','SDU']\n",
      "    area_per_use = []\n",
      "    for use in uses:\n",
      "        area_per_use.append((Database[use]*Database['GFA']))\n",
      "    MXI.append(np.sum(area_per_use)/Database['GFA'].sum()*100)    \n",
      "    \n",
      "    # the FSI measures the relation of total GFA vs the parcel area or in this case the district area.    \n",
      "    FSI.append(Database['GFA'].sum()/Area_parcels)\n",
      "    \n",
      "    # The LUMI measures homogeoneyty based on the shanon entropy formula for N number of uses\n",
      "    Residential = ['MDU','SDU']\n",
      "\n",
      "    Working = ['ADMIN','SR', 'INDUS']\n",
      "\n",
      "    Leisure = ['REST','RESTS','DEPO','COM','EDU','CR','HEALTH','SPORT',\n",
      "              'SWIM','PUBLIC','SUPER','ICE','HOT']\n",
      "\n",
      "    residential_use = []\n",
      "    working_use = []\n",
      "    Leisure_use = []\n",
      "    for use in Residential:\n",
      "        residential_use.append((Database[use]*Database['GFA']))\n",
      "    for use in Working:\n",
      "        working_use.append((Database[use]*Database['GFA']))\n",
      "    for use in Leisure:\n",
      "        Leisure_use.append((Database[use]*Database['GFA']))  \n",
      "\n",
      "    r = np.sum(residential_use)\n",
      "    w = np.sum(working_use)\n",
      "    l = np.sum(Leisure_use)\n",
      "    t = r + w +l\n",
      "    if r/t ==0:\n",
      "        r = 0.00000000001\n",
      "    if w/t ==0:\n",
      "        w = 0.00000000001\n",
      "    if l/t ==0:\n",
      "        l = 0.00000000001\n",
      "    LUMI_U.append(-((r/t*math.log(r/t))+(w/t*math.log(w/t))+(l/t*math.log(l/t)))/math.log(3))\n",
      "    \n",
      "    # The LUMI measures homogeoneyty based on the shanon entropy formula for N number of typologies\n",
      "    Database['Type'] = EDM.Calc_MainUse(Database)\n",
      "    Database['YearCat'] = Database.apply(lambda x: EDM.YearCategoryFunction(x['Year'],x['Retrofit']), axis=1)\n",
      "    Database['typology'] = Database.Type + Database.YearCat\n",
      "    typologies_list = Database.groupby('typology').sum()\n",
      "    \n",
      "    N_t = typologies_list.Shape_Area.count()\n",
      "    N_typ.append(N_t)\n",
      "    tot = typologies_list.Shape_Area.sum()\n",
      "    LUMI_T.append(-sum([(i/tot)*math.log(i/tot) for i in areas.Shape_Area])/math.log(17))"
     ],
     "language": "python",
     "metadata": {},
     "outputs": [],
     "prompt_number": 98
    },
    {
     "cell_type": "code",
     "collapsed": false,
     "input": [
      "N_typ"
     ],
     "language": "python",
     "metadata": {},
     "outputs": [
      {
       "metadata": {},
       "output_type": "pyout",
       "prompt_number": 101,
       "text": [
        "[7, 9, 12, 7, 17]"
       ]
      }
     ],
     "prompt_number": 101
    },
    {
     "cell_type": "code",
     "collapsed": false,
     "input": [
      "LUMI_T"
     ],
     "language": "python",
     "metadata": {},
     "outputs": [
      {
       "metadata": {},
       "output_type": "pyout",
       "prompt_number": 99,
       "text": [
        "[0.91801332924485823,\n",
        " 0.90168143218288921,\n",
        " 0.82210561652882952,\n",
        " 1.0499352821379517,\n",
        " 0.85002771621329598]"
       ]
      }
     ],
     "prompt_number": 99
    },
    {
     "cell_type": "code",
     "collapsed": false,
     "input": [
      "areas.Shape_Area"
     ],
     "language": "python",
     "metadata": {},
     "outputs": [
      {
       "metadata": {},
       "output_type": "pyout",
       "prompt_number": 102,
       "text": [
        "typology\n",
        "ADMIN2       1681.752227\n",
        "ADMIN5       5410.246364\n",
        "COM11        1249.998501\n",
        "COM5         1514.201958\n",
        "EDU11        2910.382327\n",
        "EDU5         1049.998505\n",
        "HEALTH5      1200.249622\n",
        "HOT11        1016.163325\n",
        "INDUS11      1245.840706\n",
        "INDUS2       4819.559245\n",
        "MDU11        3699.672075\n",
        "MDU5        14986.758551\n",
        "PUBLIC5      2220.803043\n",
        "REST5         449.999299\n",
        "RESTS5       2638.521703\n",
        "SDU5          599.998314\n",
        "SUPER11      3337.411358\n",
        "Name: Shape_Area, dtype: float64"
       ]
      }
     ],
     "prompt_number": 102
    },
    {
     "cell_type": "code",
     "collapsed": false,
     "input": [],
     "language": "python",
     "metadata": {},
     "outputs": []
    }
   ],
   "metadata": {}
  }
 ]
}
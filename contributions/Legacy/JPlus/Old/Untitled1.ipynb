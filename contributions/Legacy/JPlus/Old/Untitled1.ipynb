{
 "metadata": {
  "name": "Untitled1"
 },
 "nbformat": 3,
 "nbformat_minor": 0,
 "worksheets": [
  {
   "cells": [
    {
     "cell_type": "code",
     "collapsed": false,
     "input": [
      "from __future__ import division\n",
      "import scipy\n",
      "from scipy.optimize import brentq\n",
      "import numpy as np"
     ],
     "language": "python",
     "metadata": {},
     "outputs": [],
     "prompt_number": 2
    },
    {
     "cell_type": "code",
     "collapsed": false,
     "input": [
      "\n",
      "\n",
      "\n",
      "\n",
      "\n",
      "SystemH ='Radiator'"
     ],
     "language": "python",
     "metadata": {},
     "outputs": [],
     "prompt_number": 135
    },
    {
     "cell_type": "code",
     "collapsed": false,
     "input": [
      "#Equation desccribing the phenomena HEATING SYSTEM after Girardin et al and model of TRNSYS 361 - constant flow temperature\n",
      "if SystemH == 'Air conditioning':\n",
      "    delta_ta = 3.5 #target temperature of supply for air conditioning systems difference\n",
      "    mCa0 = Q0/delta_ta\n",
      "    zero = 1\n",
      "else:\n",
      "    mCa0 = 1\n",
      "    zero =0\n",
      "UA0 = Q0/(tsh0-trh0)/scipy.log((tsh0-tair0)/(trh0-tair0))\n",
      "tm0 = (tsh0+trh0)/2\n",
      "mCw0 = Q0/(tsh0-trh0)\n",
      "k1 = 1/mCw0-1/mCa0*zero\n",
      "k2 = Q0*k1\n",
      "k3 = UA0*k1\n",
      "k4 = Q/mCw0"
     ],
     "language": "python",
     "metadata": {},
     "outputs": [],
     "prompt_number": 182
    },
    {
     "cell_type": "code",
     "collapsed": false,
     "input": [
      "mCa0 = 1\n",
      "zero =0\n",
      "Q0 = 376334\n",
      "Q = 376334\n",
      "tsh0 = 35+273\n",
      "trh0 = 15+273\n",
      "tair0 = 22+273\n",
      "tm0 = (tsh0+trh0)/2\n",
      "nh = 0.33\n",
      "tair = 22\n",
      "d = (tsh0-trh0)/scipy.log((tsh0-tair0)/(trh0-tair0))\n",
      "delta = d.real\n",
      "UA0 = Q0/delta\n",
      "mCw0 = Q0/(tsh0-trh0)\n",
      "def f(x):\n",
      "    k1 = 1/mCw0-1/mCa0*zero\n",
      "    k2 = Q0*k1\n",
      "    k3 = UA0/mCw0\n",
      "    k4 = Q/mCw0\n",
      "    Eq = tair + -x + k4/(1-scipy.exp(k3*((x+k4/2)/tm0)**nh))\n",
      "    return Eq"
     ],
     "language": "python",
     "metadata": {},
     "outputs": [],
     "prompt_number": 301
    },
    {
     "cell_type": "code",
     "collapsed": false,
     "input": [],
     "language": "python",
     "metadata": {},
     "outputs": [],
     "prompt_number": 301
    },
    {
     "cell_type": "code",
     "collapsed": false,
     "input": [
      "r = scipy.optimize.newton(f, 300).real\n",
      "r"
     ],
     "language": "python",
     "metadata": {},
     "outputs": [
      {
       "output_type": "pyout",
       "prompt_number": 306,
       "text": [
        "21.992805314209448"
       ]
      }
     ],
     "prompt_number": 306
    },
    {
     "cell_type": "code",
     "collapsed": false,
     "input": [
      "s = r + k4\n",
      "s"
     ],
     "language": "python",
     "metadata": {},
     "outputs": [
      {
       "output_type": "pyout",
       "prompt_number": 305,
       "text": [
        "41.992805315683952"
       ]
      }
     ],
     "prompt_number": 305
    },
    {
     "cell_type": "markdown",
     "metadata": {},
     "source": [
      "option 2"
     ]
    },
    {
     "cell_type": "code",
     "collapsed": false,
     "input": [
      "Q0 = 376334\n",
      "Q = 376134\n",
      "k4 = Q/mCw0\n",
      "def f(x): \n",
      "    d = (tsh0-trh0)/scipy.log((tsh0-tair0)/(trh0-tair0))\n",
      "    delta0 = d.real\n",
      "    Eq = mCw0*(k4)-Q0*(k4/(scipy.log((x+k4-tair)/(x-tair))*delta0))**1.33\n",
      "    return Eq"
     ],
     "language": "python",
     "metadata": {},
     "outputs": [],
     "prompt_number": 525
    },
    {
     "cell_type": "code",
     "collapsed": false,
     "input": [
      "r = scipy.optimize.newton(f, 300)"
     ],
     "language": "python",
     "metadata": {},
     "outputs": [],
     "prompt_number": 526
    },
    {
     "cell_type": "code",
     "collapsed": false,
     "input": [
      "r-273"
     ],
     "language": "python",
     "metadata": {},
     "outputs": [
      {
       "output_type": "pyout",
       "prompt_number": 530,
       "text": [
        "49.98989476904535"
       ]
      }
     ],
     "prompt_number": 530
    },
    {
     "cell_type": "code",
     "collapsed": false,
     "input": [
      "s = r + k4\n",
      "s-273"
     ],
     "language": "python",
     "metadata": {},
     "outputs": [
      {
       "output_type": "pyout",
       "prompt_number": 528,
       "text": [
        "69.979265912763424"
       ]
      }
     ],
     "prompt_number": 528
    },
    {
     "cell_type": "markdown",
     "metadata": {},
     "source": [
      "Option 3"
     ]
    },
    {
     "cell_type": "code",
     "collapsed": false,
     "input": [
      "tsh0 = 7+273\n",
      "trh0 = 12+273\n",
      "tair0 = 24+273\n",
      "nh = 0.33\n",
      "tair = 24+273\n",
      "delta_ta = 3.5 #target temperature of supply for air conditioning systems difference\n",
      "mCw0 = Q0/(tsh0-trh0)\n",
      "mCa0 = Q0/delta_ta\n",
      "Q0 = -80071\n",
      "Q = -80071\n",
      "k4 = Q*(1/mCw0-1/mCa0)\n",
      "def f(x): \n",
      "    d = (tsh0-trh0)/scipy.log((tsh0-tair0)/(trh0-tair0))\n",
      "    delta0 = d.real\n",
      "    Eq = (mCw0)*(k4)-Q0*(k4/(scipy.log((x+k4-tair)/(x-tair))*delta0))**1.3\n",
      "    return Eq"
     ],
     "language": "python",
     "metadata": {},
     "outputs": [],
     "prompt_number": 740
    },
    {
     "cell_type": "code",
     "collapsed": false,
     "input": [
      "r = scipy.optimize.newton(f, trh0)\n",
      "r-273"
     ],
     "language": "python",
     "metadata": {},
     "outputs": [
      {
       "output_type": "pyout",
       "prompt_number": 741,
       "text": [
        "6.3806713965044537"
       ]
      }
     ],
     "prompt_number": 741
    },
    {
     "cell_type": "code",
     "collapsed": false,
     "input": [
      "math.pi"
     ],
     "language": "python",
     "metadata": {},
     "outputs": [
      {
       "output_type": "pyout",
       "prompt_number": 742,
       "text": [
        "3.141592653589793"
       ]
      }
     ],
     "prompt_number": 742
    },
    {
     "cell_type": "code",
     "collapsed": false,
     "input": [
      "s = r - k4\n",
      "s-273"
     ],
     "language": "python",
     "metadata": {},
     "outputs": [
      {
       "output_type": "pyout",
       "prompt_number": 743,
       "text": [
        "14.880671396504454"
       ]
      }
     ],
     "prompt_number": 743
    },
    {
     "cell_type": "code",
     "collapsed": false,
     "input": [
      "Q0 = -80071\n",
      "Q = -80071\n",
      "tsc0 = 7+273\n",
      "trc0 = 12+273\n",
      "tair0 = 24+273\n",
      "nh = 0.33\n",
      "tair = 24+273\n",
      "mCa0 = Q0/(delta_ta)\n",
      "zero = 1\n",
      "Freduction = 0.5\n",
      "\n",
      "#Equation desccribing the phenomena COOLING SYSTEM after Girardin et al and model of TRNSYS 361 - constant flow temperature\n",
      "UA0 = Freduction*Q0/(trc0-tsc0)/scipy.log((tair0-tsc0)/(tair0-trc0)) # 0.5 states for part of the area of heat excahnge not available in air conditioning\n",
      "mCw0 = Q0/(trc0-tsc0) \n",
      "k2 = 1/mCw0 - 1/mCa0*zero\n",
      "k1 = Q*k2\n",
      "k3 = UA0*k2   \n",
      "def fc(x):\n",
      "    Eq = tair-x+(k1*k2)/(1-scipy.exp(k3))\n",
      "    return Eq"
     ],
     "language": "python",
     "metadata": {},
     "outputs": [],
     "prompt_number": 145
    },
    {
     "cell_type": "code",
     "collapsed": false,
     "input": [
      "r = scipy.optimize.newton(f, 250)\n",
      "r-273"
     ],
     "language": "python",
     "metadata": {},
     "outputs": [
      {
       "output_type": "pyout",
       "prompt_number": 146,
       "text": [
        "(40.953090483866731-54.2312838450325j)"
       ]
      }
     ],
     "prompt_number": 146
    },
    {
     "cell_type": "code",
     "collapsed": false,
     "input": [
      "import pandas as pd\n",
      "CQ_name = 'CityQuarter_3'\n",
      "Scenario = 'StatusQuo'\n",
      "locationFinal = r'c:\\ArcGIS\\EDMdata\\DataFinal'+'\\\\'+'DEDM'+'\\\\'+Scenario+'\\\\'+CQ_name\n",
      "Occupancy = pd.read_csv(locationFinal+'\\\\'+'Bau 14'+'.csv',index_col='Unnamed: 0')"
     ],
     "language": "python",
     "metadata": {},
     "outputs": [],
     "prompt_number": 5
    },
    {
     "cell_type": "code",
     "collapsed": false,
     "input": [
      "# FOR COOLING SYSTEM\n",
      "#Inputs\n",
      "tsc0 = 16\n",
      "trc0 = 20\n",
      "tsc0 = tsc0 + 273\n",
      "trc0 = trc0 + 273\n",
      "tair0 = 22+273\n",
      "tair = 22+273\n",
      "Q0 = -40538\n",
      "Q = -40538\n",
      "delta_ta = 3.5 #target temperature of supply for air conditioning systems difference\n",
      "nh =0.24\n",
      "zero = 1\n",
      "#Equation desccribing the phenomena COOLING SYSTEM after Girardin et al and model of TRNSYS 361 - constant flow temperature\n",
      "mCw0 = Q0/(tsc0-trc0) \n",
      "k1 = 1/mCw0 \n",
      "k2 = Q*k1\n",
      "def fc(x): \n",
      "    d = (tsc0-trc0)/scipy.log((tsc0-tair0)/(trc0-tair0))\n",
      "    delta0 = d.real\n",
      "    Eq = (mCw0)*(k2)-Q0*(k2/(scipy.log((x+k2-tair)/(x-tair))*delta0))**(1.24)\n",
      "    return Eq"
     ],
     "language": "python",
     "metadata": {},
     "outputs": [],
     "prompt_number": 390
    },
    {
     "cell_type": "code",
     "collapsed": false,
     "input": [
      "result =  scipy.optimize.newton_krylov(fc, 200) \n",
      "result.real-273"
     ],
     "language": "python",
     "metadata": {},
     "outputs": [
      {
       "output_type": "pyout",
       "prompt_number": 391,
       "text": [
        "20.0"
       ]
      }
     ],
     "prompt_number": 391
    },
    {
     "cell_type": "code",
     "collapsed": false,
     "input": [
      "s = result.real + k2\n",
      "s-273"
     ],
     "language": "python",
     "metadata": {},
     "outputs": [
      {
       "output_type": "pyout",
       "prompt_number": 392,
       "text": [
        "16.0"
       ]
      }
     ],
     "prompt_number": 392
    },
    {
     "cell_type": "code",
     "collapsed": false,
     "input": [
      "rows = Occupancy.Qhsf.count()\n",
      "for row in range(rows):\n",
      "    if  Occupancy.loc[row,'Qhsf'] > Q0:\n",
      "        k2 = Occupancy.loc[row,'Qhsf']*k1\n",
      "        tair = Occupancy.loc[row,'tair']+ 273\n",
      "        result =  scipy.optimize.newton_krylov(fc, 300)  \n",
      "        Occupancy.loc[row,'trh'] = result.real - 273 \n",
      "        Occupancy.loc[row,'tsh'] = Occupancy.loc[row,'trh'] + k2"
     ],
     "language": "python",
     "metadata": {},
     "outputs": [
      {
       "ename": "NoConvergence",
       "evalue": "(293-4.13226322275e-12j)",
       "output_type": "pyerr",
       "traceback": [
        "\u001b[1;31m---------------------------------------------------------------------------\u001b[0m\n\u001b[1;31mNoConvergence\u001b[0m                             Traceback (most recent call last)",
        "\u001b[1;32m<ipython-input-307-1f1822a5fc84>\u001b[0m in \u001b[0;36m<module>\u001b[1;34m()\u001b[0m\n\u001b[0;32m      4\u001b[0m         \u001b[0mk2\u001b[0m \u001b[1;33m=\u001b[0m \u001b[0mOccupancy\u001b[0m\u001b[1;33m.\u001b[0m\u001b[0mloc\u001b[0m\u001b[1;33m[\u001b[0m\u001b[0mrow\u001b[0m\u001b[1;33m,\u001b[0m\u001b[1;34m'Qhsf'\u001b[0m\u001b[1;33m]\u001b[0m\u001b[1;33m*\u001b[0m\u001b[0mk1\u001b[0m\u001b[1;33m\u001b[0m\u001b[0m\n\u001b[0;32m      5\u001b[0m         \u001b[0mtair\u001b[0m \u001b[1;33m=\u001b[0m \u001b[0mOccupancy\u001b[0m\u001b[1;33m.\u001b[0m\u001b[0mloc\u001b[0m\u001b[1;33m[\u001b[0m\u001b[0mrow\u001b[0m\u001b[1;33m,\u001b[0m\u001b[1;34m'tair'\u001b[0m\u001b[1;33m]\u001b[0m\u001b[1;33m+\u001b[0m \u001b[1;36m273\u001b[0m\u001b[1;33m\u001b[0m\u001b[0m\n\u001b[1;32m----> 6\u001b[1;33m         \u001b[0mresult\u001b[0m \u001b[1;33m=\u001b[0m  \u001b[0mscipy\u001b[0m\u001b[1;33m.\u001b[0m\u001b[0moptimize\u001b[0m\u001b[1;33m.\u001b[0m\u001b[0mnewton_krylov\u001b[0m\u001b[1;33m(\u001b[0m\u001b[0mfc\u001b[0m\u001b[1;33m,\u001b[0m \u001b[1;36m300\u001b[0m\u001b[1;33m)\u001b[0m\u001b[1;33m\u001b[0m\u001b[0m\n\u001b[0m\u001b[0;32m      7\u001b[0m         \u001b[0mOccupancy\u001b[0m\u001b[1;33m.\u001b[0m\u001b[0mloc\u001b[0m\u001b[1;33m[\u001b[0m\u001b[0mrow\u001b[0m\u001b[1;33m,\u001b[0m\u001b[1;34m'trh'\u001b[0m\u001b[1;33m]\u001b[0m \u001b[1;33m=\u001b[0m \u001b[0mresult\u001b[0m\u001b[1;33m.\u001b[0m\u001b[0mreal\u001b[0m \u001b[1;33m-\u001b[0m \u001b[1;36m273\u001b[0m\u001b[1;33m\u001b[0m\u001b[0m\n\u001b[0;32m      8\u001b[0m         \u001b[0mOccupancy\u001b[0m\u001b[1;33m.\u001b[0m\u001b[0mloc\u001b[0m\u001b[1;33m[\u001b[0m\u001b[0mrow\u001b[0m\u001b[1;33m,\u001b[0m\u001b[1;34m'tsh'\u001b[0m\u001b[1;33m]\u001b[0m \u001b[1;33m=\u001b[0m \u001b[0mOccupancy\u001b[0m\u001b[1;33m.\u001b[0m\u001b[0mloc\u001b[0m\u001b[1;33m[\u001b[0m\u001b[0mrow\u001b[0m\u001b[1;33m,\u001b[0m\u001b[1;34m'trh'\u001b[0m\u001b[1;33m]\u001b[0m \u001b[1;33m+\u001b[0m \u001b[0mk2\u001b[0m\u001b[1;33m\u001b[0m\u001b[0m\n",
        "\u001b[1;32mC:\\Python27\\ArcGISx6410.1\\lib\\site-packages\\scipy\\optimize\\nonlin.pyc\u001b[0m in \u001b[0;36mnewton_krylov\u001b[1;34m(F, xin, iter, rdiff, method, inner_maxiter, inner_M, outer_k, verbose, maxiter, f_tol, f_rtol, x_tol, x_rtol, tol_norm, line_search, callback, **kw)\u001b[0m\n",
        "\u001b[1;32mC:\\Python27\\ArcGISx6410.1\\lib\\site-packages\\scipy\\optimize\\nonlin.pyc\u001b[0m in \u001b[0;36mnonlin_solve\u001b[1;34m(F, x0, jacobian, iter, verbose, maxiter, f_tol, f_rtol, x_tol, x_rtol, tol_norm, line_search, callback, full_output, raise_exception)\u001b[0m\n\u001b[0;32m    342\u001b[0m     \u001b[1;32melse\u001b[0m\u001b[1;33m:\u001b[0m\u001b[1;33m\u001b[0m\u001b[0m\n\u001b[0;32m    343\u001b[0m         \u001b[1;32mif\u001b[0m \u001b[0mraise_exception\u001b[0m\u001b[1;33m:\u001b[0m\u001b[1;33m\u001b[0m\u001b[0m\n\u001b[1;32m--> 344\u001b[1;33m             \u001b[1;32mraise\u001b[0m \u001b[0mNoConvergence\u001b[0m\u001b[1;33m(\u001b[0m\u001b[0m_array_like\u001b[0m\u001b[1;33m(\u001b[0m\u001b[0mx\u001b[0m\u001b[1;33m,\u001b[0m \u001b[0mx0\u001b[0m\u001b[1;33m)\u001b[0m\u001b[1;33m)\u001b[0m\u001b[1;33m\u001b[0m\u001b[0m\n\u001b[0m\u001b[0;32m    345\u001b[0m         \u001b[1;32melse\u001b[0m\u001b[1;33m:\u001b[0m\u001b[1;33m\u001b[0m\u001b[0m\n\u001b[0;32m    346\u001b[0m             \u001b[0mstatus\u001b[0m \u001b[1;33m=\u001b[0m \u001b[1;36m2\u001b[0m\u001b[1;33m\u001b[0m\u001b[0m\n",
        "\u001b[1;31mNoConvergence\u001b[0m: (293-4.13226322275e-12j)"
       ]
      }
     ],
     "prompt_number": 307
    },
    {
     "cell_type": "code",
     "collapsed": false,
     "input": [],
     "language": "python",
     "metadata": {},
     "outputs": [
      {
       "ename": "AttributeError",
       "evalue": "'function' object has no attribute 'fig'",
       "output_type": "pyerr",
       "traceback": [
        "\u001b[1;31m---------------------------------------------------------------------------\u001b[0m\n\u001b[1;31mAttributeError\u001b[0m                            Traceback (most recent call last)",
        "\u001b[1;32m<ipython-input-37-66343d0747d0>\u001b[0m in \u001b[0;36m<module>\u001b[1;34m()\u001b[0m\n\u001b[1;32m----> 1\u001b[1;33m \u001b[0mplot\u001b[0m\u001b[1;33m.\u001b[0m\u001b[0mfig\u001b[0m\u001b[1;33m(\u001b[0m\u001b[0mOccupancy\u001b[0m\u001b[1;33m.\u001b[0m\u001b[0mtsh\u001b[0m\u001b[1;33m)\u001b[0m\u001b[1;33m\u001b[0m\u001b[0m\n\u001b[0m",
        "\u001b[1;31mAttributeError\u001b[0m: 'function' object has no attribute 'fig'"
       ]
      }
     ],
     "prompt_number": 37
    },
    {
     "cell_type": "code",
     "collapsed": false,
     "input": [
      "Occupancy.Qhsf"
     ],
     "language": "python",
     "metadata": {},
     "outputs": [
      {
       "output_type": "pyout",
       "prompt_number": 33,
       "text": [
        "0          0.000000\n",
        "1          0.000000\n",
        "2          0.000000\n",
        "3          0.000000\n",
        "4          0.000000\n",
        "5          0.000000\n",
        "6          0.000000\n",
        "7     761691.611361\n",
        "8     734038.224455\n",
        "9     838515.618296\n",
        "10    826070.913208\n",
        "11    825914.898291\n",
        "12    717068.578067\n",
        "13    604826.472554\n",
        "14    506801.368662\n",
        "...\n",
        "8745    652939.497787\n",
        "8746    688055.775339\n",
        "8747    665476.882254\n",
        "8748    551828.363454\n",
        "8749    469606.761341\n",
        "8750    399986.131880\n",
        "8751    396875.333391\n",
        "8752    -23853.399383\n",
        "8753    -11958.955817\n",
        "8754         0.000000\n",
        "8755         0.000000\n",
        "8756         0.000000\n",
        "8757         0.000000\n",
        "8758         0.000000\n",
        "8759         0.000000\n",
        "Name: Qhsf, Length: 8760, dtype: float64"
       ]
      }
     ],
     "prompt_number": 33
    },
    {
     "cell_type": "code",
     "collapsed": false,
     "input": [],
     "language": "python",
     "metadata": {},
     "outputs": []
    }
   ],
   "metadata": {}
  }
 ]
}
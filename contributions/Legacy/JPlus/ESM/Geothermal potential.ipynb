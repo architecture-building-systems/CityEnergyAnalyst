{
 "metadata": {
  "name": "",
  "signature": "sha256:616eab6d0ac43597f5f363ec13e2143c92b4a39f88a7c9117999a56f0e513a7e"
 },
 "nbformat": 3,
 "nbformat_minor": 0,
 "worksheets": [
  {
   "cells": [
    {
     "cell_type": "code",
     "collapsed": false,
     "input": [
      "import pandas as pd\n",
      "import arcpy"
     ],
     "language": "python",
     "metadata": {},
     "outputs": [],
     "prompt_number": 39
    },
    {
     "cell_type": "heading",
     "level": 4,
     "metadata": {},
     "source": [
      "Variables"
     ]
    },
    {
     "cell_type": "code",
     "collapsed": false,
     "input": [
      "Scenario = 'UC'; Zone_of_study = 4\n",
      "Zone_calc = 4"
     ],
     "language": "python",
     "metadata": {},
     "outputs": [],
     "prompt_number": 78
    },
    {
     "cell_type": "code",
     "collapsed": false,
     "input": [
      "database = r'c:\\ArcGIS\\EDM.gdb'  #ArcGIS database"
     ],
     "language": "python",
     "metadata": {},
     "outputs": [],
     "prompt_number": 79
    },
    {
     "cell_type": "code",
     "collapsed": false,
     "input": [
      "locationFinal = r'c:\\ArcGIS\\ESMdata\\DataFinal\\GEO'"
     ],
     "language": "python",
     "metadata": {},
     "outputs": [],
     "prompt_number": 80
    },
    {
     "cell_type": "code",
     "collapsed": false,
     "input": [
      "if Zone_calc != Zone_of_study:\n",
      "    CQ = database+'\\\\'+'Surroundings'+'\\\\'+'Zone_'+str(Zone_calc)\n",
      "else:\n",
      "    CQ = database+'\\\\'+Scenario+'\\\\'+Scenario+'Zone_'+str(Zone_calc)"
     ],
     "language": "python",
     "metadata": {},
     "outputs": [],
     "prompt_number": 81
    },
    {
     "cell_type": "heading",
     "level": 4,
     "metadata": {},
     "source": [
      "Process"
     ]
    },
    {
     "cell_type": "code",
     "collapsed": false,
     "input": [
      "with arcpy.da.SearchCursor(CQ, [\"Name\",\"Floors\",\"SHAPE@AREA\"]) as cursor:\n",
      "    Name = []\n",
      "    Area = []\n",
      "    for row in cursor:\n",
      "        if row[1] >= 20: #Skyscraper or tall building geothermal allowed 20 Floors\n",
      "            Area.append(row[2])\n",
      "            Name.append(row[0])\n",
      "        else:\n",
      "            Area.append(0)\n",
      "            Name.append(row[0])\n",
      "pd.DataFrame({'Name':Name,'Area_geo':Area}).to_csv(locationFinal+'\\\\'+Scenario+'\\\\'+'Geothermal.csv', index=False)"
     ],
     "language": "python",
     "metadata": {},
     "outputs": [],
     "prompt_number": 82
    }
   ],
   "metadata": {}
  }
 ]
}